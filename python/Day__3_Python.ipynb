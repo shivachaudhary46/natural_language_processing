{
  "cells": [
    {
      "cell_type": "markdown",
      "metadata": {
        "id": "zIq5i8I5nIVb"
      },
      "source": [
        "# Feel Free to Play around Jupyter Notebook\n",
        "## If you are stuck don't worry we are always here to assist you"
      ]
    },
    {
      "cell_type": "markdown",
      "metadata": {
        "id": "5avRLAjJnIVq"
      },
      "source": [
        "# Day 3: Python Scripting + API Usage Practice"
      ]
    },
    {
      "cell_type": "markdown",
      "metadata": {
        "id": "DjsSNx38nIVr"
      },
      "source": [
        "### Syllabus:\n",
        "- Python review: loops, functions, data structures\n",
        "- Writing reusable scripts\n",
        "- Consuming third-party APIs (e.g., OpenWeather, Gemini)\n",
        "- JSON parsing in Python"
      ]
    },
    {
      "cell_type": "markdown",
      "metadata": {
        "id": "MiL9SkCjnIVu"
      },
      "source": [
        "# 1. The Magic of Print() 🎭\n",
        "Your first Python superpower!"
      ]
    },
    {
      "cell_type": "code",
      "execution_count": null,
      "metadata": {
        "id": "ujRHN_iq2GIn",
        "colab": {
          "base_uri": "https://localhost:8080/"
        },
        "outputId": "fb692e37-838e-41cc-8122-4630d3ba2349"
      },
      "outputs": [
        {
          "output_type": "stream",
          "name": "stdout",
          "text": [
            "Hello, World!\n"
          ]
        }
      ],
      "source": [
        "print(\"Hello, World!\")"
      ]
    },
    {
      "cell_type": "code",
      "execution_count": null,
      "metadata": {
        "id": "XtAjsoN3nIVz",
        "colab": {
          "base_uri": "https://localhost:8080/"
        },
        "outputId": "239541b6-e1a0-4f39-f774-18dfc6838f36"
      },
      "outputs": [
        {
          "output_type": "stream",
          "name": "stdout",
          "text": [
            "Hello, Future Python Developer!\n"
          ]
        }
      ],
      "source": [
        "# Basic printing\n",
        "print(\"Hello, Future Python Developer!\")"
      ]
    },
    {
      "cell_type": "code",
      "execution_count": null,
      "metadata": {
        "id": "NqyZ_oYrnIV1",
        "colab": {
          "base_uri": "https://localhost:8080/"
        },
        "outputId": "1e40112e-f056-432e-f768-4a4bb8b8e7ae"
      },
      "outputs": [
        {
          "output_type": "stream",
          "name": "stdout",
          "text": [
            "My name isRam and I'm 20 years old\n"
          ]
        }
      ],
      "source": [
        "# Multiple items\n",
        "print(\"My name is\" + \"Ram\", \"and I'm\", 20, \"years old\")"
      ]
    },
    {
      "cell_type": "code",
      "execution_count": null,
      "metadata": {
        "id": "zpSay8JqnIV3",
        "colab": {
          "base_uri": "https://localhost:8080/"
        },
        "outputId": "087f6a74-68c0-4f6f-e4dd-60b960e9c90b"
      },
      "outputs": [
        {
          "output_type": "stream",
          "name": "stdout",
          "text": [
            "Cat & Dog & Bird\n"
          ]
        }
      ],
      "source": [
        "# With separators\n",
        "print(\"Cat\", \"Dog\", \"Bird\", sep=\" & \")"
      ]
    },
    {
      "cell_type": "markdown",
      "metadata": {
        "id": "4koxAwG_nIV4"
      },
      "source": [
        "#### Question\n",
        "```\n",
        "print(\"🎉\" * 10)\n",
        "```"
      ]
    },
    {
      "cell_type": "code",
      "execution_count": null,
      "metadata": {
        "id": "UEM4GeqInIV5",
        "colab": {
          "base_uri": "https://localhost:8080/"
        },
        "outputId": "6f4ec804-982b-4729-c822-a0f72eb23bed"
      },
      "outputs": [
        {
          "output_type": "stream",
          "name": "stdout",
          "text": [
            "🎉🎉🎉🎉🎉🎉🎉🎉🎉🎉\n"
          ]
        }
      ],
      "source": [
        "print(\"🎉\" * 10)"
      ]
    },
    {
      "cell_type": "markdown",
      "metadata": {
        "id": "bgc9ADZonIV6"
      },
      "source": [
        "# 2.  Input() - Talk to Your Computer 💬\n",
        "Making programs interactive (finally!)"
      ]
    },
    {
      "cell_type": "code",
      "execution_count": null,
      "metadata": {
        "id": "znhCNNrInIV6",
        "colab": {
          "base_uri": "https://localhost:8080/"
        },
        "outputId": "7f8a6b3d-50b4-43cb-a1a8-9eb3d0e00b6a"
      },
      "outputs": [
        {
          "output_type": "stream",
          "name": "stdout",
          "text": [
            "What's your name? Sita\n",
            "Hello, Sita!\n"
          ]
        }
      ],
      "source": [
        "# Basic input\n",
        "name = input(\"What's your name? \")\n",
        "print(f\"Hello, {name}!\") # f-String"
      ]
    },
    {
      "cell_type": "code",
      "execution_count": null,
      "metadata": {
        "id": "x2-D7eMPnIV8",
        "colab": {
          "base_uri": "https://localhost:8080/"
        },
        "outputId": "43e47dac-8e50-47fc-94b7-5cf0ded6bf3b"
      },
      "outputs": [
        {
          "output_type": "stream",
          "name": "stdout",
          "text": [
            "How old are you? 10\n",
            "You are 10 years old\n",
            "15\n"
          ]
        }
      ],
      "source": [
        "# Input is always a string\n",
        "age = input(\"How old are you? \")\n",
        "print(f\"You are {age} years old\")\n",
        "new_age = int(age) + 5;\n",
        "print(new_age);"
      ]
    },
    {
      "cell_type": "markdown",
      "metadata": {
        "id": "8XaUREwmnIV9"
      },
      "source": [
        "Remember: input() always returns a string, even if you type numbers!"
      ]
    },
    {
      "cell_type": "markdown",
      "metadata": {
        "id": "Tyi3ADg1k_Kb"
      },
      "source": [
        "# 3. Variables - Your Data Storage Units 📦\n",
        "Containers for storing data values. In Python, variables do not need explicit declaration to reserve memory space."
      ]
    },
    {
      "cell_type": "code",
      "execution_count": null,
      "metadata": {
        "id": "bQkkerpA0O8M"
      },
      "outputs": [],
      "source": [
        "# Numbers\n",
        "pizza_slices = 8 # snake_case vs camelCase\n",
        "price = 12.99"
      ]
    },
    {
      "cell_type": "code",
      "execution_count": null,
      "metadata": {
        "id": "hCgRk5itnIV_"
      },
      "outputs": [],
      "source": [
        "# Text (strings)\n",
        "favorite_movie = \"The Matrix\"\n",
        "emoji_mood = \"😎\""
      ]
    },
    {
      "cell_type": "code",
      "execution_count": null,
      "metadata": {
        "id": "JHzS5CE0nIWA"
      },
      "outputs": [],
      "source": [
        "# Boolean (True/False)\n",
        "is_hungry = True\n",
        "loves_python = True  # Obviously!"
      ]
    },
    {
      "cell_type": "markdown",
      "metadata": {
        "id": "ZlW_HSxcnIWB"
      },
      "source": [
        "#### Question\n",
        "Does this work??\n",
        "```\n",
        "x, y, z = 1, 2, 3\n",
        "```"
      ]
    },
    {
      "cell_type": "code",
      "execution_count": null,
      "metadata": {
        "id": "N23oZwwNnIWC",
        "colab": {
          "base_uri": "https://localhost:8080/"
        },
        "outputId": "b4a90aac-1c9c-4f43-d5b9-6beffea04352"
      },
      "outputs": [
        {
          "output_type": "stream",
          "name": "stdout",
          "text": [
            "1 2 3\n"
          ]
        }
      ],
      "source": [
        "x, y, z = 1, 2, 3\n",
        "print(x,y,z)"
      ]
    },
    {
      "cell_type": "markdown",
      "metadata": {
        "id": "lEeF6AaInIWC"
      },
      "source": [
        "\"Python variables are like teenagers - they change type whenever they want!\""
      ]
    },
    {
      "cell_type": "markdown",
      "metadata": {
        "id": "C_FixEAOnIWD"
      },
      "source": [
        "# 4. Type Conversion - The Shape Shifters 🔄\n",
        "- Converting data types using functions like `int()`, `float()`, `str()`, `bool()`.\n",
        "\n",
        "**Data Types**:\n",
        "- Common data types in Python include integers (`int`), floating-point numbers (`float`), strings (`str`), booleans (`bool`), and lists (`list`)."
      ]
    },
    {
      "cell_type": "code",
      "execution_count": null,
      "metadata": {
        "id": "LcakCX0r2r-L",
        "colab": {
          "base_uri": "https://localhost:8080/"
        },
        "outputId": "1a93f952-678f-40c0-dd85-c5e0021e6a16"
      },
      "outputs": [
        {
          "output_type": "stream",
          "name": "stdout",
          "text": [
            "<class 'str'>\n"
          ]
        }
      ],
      "source": [
        "# String to Integer\n",
        "age_text = \"25\"\n",
        "print(type(age_text))"
      ]
    },
    {
      "cell_type": "code",
      "execution_count": null,
      "metadata": {
        "id": "4Gja-TCCnIWD"
      },
      "outputs": [],
      "source": [
        "# @title Default title text\n",
        "print(age_text + 5)"
      ]
    },
    {
      "cell_type": "code",
      "execution_count": null,
      "metadata": {
        "id": "QFLo9eRmnIWE"
      },
      "outputs": [],
      "source": [
        "age_number = int(age)\n",
        "print(age_number + 5)  # Now we can do math!"
      ]
    },
    {
      "cell_type": "code",
      "execution_count": null,
      "metadata": {
        "id": "FQm2bUF7nIWE"
      },
      "outputs": [],
      "source": [
        "# Integer to String\n",
        "score = 100\n",
        "message = \"Your score is \" + str(score)"
      ]
    },
    {
      "cell_type": "code",
      "execution_count": null,
      "metadata": {
        "id": "hj-s5jdpnIWF"
      },
      "outputs": [],
      "source": [
        "# Float conversions\n",
        "price = float(\"19.99\")\n",
        "whole_price = int(price)  # 19 (loses decimal)"
      ]
    },
    {
      "cell_type": "code",
      "execution_count": null,
      "metadata": {
        "id": "VeQ9pWCPnIWF",
        "colab": {
          "base_uri": "https://localhost:8080/"
        },
        "outputId": "68036c76-d16a-4a58-c2f3-3da1b89f95f8"
      },
      "outputs": [
        {
          "output_type": "stream",
          "name": "stdout",
          "text": [
            "False\n",
            "True\n",
            "True\n",
            "False\n",
            "True\n"
          ]
        }
      ],
      "source": [
        "# Boolean conversions\n",
        "print(bool(0))      # False\n",
        "print(bool(42))     # True\n",
        "print(bool(-42))     # True\n",
        "print(bool(\"\"))     # False\n",
        "print(bool(\"Hi\"))   # True"
      ]
    },
    {
      "cell_type": "markdown",
      "metadata": {
        "id": "yJzrST405_qF"
      },
      "source": [
        "### QUESTION\n",
        "What will happen if you try the following?\n",
        "```\n",
        "print(bool(-1))\n",
        "```"
      ]
    },
    {
      "cell_type": "code",
      "execution_count": null,
      "metadata": {
        "id": "dp1zAFA1nIWG"
      },
      "outputs": [],
      "source": []
    },
    {
      "cell_type": "markdown",
      "metadata": {
        "id": "BnKFd2UznIWG"
      },
      "source": [
        "# Exercise 1:\n",
        "Take age as an input, check its type, add 10 to it and show the output."
      ]
    },
    {
      "cell_type": "code",
      "execution_count": null,
      "metadata": {
        "id": "E5v2NG6EnIWG"
      },
      "outputs": [],
      "source": []
    },
    {
      "cell_type": "markdown",
      "metadata": {
        "id": "8Kq8b8j2lCRf"
      },
      "source": [
        "# 5. Conditional Statements - The Decision Makers 🤔\n",
        "Teaching your code to make choices"
      ]
    },
    {
      "cell_type": "code",
      "execution_count": null,
      "metadata": {
        "id": "9KXjE1Xc5Z-r",
        "colab": {
          "base_uri": "https://localhost:8080/"
        },
        "outputId": "2a73c1d3-e405-4435-bc78-28a853df1a60"
      },
      "outputs": [
        {
          "output_type": "stream",
          "name": "stdout",
          "text": [
            "🌤️ Perfect weather!\n"
          ]
        }
      ],
      "source": [
        "temperature = 25\n",
        "\n",
        "if temperature > 30:\n",
        "    print(\"🔥 It's hot! Time for ice cream!\")\n",
        "elif temperature > 20:\n",
        "    print(\"🌤️ Perfect weather!\")\n",
        "elif temperature > 10:\n",
        "    print(\"🧥 Grab a jacket!\")\n",
        "else:\n",
        "    print(\"🥶 Brrr! Stay inside!\")"
      ]
    },
    {
      "cell_type": "markdown",
      "metadata": {
        "id": "Z4U9OvadnIWH"
      },
      "source": [
        "### QUESTION\n",
        "What will happen if you try the following?\n",
        "```\n",
        "mood = \"happy\" if temperature > 20 else \"grumpy\"\n",
        "print(mood)\n",
        "```"
      ]
    },
    {
      "cell_type": "code",
      "execution_count": null,
      "metadata": {
        "id": "qMzXIAE7nIWI"
      },
      "outputs": [],
      "source": [
        "# mood = temperature > 20 ? \"happy\" : \"grumpy\""
      ]
    },
    {
      "cell_type": "markdown",
      "metadata": {
        "id": "Vmh3AJBGnIWJ"
      },
      "source": [
        "# 6. Comparison Operators - The Judges ⚖️"
      ]
    },
    {
      "cell_type": "code",
      "execution_count": null,
      "metadata": {
        "id": "GqeU4-Kd77Ra"
      },
      "outputs": [],
      "source": [
        "# The usual suspects\n",
        "print(5 == 5)    # True (equal)\n",
        "print(5 != 3)    # True (not equal)\n",
        "print(5 > 3)     # True (greater)\n",
        "print(5 < 3)     # False (less)\n",
        "print(5 >= 5)    # True (greater or equal)\n",
        "print(5 <= 4)    # False (less or equal)"
      ]
    },
    {
      "cell_type": "code",
      "execution_count": null,
      "metadata": {
        "id": "71xMWNd4nIWK",
        "colab": {
          "base_uri": "https://localhost:8080/"
        },
        "outputId": "62dd39c8-7df8-4371-efc1-af8c45cd9703"
      },
      "outputs": [
        {
          "output_type": "stream",
          "name": "stdout",
          "text": [
            "True\n",
            "False\n"
          ]
        }
      ],
      "source": [
        "# String comparisons\n",
        "print(\"apple\" == \"apple\")  # True\n",
        "print(\"Apple\" == \"apple\")  # False (case sensitive!)"
      ]
    },
    {
      "cell_type": "markdown",
      "metadata": {
        "id": "RUt6jqNMnIWX"
      },
      "source": [
        "### QUESTION\n",
        "What will happen if you try the following?\n",
        "```\n",
        "user_age = 18\n",
        "can_vote = user_age >= 18\n",
        "print(f\"Can vote:\", can_vote)\n",
        "```"
      ]
    },
    {
      "cell_type": "code",
      "execution_count": null,
      "metadata": {
        "id": "FhWxURzanIWY",
        "colab": {
          "base_uri": "https://localhost:8080/"
        },
        "outputId": "481508eb-82c6-49bb-c458-82b20209fed9"
      },
      "outputs": [
        {
          "output_type": "stream",
          "name": "stdout",
          "text": [
            "Can vote: True\n"
          ]
        }
      ],
      "source": [
        "user_age = 18\n",
        "can_vote = user_age >= 18\n",
        "print(f\"Can vote:\", can_vote)"
      ]
    },
    {
      "cell_type": "markdown",
      "metadata": {
        "id": "0pf9kl8CnIWZ"
      },
      "source": [
        "# 7. Logical Operators - The Connectors 🔗\n",
        "Combining conditions like a logic ninja"
      ]
    },
    {
      "cell_type": "code",
      "execution_count": null,
      "metadata": {
        "id": "DJWbCfZn-uQ8"
      },
      "outputs": [],
      "source": [
        "age = 25\n",
        "has_license = True\n",
        "has_car = False"
      ]
    },
    {
      "cell_type": "code",
      "execution_count": null,
      "metadata": {
        "id": "GhmZ9WSqnIWZ",
        "colab": {
          "base_uri": "https://localhost:8080/"
        },
        "outputId": "4396893c-56d9-4f5e-f514-bd6890e5378f"
      },
      "outputs": [
        {
          "output_type": "stream",
          "name": "stdout",
          "text": [
            "Can drive: True\n"
          ]
        }
      ],
      "source": [
        "# AND - both must be true\n",
        "can_drive = age >= 16 and has_license\n",
        "print(f\"Can drive: {can_drive}\")"
      ]
    },
    {
      "cell_type": "code",
      "execution_count": null,
      "metadata": {
        "id": "im_dfQUrnIWa",
        "colab": {
          "base_uri": "https://localhost:8080/"
        },
        "outputId": "9823305c-f99b-4216-a1ff-e6f99b34e8c2"
      },
      "outputs": [
        {
          "output_type": "stream",
          "name": "stdout",
          "text": [
            "Can travel: True\n"
          ]
        }
      ],
      "source": [
        "# OR - at least one must be true\n",
        "can_travel = has_car or has_license\n",
        "print(f\"Can travel: {can_travel}\")"
      ]
    },
    {
      "cell_type": "code",
      "execution_count": null,
      "metadata": {
        "id": "DM_ekNN7nIWa",
        "colab": {
          "base_uri": "https://localhost:8080/"
        },
        "outputId": "998a0f26-d92f-45f4-d9d9-e86ad04d66fc"
      },
      "outputs": [
        {
          "output_type": "stream",
          "name": "stdout",
          "text": [
            "Is minor: False\n"
          ]
        }
      ],
      "source": [
        "# NOT - flip the boolean\n",
        "is_minor = not (age >= 18)\n",
        "print(f\"Is minor: {is_minor}\")"
      ]
    },
    {
      "cell_type": "markdown",
      "metadata": {
        "id": "86qK8SiUnIWa"
      },
      "source": [
        "### QUESTION\n",
        "What will happen if you try the following?\n",
        "```\n",
        "can_uber = (age >= 18) and (not has_car) and has_license\n",
        "```"
      ]
    },
    {
      "cell_type": "code",
      "execution_count": null,
      "metadata": {
        "id": "PH8ztdfWnIWb"
      },
      "outputs": [],
      "source": []
    },
    {
      "cell_type": "markdown",
      "metadata": {
        "id": "CAn3nP_YnIWb"
      },
      "source": [
        "# Exercise 2:\n",
        "Take age as an input of someone you like and print if they are minor, adult or senior citizen\n",
        "\n",
        "Hint:\n",
        "minor (0 - 16)\n",
        "adult (17 - 70)\n",
        "senior citizen (71 - 1000)"
      ]
    },
    {
      "cell_type": "code",
      "execution_count": null,
      "metadata": {
        "id": "RWnHbJ1unIWb"
      },
      "outputs": [],
      "source": []
    },
    {
      "cell_type": "markdown",
      "metadata": {
        "id": "5amOyd8vnIWb"
      },
      "source": [
        "# 8. For Loops - The Repetition Masters 🔄\n",
        "When you need to do something multiple times"
      ]
    },
    {
      "cell_type": "code",
      "execution_count": null,
      "metadata": {
        "id": "V3uwFcDFnIWc",
        "colab": {
          "base_uri": "https://localhost:8080/"
        },
        "outputId": "3ecddcdd-8d72-4338-d382-bbbf304143bb"
      },
      "outputs": [
        {
          "output_type": "stream",
          "name": "stdout",
          "text": [
            "Count: 0\n",
            "Count: 1\n",
            "Count: 2\n",
            "Count: 3\n",
            "Count: 4\n"
          ]
        }
      ],
      "source": [
        "# Basic counting\n",
        "for i in range(5):\n",
        "    print(f\"Count: {i}\")"
      ]
    },
    {
      "cell_type": "code",
      "execution_count": null,
      "metadata": {
        "id": "Z1jC1SghnIWc",
        "colab": {
          "base_uri": "https://localhost:8080/"
        },
        "outputId": "7039ec42-ac1a-4a6e-acd2-3a5350cfa7f9"
      },
      "outputs": [
        {
          "output_type": "stream",
          "name": "stdout",
          "text": [
            "🎯\n",
            "🎯🎯\n",
            "🎯🎯🎯\n",
            "🎯🎯🎯🎯\n",
            "🎯🎯🎯🎯🎯\n"
          ]
        }
      ],
      "source": [
        "# Counting with style\n",
        "for i in range(1, 6):\n",
        "    print(\"🎯\" * i)"
      ]
    },
    {
      "cell_type": "code",
      "execution_count": null,
      "metadata": {
        "id": "Lg0MqzVqnIWd",
        "colab": {
          "base_uri": "https://localhost:8080/"
        },
        "outputId": "9ea798aa-f83b-4f7b-ba5b-239c0d65cb6f"
      },
      "outputs": [
        {
          "output_type": "stream",
          "name": "stdout",
          "text": [
            "apple\n",
            "apple\n",
            "banana\n",
            "cherry\n",
            "I love apple!\n",
            "I love banana!\n",
            "I love cherry!\n"
          ]
        }
      ],
      "source": [
        "# Looping through lists\n",
        "fruits = [\"apple\", \"banana\", \"cherry\"]\n",
        "print(fruits[0]);\n",
        "for index in range(len(fruits)):\n",
        "  print(fruits[index]);\n",
        "for fruit in fruits:\n",
        "    print(f\"I love {fruit}!\")"
      ]
    },
    {
      "cell_type": "code",
      "execution_count": null,
      "metadata": {
        "id": "KIBMA-8vnIWd",
        "colab": {
          "base_uri": "https://localhost:8080/"
        },
        "outputId": "ff54eb29-f11e-4753-e076-d63ef3940c80"
      },
      "outputs": [
        {
          "output_type": "stream",
          "name": "stdout",
          "text": [
            "Letter: P\n",
            "Letter: Y\n",
            "Letter: T\n",
            "Letter: H\n",
            "Letter: O\n",
            "Letter: N\n"
          ]
        }
      ],
      "source": [
        "# Looping through strings\n",
        "for letter in \"PYTHON\":\n",
        "    print(f\"Letter: {letter}\")"
      ]
    },
    {
      "cell_type": "markdown",
      "metadata": {
        "id": "oQZdfIwjnIWe"
      },
      "source": [
        "### QUESTION\n",
        "What will happen if you try the following?\n",
        "```\n",
        "netaharu = [\"kp\", \"sheru\", \"puspa\"]\n",
        "for index, neta in enumerate(netaharu):\n",
        "    print(f\"{index}: {neta}\")\n",
        "```"
      ]
    },
    {
      "cell_type": "code",
      "execution_count": null,
      "metadata": {
        "id": "lxsYrCEenIWe",
        "colab": {
          "base_uri": "https://localhost:8080/"
        },
        "outputId": "ac427303-720b-40fd-f708-361afa14e7fe"
      },
      "outputs": [
        {
          "output_type": "stream",
          "name": "stdout",
          "text": [
            "0: kp\n",
            "1: sheru\n",
            "2: puspa\n"
          ]
        }
      ],
      "source": [
        "netaharu = [\"kp\", \"sheru\", \"puspa\"]\n",
        "for index, neta in enumerate(netaharu):\n",
        "    print(f\"{index}: {neta}\")"
      ]
    },
    {
      "cell_type": "markdown",
      "metadata": {
        "id": "hUQtWPUknIWf"
      },
      "source": [
        "# 9. While Loops - The Persistent Ones 🔁\n",
        "Keep going until something changes"
      ]
    },
    {
      "cell_type": "code",
      "execution_count": null,
      "metadata": {
        "id": "BNhB-TzdnIWg",
        "colab": {
          "base_uri": "https://localhost:8080/"
        },
        "outputId": "232663e4-afa6-408e-c7c4-7d06374a8484"
      },
      "outputs": [
        {
          "output_type": "stream",
          "name": "stdout",
          "text": [
            "Countdown: 5\n",
            "Countdown: 4\n",
            "Countdown: 3\n",
            "Countdown: 2\n",
            "Countdown: 1\n",
            "🚀 Blast off!\n"
          ]
        }
      ],
      "source": [
        "# Basic while loop\n",
        "countdown = 5\n",
        "while countdown > 0:\n",
        "    print(f\"Countdown: {countdown}\")\n",
        "    countdown -= 1    # countdown = countdown - 1\n",
        "print(\"🚀 Blast off!\")"
      ]
    },
    {
      "cell_type": "code",
      "execution_count": null,
      "metadata": {
        "id": "Fnpfh2h1nIWg"
      },
      "outputs": [],
      "source": [
        "# User input loop\n",
        "password = \"\"\n",
        "while password != \"secret\":\n",
        "    password = input(\"Enter password: \")\n",
        "    if password != \"secret\":\n",
        "        print(\"❌ Wrong password!\")\n",
        "print(\"✅ Access granted!\")"
      ]
    },
    {
      "cell_type": "markdown",
      "metadata": {
        "id": "s6g_wu7RnIWi"
      },
      "source": [
        "#### Infinite loop (careful!)\n",
        "```\n",
        "while True:\n",
        "        print(\"This runs forever!\")\n",
        "```"
      ]
    },
    {
      "cell_type": "markdown",
      "metadata": {
        "id": "s9SEv29qnIWj"
      },
      "source": [
        "# Exercise 3\n",
        "Print out which numbers are odd and which are even in between range of numbers of your choice."
      ]
    },
    {
      "cell_type": "code",
      "execution_count": null,
      "metadata": {
        "id": "7XLBtutwnIWk"
      },
      "outputs": [],
      "source": []
    },
    {
      "cell_type": "markdown",
      "metadata": {
        "id": "aPK4JSCznIWl"
      },
      "source": [
        "# 10. Functions - Your Code Helpers 🛠️\n",
        "Creating reusable blocks of code"
      ]
    },
    {
      "cell_type": "code",
      "execution_count": null,
      "metadata": {
        "id": "3WeuGxBanIWl",
        "colab": {
          "base_uri": "https://localhost:8080/"
        },
        "outputId": "3061dc76-ba2c-43bb-a855-e0d3ee3ccf69"
      },
      "outputs": [
        {
          "output_type": "stream",
          "name": "stdout",
          "text": [
            "Hello, World!\n"
          ]
        }
      ],
      "source": [
        "# Basic function\n",
        "def greet():\n",
        "    print(\"Hello, World!\")\n",
        "\n",
        "greet()"
      ]
    },
    {
      "cell_type": "code",
      "execution_count": null,
      "metadata": {
        "id": "vCEYExSfnIWm",
        "colab": {
          "base_uri": "https://localhost:8080/"
        },
        "outputId": "5a45315b-0281-4fc7-e426-c07ad8c26b56"
      },
      "outputs": [
        {
          "output_type": "stream",
          "name": "stdout",
          "text": [
            "Hello, Alice!\n"
          ]
        }
      ],
      "source": [
        "# Function with parameters\n",
        "def greet_person(name):\n",
        "    print(f\"Hello, {name}!\")\n",
        "\n",
        "greet_person(\"Alice\")"
      ]
    },
    {
      "cell_type": "code",
      "execution_count": null,
      "metadata": {
        "id": "rhxemI9InIWm",
        "colab": {
          "base_uri": "https://localhost:8080/"
        },
        "outputId": "f7b0ce2e-a0ae-4e60-cce7-4d949bf275df"
      },
      "outputs": [
        {
          "output_type": "stream",
          "name": "stdout",
          "text": [
            "Sum: 8\n"
          ]
        }
      ],
      "source": [
        "# Function with return value\n",
        "def add_numbers(a, b):\n",
        "    result = a + b\n",
        "    return result\n",
        "\n",
        "sum_result = add_numbers(5, 3)\n",
        "print(f\"Sum: {sum_result}\")"
      ]
    },
    {
      "cell_type": "markdown",
      "metadata": {
        "id": "XFPJcXFmnIWn"
      },
      "source": [
        "# 11. Lists - The Ordered Collections 📝\n",
        "Storing multiple items in order"
      ]
    },
    {
      "cell_type": "code",
      "execution_count": null,
      "metadata": {
        "id": "P9lmZj-OnIWo"
      },
      "outputs": [],
      "source": [
        "# Creating lists\n",
        "fruits = [\"apple\", \"banana\", \"cherry\"]\n",
        "numbers = [1, 2, 3, 4, 5]\n",
        "mixed = [\"hello\", 42, True, 3.14]"
      ]
    },
    {
      "cell_type": "code",
      "execution_count": null,
      "metadata": {
        "id": "21L5zDoenIWo",
        "colab": {
          "base_uri": "https://localhost:8080/"
        },
        "outputId": "bdd4c43e-02fd-4567-ef79-bc345b199994"
      },
      "outputs": [
        {
          "output_type": "stream",
          "name": "stdout",
          "text": [
            "apple\n",
            "cherry\n"
          ]
        }
      ],
      "source": [
        "# Accessing elements\n",
        "print(fruits[0])     # apple (first item)\n",
        "print(fruits[-1])    # cherry (last item)"
      ]
    },
    {
      "cell_type": "code",
      "execution_count": null,
      "metadata": {
        "id": "PjrU_iZ7nIWo",
        "colab": {
          "base_uri": "https://localhost:8080/"
        },
        "outputId": "b2452fb4-ef7c-44d6-ef82-a7efed09f2aa"
      },
      "outputs": [
        {
          "output_type": "stream",
          "name": "stdout",
          "text": [
            "['banana', 'cherry']\n"
          ]
        }
      ],
      "source": [
        "# Slicing\n",
        "some_fruits = fruits[1:3]\n",
        "print(some_fruits)"
      ]
    },
    {
      "cell_type": "code",
      "execution_count": null,
      "metadata": {
        "id": "YG96-s-snIWp",
        "colab": {
          "base_uri": "https://localhost:8080/"
        },
        "outputId": "dbe664a1-fdb4-4e4f-8723-4f0ae21fd282"
      },
      "outputs": [
        {
          "output_type": "stream",
          "name": "stdout",
          "text": [
            "5\n",
            "5\n",
            "1\n",
            "15\n"
          ]
        }
      ],
      "source": [
        "# Useful methods\n",
        "print(len(numbers))\n",
        "print(max(numbers))\n",
        "print(min(numbers))\n",
        "print(sum(numbers))"
      ]
    },
    {
      "cell_type": "markdown",
      "metadata": {
        "id": "0EWsG0lCnIWp"
      },
      "source": [
        "### QUESTION\n",
        "What will happen if you try the following?\n",
        "```\n",
        "scores = [85, 92, 78, 96, 88]\n",
        "scores.sort()           \n",
        "print(scores)           \n",
        "\n",
        "scores.reverse()\n",
        "print(scores)  \n",
        "```"
      ]
    },
    {
      "cell_type": "code",
      "execution_count": null,
      "metadata": {
        "id": "jdWeSPEwnIWq",
        "colab": {
          "base_uri": "https://localhost:8080/"
        },
        "outputId": "8243adf2-8d37-4819-dbcc-3b58f00c2208"
      },
      "outputs": [
        {
          "output_type": "stream",
          "name": "stdout",
          "text": [
            "[78, 85, 88, 92, 96]\n",
            "[96, 92, 88, 85, 78]\n"
          ]
        }
      ],
      "source": [
        "scores = [85, 92, 78, 96, 88]\n",
        "scores.sort()\n",
        "print(scores)\n",
        "\n",
        "scores.reverse()\n",
        "print(scores)"
      ]
    },
    {
      "cell_type": "markdown",
      "metadata": {
        "id": "npesmb8GnIWq"
      },
      "source": [
        "# 12. Dictionaries - The Key-Value Store 🗂️\n",
        "Storing data with meaningful labels"
      ]
    },
    {
      "cell_type": "code",
      "execution_count": null,
      "metadata": {
        "id": "uDS9vGgxnIWq"
      },
      "outputs": [],
      "source": [
        "# Creating dictionaries\n",
        "student = {\n",
        "    \"name\": \"Ram\",\n",
        "    \"age\": 20,\n",
        "    \"grade\": \"A\",\n",
        "    \"subjects\": [\"Programming\", \"Engineering\"]\n",
        "}"
      ]
    },
    {
      "cell_type": "code",
      "execution_count": null,
      "metadata": {
        "id": "sHns-JrJnIWr",
        "colab": {
          "base_uri": "https://localhost:8080/"
        },
        "outputId": "87cef0ca-b7ed-43bc-c7b0-ddc8c7453626"
      },
      "outputs": [
        {
          "output_type": "stream",
          "name": "stdout",
          "text": [
            "Ram\n",
            "20\n"
          ]
        }
      ],
      "source": [
        "# Accessing values\n",
        "print(student[\"name\"])\n",
        "print(student.get(\"age\"))"
      ]
    },
    {
      "cell_type": "markdown",
      "metadata": {
        "id": "WM6rjyJEnIWv"
      },
      "source": [
        "### QUESTION\n",
        "What will happen if you try the following?\n",
        "```\n",
        "student[\"email\"] = \"ramu@example.com\"\n",
        "student[\"age\"] = 21\n",
        "print(student)\n",
        "```"
      ]
    },
    {
      "cell_type": "code",
      "execution_count": null,
      "metadata": {
        "id": "NanDzuQOnIWv",
        "colab": {
          "base_uri": "https://localhost:8080/"
        },
        "outputId": "27d6f396-b9bb-4f54-f9d5-d8dea35d0d23"
      },
      "outputs": [
        {
          "output_type": "stream",
          "name": "stdout",
          "text": [
            "{'name': 'Ram', 'age': 21, 'grade': 'A', 'subjects': ['Programming', 'Engineering'], 'email': 'ramu@example.com'}\n"
          ]
        }
      ],
      "source": [
        "student[\"email\"] = \"ramu@example.com\"\n",
        "student[\"age\"] = 21\n",
        "print(student)"
      ]
    },
    {
      "cell_type": "markdown",
      "metadata": {
        "id": "t5f3mlQGnIWv"
      },
      "source": [
        "# Exercise 4:\n",
        "Do **exercise 3** by using a function which prints if a number is even or odd. Use for loop in the given list and pass each number to the function.\n",
        "\n",
        "``` python\n",
        "[33, 42, 420, 69, 7]\n",
        "```"
      ]
    },
    {
      "cell_type": "code",
      "execution_count": null,
      "metadata": {
        "id": "OtsQQ-xlnIWw"
      },
      "outputs": [],
      "source": [
        "odd_even([33, 42, 420, 69, 7])\n",
        "\n",
        "for ... in listt"
      ]
    },
    {
      "cell_type": "markdown",
      "source": [
        "# Exercise 5\n",
        "Use the hints given to complete the challenge:"
      ],
      "metadata": {
        "id": "INBd7m3vGD_r"
      }
    },
    {
      "cell_type": "code",
      "source": [
        "# Mini-Challenge: Looping Through Data and Filtering with Functions\n",
        "\n",
        "# Imagine you have some data stored in a dictionary, your job is to complete all TODOs\n",
        "users = [\n",
        "    {\"name\": \"Rajesh Hamal\", \"age\": 28, \"is_active\": True},\n",
        "    {\"name\": \"John the don\", \"age\": 17, \"is_active\": False},\n",
        "    {\"name\": \"Ninja Hattori\", \"age\": 35, \"is_active\": True},\n",
        "    {\"name\": \"Emma Watson\", \"age\": 15, \"is_active\": True},\n",
        "    {\"name\": \"Bob\", \"age\": 22, \"is_active\": False}\n",
        "]\n",
        "\n",
        "# TODO 1: Write a loop that prints the name of each user.\n",
        "# Hint: Use a `for` loop and remember how to access dictionary values.\n",
        "\n",
        "# TODO 2: Modify the loop to only print names of users who are active.\n",
        "# Hint: Look at the value of the \"is_active\" key.\n",
        "\n",
        "# TODO 3: Now only print active users who are over 18.\n",
        "# Hint: Combine conditions with `and`.\n",
        "\n",
        "# TODO 4: Wrap that filtering logic in a function:\n",
        "#         def get_active_adults(user_list): -> returns a list of names\n",
        "# Hint: Initialize an empty list, loop through the users, apply the condition, append.\n",
        "\n",
        "# TODO 5: Print how many active adults were found.\n",
        "# Hint: `len()` is your friend.\n"
      ],
      "metadata": {
        "id": "BKV1HfZKGN8d"
      },
      "execution_count": null,
      "outputs": []
    },
    {
      "cell_type": "markdown",
      "metadata": {
        "id": "CaNi-iZLnIW3"
      },
      "source": [
        "# 13. Writing Reusable Scripts - The Philosophy 🎯\n",
        "From messy code to clean, reusable magic"
      ]
    },
    {
      "cell_type": "markdown",
      "metadata": {
        "id": "GSgHh4etnIW4"
      },
      "source": [
        "#### The Problem:"
      ]
    },
    {
      "cell_type": "code",
      "execution_count": null,
      "metadata": {
        "id": "-1hm_hrNnIW4"
      },
      "outputs": [],
      "source": [
        "# Messy script - does everything at once\n",
        "print(\"Calculator\")\n",
        "num1 = float(input(\"First number: \"))\n",
        "num2 = float(input(\"Second number: \"))\n",
        "result = num1 + num2\n",
        "print(f\"Result: {result}\")"
      ]
    },
    {
      "cell_type": "markdown",
      "metadata": {
        "id": "IqIymeF9nIW4"
      },
      "source": [
        " What if we want to multiply? Copy-paste everything? 😱"
      ]
    },
    {
      "cell_type": "markdown",
      "metadata": {
        "id": "1tzKDt2snIW5"
      },
      "source": [
        "#### The Solution:"
      ]
    },
    {
      "cell_type": "code",
      "execution_count": null,
      "metadata": {
        "id": "SW1ZDVyznIW5"
      },
      "outputs": [],
      "source": [
        "# Clean, reusable functions\n",
        "def get_number(prompt):\n",
        "    return float(input(prompt))\n",
        "\n",
        "def calculate(num1, num2, operation):\n",
        "    if operation == \"add\":\n",
        "        return num1 + num2\n",
        "    elif operation == \"multiply\":\n",
        "        return num1 * num2\n",
        "    # More operations..."
      ]
    },
    {
      "cell_type": "markdown",
      "source": [
        "### Writing Standalone Portable Scripts\n",
        "Word Counter and Line Counter Script\n",
        "### 1. __name__ == \"__main__\"\n",
        "### 2. arguments parsing and command line execution"
      ],
      "metadata": {
        "id": "xnl5XVMtS49O"
      }
    },
    {
      "cell_type": "code",
      "source": [
        "# word_counter.py\n",
        "\n",
        "import argparse\n",
        "import os\n",
        "\n",
        "def count_words(file_path):\n",
        "    \"\"\"Counts the number of words in the given file.\"\"\"\n",
        "    try:\n",
        "        with open(file_path, 'r', encoding='utf-8') as f:\n",
        "            text = f.read()\n",
        "            words = text.split()\n",
        "            return len(words)\n",
        "    except FileNotFoundError:\n",
        "        print(f\"Error: File '{file_path}' not found.\")\n",
        "        return None\n",
        "\n",
        "def count_lines(file_path):\n",
        "    \"\"\"Counts the number of lines in the given file.\"\"\"\n",
        "    try:\n",
        "        with open(file_path, 'r', encoding='utf-8') as f:\n",
        "            lines = f.readlines()\n",
        "            return len(lines)\n",
        "    except FileNotFoundError:\n",
        "        print(f\"Error: File '{file_path}' not found.\")\n",
        "        return None\n",
        "\n",
        "def main():\n",
        "    parser = argparse.ArgumentParser(description=\"Count words in a text file.\")\n",
        "\n",
        "    # Positional argument for the file path\n",
        "    parser.add_argument(\"filepath\", help=\"Path to the text file\")\n",
        "\n",
        "    # Optional flag to also count lines\n",
        "    parser.add_argument(\"--lines\", action=\"store_true\", help=\"Also print number of lines\")\n",
        "\n",
        "    args = parser.parse_args()\n",
        "\n",
        "    word_count = count_words(args.filepath)\n",
        "    if word_count is not None:\n",
        "        print(f\"Total words: {word_count}\")\n",
        "\n",
        "    if args.lines:\n",
        "        line_count = count_lines(args.filepath)\n",
        "        if line_count is not None:\n",
        "            print(f\"Total lines: {line_count}\")\n",
        "\n",
        "# This makes sure the script runs only when executed directly\n",
        "if __name__ == \"__main__\":\n",
        "    main()\n"
      ],
      "metadata": {
        "id": "cLNDmHUXTcRF"
      },
      "execution_count": null,
      "outputs": []
    },
    {
      "cell_type": "markdown",
      "metadata": {
        "id": "kMqbpfhXnIW5"
      },
      "source": [
        "# 14. Python Classes - Creating Your Own Objects 🏗️\n",
        "Classes are like blueprints for creating objects. Think of them as cookie cutters!"
      ]
    },
    {
      "cell_type": "markdown",
      "metadata": {
        "id": "MI9_DmQ5nIW6"
      },
      "source": [
        "## Basic Class Example - Person\n",
        "Let's create a simple Person class to understand the basics"
      ]
    },
    {
      "cell_type": "code",
      "execution_count": null,
      "metadata": {
        "id": "G5jdAl7EnIW6"
      },
      "outputs": [],
      "source": [
        "# Creating a simple class\n",
        "class Person:\n",
        "    def __init__(self, name, age):\n",
        "        self.name = name\n",
        "        self.age = age\n",
        "\n",
        "    def greet(self):\n",
        "        return f\"Hello, my name is {self.name} and I'm {self.age} years old!\"\n",
        "\n",
        "\n",
        "# Creating objects (instances) from the class\n",
        "p1 = Person(\"KP Oli\", 72)\n",
        "p2 = Person(\"Prachanda\", 70)\n",
        "\n",
        "# Using methods\n",
        "print(p1.greet())\n",
        "print(p2.greet())\n",
        "\n",
        "# Accessing attributes\n",
        "print(f\"{p1.name} is {p1.age} years old\") # Bad Practice, but works"
      ]
    },
    {
      "cell_type": "code",
      "execution_count": null,
      "metadata": {
        "id": "XVLacWnSnIW6",
        "colab": {
          "base_uri": "https://localhost:8080/"
        },
        "outputId": "3dcbbc55-7f14-41de-efc6-df28ab14c62c"
      },
      "outputs": [
        {
          "output_type": "stream",
          "name": "stdout",
          "text": [
            "Ramu\n",
            "25\n"
          ]
        }
      ],
      "source": [
        "# Use Getters and Setters for better practice\n",
        "class Person:\n",
        "    def __init__(self, name, age):\n",
        "        self.name = name\n",
        "        self.age = age\n",
        "\n",
        "    def get_name(self):\n",
        "        return self.name\n",
        "\n",
        "    def get_age(self):\n",
        "        return self.age\n",
        "\n",
        "    def set_name(self, name):\n",
        "        self.name = name\n",
        "\n",
        "    def set_age(self, age):\n",
        "        self.age = age\n",
        "\n",
        "# Using class methods\n",
        "p1 = Person(\"Ramu\", 25)\n",
        "print(p1.get_name())\n",
        "print(p1.get_age())"
      ]
    },
    {
      "cell_type": "markdown",
      "metadata": {
        "id": "EN73F_UCnIW6"
      },
      "source": [
        "### QUESTION\n",
        "What will happen if you try the following?\n",
        "```python\n",
        "person3 = Person(\"Chandra\", 20)\n",
        "person3.hobby = \"Reading\"  # Adding a new attribute\n",
        "print(f\"{person3.name} likes {person3.hobby}\")\n",
        "```"
      ]
    },
    {
      "cell_type": "code",
      "execution_count": null,
      "metadata": {
        "id": "Qh-SJdCynIW8",
        "colab": {
          "base_uri": "https://localhost:8080/"
        },
        "outputId": "307b8019-099c-4853-b7ad-2a9e7e667652"
      },
      "outputs": [
        {
          "output_type": "stream",
          "name": "stdout",
          "text": [
            "Chandra likes Reading\n"
          ]
        }
      ],
      "source": [
        "person3 = Person(\"Chandra\", 20)\n",
        "person3.hobby = \"Reading\"  # Adding a new attribute\n",
        "print(f\"{person3.name} likes {person3.hobby}\")"
      ]
    },
    {
      "cell_type": "markdown",
      "metadata": {
        "id": "2m--aGTXnIW8"
      },
      "source": [
        "## Calculator Class Example\n",
        "Let's create a simple calculator using classes"
      ]
    },
    {
      "cell_type": "code",
      "execution_count": null,
      "metadata": {
        "id": "ZeHJtjvQnIW8"
      },
      "outputs": [],
      "source": [
        "class Calculator:\n",
        "    def add(self, a, b):\n",
        "        result = a + b\n",
        "\n",
        "        return result\n",
        "\n",
        "    def subtract(self, a, b):\n",
        "        result = a - b\n",
        "\n",
        "        return result\n",
        "\n",
        "    def multiply(self, a, b):\n",
        "        result = a * b\n",
        "\n",
        "        return result\n",
        "\n",
        "    def divide(self, a, b):\n",
        "        result = a / b\n",
        "\n",
        "        return result\n"
      ]
    },
    {
      "cell_type": "code",
      "execution_count": null,
      "metadata": {
        "id": "wNSJx7-AnIW9"
      },
      "outputs": [],
      "source": [
        "# Create a calculator object\n",
        "my_calc = Calculator()\n",
        "\n",
        "# Perform some calculations\n",
        "print(my_calc.add(10, 5))\n"
      ]
    },
    {
      "cell_type": "markdown",
      "metadata": {
        "id": "Fvf5apLVnIW-"
      },
      "source": [
        "# Exercise 5:\n",
        "- In similar fashion do divide, multiply\n",
        "- Try dividing by zero"
      ]
    },
    {
      "cell_type": "code",
      "execution_count": null,
      "metadata": {
        "id": "8vvTgc0nnIW-"
      },
      "outputs": [],
      "source": []
    },
    {
      "cell_type": "markdown",
      "metadata": {
        "id": "zhuNvz6onIW_"
      },
      "source": [
        "# 15. Error Handling - Expect the Unexpected 🛡️\n",
        "Making your scripts bulletproof"
      ]
    },
    {
      "cell_type": "code",
      "execution_count": null,
      "metadata": {
        "id": "p5YVwphV8msu",
        "outputId": "a0e29a31-a8e8-45aa-be81-011508de70f3"
      },
      "outputs": [
        {
          "ename": "ZeroDivisionError",
          "evalue": "division by zero",
          "output_type": "error",
          "traceback": [
            "\u001b[31m---------------------------------------------------------------------------\u001b[39m",
            "\u001b[31mZeroDivisionError\u001b[39m                         Traceback (most recent call last)",
            "\u001b[36mCell\u001b[39m\u001b[36m \u001b[39m\u001b[32mIn[16]\u001b[39m\u001b[32m, line 3\u001b[39m\n\u001b[32m      1\u001b[39m \u001b[38;5;66;03m#Divide by zero error\u001b[39;00m\n\u001b[32m      2\u001b[39m a = \u001b[32m10\u001b[39m\n\u001b[32m----> \u001b[39m\u001b[32m3\u001b[39m result = \u001b[43ma\u001b[49m\u001b[43m \u001b[49m\u001b[43m/\u001b[49m\u001b[43m \u001b[49m\u001b[32;43m0\u001b[39;49m\n\u001b[32m      4\u001b[39m \u001b[38;5;28mprint\u001b[39m(\u001b[33mf\u001b[39m\u001b[33m\"\u001b[39m\u001b[33mError: \u001b[39m\u001b[38;5;132;01m{\u001b[39;00me\u001b[38;5;132;01m}\u001b[39;00m\u001b[33m\"\u001b[39m)\n",
            "\u001b[31mZeroDivisionError\u001b[39m: division by zero"
          ]
        }
      ],
      "source": [
        "#Divide by zero error\n",
        "a = 10\n",
        "result = a / 0\n",
        "print(f\"Error: {e}\")"
      ]
    },
    {
      "cell_type": "code",
      "execution_count": null,
      "metadata": {
        "id": "i4pouwNx8msv",
        "outputId": "67886ef2-747d-4d58-a4a2-f7c05fb6987e",
        "colab": {
          "base_uri": "https://localhost:8080/"
        }
      },
      "outputs": [
        {
          "output_type": "stream",
          "name": "stdout",
          "text": [
            "Error: division by zero\n"
          ]
        }
      ],
      "source": [
        "#Divide by zero error\n",
        "a = 10\n",
        "try:\n",
        "    result = a / 0\n",
        "except Exception as e:\n",
        "    print(f\"Error: {e}\")"
      ]
    },
    {
      "cell_type": "code",
      "execution_count": null,
      "metadata": {
        "id": "YES8hbzX8msv",
        "outputId": "9b0a440e-9725-4bc8-99ab-0fd0fce972cf",
        "colab": {
          "base_uri": "https://localhost:8080/",
          "height": 158
        }
      },
      "outputs": [
        {
          "output_type": "error",
          "ename": "NameError",
          "evalue": "name 'naam_xaina' is not defined",
          "traceback": [
            "\u001b[0;31m---------------------------------------------------------------------------\u001b[0m",
            "\u001b[0;31mNameError\u001b[0m                                 Traceback (most recent call last)",
            "\u001b[0;32m/tmp/ipython-input-55-2656839603.py\u001b[0m in \u001b[0;36m<cell line: 0>\u001b[0;34m()\u001b[0m\n\u001b[1;32m      1\u001b[0m \u001b[0;31m#Error when printing an undefined variable\u001b[0m\u001b[0;34m\u001b[0m\u001b[0;34m\u001b[0m\u001b[0m\n\u001b[0;32m----> 2\u001b[0;31m \u001b[0mprint\u001b[0m\u001b[0;34m(\u001b[0m\u001b[0mnaam_xaina\u001b[0m\u001b[0;34m)\u001b[0m\u001b[0;34m\u001b[0m\u001b[0;34m\u001b[0m\u001b[0m\n\u001b[0m",
            "\u001b[0;31mNameError\u001b[0m: name 'naam_xaina' is not defined"
          ]
        }
      ],
      "source": [
        "#Error when printing an undefined variable\n",
        "print(naam_xaina)"
      ]
    },
    {
      "cell_type": "code",
      "execution_count": null,
      "metadata": {
        "id": "5lm3_i-B8msv",
        "outputId": "ab7aa669-a3d4-4eeb-8d7b-6acee20acf2f"
      },
      "outputs": [
        {
          "name": "stdout",
          "output_type": "stream",
          "text": [
            "Error: name 'naam_xyna' is not defined\n"
          ]
        }
      ],
      "source": [
        "#Name Error\n",
        "try:\n",
        "    print(naam_xaina)\n",
        "except Exception as e:\n",
        "    print(f\"Error: {e}\")"
      ]
    },
    {
      "cell_type": "code",
      "execution_count": null,
      "metadata": {
        "id": "Otlg02fA8msv",
        "outputId": "20c9f849-9caf-4a9f-d719-a62d33883596",
        "colab": {
          "base_uri": "https://localhost:8080/"
        }
      },
      "outputs": [
        {
          "output_type": "stream",
          "name": "stdout",
          "text": [
            "Pahila define gara la.\n"
          ]
        }
      ],
      "source": [
        "#You can except named exceptions directly and show your own message\n",
        "try:\n",
        "    print(naam_xaina)\n",
        "except NameError:\n",
        "    print(\"Pahila define gara la.\")"
      ]
    },
    {
      "cell_type": "code",
      "execution_count": null,
      "metadata": {
        "id": "uDkSgo2z8msv",
        "outputId": "e1c740cc-72b1-4f22-ee03-339cd2e8350f"
      },
      "outputs": [
        {
          "name": "stdout",
          "output_type": "stream",
          "text": [
            "Kaha zero bata divide garyako.🤣\n"
          ]
        }
      ],
      "source": [
        "#You can except named exceptions directly and show your own message\n",
        "a = 10\n",
        "try:\n",
        "    test = a/0\n",
        "except ZeroDivisionError:\n",
        "    print(\"Zero le divide nagara na.\")"
      ]
    },
    {
      "cell_type": "code",
      "execution_count": null,
      "metadata": {
        "id": "yLx49DdJnIW_",
        "outputId": "c6867e91-2a1e-4d72-fd76-f28d7c086bdb"
      },
      "outputs": [
        {
          "name": "stdout",
          "output_type": "stream",
          "text": [
            "Cannot divide by zero!\n"
          ]
        }
      ],
      "source": [
        "# Single Exception\n",
        "def safe_divide(a, b):\n",
        "    \"\"\"Division that won't crash your program\"\"\"\n",
        "    try:\n",
        "        result = a / b\n",
        "        return result\n",
        "    except ZeroDivisionError:\n",
        "        print(\"Cannot divide by zero!\")\n",
        "        return None\n",
        "    except TypeError:\n",
        "        print(\"Please provide numbers!\")\n",
        "        return None\n",
        "\n",
        "result = safe_divide(2, 0)"
      ]
    },
    {
      "cell_type": "markdown",
      "metadata": {
        "id": "qTcMeaTInIW_"
      },
      "source": [
        "# 16. File Operations - Reading and Writing 📁\n",
        "Making your scripts work with files"
      ]
    },
    {
      "cell_type": "markdown",
      "metadata": {
        "id": "Mtb-zL-n8msw"
      },
      "source": [
        "### File Operation Modes\n",
        "- 'r' : Opens file for reading, error if not found.\n",
        "- 'w' : Opens file for writing, overwrites if exists.\n",
        "- 'a' : Opens file to append, creates if not exists."
      ]
    },
    {
      "cell_type": "markdown",
      "metadata": {
        "id": "HP5ez4-68msw"
      },
      "source": [
        "## Aam Jindagi"
      ]
    },
    {
      "cell_type": "code",
      "execution_count": null,
      "metadata": {
        "id": "hdaZDIIJ8msw"
      },
      "outputs": [],
      "source": [
        "#Creating a file\n",
        "f = open(\"example.txt\", \"w\")\n",
        "f.write(\"Hello, World!\")\n",
        "f.close()"
      ]
    },
    {
      "cell_type": "code",
      "execution_count": null,
      "metadata": {
        "id": "e7j6_8_Y8msw"
      },
      "outputs": [],
      "source": [
        "#appending to the file\n",
        "f = open(\"example.txt\", \"a\")\n",
        "f.write(\" I am attending Software Fellowship!\")\n",
        "f.close()"
      ]
    },
    {
      "cell_type": "code",
      "execution_count": null,
      "metadata": {
        "id": "TKO7HAUd8msw",
        "outputId": "2f5c5579-55fe-4de7-92fc-c8e7158a24de"
      },
      "outputs": [
        {
          "name": "stdout",
          "output_type": "stream",
          "text": [
            "Hello, World! Appending some text! I am attending Python Fellowship!\n"
          ]
        }
      ],
      "source": [
        "#reading from the file\n",
        "f = open(\"example.txt\", \"r\")\n",
        "content = f.read()\n",
        "print(content)\n",
        "f.close()"
      ]
    },
    {
      "cell_type": "markdown",
      "metadata": {
        "id": "sIBA7Yzp8msx"
      },
      "source": [
        "## Mentos Jindagi"
      ]
    },
    {
      "cell_type": "code",
      "execution_count": null,
      "metadata": {
        "id": "JGWJS8WW8msx"
      },
      "outputs": [],
      "source": [
        "''' If you do just f = open(...), you must manually\n",
        "call f.close(), or the file might stay open, causing memory leaks or file lock issues. '''"
      ]
    },
    {
      "cell_type": "code",
      "execution_count": null,
      "metadata": {
        "id": "jRf_qQtk8msx"
      },
      "outputs": [],
      "source": [
        "#with keyword to create new file\n",
        "with open(\"sample2.txt\",'w') as f:\n",
        "    f.write(\"Selmon Bhai\")"
      ]
    },
    {
      "cell_type": "code",
      "execution_count": null,
      "metadata": {
        "id": "x4fEJJX38msx",
        "outputId": "f3fb47e9-08f5-4498-da95-2030eb524aad"
      },
      "outputs": [
        {
          "name": "stdout",
          "output_type": "stream",
          "text": [
            "Selmon Bhai\n"
          ]
        }
      ],
      "source": [
        "#with keyboard to read from file\n",
        "with open(\"sample2.txt\",'r') as f:\n",
        "    s = f.read()\n",
        "    print(s)"
      ]
    },
    {
      "cell_type": "markdown",
      "metadata": {
        "id": "_DiEN1V_8msy"
      },
      "source": [
        "Tips : `write only accept string so before writing to file convert numbers to string`"
      ]
    },
    {
      "cell_type": "markdown",
      "metadata": {
        "id": "xbOpSk0e8msy"
      },
      "source": [
        "### Q) Create a file named number to store starting 100 numbers"
      ]
    },
    {
      "cell_type": "code",
      "execution_count": null,
      "metadata": {
        "id": "IOj6wl2q8msy"
      },
      "outputs": [],
      "source": [
        "#Code here: Hint: Use range(1,101) with for loop\n",
        "#print('str(i)')"
      ]
    },
    {
      "cell_type": "markdown",
      "metadata": {
        "id": "HFmxZn9lnIXA"
      },
      "source": [
        "# API Usage"
      ]
    },
    {
      "cell_type": "markdown",
      "metadata": {
        "id": "UURKaONGnIXB"
      },
      "source": [
        "# 17. Simple Currency Exchange System"
      ]
    },
    {
      "cell_type": "markdown",
      "metadata": {
        "id": "cRp6-ayvnIXB"
      },
      "source": [
        "[Open File](API-Usage/currency_exchange_system.py)"
      ]
    },
    {
      "cell_type": "code",
      "execution_count": null,
      "metadata": {
        "id": "qYgNlXZGnIXB"
      },
      "outputs": [],
      "source": [
        "import requests\n",
        "\n",
        "def convert_currency(amount, from_currency, to_currency):\n",
        "    url = f\"https://api.exchangerate-api.com/v4/latest/{from_currency}\"\n",
        "\n",
        "    try:\n",
        "        response = requests.get(url, timeout=10)\n",
        "        data = response.json()\n",
        "\n",
        "        if to_currency in data[\"rates\"]:\n",
        "            rate = data[\"rates\"][to_currency]\n",
        "            converted = amount * rate\n",
        "\n",
        "            print(f\"\\n💱 {amount} {from_currency} = {converted:.2f} {to_currency}\")\n",
        "            print(f\"Exchange Rate: 1 {from_currency} = {rate:.4f} {to_currency}\")\n",
        "            print(f\"Last Updated: {data['date']}\")\n",
        "        else:\n",
        "            print(\"❌ Currency code not found in response.\")\n",
        "\n",
        "    except requests.exceptions.RequestException as e:\n",
        "        print(f\"❌ Network error: {e}\")\n",
        "\n",
        "# Example usage\n",
        "try:\n",
        "    amount = float(input(\"Enter amount: \"))\n",
        "    from_curr = input(\"From currency (e.g., USD): \").upper()\n",
        "    to_curr = input(\"To currency (e.g., EUR): \").upper()\n",
        "    convert_currency(amount, from_curr, to_curr)\n",
        "\n",
        "except ValueError:\n",
        "    print(\"❌ Please enter a valid number for amount.\")"
      ]
    },
    {
      "cell_type": "markdown",
      "metadata": {
        "id": "5rMqcWWInIXC"
      },
      "source": [
        "# 18. Chat with Gemini"
      ]
    },
    {
      "cell_type": "markdown",
      "metadata": {
        "id": "6dFVnCIfnIXC"
      },
      "source": [
        "[Open File](API-Usage\\gemini_chat.py)"
      ]
    },
    {
      "cell_type": "code",
      "execution_count": null,
      "metadata": {
        "id": "RUyrcdFanIXD"
      },
      "outputs": [],
      "source": [
        "import requests\n",
        "\n",
        "# Paste your API key here directly (for testing only — not safe for production)\n",
        "API_KEY = \"your-api-key-here\"  # 🔐 Replace this with your Gemini API key\n",
        "\n",
        "\n",
        "def ask_gemini(question):\n",
        "    url = f\"https://generativelanguage.googleapis.com/v1beta/models/gemini-2.0-flash:generateContent?key={API_KEY}\"\n",
        "    data = {\"contents\": [{\"parts\": [{\"text\": question}]}]}\n",
        "\n",
        "    try:\n",
        "        res = requests.post(url, json=data)\n",
        "        return res.json()['candidates'][0]['content']['parts'][0]['text']\n",
        "    except:\n",
        "        return \"❌ Error. Check your API key or internet.\"\n",
        "\n",
        "print(\"💬 Gemini Chat (type 'quit' to exit)\")\n",
        "\n",
        "while True:\n",
        "    q = input(\"You: \").strip()\n",
        "    if q.lower() == \"quit\":\n",
        "        break\n",
        "    if not q:\n",
        "        continue\n",
        "    print(\"AI:\", ask_gemini(q))"
      ]
    },
    {
      "cell_type": "markdown",
      "metadata": {
        "id": "9wG6S2UNnIXD"
      },
      "source": [
        "# Lab/Assignment\n",
        "## Build a CLI tool that consumes an external API\n",
        "## Use key less API like:\n",
        "1.  #### Cat Facts\n",
        "- Get random cat facts via text message every day.\n",
        "```\n",
        "https://cat-fact.herokuapp.com/facts\n",
        "```\n",
        "\n",
        "2. #### Dogs\n",
        "- Cheer yourself up with random dog images.\n",
        "```\n",
        "https://dog.ceo/api/breeds/image/random\n",
        "```\n",
        "\n",
        "3. #### Jokes\n",
        "- Get random jokes. You can also get jokes according to type (e.g., programming jokes only).\n",
        "```\n",
        "https://official-joke-api.appspot.com/random_joke\n",
        "```\n",
        "\n",
        "4. #### Bored\n",
        "- Find something to do by getting suggestions for random activities.\n",
        "```\n",
        "https://www.boredapi.com/api/activity\n",
        "```\n",
        "\n",
        "## Or use API with key like Gemini Above"
      ]
    },
    {
      "cell_type": "markdown",
      "source": [
        "# Final Assignment: Generate HTML from an API using Python\n",
        "\n",
        "## Objective\n",
        "\n",
        "Write a Python script that:\n",
        "\n",
        "1. Makes a request to a public API.\n",
        "2. Extracts data from the response.\n",
        "3. Inserts the data into a predefined HTML structure.\n",
        "4. Saves the result as an `.html` file in the current directory.\n",
        "5. Automatically opens the HTML file in the default web browser.\n",
        "\n",
        "---\n",
        "\n",
        "## 📦 Requirements\n",
        "\n",
        "- Python 3.x\n",
        "- `requests` module (install with `pip install requests` if not already installed)\n",
        "\n",
        "---\n",
        "\n",
        "## 📝 Instructions\n",
        "\n",
        "1. **Choose a Public API**\n",
        "   - Example APIs:\n",
        "     - [JSONPlaceholder](https://jsonplaceholder.typicode.com/) (e.g., posts, users)\n",
        "     - [Official Joke API](https://official-joke-api.appspot.com/random_joke)\n",
        "     - [Dog CEO API](https://dog.ceo/dog-api/) (random dog image)\n",
        "     - [Kanye Rest](https://api.kanye.rest/) (random Kanye quote)\n",
        "\n",
        "2. **Fetch Data**\n",
        "   - Use the `requests` library to make a GET request to the API.\n",
        "   - Parse the JSON response and extract the relevant fields.\n",
        "\n",
        "3. **Prepare HTML Template**\n",
        "   - Use a simple HTML string with placeholders like:\n",
        "     ```html\n",
        "     <html>\n",
        "       <head><title>{{title}}</title></head>\n",
        "       <body>\n",
        "         <h1>{{header}}</h1>\n",
        "         <p>{{content}}</p>\n",
        "       </body>\n",
        "     </html>\n",
        "     ```\n",
        "   - Replace the placeholders with data from the API using string formatting or basic templating.\n",
        "\n",
        "4. **Write to File**\n",
        "   - Save the final HTML string to a file named something like `output.html` in the current directory.\n",
        "\n",
        "5. **Open in Browser**\n",
        "   - Use Python’s `webbrowser` module:\n",
        "     ```python\n",
        "     import webbrowser, os\n",
        "     webbrowser.open('file://' + os.path.abspath(\"output.html\"))\n",
        "     ```\n",
        "\n",
        "---\n",
        "\n",
        "## ✅ Deliverables\n",
        "\n",
        "- A `.py` script that:\n",
        "  - Fetches data from an API\n",
        "  - Creates an HTML file with the response content\n",
        "  - Opens the file in the browser\n",
        "\n",
        "---\n",
        "\n",
        "## 🎯 (Optional)\n",
        "\n",
        "- Add styling using inline CSS or a simple `<style>` block.\n",
        "- Handle API failures gracefully (e.g., display an error message in the HTML).\n",
        "- Loop through multiple items from the API (e.g., 5 jokes or 3 posts) and insert them as a list.\n",
        "\n",
        "---\n",
        "\n",
        "## 💡 Hints\n",
        "\n",
        "- Use `f-strings` or the `format()` method to insert data into your template.\n",
        "- Use `json()` method of the response object to parse JSON.\n"
      ],
      "metadata": {
        "id": "qNHVdr0qUfVE"
      }
    }
  ],
  "metadata": {
    "colab": {
      "provenance": []
    },
    "kernelspec": {
      "display_name": "myen",
      "language": "python",
      "name": "python3"
    },
    "language_info": {
      "codemirror_mode": {
        "name": "ipython",
        "version": 3
      },
      "file_extension": ".py",
      "mimetype": "text/x-python",
      "name": "python",
      "nbconvert_exporter": "python",
      "pygments_lexer": "ipython3",
      "version": "3.13.1"
    }
  },
  "nbformat": 4,
  "nbformat_minor": 0
}