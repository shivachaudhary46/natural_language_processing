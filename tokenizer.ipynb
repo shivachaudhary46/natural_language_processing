{
 "cells": [
  {
   "cell_type": "code",
   "execution_count": 4,
   "id": "fb15c047",
   "metadata": {},
   "outputs": [
    {
     "name": "stderr",
     "output_type": "stream",
     "text": [
      "[nltk_data] Downloading package punkt to ./nltk_data...\n",
      "[nltk_data]   Unzipping tokenizers/punkt.zip.\n"
     ]
    },
    {
     "data": {
      "text/plain": [
       "True"
      ]
     },
     "execution_count": 4,
     "metadata": {},
     "output_type": "execute_result"
    }
   ],
   "source": [
    "'''first install nltk library of the python \n",
    "we need to know basic keyword of NLP which is \n",
    "1. corpus -> paragraph\n",
    "2. Sentences -> datapoints\n",
    "3. Vocabulary -> unique words in Corpus\n",
    "4. words -> independent words\n",
    "'''\n",
    "import nltk\n",
    "nltk.download('punkt', download_dir='./nltk_data')"
   ]
  },
  {
   "cell_type": "code",
   "execution_count": 10,
   "id": "7a124385",
   "metadata": {},
   "outputs": [
    {
     "data": {
      "text/plain": [
       "['Hello',\n",
       " 'guys',\n",
       " 'good',\n",
       " 'morning',\n",
       " '!!!,',\n",
       " 'my',\n",
       " 'name',\n",
       " \"'\",\n",
       " 's',\n",
       " 'shiva',\n",
       " 'chaudhary',\n",
       " '.',\n",
       " 'my',\n",
       " 'dream',\n",
       " '!',\n",
       " 'is',\n",
       " 'to',\n",
       " 'become',\n",
       " 'a',\n",
       " 'good',\n",
       " 'leader',\n",
       " 'and',\n",
       " 'ML',\n",
       " 'engineer',\n",
       " '.']"
      ]
     },
     "execution_count": 10,
     "metadata": {},
     "output_type": "execute_result"
    }
   ],
   "source": [
    "corpus = \"\"\"\n",
    "    Hello guys good morning!!!, my name's shiva chaudhary.\n",
    "    my dream! is to become a good leader and ML engineer.\n",
    "\"\"\"\n",
    "\n",
    "tokens = nltk.wordpunct_tokenize(corpus)\n",
    "tokens "
   ]
  },
  {
   "cell_type": "code",
   "execution_count": 13,
   "id": "053b1d8c",
   "metadata": {},
   "outputs": [
    {
     "data": {
      "text/plain": [
       "['Hello',\n",
       " 'guys',\n",
       " 'good',\n",
       " 'morning',\n",
       " '!',\n",
       " '!',\n",
       " '!',\n",
       " ',',\n",
       " 'my',\n",
       " 'name',\n",
       " \"'s\",\n",
       " 'shiva',\n",
       " 'chaudhary.',\n",
       " 'my',\n",
       " 'dream',\n",
       " '!',\n",
       " 'is',\n",
       " 'to',\n",
       " 'become',\n",
       " 'a',\n",
       " 'good',\n",
       " 'leader',\n",
       " 'and',\n",
       " 'ML',\n",
       " 'engineer',\n",
       " '.']"
      ]
     },
     "execution_count": 13,
     "metadata": {},
     "output_type": "execute_result"
    }
   ],
   "source": [
    "from nltk.tokenize import TreebankWordTokenizer\n",
    "tokenizer = TreebankWordTokenizer()\n",
    "tokenizer.tokenize(corpus)"
   ]
  },
  {
   "cell_type": "code",
   "execution_count": null,
   "id": "2d2bcff8",
   "metadata": {},
   "outputs": [],
   "source": []
  }
 ],
 "metadata": {
  "kernelspec": {
   "display_name": "myenv",
   "language": "python",
   "name": "python3"
  },
  "language_info": {
   "codemirror_mode": {
    "name": "ipython",
    "version": 3
   },
   "file_extension": ".py",
   "mimetype": "text/x-python",
   "name": "python",
   "nbconvert_exporter": "python",
   "pygments_lexer": "ipython3",
   "version": "3.12.7"
  }
 },
 "nbformat": 4,
 "nbformat_minor": 5
}
