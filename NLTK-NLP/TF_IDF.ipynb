{
  "nbformat": 4,
  "nbformat_minor": 0,
  "metadata": {
    "colab": {
      "provenance": []
    },
    "kernelspec": {
      "name": "python3",
      "display_name": "Python 3"
    },
    "language_info": {
      "name": "python"
    }
  },
  "cells": [
    {
      "cell_type": "code",
      "execution_count": null,
      "metadata": {
        "colab": {
          "base_uri": "https://localhost:8080/",
          "height": 71
        },
        "id": "on39NESATvgt",
        "outputId": "9d1d11a2-f1fe-4fc8-e923-29f1d049e32f"
      },
      "outputs": [
        {
          "output_type": "execute_result",
          "data": {
            "text/plain": [
              "'\\nTerm frequency measusres how often words appears in a document. A higher frequency suggests\\ngreater importance. \\nNumber of times term t appears in document d / Total number of terms in document d \\n\\nbut it can have common words like \"the\" or \\n'"
            ],
            "application/vnd.google.colaboratory.intrinsic+json": {
              "type": "string"
            }
          },
          "metadata": {},
          "execution_count": 1
        }
      ],
      "source": [
        "# Understnding TF_IDF (Term Frequency Inverse Document Frequency)\n",
        "\"\"\"\n",
        "Term frequency measusres how often words appears in a document. A higher frequency suggests\n",
        "greater importance.\n",
        "Number of times term t appears in document d / Total number of terms in document d\n",
        "\n",
        "but it can have common words like \"the\" or \"and\" may Tf scores but are not meaningful in distinguishing document.\n",
        "\n",
        "IDF(t, D) = log(total number of documents in corpus d/ Number of documents contatining term t)\n",
        "\"\"\""
      ]
    },
    {
      "cell_type": "code",
      "source": [
        "# Implementing TF-IDF in sklearn with python\n",
        "from sklearn.feature_extraction.text import TfidfVectorizer"
      ],
      "metadata": {
        "id": "irQZDdBIV2IC"
      },
      "execution_count": null,
      "outputs": []
    },
    {
      "cell_type": "code",
      "source": [
        "d0 = 'Geeks for geeks'\n",
        "d1 = 'Geeks'\n",
        "d2 = 'r2j'\n",
        "\n",
        "# merge documents into a single corpus\n",
        "string = [d0, d1, d2]\n",
        "\n",
        "tfidf = TfidfVectorizer()\n",
        "result = tfidf.fit_transform(string)\n",
        "\n",
        "print('\\nWord indexes: ')\n",
        "print(tfidf.vocabulary_)\n",
        "\n",
        "print('\\n tf-idf values: ')\n",
        "print(result)"
      ],
      "metadata": {
        "id": "il0YH2qWZUn7",
        "colab": {
          "base_uri": "https://localhost:8080/"
        },
        "outputId": "c8169aec-0b10-4938-848c-60ee117e025d"
      },
      "execution_count": 5,
      "outputs": [
        {
          "output_type": "stream",
          "name": "stdout",
          "text": [
            "\n",
            "Word indexes: \n",
            "{'geeks': 1, 'for': 0, 'r2j': 2}\n",
            "\n",
            " tf-idf values: \n",
            "<Compressed Sparse Row sparse matrix of dtype 'float64'\n",
            "\twith 4 stored elements and shape (3, 3)>\n",
            "  Coords\tValues\n",
            "  (0, 1)\t0.8355915419449176\n",
            "  (0, 0)\t0.5493512310263033\n",
            "  (1, 1)\t1.0\n",
            "  (2, 2)\t1.0\n"
          ]
        }
      ]
    },
    {
      "cell_type": "code",
      "source": [
        "from sklearn.feature_extraction.text import TfidfVectorizer\n",
        "\n",
        "string = [\"geeks geeks\"] * 5\n",
        "tfidf = TfidfVectorizer()\n",
        "result = tfidf.fit_transform(string)\n",
        "\n",
        "print('\\n Word indexes: ')\n",
        "print(tfidf.vocabulary_)\n",
        "\n",
        "print(result)"
      ],
      "metadata": {
        "colab": {
          "base_uri": "https://localhost:8080/"
        },
        "id": "4NCSGbAkbWot",
        "outputId": "d4d0a768-defb-4089-c1b6-f199dc21b130"
      },
      "execution_count": 6,
      "outputs": [
        {
          "output_type": "stream",
          "name": "stdout",
          "text": [
            "\n",
            " Word indexes: \n",
            "{'geeks': 0}\n",
            "<Compressed Sparse Row sparse matrix of dtype 'float64'\n",
            "\twith 5 stored elements and shape (5, 1)>\n",
            "  Coords\tValues\n",
            "  (0, 0)\t1.0\n",
            "  (1, 0)\t1.0\n",
            "  (2, 0)\t1.0\n",
            "  (3, 0)\t1.0\n",
            "  (4, 0)\t1.0\n"
          ]
        }
      ]
    }
  ]
}