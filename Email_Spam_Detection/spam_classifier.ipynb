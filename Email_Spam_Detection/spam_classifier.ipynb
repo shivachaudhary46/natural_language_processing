{
 "cells": [
  {
   "cell_type": "markdown",
   "id": "1af316ca",
   "metadata": {},
   "source": [
    "# Email Spam Detection\n",
    "<!--\n",
    "*** I'm using markdown \"reference style\" links for readability.\n",
    "*** Reference links are enclosed in brackets [ ] instead of parentheses ( ).\n",
    "*** See the bottom of this document for the declaration of the reference variables\n",
    "*** This documentation will be finished when this projects finishes. \n",
    "-->\n",
    "1. #### Importing libraries\n",
    "        this are necessary libraries\n",
    "            - pandas\n",
    "            - numpy \n",
    "            - scikit-learn.preprocessing (LabelEncoder)"
   ]
  },
  {
   "cell_type": "code",
   "execution_count": 99,
   "id": "afef6766",
   "metadata": {},
   "outputs": [],
   "source": [
    "import pandas as pd \n",
    "import numpy as np \n",
    "from sklearn.preprocessing import LabelEncoder\n",
    "import matplotlib.pylab as plt"
   ]
  },
  {
   "cell_type": "markdown",
   "id": "5fdb00d9",
   "metadata": {},
   "source": [
    "2. #### Collection of Data\n",
    "        I use public datasets: \n",
    "            - Email-Spam-Classification-dataset-csv\n",
    "            - Enron Email Dataset\n",
    "            - deceptive-opinion-spam-corpus\n",
    "            - spam-or-not-spam-dataset\n",
    "            - spam-email\n",
    "            - sms-spam-collection-dataset\n",
    "            - email-spam-dataset\n",
    "            - email-spam-classification-dataset-csv\n",
    "        format: Each row is in text (message/email) and label (spam/ham)."
   ]
  },
  {
   "cell_type": "code",
   "execution_count": 39,
   "id": "37f8ed68",
   "metadata": {},
   "outputs": [
    {
     "data": {
      "text/html": [
       "<div>\n",
       "<style scoped>\n",
       "    .dataframe tbody tr th:only-of-type {\n",
       "        vertical-align: middle;\n",
       "    }\n",
       "\n",
       "    .dataframe tbody tr th {\n",
       "        vertical-align: top;\n",
       "    }\n",
       "\n",
       "    .dataframe thead th {\n",
       "        text-align: right;\n",
       "    }\n",
       "</style>\n",
       "<table border=\"1\" class=\"dataframe\">\n",
       "  <thead>\n",
       "    <tr style=\"text-align: right;\">\n",
       "      <th></th>\n",
       "      <th>message</th>\n",
       "      <th>label</th>\n",
       "    </tr>\n",
       "  </thead>\n",
       "  <tbody>\n",
       "    <tr>\n",
       "      <th>0</th>\n",
       "      <td>\\nSave up to 70% on Life Insurance.\\nWhy Spend...</td>\n",
       "      <td>1</td>\n",
       "    </tr>\n",
       "    <tr>\n",
       "      <th>1</th>\n",
       "      <td>1) Fight The Risk of Cancer!\\nhttp://www.adcli...</td>\n",
       "      <td>1</td>\n",
       "    </tr>\n",
       "    <tr>\n",
       "      <th>2</th>\n",
       "      <td>1) Fight The Risk of Cancer!\\nhttp://www.adcli...</td>\n",
       "      <td>1</td>\n",
       "    </tr>\n",
       "    <tr>\n",
       "      <th>3</th>\n",
       "      <td>##############################################...</td>\n",
       "      <td>1</td>\n",
       "    </tr>\n",
       "    <tr>\n",
       "      <th>4</th>\n",
       "      <td>I thought you might like these:\\n1) Slim Down ...</td>\n",
       "      <td>1</td>\n",
       "    </tr>\n",
       "  </tbody>\n",
       "</table>\n",
       "</div>"
      ],
      "text/plain": [
       "                                             message  label\n",
       "0  \\nSave up to 70% on Life Insurance.\\nWhy Spend...      1\n",
       "1  1) Fight The Risk of Cancer!\\nhttp://www.adcli...      1\n",
       "2  1) Fight The Risk of Cancer!\\nhttp://www.adcli...      1\n",
       "3  ##############################################...      1\n",
       "4  I thought you might like these:\\n1) Slim Down ...      1"
      ]
     },
     "execution_count": 39,
     "metadata": {},
     "output_type": "execute_result"
    }
   ],
   "source": [
    "complete_spam = pd.read_csv(\"dataset/completeSpamAssassin.csv\", index_col=0)\n",
    "null_rows = complete_spam[complete_spam.isnull().any(axis=1)]\n",
    "complete_spam = complete_spam.dropna()\n",
    "complete_spam.rename(columns={\"Body\": \"message\", \"Label\":'label'}, inplace=True)\n",
    "complete_spam.head()"
   ]
  },
  {
   "cell_type": "code",
   "execution_count": 38,
   "id": "af73d41c",
   "metadata": {},
   "outputs": [
    {
     "data": {
      "text/html": [
       "<div>\n",
       "<style scoped>\n",
       "    .dataframe tbody tr th:only-of-type {\n",
       "        vertical-align: middle;\n",
       "    }\n",
       "\n",
       "    .dataframe tbody tr th {\n",
       "        vertical-align: top;\n",
       "    }\n",
       "\n",
       "    .dataframe thead th {\n",
       "        text-align: right;\n",
       "    }\n",
       "</style>\n",
       "<table border=\"1\" class=\"dataframe\">\n",
       "  <thead>\n",
       "    <tr style=\"text-align: right;\">\n",
       "      <th></th>\n",
       "      <th>message</th>\n",
       "      <th>label</th>\n",
       "    </tr>\n",
       "  </thead>\n",
       "  <tbody>\n",
       "    <tr>\n",
       "      <th>2469</th>\n",
       "      <td>Subject: stock promo mover : cwtd\\n * * * urge...</td>\n",
       "      <td>1</td>\n",
       "    </tr>\n",
       "    <tr>\n",
       "      <th>5063</th>\n",
       "      <td>Subject: are you listed in major search engine...</td>\n",
       "      <td>1</td>\n",
       "    </tr>\n",
       "    <tr>\n",
       "      <th>12564</th>\n",
       "      <td>Subject: important information thu , 30 jun 20...</td>\n",
       "      <td>1</td>\n",
       "    </tr>\n",
       "    <tr>\n",
       "      <th>2796</th>\n",
       "      <td>Subject: = ? utf - 8 ? q ? bask your life with...</td>\n",
       "      <td>1</td>\n",
       "    </tr>\n",
       "    <tr>\n",
       "      <th>1468</th>\n",
       "      <td>Subject: \" bidstogo \" is places to go , things...</td>\n",
       "      <td>1</td>\n",
       "    </tr>\n",
       "  </tbody>\n",
       "</table>\n",
       "</div>"
      ],
      "text/plain": [
       "                                                 message  label\n",
       "2469   Subject: stock promo mover : cwtd\\n * * * urge...      1\n",
       "5063   Subject: are you listed in major search engine...      1\n",
       "12564  Subject: important information thu , 30 jun 20...      1\n",
       "2796   Subject: = ? utf - 8 ? q ? bask your life with...      1\n",
       "1468   Subject: \" bidstogo \" is places to go , things...      1"
      ]
     },
     "execution_count": 38,
     "metadata": {},
     "output_type": "execute_result"
    }
   ],
   "source": [
    "enron = pd.read_csv(\"dataset\\enronSpamSubset.csv\", index_col=0)\n",
    "enron = enron.drop(columns=[\"Unnamed: 0\"])\n",
    "enron.rename(columns={\"Body\": \"message\", \"Label\":'label'}, inplace=True)\n",
    "enron.head()"
   ]
  },
  {
   "cell_type": "code",
   "execution_count": 42,
   "id": "a8094900",
   "metadata": {},
   "outputs": [
    {
     "data": {
      "text/html": [
       "<div>\n",
       "<style scoped>\n",
       "    .dataframe tbody tr th:only-of-type {\n",
       "        vertical-align: middle;\n",
       "    }\n",
       "\n",
       "    .dataframe tbody tr th {\n",
       "        vertical-align: top;\n",
       "    }\n",
       "\n",
       "    .dataframe thead th {\n",
       "        text-align: right;\n",
       "    }\n",
       "</style>\n",
       "<table border=\"1\" class=\"dataframe\">\n",
       "  <thead>\n",
       "    <tr style=\"text-align: right;\">\n",
       "      <th></th>\n",
       "      <th>message</th>\n",
       "      <th>label</th>\n",
       "    </tr>\n",
       "  </thead>\n",
       "  <tbody>\n",
       "    <tr>\n",
       "      <th>0</th>\n",
       "      <td>Subject: great part-time or summer job !\\n \\n ...</td>\n",
       "      <td>1</td>\n",
       "    </tr>\n",
       "    <tr>\n",
       "      <th>1</th>\n",
       "      <td>Subject: auto insurance rates too high ?\\n \\n ...</td>\n",
       "      <td>1</td>\n",
       "    </tr>\n",
       "    <tr>\n",
       "      <th>2</th>\n",
       "      <td>Subject: do want the best and economical hunti...</td>\n",
       "      <td>1</td>\n",
       "    </tr>\n",
       "    <tr>\n",
       "      <th>3</th>\n",
       "      <td>Subject: email 57 million people for $ 99\\n \\n...</td>\n",
       "      <td>1</td>\n",
       "    </tr>\n",
       "    <tr>\n",
       "      <th>4</th>\n",
       "      <td>Subject: do n't miss these !\\n \\n attention ! ...</td>\n",
       "      <td>1</td>\n",
       "    </tr>\n",
       "  </tbody>\n",
       "</table>\n",
       "</div>"
      ],
      "text/plain": [
       "                                             message  label\n",
       "0  Subject: great part-time or summer job !\\n \\n ...      1\n",
       "1  Subject: auto insurance rates too high ?\\n \\n ...      1\n",
       "2  Subject: do want the best and economical hunti...      1\n",
       "3  Subject: email 57 million people for $ 99\\n \\n...      1\n",
       "4  Subject: do n't miss these !\\n \\n attention ! ...      1"
      ]
     },
     "execution_count": 42,
     "metadata": {},
     "output_type": "execute_result"
    }
   ],
   "source": [
    "ling_spam = pd.read_csv(\"dataset\\lingSpam.csv\", index_col=0)\n",
    "ling_spam.rename(columns={\"Body\": \"message\", \"Label\":'label'}, inplace=True)\n",
    "ling_spam.head()"
   ]
  },
  {
   "cell_type": "code",
   "execution_count": 64,
   "id": "15b8cd7d",
   "metadata": {},
   "outputs": [
    {
     "data": {
      "text/html": [
       "<div>\n",
       "<style scoped>\n",
       "    .dataframe tbody tr th:only-of-type {\n",
       "        vertical-align: middle;\n",
       "    }\n",
       "\n",
       "    .dataframe tbody tr th {\n",
       "        vertical-align: top;\n",
       "    }\n",
       "\n",
       "    .dataframe thead th {\n",
       "        text-align: right;\n",
       "    }\n",
       "</style>\n",
       "<table border=\"1\" class=\"dataframe\">\n",
       "  <thead>\n",
       "    <tr style=\"text-align: right;\">\n",
       "      <th></th>\n",
       "      <th>message</th>\n",
       "      <th>label</th>\n",
       "    </tr>\n",
       "  </thead>\n",
       "  <tbody>\n",
       "    <tr>\n",
       "      <th>0</th>\n",
       "      <td>We stayed for a one night getaway with family ...</td>\n",
       "      <td>True</td>\n",
       "    </tr>\n",
       "    <tr>\n",
       "      <th>1</th>\n",
       "      <td>Triple A rate with upgrade to view room was le...</td>\n",
       "      <td>True</td>\n",
       "    </tr>\n",
       "    <tr>\n",
       "      <th>2</th>\n",
       "      <td>This comes a little late as I'm finally catchi...</td>\n",
       "      <td>True</td>\n",
       "    </tr>\n",
       "    <tr>\n",
       "      <th>3</th>\n",
       "      <td>The Omni Chicago really delivers on all fronts...</td>\n",
       "      <td>True</td>\n",
       "    </tr>\n",
       "    <tr>\n",
       "      <th>4</th>\n",
       "      <td>I asked for a high floor away from the elevato...</td>\n",
       "      <td>True</td>\n",
       "    </tr>\n",
       "  </tbody>\n",
       "</table>\n",
       "</div>"
      ],
      "text/plain": [
       "                                             message  label\n",
       "0  We stayed for a one night getaway with family ...   True\n",
       "1  Triple A rate with upgrade to view room was le...   True\n",
       "2  This comes a little late as I'm finally catchi...   True\n",
       "3  The Omni Chicago really delivers on all fronts...   True\n",
       "4  I asked for a high floor away from the elevato...   True"
      ]
     },
     "execution_count": 64,
     "metadata": {},
     "output_type": "execute_result"
    }
   ],
   "source": [
    "deceptive = pd.read_csv(\"dataset\\deceptive-opinion.csv\")\n",
    "deceptive = deceptive.iloc[:, [2, 4]]\n",
    "label = pd.get_dummies(deceptive['polarity'], drop_first=True)\n",
    "deceptive.drop(columns=['polarity'], inplace=True)\n",
    "new_deceptive = pd.concat([deceptive, label], axis=1)\n",
    "new_deceptive.rename(columns={\"text\": \"message\", \"positive\":'label'}, inplace=True)\n",
    "new_deceptive.head()"
   ]
  },
  {
   "cell_type": "code",
   "execution_count": 69,
   "id": "764a77a3",
   "metadata": {},
   "outputs": [
    {
     "data": {
      "text/html": [
       "<div>\n",
       "<style scoped>\n",
       "    .dataframe tbody tr th:only-of-type {\n",
       "        vertical-align: middle;\n",
       "    }\n",
       "\n",
       "    .dataframe tbody tr th {\n",
       "        vertical-align: top;\n",
       "    }\n",
       "\n",
       "    .dataframe thead th {\n",
       "        text-align: right;\n",
       "    }\n",
       "</style>\n",
       "<table border=\"1\" class=\"dataframe\">\n",
       "  <thead>\n",
       "    <tr style=\"text-align: right;\">\n",
       "      <th></th>\n",
       "      <th>message</th>\n",
       "      <th>label</th>\n",
       "    </tr>\n",
       "  </thead>\n",
       "  <tbody>\n",
       "    <tr>\n",
       "      <th>0</th>\n",
       "      <td>date wed NUMBER aug NUMBER NUMBER NUMBER NUMB...</td>\n",
       "      <td>0</td>\n",
       "    </tr>\n",
       "    <tr>\n",
       "      <th>1</th>\n",
       "      <td>martin a posted tassos papadopoulos the greek ...</td>\n",
       "      <td>0</td>\n",
       "    </tr>\n",
       "    <tr>\n",
       "      <th>2</th>\n",
       "      <td>man threatens explosion in moscow thursday aug...</td>\n",
       "      <td>0</td>\n",
       "    </tr>\n",
       "    <tr>\n",
       "      <th>3</th>\n",
       "      <td>klez the virus that won t die already the most...</td>\n",
       "      <td>0</td>\n",
       "    </tr>\n",
       "    <tr>\n",
       "      <th>4</th>\n",
       "      <td>in adding cream to spaghetti carbonara which ...</td>\n",
       "      <td>0</td>\n",
       "    </tr>\n",
       "  </tbody>\n",
       "</table>\n",
       "</div>"
      ],
      "text/plain": [
       "                                             message  label\n",
       "0   date wed NUMBER aug NUMBER NUMBER NUMBER NUMB...      0\n",
       "1  martin a posted tassos papadopoulos the greek ...      0\n",
       "2  man threatens explosion in moscow thursday aug...      0\n",
       "3  klez the virus that won t die already the most...      0\n",
       "4   in adding cream to spaghetti carbonara which ...      0"
      ]
     },
     "execution_count": 69,
     "metadata": {},
     "output_type": "execute_result"
    }
   ],
   "source": [
    "spam = pd.read_csv(\"dataset\\spam_or_not_spam.csv\")\n",
    "spam.rename(columns={'email': 'message'}, inplace=True)\n",
    "spam.head()"
   ]
  },
  {
   "cell_type": "markdown",
   "id": "13f29e59",
   "metadata": {},
   "source": [
    "##### Shape of Dataset "
   ]
  },
  {
   "cell_type": "code",
   "execution_count": 80,
   "id": "6f2f8b47",
   "metadata": {},
   "outputs": [
    {
     "name": "stdout",
     "output_type": "stream",
     "text": [
      "dataset 1 : (6045, 2)\n",
      "dataset 2 : (3000, 2)\n",
      "dataset 3 : (1600, 2)\n",
      "dataset 4 : (2605, 2)\n",
      "dataset 5 : (10000, 2)\n",
      "total expected shape : (23250, 2)\n"
     ]
    }
   ],
   "source": [
    "print(f\"dataset 1 : {complete_spam.shape}\")\n",
    "print(f\"dataset 2 : {spam.shape}\")\n",
    "print(f\"dataset 3 : {new_deceptive.shape}\")\n",
    "print(f\"dataset 4 : {ling_spam.shape}\")\n",
    "print(f\"dataset 5 : {enron.shape}\")\n",
    "print(f\"total expected shape : ({complete_spam.shape[0] + spam.shape[0] + new_deceptive.shape[0] + ling_spam.shape[0] + enron.shape[0]}, 2)\")"
   ]
  },
  {
   "cell_type": "code",
   "execution_count": 78,
   "id": "385efc13",
   "metadata": {},
   "outputs": [
    {
     "name": "stdout",
     "output_type": "stream",
     "text": [
      "(23250, 2)\n"
     ]
    }
   ],
   "source": [
    "dfs = [complete_spam, spam, new_deceptive, ling_spam, enron]\n",
    "spam_dataset = pd.concat(dfs, axis=0, ignore_index=True)\n",
    "spam_dataset.tail()\n",
    "print(spam_dataset.shape)"
   ]
  },
  {
   "cell_type": "markdown",
   "id": "bcbffa0f",
   "metadata": {},
   "source": [
    "##### Checking Missing Values"
   ]
  },
  {
   "cell_type": "code",
   "execution_count": 83,
   "id": "8444d94e",
   "metadata": {},
   "outputs": [
    {
     "data": {
      "text/plain": [
       "message    1\n",
       "label      0\n",
       "dtype: int64"
      ]
     },
     "execution_count": 83,
     "metadata": {},
     "output_type": "execute_result"
    }
   ],
   "source": [
    "spam_dataset.isnull().sum()"
   ]
  },
  {
   "cell_type": "markdown",
   "id": "82b3d15d",
   "metadata": {},
   "source": [
    "##### Checking Duplicate Values"
   ]
  },
  {
   "cell_type": "code",
   "execution_count": 85,
   "id": "5d7228a3",
   "metadata": {},
   "outputs": [
    {
     "data": {
      "text/plain": [
       "np.int64(1210)"
      ]
     },
     "execution_count": 85,
     "metadata": {},
     "output_type": "execute_result"
    }
   ],
   "source": [
    "spam_dataset.duplicated().sum()"
   ]
  },
  {
   "cell_type": "markdown",
   "id": "377bee0a",
   "metadata": {},
   "source": [
    "##### Remove Duplicate Values"
   ]
  },
  {
   "cell_type": "code",
   "execution_count": 87,
   "id": "b090ac52",
   "metadata": {},
   "outputs": [
    {
     "data": {
      "text/html": [
       "<div>\n",
       "<style scoped>\n",
       "    .dataframe tbody tr th:only-of-type {\n",
       "        vertical-align: middle;\n",
       "    }\n",
       "\n",
       "    .dataframe tbody tr th {\n",
       "        vertical-align: top;\n",
       "    }\n",
       "\n",
       "    .dataframe thead th {\n",
       "        text-align: right;\n",
       "    }\n",
       "</style>\n",
       "<table border=\"1\" class=\"dataframe\">\n",
       "  <thead>\n",
       "    <tr style=\"text-align: right;\">\n",
       "      <th></th>\n",
       "      <th>message</th>\n",
       "      <th>label</th>\n",
       "    </tr>\n",
       "  </thead>\n",
       "  <tbody>\n",
       "    <tr>\n",
       "      <th>0</th>\n",
       "      <td>\\nSave up to 70% on Life Insurance.\\nWhy Spend...</td>\n",
       "      <td>1</td>\n",
       "    </tr>\n",
       "    <tr>\n",
       "      <th>1</th>\n",
       "      <td>1) Fight The Risk of Cancer!\\nhttp://www.adcli...</td>\n",
       "      <td>1</td>\n",
       "    </tr>\n",
       "    <tr>\n",
       "      <th>2</th>\n",
       "      <td>1) Fight The Risk of Cancer!\\nhttp://www.adcli...</td>\n",
       "      <td>1</td>\n",
       "    </tr>\n",
       "    <tr>\n",
       "      <th>3</th>\n",
       "      <td>##############################################...</td>\n",
       "      <td>1</td>\n",
       "    </tr>\n",
       "    <tr>\n",
       "      <th>4</th>\n",
       "      <td>I thought you might like these:\\n1) Slim Down ...</td>\n",
       "      <td>1</td>\n",
       "    </tr>\n",
       "  </tbody>\n",
       "</table>\n",
       "</div>"
      ],
      "text/plain": [
       "                                             message  label\n",
       "0  \\nSave up to 70% on Life Insurance.\\nWhy Spend...      1\n",
       "1  1) Fight The Risk of Cancer!\\nhttp://www.adcli...      1\n",
       "2  1) Fight The Risk of Cancer!\\nhttp://www.adcli...      1\n",
       "3  ##############################################...      1\n",
       "4  I thought you might like these:\\n1) Slim Down ...      1"
      ]
     },
     "execution_count": 87,
     "metadata": {},
     "output_type": "execute_result"
    }
   ],
   "source": [
    "spam_dataset = spam_dataset.drop_duplicates(keep='first')\n",
    "spam_dataset.head()"
   ]
  },
  {
   "cell_type": "markdown",
   "id": "301cb94e",
   "metadata": {},
   "source": [
    "##### Final Shape of Dataset"
   ]
  },
  {
   "cell_type": "code",
   "execution_count": 90,
   "id": "b23dca42",
   "metadata": {},
   "outputs": [
    {
     "name": "stdout",
     "output_type": "stream",
     "text": [
      "After removing duplicate values. The final shape of dataset : (22040, 2)\n"
     ]
    }
   ],
   "source": [
    "print(f\"After removing duplicate values. The final shape of dataset : {spam_dataset.shape}\")"
   ]
  },
  {
   "cell_type": "markdown",
   "id": "33ced6fb",
   "metadata": {},
   "source": [
    "3. #### EDA aka Exploratory Data Analysis \n",
    "        The goal is to investigating data, understanding patterns, checking (anomalies, outliers), summarize key structure before applying any types of machine learning or statistical models. \n"
   ]
  },
  {
   "cell_type": "code",
   "execution_count": 97,
   "id": "a97479e6",
   "metadata": {},
   "outputs": [
    {
     "name": "stdout",
     "output_type": "stream",
     "text": [
      "Percentage of target (ham) : 64.65970961887477\n",
      "Percentage of target (spam) : 35.34029038112523\n"
     ]
    }
   ],
   "source": [
    "values = spam_dataset['label'].value_counts()\n",
    "total = values[0] + values[1]\n",
    "\n",
    "percentage_0 = (values[0] / total) * 100\n",
    "percentage_1 = (values[1] / total) * 100\n",
    "\n",
    "print(f\"Percentage of target (ham) : {percentage_0}\")\n",
    "print(f\"Percentage of target (spam) : {percentage_1}\")"
   ]
  },
  {
   "cell_type": "code",
   "execution_count": null,
   "id": "cba53fbe",
   "metadata": {},
   "outputs": [
    {
     "data": {
      "image/png": "[encoded data removed]",
      "text/plain": [
       "<Figure size 1200x700 with 1 Axes>"
      ]
     },
     "metadata": {},
     "output_type": "display_data"
    }
   ],
   "source": [
    "plt.figure(figsize=(12, 7)) # i know i 'm taking huge figure but i like that\n",
    "\n",
    "colors = ['#FF5733', '#33FF57'] # red-oraney and green are my colors\n",
    "myexplode = [0, 0.1]    # define explode parameter to create a gap between slices by 10% \n",
    "mylabels = ['ham', 'spam']  # ham and spam are categories \n",
    "\n",
    "\n",
    "plt.pie(\n",
    "    values, \n",
    "    startangle=90,  # set angle \n",
    "    autopct='%0.2f%%',  # add percentage value \n",
    "    labels=mylabels, # labeling pie with ham and spam \n",
    "    explode=myexplode, # explode ham with 10%\n",
    "    colors=colors,  # add your colors \n",
    "    shadow=True, # add shadow \n",
    "    textprops={'fontsize': 14, 'fontweight': 'bold'}    # add fontsize and weight\n",
    "    )\n",
    "\n",
    "plt.axis('equal')   #set axis equal so that pie looks circle \n",
    "plt.title(\"Email Classification\", fontweight=\"bold\", fontsize=16)\n",
    "plt.show() "
   ]
  },
  {
   "cell_type": "code",
   "execution_count": null,
   "id": "0686074b",
   "metadata": {},
   "outputs": [],
   "source": []
  }
 ],
 "metadata": {
  "kernelspec": {
   "display_name": "py312",
   "language": "python",
   "name": "python3"
  },
  "language_info": {
   "codemirror_mode": {
    "name": "ipython",
    "version": 3
   },
   "file_extension": ".py",
   "mimetype": "text/x-python",
   "name": "python",
   "nbconvert_exporter": "python",
   "pygments_lexer": "ipython3",
   "version": "3.11.13"
  }
 },
 "nbformat": 4,
 "nbformat_minor": 5
}
