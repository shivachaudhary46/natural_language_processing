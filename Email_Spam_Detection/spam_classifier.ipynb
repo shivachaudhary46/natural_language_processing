{
 "cells": [
  {
   "cell_type": "markdown",
   "id": "1af316ca",
   "metadata": {},
   "source": [
    "# Email Spam Detection\n",
    "<!--\n",
    "*** I'm using markdown \"reference style\" links for readability.\n",
    "*** Reference links are enclosed in brackets [ ] instead of parentheses ( ).\n",
    "*** See the bottom of this document for the declaration of the reference variables\n",
    "*** This documentation will be finished when this projects finishes. \n",
    "-->\n",
    "1. #### Importing libraries\n",
    "        this are necessary libraries\n",
    "            - pandas\n",
    "            - numpy \n",
    "            - scikit-learn.preprocessing (LabelEncoder)"
   ]
  },
  {
   "cell_type": "code",
   "execution_count": 1,
   "id": "afef6766",
   "metadata": {},
   "outputs": [
    {
     "name": "stderr",
     "output_type": "stream",
     "text": [
      "[nltk_data] Downloading package stopwords to\n",
      "[nltk_data]     C:\\Users\\Asus\\AppData\\Roaming\\nltk_data...\n",
      "[nltk_data]   Package stopwords is already up-to-date!\n",
      "[nltk_data] Downloading package punkt_tab to\n",
      "[nltk_data]     C:\\Users\\Asus\\AppData\\Roaming\\nltk_data...\n",
      "[nltk_data]   Package punkt_tab is already up-to-date!\n"
     ]
    },
    {
     "data": {
      "text/plain": [
       "True"
      ]
     },
     "execution_count": 1,
     "metadata": {},
     "output_type": "execute_result"
    }
   ],
   "source": [
    "import pandas as pd \n",
    "import numpy as np \n",
    "from sklearn.preprocessing import LabelEncoder\n",
    "import matplotlib.pylab as plt\n",
    "import nltk \n",
    "import seaborn as sns \n",
    "nltk.download('stopwords')\n",
    "nltk.download('punkt_tab')"
   ]
  },
  {
   "cell_type": "markdown",
   "id": "5fdb00d9",
   "metadata": {},
   "source": [
    "2. #### Collection of Data\n",
    "        I use public datasets: \n",
    "            - Email-Spam-Classification-dataset-csv\n",
    "            - Enron Email Dataset\n",
    "            - deceptive-opinion-spam-corpus\n",
    "            - spam-or-not-spam-dataset\n",
    "            - spam-email\n",
    "            - sms-spam-collection-dataset\n",
    "            - email-spam-dataset\n",
    "            - email-spam-classification-dataset-csv\n",
    "        format: Each row is in text (message/email) and label (spam/ham)."
   ]
  },
  {
   "cell_type": "code",
   "execution_count": 2,
   "id": "37f8ed68",
   "metadata": {},
   "outputs": [
    {
     "data": {
      "text/html": [
       "<div>\n",
       "<style scoped>\n",
       "    .dataframe tbody tr th:only-of-type {\n",
       "        vertical-align: middle;\n",
       "    }\n",
       "\n",
       "    .dataframe tbody tr th {\n",
       "        vertical-align: top;\n",
       "    }\n",
       "\n",
       "    .dataframe thead th {\n",
       "        text-align: right;\n",
       "    }\n",
       "</style>\n",
       "<table border=\"1\" class=\"dataframe\">\n",
       "  <thead>\n",
       "    <tr style=\"text-align: right;\">\n",
       "      <th></th>\n",
       "      <th>message</th>\n",
       "      <th>label</th>\n",
       "    </tr>\n",
       "  </thead>\n",
       "  <tbody>\n",
       "    <tr>\n",
       "      <th>0</th>\n",
       "      <td>\\nSave up to 70% on Life Insurance.\\nWhy Spend...</td>\n",
       "      <td>1</td>\n",
       "    </tr>\n",
       "    <tr>\n",
       "      <th>1</th>\n",
       "      <td>1) Fight The Risk of Cancer!\\nhttp://www.adcli...</td>\n",
       "      <td>1</td>\n",
       "    </tr>\n",
       "    <tr>\n",
       "      <th>2</th>\n",
       "      <td>1) Fight The Risk of Cancer!\\nhttp://www.adcli...</td>\n",
       "      <td>1</td>\n",
       "    </tr>\n",
       "    <tr>\n",
       "      <th>3</th>\n",
       "      <td>##############################################...</td>\n",
       "      <td>1</td>\n",
       "    </tr>\n",
       "    <tr>\n",
       "      <th>4</th>\n",
       "      <td>I thought you might like these:\\n1) Slim Down ...</td>\n",
       "      <td>1</td>\n",
       "    </tr>\n",
       "  </tbody>\n",
       "</table>\n",
       "</div>"
      ],
      "text/plain": [
       "                                             message  label\n",
       "0  \\nSave up to 70% on Life Insurance.\\nWhy Spend...      1\n",
       "1  1) Fight The Risk of Cancer!\\nhttp://www.adcli...      1\n",
       "2  1) Fight The Risk of Cancer!\\nhttp://www.adcli...      1\n",
       "3  ##############################################...      1\n",
       "4  I thought you might like these:\\n1) Slim Down ...      1"
      ]
     },
     "execution_count": 2,
     "metadata": {},
     "output_type": "execute_result"
    }
   ],
   "source": [
    "complete_spam = pd.read_csv(\"dataset/completeSpamAssassin.csv\", index_col=0)\n",
    "null_rows = complete_spam[complete_spam.isnull().any(axis=1)]\n",
    "complete_spam = complete_spam.dropna()\n",
    "complete_spam.rename(columns={\"Body\": \"message\", \"Label\":'label'}, inplace=True)\n",
    "complete_spam.head()"
   ]
  },
  {
   "cell_type": "code",
   "execution_count": 3,
   "id": "af73d41c",
   "metadata": {},
   "outputs": [
    {
     "data": {
      "text/html": [
       "<div>\n",
       "<style scoped>\n",
       "    .dataframe tbody tr th:only-of-type {\n",
       "        vertical-align: middle;\n",
       "    }\n",
       "\n",
       "    .dataframe tbody tr th {\n",
       "        vertical-align: top;\n",
       "    }\n",
       "\n",
       "    .dataframe thead th {\n",
       "        text-align: right;\n",
       "    }\n",
       "</style>\n",
       "<table border=\"1\" class=\"dataframe\">\n",
       "  <thead>\n",
       "    <tr style=\"text-align: right;\">\n",
       "      <th></th>\n",
       "      <th>message</th>\n",
       "      <th>label</th>\n",
       "    </tr>\n",
       "  </thead>\n",
       "  <tbody>\n",
       "    <tr>\n",
       "      <th>2469</th>\n",
       "      <td>Subject: stock promo mover : cwtd\\n * * * urge...</td>\n",
       "      <td>1</td>\n",
       "    </tr>\n",
       "    <tr>\n",
       "      <th>5063</th>\n",
       "      <td>Subject: are you listed in major search engine...</td>\n",
       "      <td>1</td>\n",
       "    </tr>\n",
       "    <tr>\n",
       "      <th>12564</th>\n",
       "      <td>Subject: important information thu , 30 jun 20...</td>\n",
       "      <td>1</td>\n",
       "    </tr>\n",
       "    <tr>\n",
       "      <th>2796</th>\n",
       "      <td>Subject: = ? utf - 8 ? q ? bask your life with...</td>\n",
       "      <td>1</td>\n",
       "    </tr>\n",
       "    <tr>\n",
       "      <th>1468</th>\n",
       "      <td>Subject: \" bidstogo \" is places to go , things...</td>\n",
       "      <td>1</td>\n",
       "    </tr>\n",
       "  </tbody>\n",
       "</table>\n",
       "</div>"
      ],
      "text/plain": [
       "                                                 message  label\n",
       "2469   Subject: stock promo mover : cwtd\\n * * * urge...      1\n",
       "5063   Subject: are you listed in major search engine...      1\n",
       "12564  Subject: important information thu , 30 jun 20...      1\n",
       "2796   Subject: = ? utf - 8 ? q ? bask your life with...      1\n",
       "1468   Subject: \" bidstogo \" is places to go , things...      1"
      ]
     },
     "execution_count": 3,
     "metadata": {},
     "output_type": "execute_result"
    }
   ],
   "source": [
    "enron = pd.read_csv(\"dataset\\enronSpamSubset.csv\", index_col=0)\n",
    "enron = enron.drop(columns=[\"Unnamed: 0\"])\n",
    "enron.rename(columns={\"Body\": \"message\", \"Label\":'label'}, inplace=True)\n",
    "enron.head()"
   ]
  },
  {
   "cell_type": "code",
   "execution_count": 4,
   "id": "a8094900",
   "metadata": {},
   "outputs": [
    {
     "data": {
      "text/html": [
       "<div>\n",
       "<style scoped>\n",
       "    .dataframe tbody tr th:only-of-type {\n",
       "        vertical-align: middle;\n",
       "    }\n",
       "\n",
       "    .dataframe tbody tr th {\n",
       "        vertical-align: top;\n",
       "    }\n",
       "\n",
       "    .dataframe thead th {\n",
       "        text-align: right;\n",
       "    }\n",
       "</style>\n",
       "<table border=\"1\" class=\"dataframe\">\n",
       "  <thead>\n",
       "    <tr style=\"text-align: right;\">\n",
       "      <th></th>\n",
       "      <th>message</th>\n",
       "      <th>label</th>\n",
       "    </tr>\n",
       "  </thead>\n",
       "  <tbody>\n",
       "    <tr>\n",
       "      <th>0</th>\n",
       "      <td>Subject: great part-time or summer job !\\n \\n ...</td>\n",
       "      <td>1</td>\n",
       "    </tr>\n",
       "    <tr>\n",
       "      <th>1</th>\n",
       "      <td>Subject: auto insurance rates too high ?\\n \\n ...</td>\n",
       "      <td>1</td>\n",
       "    </tr>\n",
       "    <tr>\n",
       "      <th>2</th>\n",
       "      <td>Subject: do want the best and economical hunti...</td>\n",
       "      <td>1</td>\n",
       "    </tr>\n",
       "    <tr>\n",
       "      <th>3</th>\n",
       "      <td>Subject: email 57 million people for $ 99\\n \\n...</td>\n",
       "      <td>1</td>\n",
       "    </tr>\n",
       "    <tr>\n",
       "      <th>4</th>\n",
       "      <td>Subject: do n't miss these !\\n \\n attention ! ...</td>\n",
       "      <td>1</td>\n",
       "    </tr>\n",
       "  </tbody>\n",
       "</table>\n",
       "</div>"
      ],
      "text/plain": [
       "                                             message  label\n",
       "0  Subject: great part-time or summer job !\\n \\n ...      1\n",
       "1  Subject: auto insurance rates too high ?\\n \\n ...      1\n",
       "2  Subject: do want the best and economical hunti...      1\n",
       "3  Subject: email 57 million people for $ 99\\n \\n...      1\n",
       "4  Subject: do n't miss these !\\n \\n attention ! ...      1"
      ]
     },
     "execution_count": 4,
     "metadata": {},
     "output_type": "execute_result"
    }
   ],
   "source": [
    "ling_spam = pd.read_csv(\"dataset\\lingSpam.csv\", index_col=0)\n",
    "ling_spam.rename(columns={\"Body\": \"message\", \"Label\":'label'}, inplace=True)\n",
    "ling_spam.head()"
   ]
  },
  {
   "cell_type": "code",
   "execution_count": 5,
   "id": "15b8cd7d",
   "metadata": {},
   "outputs": [
    {
     "data": {
      "text/html": [
       "<div>\n",
       "<style scoped>\n",
       "    .dataframe tbody tr th:only-of-type {\n",
       "        vertical-align: middle;\n",
       "    }\n",
       "\n",
       "    .dataframe tbody tr th {\n",
       "        vertical-align: top;\n",
       "    }\n",
       "\n",
       "    .dataframe thead th {\n",
       "        text-align: right;\n",
       "    }\n",
       "</style>\n",
       "<table border=\"1\" class=\"dataframe\">\n",
       "  <thead>\n",
       "    <tr style=\"text-align: right;\">\n",
       "      <th></th>\n",
       "      <th>message</th>\n",
       "      <th>label</th>\n",
       "    </tr>\n",
       "  </thead>\n",
       "  <tbody>\n",
       "    <tr>\n",
       "      <th>0</th>\n",
       "      <td>We stayed for a one night getaway with family ...</td>\n",
       "      <td>True</td>\n",
       "    </tr>\n",
       "    <tr>\n",
       "      <th>1</th>\n",
       "      <td>Triple A rate with upgrade to view room was le...</td>\n",
       "      <td>True</td>\n",
       "    </tr>\n",
       "    <tr>\n",
       "      <th>2</th>\n",
       "      <td>This comes a little late as I'm finally catchi...</td>\n",
       "      <td>True</td>\n",
       "    </tr>\n",
       "    <tr>\n",
       "      <th>3</th>\n",
       "      <td>The Omni Chicago really delivers on all fronts...</td>\n",
       "      <td>True</td>\n",
       "    </tr>\n",
       "    <tr>\n",
       "      <th>4</th>\n",
       "      <td>I asked for a high floor away from the elevato...</td>\n",
       "      <td>True</td>\n",
       "    </tr>\n",
       "  </tbody>\n",
       "</table>\n",
       "</div>"
      ],
      "text/plain": [
       "                                             message  label\n",
       "0  We stayed for a one night getaway with family ...   True\n",
       "1  Triple A rate with upgrade to view room was le...   True\n",
       "2  This comes a little late as I'm finally catchi...   True\n",
       "3  The Omni Chicago really delivers on all fronts...   True\n",
       "4  I asked for a high floor away from the elevato...   True"
      ]
     },
     "execution_count": 5,
     "metadata": {},
     "output_type": "execute_result"
    }
   ],
   "source": [
    "deceptive = pd.read_csv(\"dataset\\deceptive-opinion.csv\")\n",
    "deceptive = deceptive.iloc[:, [2, 4]]\n",
    "label = pd.get_dummies(deceptive['polarity'], drop_first=True)\n",
    "deceptive.drop(columns=['polarity'], inplace=True)\n",
    "new_deceptive = pd.concat([deceptive, label], axis=1)\n",
    "new_deceptive.rename(columns={\"text\": \"message\", \"positive\":'label'}, inplace=True)\n",
    "new_deceptive.head()"
   ]
  },
  {
   "cell_type": "code",
   "execution_count": 6,
   "id": "764a77a3",
   "metadata": {},
   "outputs": [
    {
     "data": {
      "text/html": [
       "<div>\n",
       "<style scoped>\n",
       "    .dataframe tbody tr th:only-of-type {\n",
       "        vertical-align: middle;\n",
       "    }\n",
       "\n",
       "    .dataframe tbody tr th {\n",
       "        vertical-align: top;\n",
       "    }\n",
       "\n",
       "    .dataframe thead th {\n",
       "        text-align: right;\n",
       "    }\n",
       "</style>\n",
       "<table border=\"1\" class=\"dataframe\">\n",
       "  <thead>\n",
       "    <tr style=\"text-align: right;\">\n",
       "      <th></th>\n",
       "      <th>message</th>\n",
       "      <th>label</th>\n",
       "    </tr>\n",
       "  </thead>\n",
       "  <tbody>\n",
       "    <tr>\n",
       "      <th>0</th>\n",
       "      <td>date wed NUMBER aug NUMBER NUMBER NUMBER NUMB...</td>\n",
       "      <td>0</td>\n",
       "    </tr>\n",
       "    <tr>\n",
       "      <th>1</th>\n",
       "      <td>martin a posted tassos papadopoulos the greek ...</td>\n",
       "      <td>0</td>\n",
       "    </tr>\n",
       "    <tr>\n",
       "      <th>2</th>\n",
       "      <td>man threatens explosion in moscow thursday aug...</td>\n",
       "      <td>0</td>\n",
       "    </tr>\n",
       "    <tr>\n",
       "      <th>3</th>\n",
       "      <td>klez the virus that won t die already the most...</td>\n",
       "      <td>0</td>\n",
       "    </tr>\n",
       "    <tr>\n",
       "      <th>4</th>\n",
       "      <td>in adding cream to spaghetti carbonara which ...</td>\n",
       "      <td>0</td>\n",
       "    </tr>\n",
       "  </tbody>\n",
       "</table>\n",
       "</div>"
      ],
      "text/plain": [
       "                                             message  label\n",
       "0   date wed NUMBER aug NUMBER NUMBER NUMBER NUMB...      0\n",
       "1  martin a posted tassos papadopoulos the greek ...      0\n",
       "2  man threatens explosion in moscow thursday aug...      0\n",
       "3  klez the virus that won t die already the most...      0\n",
       "4   in adding cream to spaghetti carbonara which ...      0"
      ]
     },
     "execution_count": 6,
     "metadata": {},
     "output_type": "execute_result"
    }
   ],
   "source": [
    "spam = pd.read_csv(\"dataset\\spam_or_not_spam.csv\")\n",
    "spam.rename(columns={'email': 'message'}, inplace=True)\n",
    "spam.head()"
   ]
  },
  {
   "cell_type": "markdown",
   "id": "13f29e59",
   "metadata": {},
   "source": [
    "##### Shape of Dataset "
   ]
  },
  {
   "cell_type": "code",
   "execution_count": 7,
   "id": "6f2f8b47",
   "metadata": {},
   "outputs": [
    {
     "name": "stdout",
     "output_type": "stream",
     "text": [
      "dataset 1 : (6045, 2)\n",
      "dataset 2 : (3000, 2)\n",
      "dataset 3 : (1600, 2)\n",
      "dataset 4 : (2605, 2)\n",
      "dataset 5 : (10000, 2)\n",
      "total expected shape : (23250, 2)\n"
     ]
    }
   ],
   "source": [
    "print(f\"dataset 1 : {complete_spam.shape}\")\n",
    "print(f\"dataset 2 : {spam.shape}\")\n",
    "print(f\"dataset 3 : {new_deceptive.shape}\")\n",
    "print(f\"dataset 4 : {ling_spam.shape}\")\n",
    "print(f\"dataset 5 : {enron.shape}\")\n",
    "print(f\"total expected shape : ({complete_spam.shape[0] + spam.shape[0] + new_deceptive.shape[0] + ling_spam.shape[0] + enron.shape[0]}, 2)\")"
   ]
  },
  {
   "cell_type": "code",
   "execution_count": 8,
   "id": "385efc13",
   "metadata": {},
   "outputs": [
    {
     "name": "stdout",
     "output_type": "stream",
     "text": [
      "(23250, 2)\n"
     ]
    }
   ],
   "source": [
    "dfs = [complete_spam, spam, new_deceptive, ling_spam, enron]\n",
    "spam_dataset = pd.concat(dfs, axis=0, ignore_index=True)\n",
    "spam_dataset.tail()\n",
    "print(spam_dataset.shape)"
   ]
  },
  {
   "cell_type": "markdown",
   "id": "bcbffa0f",
   "metadata": {},
   "source": [
    "##### Checking Missing Values"
   ]
  },
  {
   "cell_type": "code",
   "execution_count": 9,
   "id": "8444d94e",
   "metadata": {},
   "outputs": [
    {
     "data": {
      "text/plain": [
       "message    1\n",
       "label      0\n",
       "dtype: int64"
      ]
     },
     "execution_count": 9,
     "metadata": {},
     "output_type": "execute_result"
    }
   ],
   "source": [
    "spam_dataset.isnull().sum()"
   ]
  },
  {
   "cell_type": "markdown",
   "id": "82b3d15d",
   "metadata": {},
   "source": [
    "##### Checking Duplicate Values"
   ]
  },
  {
   "cell_type": "code",
   "execution_count": 10,
   "id": "5d7228a3",
   "metadata": {},
   "outputs": [
    {
     "data": {
      "text/plain": [
       "np.int64(1210)"
      ]
     },
     "execution_count": 10,
     "metadata": {},
     "output_type": "execute_result"
    }
   ],
   "source": [
    "spam_dataset.duplicated().sum()"
   ]
  },
  {
   "cell_type": "markdown",
   "id": "377bee0a",
   "metadata": {},
   "source": [
    "##### Remove Duplicate Values"
   ]
  },
  {
   "cell_type": "code",
   "execution_count": 11,
   "id": "b090ac52",
   "metadata": {},
   "outputs": [
    {
     "data": {
      "text/html": [
       "<div>\n",
       "<style scoped>\n",
       "    .dataframe tbody tr th:only-of-type {\n",
       "        vertical-align: middle;\n",
       "    }\n",
       "\n",
       "    .dataframe tbody tr th {\n",
       "        vertical-align: top;\n",
       "    }\n",
       "\n",
       "    .dataframe thead th {\n",
       "        text-align: right;\n",
       "    }\n",
       "</style>\n",
       "<table border=\"1\" class=\"dataframe\">\n",
       "  <thead>\n",
       "    <tr style=\"text-align: right;\">\n",
       "      <th></th>\n",
       "      <th>message</th>\n",
       "      <th>label</th>\n",
       "    </tr>\n",
       "  </thead>\n",
       "  <tbody>\n",
       "    <tr>\n",
       "      <th>0</th>\n",
       "      <td>\\nSave up to 70% on Life Insurance.\\nWhy Spend...</td>\n",
       "      <td>1</td>\n",
       "    </tr>\n",
       "    <tr>\n",
       "      <th>1</th>\n",
       "      <td>1) Fight The Risk of Cancer!\\nhttp://www.adcli...</td>\n",
       "      <td>1</td>\n",
       "    </tr>\n",
       "    <tr>\n",
       "      <th>2</th>\n",
       "      <td>1) Fight The Risk of Cancer!\\nhttp://www.adcli...</td>\n",
       "      <td>1</td>\n",
       "    </tr>\n",
       "    <tr>\n",
       "      <th>3</th>\n",
       "      <td>##############################################...</td>\n",
       "      <td>1</td>\n",
       "    </tr>\n",
       "    <tr>\n",
       "      <th>4</th>\n",
       "      <td>I thought you might like these:\\n1) Slim Down ...</td>\n",
       "      <td>1</td>\n",
       "    </tr>\n",
       "  </tbody>\n",
       "</table>\n",
       "</div>"
      ],
      "text/plain": [
       "                                             message  label\n",
       "0  \\nSave up to 70% on Life Insurance.\\nWhy Spend...      1\n",
       "1  1) Fight The Risk of Cancer!\\nhttp://www.adcli...      1\n",
       "2  1) Fight The Risk of Cancer!\\nhttp://www.adcli...      1\n",
       "3  ##############################################...      1\n",
       "4  I thought you might like these:\\n1) Slim Down ...      1"
      ]
     },
     "execution_count": 11,
     "metadata": {},
     "output_type": "execute_result"
    }
   ],
   "source": [
    "spam_dataset = spam_dataset.dropna()\n",
    "spam_dataset = spam_dataset.drop_duplicates(keep='first')\n",
    "spam_dataset.head()"
   ]
  },
  {
   "cell_type": "markdown",
   "id": "301cb94e",
   "metadata": {},
   "source": [
    "##### Final Shape of Dataset"
   ]
  },
  {
   "cell_type": "code",
   "execution_count": 12,
   "id": "b23dca42",
   "metadata": {},
   "outputs": [
    {
     "name": "stdout",
     "output_type": "stream",
     "text": [
      "After removing duplicate values. The final shape of dataset : (22039, 2)\n"
     ]
    }
   ],
   "source": [
    "print(f\"After removing duplicate values. The final shape of dataset : {spam_dataset.shape}\")"
   ]
  },
  {
   "cell_type": "markdown",
   "id": "33ced6fb",
   "metadata": {},
   "source": [
    "3. #### EDA aka Exploratory Data Analysis \n",
    "        The goal is to investigating data, understanding patterns, checking (anomalies, outliers), summarize key structure before applying any types of machine learning or statistical models. \n"
   ]
  },
  {
   "cell_type": "code",
   "execution_count": 13,
   "id": "a97479e6",
   "metadata": {},
   "outputs": [
    {
     "name": "stdout",
     "output_type": "stream",
     "text": [
      "Percentage of target (ham) : 64.6626434956214\n",
      "Percentage of target (spam) : 35.337356504378604\n"
     ]
    }
   ],
   "source": [
    "values = spam_dataset['label'].value_counts()\n",
    "total = values[0] + values[1]\n",
    "\n",
    "percentage_0 = (values[0] / total) * 100\n",
    "percentage_1 = (values[1] / total) * 100\n",
    "\n",
    "print(f\"Percentage of target (ham) : {percentage_0}\")\n",
    "print(f\"Percentage of target (spam) : {percentage_1}\")"
   ]
  },
  {
   "cell_type": "markdown",
   "id": "355a9d96",
   "metadata": {},
   "source": [
    "#### Pie Chart (Email Classification)"
   ]
  },
  {
   "cell_type": "code",
   "execution_count": 14,
   "id": "cba53fbe",
   "metadata": {},
   "outputs": [
    {
     "data": {
      "image/png": "[encoded data removed]",
      "text/plain": [
       "<Figure size 1200x700 with 1 Axes>"
      ]
     },
     "metadata": {},
     "output_type": "display_data"
    }
   ],
   "source": [
    "plt.figure(figsize=(12, 7)) # i know i 'm taking huge figure but i like that\n",
    "\n",
    "colors = ['#FF5733', '#33FF57'] # red-oraney and green are my colors\n",
    "myexplode = [0, 0.1]    # define explode parameter to create a gap between slices by 10% \n",
    "mylabels = ['ham', 'spam']  # ham and spam are categories \n",
    "\n",
    "\n",
    "plt.pie(\n",
    "    values, \n",
    "    startangle=90,  # set angle \n",
    "    autopct='%0.2f%%',  # add percentage value \n",
    "    labels=mylabels, # labeling pie with ham and spam \n",
    "    explode=myexplode, # explode ham with 10%\n",
    "    colors=colors,  # add your colors \n",
    "    shadow=True, # add shadow \n",
    "    textprops={'fontsize': 14, 'fontweight': 'bold'}    # add fontsize and weight\n",
    "    )\n",
    "\n",
    "plt.axis('equal')   #set axis equal so that pie looks circle \n",
    "plt.title(\"Email Classification\", fontweight=\"bold\", fontsize=16)\n",
    "plt.show() "
   ]
  },
  {
   "cell_type": "markdown",
   "id": "e0871829",
   "metadata": {},
   "source": [
    "#### Summary for Text, Chars, Sentences Length "
   ]
  },
  {
   "cell_type": "code",
   "execution_count": 15,
   "id": "1c7e62f7",
   "metadata": {},
   "outputs": [],
   "source": [
    "import re\n",
    "def count_characters(text):\n",
    "    words = re.findall(r'[a-zA-Z]', text)\n",
    "    icount = 0 \n",
    "    for w in words:\n",
    "        if w.isdigit():\n",
    "            continue\n",
    "        icount = icount + 1\n",
    "    return icount"
   ]
  },
  {
   "cell_type": "code",
   "execution_count": 16,
   "id": "0686074b",
   "metadata": {},
   "outputs": [
    {
     "data": {
      "text/html": [
       "<div>\n",
       "<style scoped>\n",
       "    .dataframe tbody tr th:only-of-type {\n",
       "        vertical-align: middle;\n",
       "    }\n",
       "\n",
       "    .dataframe tbody tr th {\n",
       "        vertical-align: top;\n",
       "    }\n",
       "\n",
       "    .dataframe thead th {\n",
       "        text-align: right;\n",
       "    }\n",
       "</style>\n",
       "<table border=\"1\" class=\"dataframe\">\n",
       "  <thead>\n",
       "    <tr style=\"text-align: right;\">\n",
       "      <th></th>\n",
       "      <th>num_characters</th>\n",
       "      <th>num_words</th>\n",
       "      <th>num_sentences</th>\n",
       "    </tr>\n",
       "  </thead>\n",
       "  <tbody>\n",
       "    <tr>\n",
       "      <th>count</th>\n",
       "      <td>2.203900e+04</td>\n",
       "      <td>2.203900e+04</td>\n",
       "      <td>22039.000000</td>\n",
       "    </tr>\n",
       "    <tr>\n",
       "      <th>mean</th>\n",
       "      <td>1.823136e+03</td>\n",
       "      <td>5.119527e+02</td>\n",
       "      <td>27.475430</td>\n",
       "    </tr>\n",
       "    <tr>\n",
       "      <th>std</th>\n",
       "      <td>8.046392e+04</td>\n",
       "      <td>2.441711e+04</td>\n",
       "      <td>1504.483484</td>\n",
       "    </tr>\n",
       "    <tr>\n",
       "      <th>min</th>\n",
       "      <td>0.000000e+00</td>\n",
       "      <td>0.000000e+00</td>\n",
       "      <td>0.000000</td>\n",
       "    </tr>\n",
       "    <tr>\n",
       "      <th>25%</th>\n",
       "      <td>3.170000e+02</td>\n",
       "      <td>8.800000e+01</td>\n",
       "      <td>3.000000</td>\n",
       "    </tr>\n",
       "    <tr>\n",
       "      <th>50%</th>\n",
       "      <td>6.200000e+02</td>\n",
       "      <td>1.740000e+02</td>\n",
       "      <td>8.000000</td>\n",
       "    </tr>\n",
       "    <tr>\n",
       "      <th>75%</th>\n",
       "      <td>1.244000e+03</td>\n",
       "      <td>3.480000e+02</td>\n",
       "      <td>16.000000</td>\n",
       "    </tr>\n",
       "    <tr>\n",
       "      <th>max</th>\n",
       "      <td>1.193657e+07</td>\n",
       "      <td>3.623500e+06</td>\n",
       "      <td>223247.000000</td>\n",
       "    </tr>\n",
       "  </tbody>\n",
       "</table>\n",
       "</div>"
      ],
      "text/plain": [
       "       num_characters     num_words  num_sentences\n",
       "count    2.203900e+04  2.203900e+04   22039.000000\n",
       "mean     1.823136e+03  5.119527e+02      27.475430\n",
       "std      8.046392e+04  2.441711e+04    1504.483484\n",
       "min      0.000000e+00  0.000000e+00       0.000000\n",
       "25%      3.170000e+02  8.800000e+01       3.000000\n",
       "50%      6.200000e+02  1.740000e+02       8.000000\n",
       "75%      1.244000e+03  3.480000e+02      16.000000\n",
       "max      1.193657e+07  3.623500e+06  223247.000000"
      ]
     },
     "execution_count": 16,
     "metadata": {},
     "output_type": "execute_result"
    }
   ],
   "source": [
    "spam_dataset['num_characters'] = spam_dataset['message'].apply(count_characters)\n",
    "spam_dataset['num_words'] = spam_dataset['message'].apply(lambda x: len(nltk.word_tokenize(x)))\n",
    "spam_dataset['num_sentences'] = spam_dataset['message'].apply(lambda x: len(nltk.sent_tokenize(x)))\n",
    "\n",
    "spam_dataset[['num_characters', 'num_words', 'num_sentences']].describe()"
   ]
  },
  {
   "cell_type": "markdown",
   "id": "8d1376e1",
   "metadata": {},
   "source": [
    "##### Summary Statistics for the legitimate message (emails)"
   ]
  },
  {
   "cell_type": "code",
   "execution_count": 17,
   "id": "2104eb1c",
   "metadata": {},
   "outputs": [
    {
     "data": {
      "text/html": [
       "<div>\n",
       "<style scoped>\n",
       "    .dataframe tbody tr th:only-of-type {\n",
       "        vertical-align: middle;\n",
       "    }\n",
       "\n",
       "    .dataframe tbody tr th {\n",
       "        vertical-align: top;\n",
       "    }\n",
       "\n",
       "    .dataframe thead th {\n",
       "        text-align: right;\n",
       "    }\n",
       "</style>\n",
       "<table border=\"1\" class=\"dataframe\">\n",
       "  <thead>\n",
       "    <tr style=\"text-align: right;\">\n",
       "      <th></th>\n",
       "      <th>num_characters</th>\n",
       "      <th>num_sentences</th>\n",
       "      <th>num_words</th>\n",
       "    </tr>\n",
       "  </thead>\n",
       "  <tbody>\n",
       "    <tr>\n",
       "      <th>count</th>\n",
       "      <td>1.425100e+04</td>\n",
       "      <td>14251.000000</td>\n",
       "      <td>1.425100e+04</td>\n",
       "    </tr>\n",
       "    <tr>\n",
       "      <th>mean</th>\n",
       "      <td>2.164088e+03</td>\n",
       "      <td>32.329872</td>\n",
       "      <td>6.163865e+02</td>\n",
       "    </tr>\n",
       "    <tr>\n",
       "      <th>std</th>\n",
       "      <td>1.000321e+05</td>\n",
       "      <td>1870.577373</td>\n",
       "      <td>3.036105e+04</td>\n",
       "    </tr>\n",
       "    <tr>\n",
       "      <th>min</th>\n",
       "      <td>3.000000e+00</td>\n",
       "      <td>1.000000</td>\n",
       "      <td>1.000000e+00</td>\n",
       "    </tr>\n",
       "    <tr>\n",
       "      <th>25%</th>\n",
       "      <td>3.310000e+02</td>\n",
       "      <td>3.000000</td>\n",
       "      <td>9.200000e+01</td>\n",
       "    </tr>\n",
       "    <tr>\n",
       "      <th>50%</th>\n",
       "      <td>6.770000e+02</td>\n",
       "      <td>7.000000</td>\n",
       "      <td>1.890000e+02</td>\n",
       "    </tr>\n",
       "    <tr>\n",
       "      <th>75%</th>\n",
       "      <td>1.312000e+03</td>\n",
       "      <td>15.000000</td>\n",
       "      <td>3.700000e+02</td>\n",
       "    </tr>\n",
       "    <tr>\n",
       "      <th>max</th>\n",
       "      <td>1.193657e+07</td>\n",
       "      <td>223247.000000</td>\n",
       "      <td>3.623500e+06</td>\n",
       "    </tr>\n",
       "  </tbody>\n",
       "</table>\n",
       "</div>"
      ],
      "text/plain": [
       "       num_characters  num_sentences     num_words\n",
       "count    1.425100e+04   14251.000000  1.425100e+04\n",
       "mean     2.164088e+03      32.329872  6.163865e+02\n",
       "std      1.000321e+05    1870.577373  3.036105e+04\n",
       "min      3.000000e+00       1.000000  1.000000e+00\n",
       "25%      3.310000e+02       3.000000  9.200000e+01\n",
       "50%      6.770000e+02       7.000000  1.890000e+02\n",
       "75%      1.312000e+03      15.000000  3.700000e+02\n",
       "max      1.193657e+07  223247.000000  3.623500e+06"
      ]
     },
     "execution_count": 17,
     "metadata": {},
     "output_type": "execute_result"
    }
   ],
   "source": [
    "spam_dataset[spam_dataset['label'] == 0 ][['num_characters', 'num_sentences', 'num_words']].describe()"
   ]
  },
  {
   "cell_type": "markdown",
   "id": "14de8c6b",
   "metadata": {},
   "source": [
    "##### Summary Statistics for the spam messages (email)"
   ]
  },
  {
   "cell_type": "code",
   "execution_count": 18,
   "id": "a19d243c",
   "metadata": {},
   "outputs": [
    {
     "data": {
      "text/html": [
       "<div>\n",
       "<style scoped>\n",
       "    .dataframe tbody tr th:only-of-type {\n",
       "        vertical-align: middle;\n",
       "    }\n",
       "\n",
       "    .dataframe tbody tr th {\n",
       "        vertical-align: top;\n",
       "    }\n",
       "\n",
       "    .dataframe thead th {\n",
       "        text-align: right;\n",
       "    }\n",
       "</style>\n",
       "<table border=\"1\" class=\"dataframe\">\n",
       "  <thead>\n",
       "    <tr style=\"text-align: right;\">\n",
       "      <th></th>\n",
       "      <th>num_characters</th>\n",
       "      <th>num_sentences</th>\n",
       "      <th>num_words</th>\n",
       "    </tr>\n",
       "  </thead>\n",
       "  <tbody>\n",
       "    <tr>\n",
       "      <th>count</th>\n",
       "      <td>7788.000000</td>\n",
       "      <td>7788.000000</td>\n",
       "      <td>7788.000000</td>\n",
       "    </tr>\n",
       "    <tr>\n",
       "      <th>mean</th>\n",
       "      <td>1199.238701</td>\n",
       "      <td>18.592450</td>\n",
       "      <td>320.852851</td>\n",
       "    </tr>\n",
       "    <tr>\n",
       "      <th>std</th>\n",
       "      <td>3354.267335</td>\n",
       "      <td>50.441562</td>\n",
       "      <td>615.707086</td>\n",
       "    </tr>\n",
       "    <tr>\n",
       "      <th>min</th>\n",
       "      <td>0.000000</td>\n",
       "      <td>0.000000</td>\n",
       "      <td>0.000000</td>\n",
       "    </tr>\n",
       "    <tr>\n",
       "      <th>25%</th>\n",
       "      <td>298.000000</td>\n",
       "      <td>5.000000</td>\n",
       "      <td>84.000000</td>\n",
       "    </tr>\n",
       "    <tr>\n",
       "      <th>50%</th>\n",
       "      <td>533.000000</td>\n",
       "      <td>9.000000</td>\n",
       "      <td>150.000000</td>\n",
       "    </tr>\n",
       "    <tr>\n",
       "      <th>75%</th>\n",
       "      <td>1084.000000</td>\n",
       "      <td>18.000000</td>\n",
       "      <td>300.000000</td>\n",
       "    </tr>\n",
       "    <tr>\n",
       "      <th>max</th>\n",
       "      <td>195468.000000</td>\n",
       "      <td>3093.000000</td>\n",
       "      <td>13292.000000</td>\n",
       "    </tr>\n",
       "  </tbody>\n",
       "</table>\n",
       "</div>"
      ],
      "text/plain": [
       "       num_characters  num_sentences     num_words\n",
       "count     7788.000000    7788.000000   7788.000000\n",
       "mean      1199.238701      18.592450    320.852851\n",
       "std       3354.267335      50.441562    615.707086\n",
       "min          0.000000       0.000000      0.000000\n",
       "25%        298.000000       5.000000     84.000000\n",
       "50%        533.000000       9.000000    150.000000\n",
       "75%       1084.000000      18.000000    300.000000\n",
       "max     195468.000000    3093.000000  13292.000000"
      ]
     },
     "execution_count": 18,
     "metadata": {},
     "output_type": "execute_result"
    }
   ],
   "source": [
    "spam_dataset[spam_dataset['label'] == 1][['num_characters', 'num_sentences', 'num_words']].describe()"
   ]
  },
  {
   "cell_type": "code",
   "execution_count": 19,
   "id": "3a1e597e",
   "metadata": {},
   "outputs": [
    {
     "data": {
      "text/html": [
       "<div>\n",
       "<style scoped>\n",
       "    .dataframe tbody tr th:only-of-type {\n",
       "        vertical-align: middle;\n",
       "    }\n",
       "\n",
       "    .dataframe tbody tr th {\n",
       "        vertical-align: top;\n",
       "    }\n",
       "\n",
       "    .dataframe thead th {\n",
       "        text-align: right;\n",
       "    }\n",
       "</style>\n",
       "<table border=\"1\" class=\"dataframe\">\n",
       "  <thead>\n",
       "    <tr style=\"text-align: right;\">\n",
       "      <th></th>\n",
       "      <th>label</th>\n",
       "      <th>num_characters</th>\n",
       "      <th>num_sentences</th>\n",
       "      <th>num_words</th>\n",
       "    </tr>\n",
       "  </thead>\n",
       "  <tbody>\n",
       "    <tr>\n",
       "      <th>label</th>\n",
       "      <td>1.000000</td>\n",
       "      <td>-0.005732</td>\n",
       "      <td>-0.004365</td>\n",
       "      <td>-0.005786</td>\n",
       "    </tr>\n",
       "    <tr>\n",
       "      <th>num_characters</th>\n",
       "      <td>-0.005732</td>\n",
       "      <td>1.000000</td>\n",
       "      <td>0.999390</td>\n",
       "      <td>0.999802</td>\n",
       "    </tr>\n",
       "    <tr>\n",
       "      <th>num_sentences</th>\n",
       "      <td>-0.004365</td>\n",
       "      <td>0.999390</td>\n",
       "      <td>1.000000</td>\n",
       "      <td>0.999733</td>\n",
       "    </tr>\n",
       "    <tr>\n",
       "      <th>num_words</th>\n",
       "      <td>-0.005786</td>\n",
       "      <td>0.999802</td>\n",
       "      <td>0.999733</td>\n",
       "      <td>1.000000</td>\n",
       "    </tr>\n",
       "  </tbody>\n",
       "</table>\n",
       "</div>"
      ],
      "text/plain": [
       "                   label  num_characters  num_sentences  num_words\n",
       "label           1.000000       -0.005732      -0.004365  -0.005786\n",
       "num_characters -0.005732        1.000000       0.999390   0.999802\n",
       "num_sentences  -0.004365        0.999390       1.000000   0.999733\n",
       "num_words      -0.005786        0.999802       0.999733   1.000000"
      ]
     },
     "execution_count": 19,
     "metadata": {},
     "output_type": "execute_result"
    }
   ],
   "source": [
    "spam_dataset[['label', 'num_characters', 'num_sentences', 'num_words']].corr()"
   ]
  },
  {
   "cell_type": "code",
   "execution_count": 20,
   "id": "0951a7cd",
   "metadata": {},
   "outputs": [
    {
     "data": {
      "image/png": "[encoded data removed]",
      "text/plain": [
       "<Figure size 640x480 with 2 Axes>"
      ]
     },
     "metadata": {},
     "output_type": "display_data"
    }
   ],
   "source": [
    "corr_matrix = spam_dataset[['label', 'num_characters', 'num_words', 'num_sentences']].corr()\n",
    "\n",
    "sns.set(font_scale=1.2)\n",
    "sns.heatmap(corr_matrix, annot=True, fmt='0.2f', linewidths=0.5, cmap='coolwarm')\n",
    "\n",
    "plt.title('Correlation Matrix Heatmap', fontsize=14, fontweight='bold')\n",
    "\n",
    "plt.xticks(rotation=45)\n",
    "plt.show()"
   ]
  },
  {
   "cell_type": "code",
   "execution_count": 24,
   "id": "1a3a406e",
   "metadata": {},
   "outputs": [
    {
     "data": {
      "text/plain": [
       "0        \\nSave up to 70% on Life Insurance.\\nWhy Spend...\n",
       "1        1) Fight The Risk of Cancer!\\nhttp://www.adcli...\n",
       "2        1) Fight The Risk of Cancer!\\nhttp://www.adcli...\n",
       "3        ##############################################...\n",
       "4        I thought you might like these:\\n1) Slim Down ...\n",
       "                               ...                        \n",
       "23245    Subject: monday 22 nd oct\\n louise ,\\n do you ...\n",
       "23246    Subject: missing bloomberg deals\\n stephanie -...\n",
       "23247    Subject: eops salary survey questionnaire\\n we...\n",
       "23248    Subject: q 3 comparison\\n hi louise ,\\n i have...\n",
       "23249    Subject: confidential folder to safely pass in...\n",
       "Name: message, Length: 22039, dtype: object"
      ]
     },
     "execution_count": 24,
     "metadata": {},
     "output_type": "execute_result"
    }
   ],
   "source": [
    "spam_dataset['message']"
   ]
  },
  {
   "cell_type": "markdown",
   "id": "9c9517fc",
   "metadata": {},
   "source": [
    "#### Data Preprocessing "
   ]
  },
  {
   "cell_type": "code",
   "execution_count": 30,
   "id": "6c354c1f",
   "metadata": {},
   "outputs": [
    {
     "name": "stderr",
     "output_type": "stream",
     "text": [
      "[nltk_data] Downloading package stopwords to\n",
      "[nltk_data]     C:\\Users\\Asus\\AppData\\Roaming\\nltk_data...\n",
      "[nltk_data]   Package stopwords is already up-to-date!\n",
      "[nltk_data] Downloading package punkt_tab to\n",
      "[nltk_data]     C:\\Users\\Asus\\AppData\\Roaming\\nltk_data...\n",
      "[nltk_data]   Package punkt_tab is already up-to-date!\n"
     ]
    },
    {
     "data": {
      "text/plain": [
       "True"
      ]
     },
     "execution_count": 30,
     "metadata": {},
     "output_type": "execute_result"
    }
   ],
   "source": [
    "import nltk \n",
    "from nltk.tokenize import word_tokenize\n",
    "from nltk.corpus import stopwords\n",
    "from nltk.stem.porter import PorterStemmer\n",
    "import string\n",
    "\n",
    "nltk.download('stopwords')\n",
    "nltk.download('punkt_tab')"
   ]
  },
  {
   "cell_type": "markdown",
   "id": "fbcb5fd9",
   "metadata": {},
   "source": [
    "# Before data preprocessing the emal message let\"s learn how email message are spammed. "
   ]
  },
  {
   "cell_type": "code",
   "execution_count": null,
   "id": "4a8b3441",
   "metadata": {},
   "outputs": [
    {
     "name": "stdout",
     "output_type": "stream",
     "text": [
      "['thing', 'love', 'mom', 'awesome', '.', '.....']\n",
      "['thing', 'love', 'mom', 'awesome', '.....']\n"
     ]
    }
   ],
   "source": [
    "def text_preprocessing(text):\n",
    "\n",
    "    # create instance of porter stemmer \n",
    "    porter_stem = PorterStemmer()\n",
    "\n",
    "    # getting of set of the stopword found in the english\n",
    "    stop_words = set(stopwords.words('english'))\n",
    "\n",
    "    # converting word to text\n",
    "    text = text.lower()\n",
    "\n",
    "    # tokenizing the words \n",
    "    words = word_tokenize(text)\n",
    "\n",
    "    # removing the stop words \n",
    "    y = []\n",
    "    for word in words:\n",
    "        if word not in stop_words:\n",
    "            y.append(word)\n",
    "\n",
    "    # removing the punctuation from the list\n",
    "    remove_punct = []\n",
    "    for i in y[:]:\n",
    "        if i not in string.punctuation:\n",
    "            remove_punct.append(i)\n",
    "    \n",
    "    # lemmatizing the word to the base form\n",
    "    lemmatized_words = []\n",
    "    for word in remove_punct[:]:\n",
    "        \n",
    "\n",
    "    \n",
    "\n",
    "text = \"the thing is the i love my mom because she is awesome. .....\"\n",
    "text_preprocessing(text)"
   ]
  },
  {
   "cell_type": "code",
   "execution_count": null,
   "id": "67a919fa",
   "metadata": {},
   "outputs": [],
   "source": []
  }
 ],
 "metadata": {
  "kernelspec": {
   "display_name": "py312",
   "language": "python",
   "name": "python3"
  },
  "language_info": {
   "codemirror_mode": {
    "name": "ipython",
    "version": 3
   },
   "file_extension": ".py",
   "mimetype": "text/x-python",
   "name": "python",
   "nbconvert_exporter": "python",
   "pygments_lexer": "ipython3",
   "version": "3.11.13"
  }
 },
 "nbformat": 4,
 "nbformat_minor": 5
}
