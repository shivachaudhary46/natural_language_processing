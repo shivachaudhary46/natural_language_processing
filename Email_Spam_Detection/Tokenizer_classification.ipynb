{
  "cells": [
    {
      "cell_type": "markdown",
      "id": "1af316ca",
      "metadata": {
        "id": "1af316ca"
      },
      "source": [
        "# Email Spam Detection\n",
        "<!--\n",
        "*** I'm using markdown \"reference style\" links for readability.\n",
        "*** Reference links are enclosed in brackets [ ] instead of parentheses ( ).\n",
        "*** See the bottom of this document for the declaration of the reference variables\n",
        "*** This documentation will be finished when this projects finishes.\n",
        "-->\n",
        "1. #### Importing libraries\n",
        "        this are necessary libraries\n",
        "            - pandas\n",
        "            - numpy\n",
        "            - scikit-learn.preprocessing (LabelEncoder)"
      ]
    },
    {
      "cell_type": "code",
      "execution_count": 2,
      "id": "afef6766",
      "metadata": {
        "colab": {
          "base_uri": "https://localhost:8080/"
        },
        "id": "afef6766",
        "outputId": "7a05273d-4f84-4f2e-abf0-d7e389d810bd"
      },
      "outputs": [
        {
          "name": "stderr",
          "output_type": "stream",
          "text": [
            "[nltk_data] Downloading package omw-1.4 to\n",
            "[nltk_data]     C:\\Users\\Asus\\AppData\\Roaming\\nltk_data...\n",
            "[nltk_data]   Package omw-1.4 is already up-to-date!\n",
            "[nltk_data] Downloading package averaged_perceptron_tagger_eng to\n",
            "[nltk_data]     C:\\Users\\Asus\\AppData\\Roaming\\nltk_data...\n",
            "[nltk_data]   Package averaged_perceptron_tagger_eng is already up-to-\n",
            "[nltk_data]       date!\n",
            "[nltk_data] Downloading package wordnet to\n",
            "[nltk_data]     C:\\Users\\Asus\\AppData\\Roaming\\nltk_data...\n",
            "[nltk_data]   Package wordnet is already up-to-date!\n",
            "[nltk_data] Downloading package stopwords to\n",
            "[nltk_data]     C:\\Users\\Asus\\AppData\\Roaming\\nltk_data...\n",
            "[nltk_data]   Package stopwords is already up-to-date!\n",
            "[nltk_data] Downloading package punkt_tab to\n",
            "[nltk_data]     C:\\Users\\Asus\\AppData\\Roaming\\nltk_data...\n",
            "[nltk_data]   Package punkt_tab is already up-to-date!\n"
          ]
        },
        {
          "data": {
            "text/plain": [
              "True"
            ]
          },
          "execution_count": 2,
          "metadata": {},
          "output_type": "execute_result"
        }
      ],
      "source": [
        "import gensim\n",
        "import pandas as pd\n",
        "import numpy as np\n",
        "from sklearn.preprocessing import LabelEncoder\n",
        "import matplotlib.pylab as plt\n",
        "import nltk\n",
        "import seaborn as sns\n",
        "\n",
        "from nltk.tokenize import word_tokenize, sent_tokenize\n",
        "from nltk.corpus import stopwords\n",
        "from nltk.stem.porter import PorterStemmer\n",
        "from nltk.stem import WordNetLemmatizer\n",
        "import string\n",
        "from nltk import pos_tag\n",
        "\n",
        "from sklearn.feature_extraction.text import TfidfVectorizer\n",
        "from tensorflow.keras.preprocessing.text import Tokenizer\n",
        "from sklearn.model_selection import train_test_split\n",
        "from tensorflow.keras.preprocessing.sequence import pad_sequences\n",
        "from sklearn.linear_model import LogisticRegression\n",
        "from gensim.models.doc2vec import Doc2Vec, TaggedDocument\n",
        "\n",
        "import re\n",
        "import string\n",
        "from nltk.corpus import stopwords\n",
        "from nltk.stem import WordNetLemmatizer\n",
        "from nltk import pos_tag, word_tokenize\n",
        "from nltk.corpus import wordnet\n",
        "\n",
        "from tensorflow.keras.models import Model\n",
        "from tensorflow.keras.layers import LSTM, Activation, Dense, Dropout, Input, Embedding\n",
        "from tensorflow.keras.optimizers import RMSprop, Adam\n",
        "from tensorflow.keras.preprocessing.text import Tokenizer\n",
        "from tensorflow.keras.preprocessing import sequence\n",
        "from tensorflow.keras.utils import to_categorical\n",
        "from tensorflow.keras.callbacks import EarlyStopping\n",
        "\n",
        "nltk.download('omw-1.4')\n",
        "nltk.download('averaged_perceptron_tagger_eng')\n",
        "nltk.download('wordnet')\n",
        "nltk.download('stopwords')\n",
        "nltk.download('punkt_tab')"
      ]
    },
    {
      "cell_type": "markdown",
      "id": "5fdb00d9",
      "metadata": {
        "id": "5fdb00d9"
      },
      "source": [
        "2. #### Collection of Data\n",
        "        I use public datasets:\n",
        "            - Email-Spam-Classification-dataset-csv\n",
        "            - Enron Email Dataset\n",
        "            - deceptive-opinion-spam-corpus\n",
        "            - spam-or-not-spam-dataset\n",
        "            - spam-email\n",
        "            - sms-spam-collection-dataset\n",
        "            - email-spam-dataset\n",
        "            - email-spam-classification-dataset-csv\n",
        "        format: Each row is in text (message/email) and label (spam/ham)."
      ]
    },
    {
      "cell_type": "code",
      "execution_count": 3,
      "id": "37f8ed68",
      "metadata": {
        "colab": {
          "base_uri": "https://localhost:8080/",
          "height": 206
        },
        "id": "37f8ed68",
        "outputId": "1dc1bdc8-fdc7-4ea7-871d-c69f5bf423d2"
      },
      "outputs": [
        {
          "data": {
            "text/html": [
              "<div>\n",
              "<style scoped>\n",
              "    .dataframe tbody tr th:only-of-type {\n",
              "        vertical-align: middle;\n",
              "    }\n",
              "\n",
              "    .dataframe tbody tr th {\n",
              "        vertical-align: top;\n",
              "    }\n",
              "\n",
              "    .dataframe thead th {\n",
              "        text-align: right;\n",
              "    }\n",
              "</style>\n",
              "<table border=\"1\" class=\"dataframe\">\n",
              "  <thead>\n",
              "    <tr style=\"text-align: right;\">\n",
              "      <th></th>\n",
              "      <th>message</th>\n",
              "      <th>label</th>\n",
              "    </tr>\n",
              "  </thead>\n",
              "  <tbody>\n",
              "    <tr>\n",
              "      <th>0</th>\n",
              "      <td>\\nSave up to 70% on Life Insurance.\\nWhy Spend...</td>\n",
              "      <td>1</td>\n",
              "    </tr>\n",
              "    <tr>\n",
              "      <th>1</th>\n",
              "      <td>1) Fight The Risk of Cancer!\\nhttp://www.adcli...</td>\n",
              "      <td>1</td>\n",
              "    </tr>\n",
              "    <tr>\n",
              "      <th>2</th>\n",
              "      <td>1) Fight The Risk of Cancer!\\nhttp://www.adcli...</td>\n",
              "      <td>1</td>\n",
              "    </tr>\n",
              "    <tr>\n",
              "      <th>3</th>\n",
              "      <td>##############################################...</td>\n",
              "      <td>1</td>\n",
              "    </tr>\n",
              "    <tr>\n",
              "      <th>4</th>\n",
              "      <td>I thought you might like these:\\n1) Slim Down ...</td>\n",
              "      <td>1</td>\n",
              "    </tr>\n",
              "  </tbody>\n",
              "</table>\n",
              "</div>"
            ],
            "text/plain": [
              "                                             message  label\n",
              "0  \\nSave up to 70% on Life Insurance.\\nWhy Spend...      1\n",
              "1  1) Fight The Risk of Cancer!\\nhttp://www.adcli...      1\n",
              "2  1) Fight The Risk of Cancer!\\nhttp://www.adcli...      1\n",
              "3  ##############################################...      1\n",
              "4  I thought you might like these:\\n1) Slim Down ...      1"
            ]
          },
          "execution_count": 3,
          "metadata": {},
          "output_type": "execute_result"
        }
      ],
      "source": [
        "complete_spam = pd.read_csv(\"dataset/completeSpamAssassin.csv\", index_col=0)\n",
        "null_rows = complete_spam[complete_spam.isnull().any(axis=1)]\n",
        "complete_spam = complete_spam.dropna()\n",
        "complete_spam.rename(columns={\"Body\": \"message\", \"Label\":'label'}, inplace=True)\n",
        "complete_spam.head()"
      ]
    },
    {
      "cell_type": "code",
      "execution_count": 4,
      "id": "af73d41c",
      "metadata": {
        "colab": {
          "base_uri": "https://localhost:8080/",
          "height": 206
        },
        "id": "af73d41c",
        "outputId": "d2a6564e-5ea3-452a-a8e4-c06b7741479d"
      },
      "outputs": [
        {
          "data": {
            "text/html": [
              "<div>\n",
              "<style scoped>\n",
              "    .dataframe tbody tr th:only-of-type {\n",
              "        vertical-align: middle;\n",
              "    }\n",
              "\n",
              "    .dataframe tbody tr th {\n",
              "        vertical-align: top;\n",
              "    }\n",
              "\n",
              "    .dataframe thead th {\n",
              "        text-align: right;\n",
              "    }\n",
              "</style>\n",
              "<table border=\"1\" class=\"dataframe\">\n",
              "  <thead>\n",
              "    <tr style=\"text-align: right;\">\n",
              "      <th></th>\n",
              "      <th>message</th>\n",
              "      <th>label</th>\n",
              "    </tr>\n",
              "  </thead>\n",
              "  <tbody>\n",
              "    <tr>\n",
              "      <th>2469</th>\n",
              "      <td>Subject: stock promo mover : cwtd\\n * * * urge...</td>\n",
              "      <td>1</td>\n",
              "    </tr>\n",
              "    <tr>\n",
              "      <th>5063</th>\n",
              "      <td>Subject: are you listed in major search engine...</td>\n",
              "      <td>1</td>\n",
              "    </tr>\n",
              "    <tr>\n",
              "      <th>12564</th>\n",
              "      <td>Subject: important information thu , 30 jun 20...</td>\n",
              "      <td>1</td>\n",
              "    </tr>\n",
              "    <tr>\n",
              "      <th>2796</th>\n",
              "      <td>Subject: = ? utf - 8 ? q ? bask your life with...</td>\n",
              "      <td>1</td>\n",
              "    </tr>\n",
              "    <tr>\n",
              "      <th>1468</th>\n",
              "      <td>Subject: \" bidstogo \" is places to go , things...</td>\n",
              "      <td>1</td>\n",
              "    </tr>\n",
              "  </tbody>\n",
              "</table>\n",
              "</div>"
            ],
            "text/plain": [
              "                                                 message  label\n",
              "2469   Subject: stock promo mover : cwtd\\n * * * urge...      1\n",
              "5063   Subject: are you listed in major search engine...      1\n",
              "12564  Subject: important information thu , 30 jun 20...      1\n",
              "2796   Subject: = ? utf - 8 ? q ? bask your life with...      1\n",
              "1468   Subject: \" bidstogo \" is places to go , things...      1"
            ]
          },
          "execution_count": 4,
          "metadata": {},
          "output_type": "execute_result"
        }
      ],
      "source": [
        "enron = pd.read_csv(\"dataset/enronSpamSubset.csv\", index_col=0)\n",
        "enron = enron.drop(columns=[\"Unnamed: 0\"])\n",
        "enron.rename(columns={\"Body\": \"message\", \"Label\":'label'}, inplace=True)\n",
        "enron.head()"
      ]
    },
    {
      "cell_type": "code",
      "execution_count": 5,
      "id": "a8094900",
      "metadata": {
        "colab": {
          "base_uri": "https://localhost:8080/",
          "height": 206
        },
        "id": "a8094900",
        "outputId": "d7a2f3ae-4bb2-49c5-cbc2-fceb4d567374"
      },
      "outputs": [
        {
          "data": {
            "text/html": [
              "<div>\n",
              "<style scoped>\n",
              "    .dataframe tbody tr th:only-of-type {\n",
              "        vertical-align: middle;\n",
              "    }\n",
              "\n",
              "    .dataframe tbody tr th {\n",
              "        vertical-align: top;\n",
              "    }\n",
              "\n",
              "    .dataframe thead th {\n",
              "        text-align: right;\n",
              "    }\n",
              "</style>\n",
              "<table border=\"1\" class=\"dataframe\">\n",
              "  <thead>\n",
              "    <tr style=\"text-align: right;\">\n",
              "      <th></th>\n",
              "      <th>message</th>\n",
              "      <th>label</th>\n",
              "    </tr>\n",
              "  </thead>\n",
              "  <tbody>\n",
              "    <tr>\n",
              "      <th>0</th>\n",
              "      <td>Subject: great part-time or summer job !\\n \\n ...</td>\n",
              "      <td>1</td>\n",
              "    </tr>\n",
              "    <tr>\n",
              "      <th>1</th>\n",
              "      <td>Subject: auto insurance rates too high ?\\n \\n ...</td>\n",
              "      <td>1</td>\n",
              "    </tr>\n",
              "    <tr>\n",
              "      <th>2</th>\n",
              "      <td>Subject: do want the best and economical hunti...</td>\n",
              "      <td>1</td>\n",
              "    </tr>\n",
              "    <tr>\n",
              "      <th>3</th>\n",
              "      <td>Subject: email 57 million people for $ 99\\n \\n...</td>\n",
              "      <td>1</td>\n",
              "    </tr>\n",
              "    <tr>\n",
              "      <th>4</th>\n",
              "      <td>Subject: do n't miss these !\\n \\n attention ! ...</td>\n",
              "      <td>1</td>\n",
              "    </tr>\n",
              "  </tbody>\n",
              "</table>\n",
              "</div>"
            ],
            "text/plain": [
              "                                             message  label\n",
              "0  Subject: great part-time or summer job !\\n \\n ...      1\n",
              "1  Subject: auto insurance rates too high ?\\n \\n ...      1\n",
              "2  Subject: do want the best and economical hunti...      1\n",
              "3  Subject: email 57 million people for $ 99\\n \\n...      1\n",
              "4  Subject: do n't miss these !\\n \\n attention ! ...      1"
            ]
          },
          "execution_count": 5,
          "metadata": {},
          "output_type": "execute_result"
        }
      ],
      "source": [
        "ling_spam = pd.read_csv(\"dataset/lingSpam.csv\", index_col=0)\n",
        "ling_spam.rename(columns={\"Body\": \"message\", \"Label\":'label'}, inplace=True)\n",
        "ling_spam.head()"
      ]
    },
    {
      "cell_type": "code",
      "execution_count": 6,
      "id": "15b8cd7d",
      "metadata": {
        "colab": {
          "base_uri": "https://localhost:8080/",
          "height": 206
        },
        "id": "15b8cd7d",
        "outputId": "ec287978-805b-42d6-e240-1bd8e94bb6e4"
      },
      "outputs": [
        {
          "data": {
            "text/html": [
              "<div>\n",
              "<style scoped>\n",
              "    .dataframe tbody tr th:only-of-type {\n",
              "        vertical-align: middle;\n",
              "    }\n",
              "\n",
              "    .dataframe tbody tr th {\n",
              "        vertical-align: top;\n",
              "    }\n",
              "\n",
              "    .dataframe thead th {\n",
              "        text-align: right;\n",
              "    }\n",
              "</style>\n",
              "<table border=\"1\" class=\"dataframe\">\n",
              "  <thead>\n",
              "    <tr style=\"text-align: right;\">\n",
              "      <th></th>\n",
              "      <th>message</th>\n",
              "      <th>label</th>\n",
              "    </tr>\n",
              "  </thead>\n",
              "  <tbody>\n",
              "    <tr>\n",
              "      <th>0</th>\n",
              "      <td>We stayed for a one night getaway with family ...</td>\n",
              "      <td>True</td>\n",
              "    </tr>\n",
              "    <tr>\n",
              "      <th>1</th>\n",
              "      <td>Triple A rate with upgrade to view room was le...</td>\n",
              "      <td>True</td>\n",
              "    </tr>\n",
              "    <tr>\n",
              "      <th>2</th>\n",
              "      <td>This comes a little late as I'm finally catchi...</td>\n",
              "      <td>True</td>\n",
              "    </tr>\n",
              "    <tr>\n",
              "      <th>3</th>\n",
              "      <td>The Omni Chicago really delivers on all fronts...</td>\n",
              "      <td>True</td>\n",
              "    </tr>\n",
              "    <tr>\n",
              "      <th>4</th>\n",
              "      <td>I asked for a high floor away from the elevato...</td>\n",
              "      <td>True</td>\n",
              "    </tr>\n",
              "  </tbody>\n",
              "</table>\n",
              "</div>"
            ],
            "text/plain": [
              "                                             message  label\n",
              "0  We stayed for a one night getaway with family ...   True\n",
              "1  Triple A rate with upgrade to view room was le...   True\n",
              "2  This comes a little late as I'm finally catchi...   True\n",
              "3  The Omni Chicago really delivers on all fronts...   True\n",
              "4  I asked for a high floor away from the elevato...   True"
            ]
          },
          "execution_count": 6,
          "metadata": {},
          "output_type": "execute_result"
        }
      ],
      "source": [
        "deceptive = pd.read_csv(\"dataset/deceptive-opinion.csv\")\n",
        "deceptive = deceptive.iloc[:, [2, 4]]\n",
        "label = pd.get_dummies(deceptive['polarity'], drop_first=True)\n",
        "deceptive.drop(columns=['polarity'], inplace=True)\n",
        "new_deceptive = pd.concat([deceptive, label], axis=1)\n",
        "new_deceptive.rename(columns={\"text\": \"message\", \"positive\":'label'}, inplace=True)\n",
        "new_deceptive.head()"
      ]
    },
    {
      "cell_type": "code",
      "execution_count": 7,
      "id": "764a77a3",
      "metadata": {
        "colab": {
          "base_uri": "https://localhost:8080/",
          "height": 206
        },
        "id": "764a77a3",
        "outputId": "795c0dbf-82c9-472f-bfbd-9d55648d86ba"
      },
      "outputs": [
        {
          "data": {
            "text/html": [
              "<div>\n",
              "<style scoped>\n",
              "    .dataframe tbody tr th:only-of-type {\n",
              "        vertical-align: middle;\n",
              "    }\n",
              "\n",
              "    .dataframe tbody tr th {\n",
              "        vertical-align: top;\n",
              "    }\n",
              "\n",
              "    .dataframe thead th {\n",
              "        text-align: right;\n",
              "    }\n",
              "</style>\n",
              "<table border=\"1\" class=\"dataframe\">\n",
              "  <thead>\n",
              "    <tr style=\"text-align: right;\">\n",
              "      <th></th>\n",
              "      <th>message</th>\n",
              "      <th>label</th>\n",
              "    </tr>\n",
              "  </thead>\n",
              "  <tbody>\n",
              "    <tr>\n",
              "      <th>0</th>\n",
              "      <td>date wed NUMBER aug NUMBER NUMBER NUMBER NUMB...</td>\n",
              "      <td>0</td>\n",
              "    </tr>\n",
              "    <tr>\n",
              "      <th>1</th>\n",
              "      <td>martin a posted tassos papadopoulos the greek ...</td>\n",
              "      <td>0</td>\n",
              "    </tr>\n",
              "    <tr>\n",
              "      <th>2</th>\n",
              "      <td>man threatens explosion in moscow thursday aug...</td>\n",
              "      <td>0</td>\n",
              "    </tr>\n",
              "    <tr>\n",
              "      <th>3</th>\n",
              "      <td>klez the virus that won t die already the most...</td>\n",
              "      <td>0</td>\n",
              "    </tr>\n",
              "    <tr>\n",
              "      <th>4</th>\n",
              "      <td>in adding cream to spaghetti carbonara which ...</td>\n",
              "      <td>0</td>\n",
              "    </tr>\n",
              "  </tbody>\n",
              "</table>\n",
              "</div>"
            ],
            "text/plain": [
              "                                             message  label\n",
              "0   date wed NUMBER aug NUMBER NUMBER NUMBER NUMB...      0\n",
              "1  martin a posted tassos papadopoulos the greek ...      0\n",
              "2  man threatens explosion in moscow thursday aug...      0\n",
              "3  klez the virus that won t die already the most...      0\n",
              "4   in adding cream to spaghetti carbonara which ...      0"
            ]
          },
          "execution_count": 7,
          "metadata": {},
          "output_type": "execute_result"
        }
      ],
      "source": [
        "spam = pd.read_csv(\"dataset/spam_or_not_spam.csv\")\n",
        "spam.rename(columns={'email': 'message'}, inplace=True)\n",
        "spam.head()"
      ]
    },
    {
      "cell_type": "markdown",
      "id": "13f29e59",
      "metadata": {
        "id": "13f29e59"
      },
      "source": [
        "##### Shape of Dataset"
      ]
    },
    {
      "cell_type": "code",
      "execution_count": 8,
      "id": "6f2f8b47",
      "metadata": {
        "colab": {
          "base_uri": "https://localhost:8080/"
        },
        "id": "6f2f8b47",
        "outputId": "f8aaf452-9437-46cc-fce0-49462d36fa91"
      },
      "outputs": [
        {
          "name": "stdout",
          "output_type": "stream",
          "text": [
            "dataset 1 : (6045, 2)\n",
            "dataset 2 : (3000, 2)\n",
            "dataset 3 : (1600, 2)\n",
            "dataset 4 : (2605, 2)\n",
            "dataset 5 : (10000, 2)\n",
            "total expected shape : (23250, 2)\n"
          ]
        }
      ],
      "source": [
        "print(f\"dataset 1 : {complete_spam.shape}\")\n",
        "print(f\"dataset 2 : {spam.shape}\")\n",
        "print(f\"dataset 3 : {new_deceptive.shape}\")\n",
        "print(f\"dataset 4 : {ling_spam.shape}\")\n",
        "print(f\"dataset 5 : {enron.shape}\")\n",
        "print(f\"total expected shape : ({complete_spam.shape[0] + spam.shape[0] + new_deceptive.shape[0] + ling_spam.shape[0] + enron.shape[0]}, 2)\")"
      ]
    },
    {
      "cell_type": "code",
      "execution_count": 9,
      "id": "385efc13",
      "metadata": {
        "colab": {
          "base_uri": "https://localhost:8080/"
        },
        "id": "385efc13",
        "outputId": "86fe03db-0087-4391-d0e6-0137d4e42440"
      },
      "outputs": [
        {
          "name": "stdout",
          "output_type": "stream",
          "text": [
            "(23250, 2)\n"
          ]
        }
      ],
      "source": [
        "dfs = [complete_spam, spam, new_deceptive, ling_spam, enron]\n",
        "spam_dataset = pd.concat(dfs, axis=0, ignore_index=True)\n",
        "spam_dataset.tail()\n",
        "print(spam_dataset.shape)"
      ]
    },
    {
      "cell_type": "markdown",
      "id": "bcbffa0f",
      "metadata": {
        "id": "bcbffa0f"
      },
      "source": [
        "##### Checking Missing Values"
      ]
    },
    {
      "cell_type": "code",
      "execution_count": 10,
      "id": "8444d94e",
      "metadata": {
        "colab": {
          "base_uri": "https://localhost:8080/",
          "height": 147
        },
        "id": "8444d94e",
        "outputId": "b8f4f037-6a90-46f1-9cd3-62ce63ab0dfd"
      },
      "outputs": [
        {
          "data": {
            "text/plain": [
              "message    1\n",
              "label      0\n",
              "dtype: int64"
            ]
          },
          "execution_count": 10,
          "metadata": {},
          "output_type": "execute_result"
        }
      ],
      "source": [
        "spam_dataset.isnull().sum()"
      ]
    },
    {
      "cell_type": "markdown",
      "id": "82b3d15d",
      "metadata": {
        "id": "82b3d15d"
      },
      "source": [
        "##### Checking Duplicate Values"
      ]
    },
    {
      "cell_type": "code",
      "execution_count": 11,
      "id": "5d7228a3",
      "metadata": {
        "colab": {
          "base_uri": "https://localhost:8080/"
        },
        "id": "5d7228a3",
        "outputId": "a7e012d1-5c24-440e-feb3-c8065060fc5c"
      },
      "outputs": [
        {
          "data": {
            "text/plain": [
              "1210"
            ]
          },
          "execution_count": 11,
          "metadata": {},
          "output_type": "execute_result"
        }
      ],
      "source": [
        "spam_dataset.duplicated().sum()"
      ]
    },
    {
      "cell_type": "markdown",
      "id": "377bee0a",
      "metadata": {
        "id": "377bee0a"
      },
      "source": [
        "##### Remove Duplicate Values"
      ]
    },
    {
      "cell_type": "code",
      "execution_count": 18,
      "id": "b090ac52",
      "metadata": {
        "colab": {
          "base_uri": "https://localhost:8080/",
          "height": 206
        },
        "id": "b090ac52",
        "outputId": "1ac52085-ab12-4fe5-fcd7-dd9708919ba2"
      },
      "outputs": [
        {
          "data": {
            "text/html": [
              "<div>\n",
              "<style scoped>\n",
              "    .dataframe tbody tr th:only-of-type {\n",
              "        vertical-align: middle;\n",
              "    }\n",
              "\n",
              "    .dataframe tbody tr th {\n",
              "        vertical-align: top;\n",
              "    }\n",
              "\n",
              "    .dataframe thead th {\n",
              "        text-align: right;\n",
              "    }\n",
              "</style>\n",
              "<table border=\"1\" class=\"dataframe\">\n",
              "  <thead>\n",
              "    <tr style=\"text-align: right;\">\n",
              "      <th></th>\n",
              "      <th>message</th>\n",
              "      <th>label</th>\n",
              "    </tr>\n",
              "  </thead>\n",
              "  <tbody>\n",
              "    <tr>\n",
              "      <th>0</th>\n",
              "      <td>Subject: fw : computers\\n happy holidays !\\n b...</td>\n",
              "      <td>0</td>\n",
              "    </tr>\n",
              "    <tr>\n",
              "      <th>1</th>\n",
              "      <td>Subject: requested\\n \\n increase your personal...</td>\n",
              "      <td>1</td>\n",
              "    </tr>\n",
              "    <tr>\n",
              "      <th>2</th>\n",
              "      <td>Subject: budget review ii\\n hi louise ,\\n are ...</td>\n",
              "      <td>0</td>\n",
              "    </tr>\n",
              "    <tr>\n",
              "      <th>3</th>\n",
              "      <td>URL: http://www.newsisfree.com/click/-1,839012...</td>\n",
              "      <td>0</td>\n",
              "    </tr>\n",
              "    <tr>\n",
              "      <th>4</th>\n",
              "      <td>I stayed at the Fairmont during a professional...</td>\n",
              "      <td>1</td>\n",
              "    </tr>\n",
              "  </tbody>\n",
              "</table>\n",
              "</div>"
            ],
            "text/plain": [
              "                                             message  label\n",
              "0  Subject: fw : computers\\n happy holidays !\\n b...      0\n",
              "1  Subject: requested\\n \\n increase your personal...      1\n",
              "2  Subject: budget review ii\\n hi louise ,\\n are ...      0\n",
              "3  URL: http://www.newsisfree.com/click/-1,839012...      0\n",
              "4  I stayed at the Fairmont during a professional...      1"
            ]
          },
          "execution_count": 18,
          "metadata": {},
          "output_type": "execute_result"
        }
      ],
      "source": [
        "spam_dataset = spam_dataset.dropna()\n",
        "spam_dataset = spam_dataset.drop_duplicates(keep='first')\n",
        "spam_dataset = spam_dataset.sample(frac=1, random_state=42).reset_index(drop=True)\n",
        "spam_dataset.head()"
      ]
    },
    {
      "cell_type": "markdown",
      "id": "301cb94e",
      "metadata": {
        "id": "301cb94e"
      },
      "source": [
        "##### Final Shape of Dataset"
      ]
    },
    {
      "cell_type": "code",
      "execution_count": 19,
      "id": "b23dca42",
      "metadata": {
        "colab": {
          "base_uri": "https://localhost:8080/"
        },
        "id": "b23dca42",
        "outputId": "d864f3e1-86ab-4547-f813-8d46b905de0a"
      },
      "outputs": [
        {
          "name": "stdout",
          "output_type": "stream",
          "text": [
            "After removing duplicate values. The final shape of dataset : (22039, 2)\n"
          ]
        }
      ],
      "source": [
        "print(f\"After removing duplicate values. The final shape of dataset : {spam_dataset.shape}\")"
      ]
    },
    {
      "cell_type": "markdown",
      "id": "33ced6fb",
      "metadata": {
        "id": "33ced6fb"
      },
      "source": [
        "3. #### EDA aka Exploratory Data Analysis\n",
        "        The goal is to investigating data, understanding patterns, checking (anomalies, outliers), summarize key structure before applying any types of machine learning or statistical models.\n"
      ]
    },
    {
      "cell_type": "code",
      "execution_count": 21,
      "id": "a97479e6",
      "metadata": {
        "colab": {
          "base_uri": "https://localhost:8080/"
        },
        "id": "a97479e6",
        "outputId": "2c48b8ef-3486-49a5-8cbe-03a6f1c7259c"
      },
      "outputs": [
        {
          "name": "stdout",
          "output_type": "stream",
          "text": [
            "Percentage of target (ham) : 64.6626434956214\n",
            "Percentage of target (spam) : 35.337356504378604\n"
          ]
        }
      ],
      "source": [
        "values = spam_dataset['label'].value_counts()\n",
        "total = values[0] + values[1]\n",
        "\n",
        "percentage_0 = (values[0] / total) * 100\n",
        "percentage_1 = (values[1] / total) * 100\n",
        "\n",
        "print(f\"Percentage of target (ham) : {percentage_0}\")\n",
        "print(f\"Percentage of target (spam) : {percentage_1}\")"
      ]
    },
    {
      "cell_type": "markdown",
      "id": "355a9d96",
      "metadata": {
        "id": "355a9d96"
      },
      "source": [
        "#### Pie Chart (Email Classification)"
      ]
    },
    {
      "cell_type": "code",
      "execution_count": 22,
      "id": "cba53fbe",
      "metadata": {
        "colab": {
          "base_uri": "https://localhost:8080/",
          "height": 600
        },
        "id": "cba53fbe",
        "outputId": "a953fd15-7ba6-46e5-8a62-cd7396597045"
      },
      "outputs": [
        {
          "data": {
            "image/png": "[encoded data removed]",
            "text/plain": [
              "<Figure size 1200x700 with 1 Axes>"
            ]
          },
          "metadata": {},
          "output_type": "display_data"
        }
      ],
      "source": [
        "plt.figure(figsize=(12, 7)) # i know i 'm taking huge figure but i like that\n",
        "\n",
        "colors = ['#FF5733', '#33FF57'] # red-oraney and green are my colors\n",
        "myexplode = [0, 0.1]    # define explode parameter to create a gap between slices by 10%\n",
        "mylabels = ['ham', 'spam']  # ham and spam are categories\n",
        "\n",
        "\n",
        "plt.pie(\n",
        "    values,\n",
        "    startangle=90,  # set angle\n",
        "    autopct='%0.2f%%',  # add percentage value\n",
        "    labels=mylabels, # labeling pie with ham and spam\n",
        "    explode=myexplode, # explode ham with 10%\n",
        "    colors=colors,  # add your colors\n",
        "    shadow=True, # add shadow\n",
        "    textprops={'fontsize': 14, 'fontweight': 'bold'}    # add fontsize and weight\n",
        "    )\n",
        "\n",
        "plt.axis('equal')   #set axis equal so that pie looks circle\n",
        "plt.title(\"Email Classification\", fontweight=\"bold\", fontsize=16)\n",
        "plt.show()"
      ]
    },
    {
      "cell_type": "markdown",
      "id": "e0871829",
      "metadata": {
        "id": "e0871829"
      },
      "source": [
        "#### Summary for Text, Chars, Sentences Length"
      ]
    },
    {
      "cell_type": "code",
      "execution_count": 23,
      "id": "1c7e62f7",
      "metadata": {
        "id": "1c7e62f7"
      },
      "outputs": [],
      "source": [
        "import re\n",
        "def count_characters(text):\n",
        "    words = re.findall(r'[a-zA-Z]', text)\n",
        "    icount = 0\n",
        "    for w in words:\n",
        "        if w.isdigit():\n",
        "            continue\n",
        "        icount = icount + 1\n",
        "    return icount"
      ]
    },
    {
      "cell_type": "code",
      "execution_count": 24,
      "id": "0686074b",
      "metadata": {
        "colab": {
          "base_uri": "https://localhost:8080/",
          "height": 300
        },
        "id": "0686074b",
        "outputId": "a9367d4d-4da3-4e21-ce97-aa8ecf46e5f8"
      },
      "outputs": [
        {
          "data": {
            "text/html": [
              "<div>\n",
              "<style scoped>\n",
              "    .dataframe tbody tr th:only-of-type {\n",
              "        vertical-align: middle;\n",
              "    }\n",
              "\n",
              "    .dataframe tbody tr th {\n",
              "        vertical-align: top;\n",
              "    }\n",
              "\n",
              "    .dataframe thead th {\n",
              "        text-align: right;\n",
              "    }\n",
              "</style>\n",
              "<table border=\"1\" class=\"dataframe\">\n",
              "  <thead>\n",
              "    <tr style=\"text-align: right;\">\n",
              "      <th></th>\n",
              "      <th>num_characters</th>\n",
              "      <th>num_words</th>\n",
              "      <th>num_sentences</th>\n",
              "    </tr>\n",
              "  </thead>\n",
              "  <tbody>\n",
              "    <tr>\n",
              "      <th>count</th>\n",
              "      <td>2.203900e+04</td>\n",
              "      <td>2.203900e+04</td>\n",
              "      <td>22039.000000</td>\n",
              "    </tr>\n",
              "    <tr>\n",
              "      <th>mean</th>\n",
              "      <td>1.823136e+03</td>\n",
              "      <td>5.119527e+02</td>\n",
              "      <td>27.475430</td>\n",
              "    </tr>\n",
              "    <tr>\n",
              "      <th>std</th>\n",
              "      <td>8.046392e+04</td>\n",
              "      <td>2.441711e+04</td>\n",
              "      <td>1504.483484</td>\n",
              "    </tr>\n",
              "    <tr>\n",
              "      <th>min</th>\n",
              "      <td>0.000000e+00</td>\n",
              "      <td>0.000000e+00</td>\n",
              "      <td>0.000000</td>\n",
              "    </tr>\n",
              "    <tr>\n",
              "      <th>25%</th>\n",
              "      <td>3.170000e+02</td>\n",
              "      <td>8.800000e+01</td>\n",
              "      <td>3.000000</td>\n",
              "    </tr>\n",
              "    <tr>\n",
              "      <th>50%</th>\n",
              "      <td>6.200000e+02</td>\n",
              "      <td>1.740000e+02</td>\n",
              "      <td>8.000000</td>\n",
              "    </tr>\n",
              "    <tr>\n",
              "      <th>75%</th>\n",
              "      <td>1.244000e+03</td>\n",
              "      <td>3.480000e+02</td>\n",
              "      <td>16.000000</td>\n",
              "    </tr>\n",
              "    <tr>\n",
              "      <th>max</th>\n",
              "      <td>1.193657e+07</td>\n",
              "      <td>3.623500e+06</td>\n",
              "      <td>223247.000000</td>\n",
              "    </tr>\n",
              "  </tbody>\n",
              "</table>\n",
              "</div>"
            ],
            "text/plain": [
              "       num_characters     num_words  num_sentences\n",
              "count    2.203900e+04  2.203900e+04   22039.000000\n",
              "mean     1.823136e+03  5.119527e+02      27.475430\n",
              "std      8.046392e+04  2.441711e+04    1504.483484\n",
              "min      0.000000e+00  0.000000e+00       0.000000\n",
              "25%      3.170000e+02  8.800000e+01       3.000000\n",
              "50%      6.200000e+02  1.740000e+02       8.000000\n",
              "75%      1.244000e+03  3.480000e+02      16.000000\n",
              "max      1.193657e+07  3.623500e+06  223247.000000"
            ]
          },
          "execution_count": 24,
          "metadata": {},
          "output_type": "execute_result"
        }
      ],
      "source": [
        "spam_dataset['num_characters'] = spam_dataset['message'].apply(count_characters)\n",
        "spam_dataset['num_words'] = spam_dataset['message'].apply(lambda x: len(nltk.word_tokenize(x)))\n",
        "spam_dataset['num_sentences'] = spam_dataset['message'].apply(lambda x: len(nltk.sent_tokenize(x)))\n",
        "\n",
        "spam_dataset[['num_characters', 'num_words', 'num_sentences']].describe()"
      ]
    },
    {
      "cell_type": "markdown",
      "id": "8d1376e1",
      "metadata": {
        "id": "8d1376e1"
      },
      "source": [
        "##### Summary Statistics for the legitimate message (emails)"
      ]
    },
    {
      "cell_type": "code",
      "execution_count": 25,
      "id": "2104eb1c",
      "metadata": {
        "colab": {
          "base_uri": "https://localhost:8080/",
          "height": 300
        },
        "id": "2104eb1c",
        "outputId": "4eb10b49-8096-4fd4-cded-7a124f725ec8"
      },
      "outputs": [
        {
          "data": {
            "text/html": [
              "<div>\n",
              "<style scoped>\n",
              "    .dataframe tbody tr th:only-of-type {\n",
              "        vertical-align: middle;\n",
              "    }\n",
              "\n",
              "    .dataframe tbody tr th {\n",
              "        vertical-align: top;\n",
              "    }\n",
              "\n",
              "    .dataframe thead th {\n",
              "        text-align: right;\n",
              "    }\n",
              "</style>\n",
              "<table border=\"1\" class=\"dataframe\">\n",
              "  <thead>\n",
              "    <tr style=\"text-align: right;\">\n",
              "      <th></th>\n",
              "      <th>num_characters</th>\n",
              "      <th>num_sentences</th>\n",
              "      <th>num_words</th>\n",
              "    </tr>\n",
              "  </thead>\n",
              "  <tbody>\n",
              "    <tr>\n",
              "      <th>count</th>\n",
              "      <td>1.425100e+04</td>\n",
              "      <td>14251.000000</td>\n",
              "      <td>1.425100e+04</td>\n",
              "    </tr>\n",
              "    <tr>\n",
              "      <th>mean</th>\n",
              "      <td>2.164088e+03</td>\n",
              "      <td>32.329872</td>\n",
              "      <td>6.163865e+02</td>\n",
              "    </tr>\n",
              "    <tr>\n",
              "      <th>std</th>\n",
              "      <td>1.000321e+05</td>\n",
              "      <td>1870.577373</td>\n",
              "      <td>3.036105e+04</td>\n",
              "    </tr>\n",
              "    <tr>\n",
              "      <th>min</th>\n",
              "      <td>3.000000e+00</td>\n",
              "      <td>1.000000</td>\n",
              "      <td>1.000000e+00</td>\n",
              "    </tr>\n",
              "    <tr>\n",
              "      <th>25%</th>\n",
              "      <td>3.310000e+02</td>\n",
              "      <td>3.000000</td>\n",
              "      <td>9.200000e+01</td>\n",
              "    </tr>\n",
              "    <tr>\n",
              "      <th>50%</th>\n",
              "      <td>6.770000e+02</td>\n",
              "      <td>7.000000</td>\n",
              "      <td>1.890000e+02</td>\n",
              "    </tr>\n",
              "    <tr>\n",
              "      <th>75%</th>\n",
              "      <td>1.312000e+03</td>\n",
              "      <td>15.000000</td>\n",
              "      <td>3.700000e+02</td>\n",
              "    </tr>\n",
              "    <tr>\n",
              "      <th>max</th>\n",
              "      <td>1.193657e+07</td>\n",
              "      <td>223247.000000</td>\n",
              "      <td>3.623500e+06</td>\n",
              "    </tr>\n",
              "  </tbody>\n",
              "</table>\n",
              "</div>"
            ],
            "text/plain": [
              "       num_characters  num_sentences     num_words\n",
              "count    1.425100e+04   14251.000000  1.425100e+04\n",
              "mean     2.164088e+03      32.329872  6.163865e+02\n",
              "std      1.000321e+05    1870.577373  3.036105e+04\n",
              "min      3.000000e+00       1.000000  1.000000e+00\n",
              "25%      3.310000e+02       3.000000  9.200000e+01\n",
              "50%      6.770000e+02       7.000000  1.890000e+02\n",
              "75%      1.312000e+03      15.000000  3.700000e+02\n",
              "max      1.193657e+07  223247.000000  3.623500e+06"
            ]
          },
          "execution_count": 25,
          "metadata": {},
          "output_type": "execute_result"
        }
      ],
      "source": [
        "spam_dataset[spam_dataset['label'] == 0 ][['num_characters', 'num_sentences', 'num_words']].describe()"
      ]
    },
    {
      "cell_type": "markdown",
      "id": "14de8c6b",
      "metadata": {
        "id": "14de8c6b"
      },
      "source": [
        "##### Summary Statistics for the spam messages (email)"
      ]
    },
    {
      "cell_type": "code",
      "execution_count": 26,
      "id": "a19d243c",
      "metadata": {
        "colab": {
          "base_uri": "https://localhost:8080/",
          "height": 300
        },
        "id": "a19d243c",
        "outputId": "f85975cd-52b9-4233-c41c-8cf0ddf10f4c"
      },
      "outputs": [
        {
          "data": {
            "text/html": [
              "<div>\n",
              "<style scoped>\n",
              "    .dataframe tbody tr th:only-of-type {\n",
              "        vertical-align: middle;\n",
              "    }\n",
              "\n",
              "    .dataframe tbody tr th {\n",
              "        vertical-align: top;\n",
              "    }\n",
              "\n",
              "    .dataframe thead th {\n",
              "        text-align: right;\n",
              "    }\n",
              "</style>\n",
              "<table border=\"1\" class=\"dataframe\">\n",
              "  <thead>\n",
              "    <tr style=\"text-align: right;\">\n",
              "      <th></th>\n",
              "      <th>num_characters</th>\n",
              "      <th>num_sentences</th>\n",
              "      <th>num_words</th>\n",
              "    </tr>\n",
              "  </thead>\n",
              "  <tbody>\n",
              "    <tr>\n",
              "      <th>count</th>\n",
              "      <td>7788.000000</td>\n",
              "      <td>7788.000000</td>\n",
              "      <td>7788.000000</td>\n",
              "    </tr>\n",
              "    <tr>\n",
              "      <th>mean</th>\n",
              "      <td>1199.238701</td>\n",
              "      <td>18.592450</td>\n",
              "      <td>320.852851</td>\n",
              "    </tr>\n",
              "    <tr>\n",
              "      <th>std</th>\n",
              "      <td>3354.267335</td>\n",
              "      <td>50.441562</td>\n",
              "      <td>615.707086</td>\n",
              "    </tr>\n",
              "    <tr>\n",
              "      <th>min</th>\n",
              "      <td>0.000000</td>\n",
              "      <td>0.000000</td>\n",
              "      <td>0.000000</td>\n",
              "    </tr>\n",
              "    <tr>\n",
              "      <th>25%</th>\n",
              "      <td>298.000000</td>\n",
              "      <td>5.000000</td>\n",
              "      <td>84.000000</td>\n",
              "    </tr>\n",
              "    <tr>\n",
              "      <th>50%</th>\n",
              "      <td>533.000000</td>\n",
              "      <td>9.000000</td>\n",
              "      <td>150.000000</td>\n",
              "    </tr>\n",
              "    <tr>\n",
              "      <th>75%</th>\n",
              "      <td>1084.000000</td>\n",
              "      <td>18.000000</td>\n",
              "      <td>300.000000</td>\n",
              "    </tr>\n",
              "    <tr>\n",
              "      <th>max</th>\n",
              "      <td>195468.000000</td>\n",
              "      <td>3093.000000</td>\n",
              "      <td>13292.000000</td>\n",
              "    </tr>\n",
              "  </tbody>\n",
              "</table>\n",
              "</div>"
            ],
            "text/plain": [
              "       num_characters  num_sentences     num_words\n",
              "count     7788.000000    7788.000000   7788.000000\n",
              "mean      1199.238701      18.592450    320.852851\n",
              "std       3354.267335      50.441562    615.707086\n",
              "min          0.000000       0.000000      0.000000\n",
              "25%        298.000000       5.000000     84.000000\n",
              "50%        533.000000       9.000000    150.000000\n",
              "75%       1084.000000      18.000000    300.000000\n",
              "max     195468.000000    3093.000000  13292.000000"
            ]
          },
          "execution_count": 26,
          "metadata": {},
          "output_type": "execute_result"
        }
      ],
      "source": [
        "spam_dataset[spam_dataset['label'] == 1][['num_characters', 'num_sentences', 'num_words']].describe()"
      ]
    },
    {
      "cell_type": "code",
      "execution_count": 27,
      "id": "3a1e597e",
      "metadata": {
        "colab": {
          "base_uri": "https://localhost:8080/",
          "height": 175
        },
        "id": "3a1e597e",
        "outputId": "9d10c4fb-e50c-469b-906e-86dac93d0241"
      },
      "outputs": [
        {
          "data": {
            "text/html": [
              "<div>\n",
              "<style scoped>\n",
              "    .dataframe tbody tr th:only-of-type {\n",
              "        vertical-align: middle;\n",
              "    }\n",
              "\n",
              "    .dataframe tbody tr th {\n",
              "        vertical-align: top;\n",
              "    }\n",
              "\n",
              "    .dataframe thead th {\n",
              "        text-align: right;\n",
              "    }\n",
              "</style>\n",
              "<table border=\"1\" class=\"dataframe\">\n",
              "  <thead>\n",
              "    <tr style=\"text-align: right;\">\n",
              "      <th></th>\n",
              "      <th>label</th>\n",
              "      <th>num_characters</th>\n",
              "      <th>num_sentences</th>\n",
              "      <th>num_words</th>\n",
              "    </tr>\n",
              "  </thead>\n",
              "  <tbody>\n",
              "    <tr>\n",
              "      <th>label</th>\n",
              "      <td>1.000000</td>\n",
              "      <td>-0.005732</td>\n",
              "      <td>-0.004365</td>\n",
              "      <td>-0.005786</td>\n",
              "    </tr>\n",
              "    <tr>\n",
              "      <th>num_characters</th>\n",
              "      <td>-0.005732</td>\n",
              "      <td>1.000000</td>\n",
              "      <td>0.999390</td>\n",
              "      <td>0.999802</td>\n",
              "    </tr>\n",
              "    <tr>\n",
              "      <th>num_sentences</th>\n",
              "      <td>-0.004365</td>\n",
              "      <td>0.999390</td>\n",
              "      <td>1.000000</td>\n",
              "      <td>0.999733</td>\n",
              "    </tr>\n",
              "    <tr>\n",
              "      <th>num_words</th>\n",
              "      <td>-0.005786</td>\n",
              "      <td>0.999802</td>\n",
              "      <td>0.999733</td>\n",
              "      <td>1.000000</td>\n",
              "    </tr>\n",
              "  </tbody>\n",
              "</table>\n",
              "</div>"
            ],
            "text/plain": [
              "                   label  num_characters  num_sentences  num_words\n",
              "label           1.000000       -0.005732      -0.004365  -0.005786\n",
              "num_characters -0.005732        1.000000       0.999390   0.999802\n",
              "num_sentences  -0.004365        0.999390       1.000000   0.999733\n",
              "num_words      -0.005786        0.999802       0.999733   1.000000"
            ]
          },
          "execution_count": 27,
          "metadata": {},
          "output_type": "execute_result"
        }
      ],
      "source": [
        "spam_dataset[['label', 'num_characters', 'num_sentences', 'num_words']].corr()"
      ]
    },
    {
      "cell_type": "code",
      "execution_count": 28,
      "id": "0951a7cd",
      "metadata": {
        "colab": {
          "base_uri": "https://localhost:8080/",
          "height": 560
        },
        "id": "0951a7cd",
        "outputId": "bf91fa16-c480-47cf-84a9-334203f72084"
      },
      "outputs": [
        {
          "data": {
            "image/png": "[encoded data removed]",
            "text/plain": [
              "<Figure size 640x480 with 2 Axes>"
            ]
          },
          "metadata": {},
          "output_type": "display_data"
        }
      ],
      "source": [
        "corr_matrix = spam_dataset[['label', 'num_characters', 'num_words', 'num_sentences']].corr()\n",
        "\n",
        "sns.set(font_scale=1.2)\n",
        "sns.heatmap(corr_matrix, annot=True, fmt='0.2f', linewidths=0.5, cmap='coolwarm')\n",
        "\n",
        "plt.title('Correlation Matrix Heatmap', fontsize=14, fontweight='bold')\n",
        "\n",
        "plt.xticks(rotation=45)\n",
        "plt.show()"
      ]
    },
    {
      "cell_type": "markdown",
      "id": "9c9517fc",
      "metadata": {
        "id": "9c9517fc"
      },
      "source": [
        "#### Data Text Preprocessing\n",
        "        Before data preprocessing let's understand how the spam are introduce in the mail and what type of the spam can be added in the email."
      ]
    },
    {
      "cell_type": "code",
      "execution_count": 29,
      "id": "5a9e2470",
      "metadata": {
        "colab": {
          "base_uri": "https://localhost:8080/"
        },
        "id": "5a9e2470",
        "outputId": "57ca0653-56e1-4445-bf83-3453f149cd85"
      },
      "outputs": [
        {
          "name": "stdout",
          "output_type": "stream",
          "text": [
            "['URL_TOKEN', 'URL_TOKEN', 'EMAIL_TOKEN', 'EMAIL_TOKEN', 'MONEY_TOKEN', 'NUM_TOKEN', 'NUM_TOKEN', 'NUM_TOKEN', 'visit', 'for', 'more', 'info', 'contact', 'us', 'at', 'or', 'call', 'the', 'price', 'is', 'for', 'items', 'check', 'out', 'and', 'email', 'me', 'at', 'regular', 'text', 'without', 'special', 'patterns']\n",
            "Visit  URL_TOKEN  for more info\n",
            "        Contact us at  EMAIL_TOKEN  or call  NUM_TOKEN - NUM_TOKEN \n",
            "        The price is  MONEY_TOKEN  for  NUM_TOKEN  items\n",
            "        Check out  URL_TOKEN  and email me at  EMAIL_TOKEN \n",
            "        Regular text without special patterns\n"
          ]
        }
      ],
      "source": [
        "def custom_tokenizer(text):\n",
        "\n",
        "    tokens = []\n",
        "\n",
        "    # replace URLs with tokens\n",
        "    url_pattern = r'(?:https?\\s?:\\/\\/?|http\\s?:\\/\\/?|https\\s?\\/\\/|http\\s?\\/\\/|www\\.)[^\\s<>\"{}|\\\\^`\\[\\]]+'\n",
        "    urls = re.findall(url_pattern, text)\n",
        "    text = re.sub(url_pattern, ' URL_TOKEN ', text)\n",
        "    tokens.extend(['URL_TOKEN'] * len(urls))  # if more than two url then\n",
        "\n",
        "    # Replace emails with tokens\n",
        "    email_pattern = r'\\b[A-Za-z0-9._%+-]+@[A-Za-z0-9.-]+\\.[A-Z|a-z]{2,}\\b'\n",
        "    emails = re.findall(email_pattern, text)\n",
        "    text = re.sub(email_pattern, ' EMAIL_TOKEN ', text)\n",
        "    tokens.extend(['EMAIL_TOKEN'] * len(emails))\n",
        "\n",
        "    # replace phone numbers\n",
        "    phone_pattern = r'\\b\\d{3}[-.]?\\d{3}[-.]?\\d{4}\\b'\n",
        "    phones = re.findall(phone_pattern, text)\n",
        "    text = re.sub(phone_pattern, ' PHONE_TOKEN ', text)\n",
        "    tokens.extend(['PHONE_TOKEN'] * len(phones))\n",
        "\n",
        "    # replace currency\n",
        "    currency_pattern =  r'\\$\\d+(?:\\.\\d{2})?'\n",
        "    currency = re.findall(currency_pattern, text)\n",
        "    text = re.sub(currency_pattern, ' MONEY_TOKEN ', text)\n",
        "    tokens.extend(['MONEY_TOKEN'] * len(currency))\n",
        "\n",
        "    # replace numbers\n",
        "    number_pattern = r'\\b\\d+(?:\\.\\d+)?\\b'\n",
        "    numbers = re.findall(number_pattern, text)\n",
        "    text = re.sub(number_pattern, ' NUM_TOKEN ', text)\n",
        "    tokens.extend(['NUM_TOKEN'] * len(numbers))\n",
        "\n",
        "    # remove _____ spaces\n",
        "    text = re.sub(r'[_]{3,}', ' ', text)\n",
        "\n",
        "    # tokenizing common words\n",
        "    word_pattern = r'\\b[A-Za-z]+\\b'\n",
        "    words = re.findall(word_pattern, text.lower())\n",
        "    tokens.extend(words)\n",
        "\n",
        "    return text, tokens\n",
        "\n",
        "text = \"\"\"Visit https://example.com for more info\n",
        "        Contact us at support@company.com or call 555-0123\n",
        "        The price is $29.99 for 10 items\n",
        "        Check out www.github.com and email me at user@domain.org\n",
        "        Regular text without special patterns\"\"\"\n",
        "\n",
        "text, tokens = custom_tokenizer(text)\n",
        "print(tokens)\n",
        "print(text)"
      ]
    },
    {
      "cell_type": "code",
      "execution_count": 30,
      "id": "240d1d93",
      "metadata": {
        "colab": {
          "base_uri": "https://localhost:8080/"
        },
        "id": "240d1d93",
        "outputId": "2e3ebd3a-50f9-4d9b-dca9-f12099fb55f2"
      },
      "outputs": [
        {
          "name": "stdout",
          "output_type": "stream",
          "text": [
            "TF IDF Vectorizer: \n",
            "matrix :   (0, 25)\t1.0\n",
            "  (1, 23)\t1.0\n",
            "  (2, 7)\t1.0\n",
            "  (3, 13)\t1.0\n",
            "  (4, 8)\t1.0\n",
            "  (5, 4)\t1.0\n",
            "  (6, 24)\t1.0\n",
            "  (7, 1)\t1.0\n",
            "  (8, 6)\t1.0\n",
            "  (9, 15)\t1.0\n",
            "  (10, 2)\t1.0\n",
            "  (11, 14)\t1.0\n",
            "  (13, 14)\t1.0\n",
            "  (14, 22)\t1.0\n",
            "  (15, 18)\t1.0\n",
            "  (16, 9)\t1.0\n",
            "  (17, 12)\t1.0\n",
            "  (18, 7)\t1.0\n",
            "  (19, 14)\t1.0\n",
            "  (20, 10)\t1.0\n",
            "  (21, 3)\t1.0\n",
            "  (22, 16)\t1.0\n",
            "  (23, 23)\t1.0\n",
            "  (24, 0)\t1.0\n",
            "  (25, 5)\t1.0\n",
            "  (26, 11)\t1.0\n",
            "  (27, 1)\t1.0\n",
            "  (28, 6)\t1.0\n",
            "  (29, 19)\t1.0\n",
            "  (30, 21)\t1.0\n",
            "  (31, 26)\t1.0\n",
            "  (32, 20)\t1.0\n",
            "  (33, 17)\t1.0\n",
            "features : ['and' 'at' 'call' 'check' 'contact' 'email' 'email_token' 'for' 'info'\n",
            " 'is' 'items' 'me' 'money_token' 'more' 'num_token' 'or' 'out' 'patterns'\n",
            " 'price' 'regular' 'special' 'text' 'the' 'url_token' 'us' 'visit'\n",
            " 'without']\n"
          ]
        }
      ],
      "source": [
        "def text_representation(text):\n",
        "\n",
        "    # tokenize the word\n",
        "    tokens = word_tokenize(text)\n",
        "\n",
        "    tfidf = TfidfVectorizer()\n",
        "    tfidf_matrix = tfidf.fit_transform(tokens)\n",
        "    feature_names = tfidf.get_feature_names_out()\n",
        "\n",
        "    print(\"TF IDF Vectorizer: \")\n",
        "    print(f\"matrix : {tfidf_matrix}\")\n",
        "    print(f\"features : {feature_names}\")\n",
        "\n",
        "text_representation(text)"
      ]
    },
    {
      "cell_type": "code",
      "execution_count": 31,
      "id": "4a8b3441",
      "metadata": {
        "colab": {
          "base_uri": "https://localhost:8080/"
        },
        "id": "4a8b3441",
        "outputId": "942c24f0-ba08-4854-dea3-c1fd58bfb8dd"
      },
      "outputs": [
        {
          "name": "stdout",
          "output_type": "stream",
          "text": [
            "subject 🎉 congratulation 've  NUM_TOKEN , NUM_TOKEN , NUM_TOKEN  🎉 winner-notification lottery-international.biz body dear lucky winner congratulation select grand prize winner international email lottery email address randomly select million address worldwide  NUM_TOKEN , NUM_TOKEN , NUM_TOKEN  usd claim prize must respond within  NUM_TOKEN  hour follow information full name address phone number bank account detail copy id/passport urgent send process fee  NUM_TOKEN  via western union claim winning immediately contact claim agent mr. johnson smith email claims.agent.smith totally-legit-lottery.com phone + PHONE_TOKEN  offer expire tomorrow n't miss once-in-a-lifetime opportunity best regard international lottery commission\n"
          ]
        }
      ],
      "source": [
        "\n",
        "def get_wordnet_pos(tag):\n",
        "    \"\"\"Map POS tag to WordNet POS tag for better lemmatization\"\"\"\n",
        "    if tag.startswith('J'):\n",
        "        return wordnet.ADJ\n",
        "    elif tag.startswith('V'):\n",
        "        return wordnet.VERB\n",
        "    elif tag.startswith('N'):\n",
        "        return wordnet.NOUN\n",
        "    elif tag.startswith('R'):\n",
        "        return wordnet.ADV\n",
        "    else:\n",
        "        return wordnet.NOUN  # default to noun\n",
        "\n",
        "def text_preprocessing(text):\n",
        "    lemmatizer = WordNetLemmatizer()\n",
        "    stop_words = set(stopwords.words('english'))\n",
        "\n",
        "    # lowercase\n",
        "    text = text.lower().strip()\n",
        "\n",
        "    # clean weird punctuation (like ... or ----)\n",
        "    text = re.sub(r'\\.{2,}', '.', text)\n",
        "    text = re.sub(r'-{2,}', ' ', text)\n",
        "\n",
        "    # tokenize\n",
        "    words = word_tokenize(text)\n",
        "\n",
        "    # remove punctuation & empty tokens\n",
        "    words = [w for w in words if w not in string.punctuation and w.strip() != '']\n",
        "\n",
        "    # POS tagging\n",
        "    tokens = pos_tag(words)\n",
        "\n",
        "    lemmatized_sentence = []\n",
        "    for word, pos in tokens:\n",
        "        wn_pos = get_wordnet_pos(pos)  # better lemmatization\n",
        "        lemma = lemmatizer.lemmatize(word, wn_pos)\n",
        "\n",
        "        if (word not in stop_words):\n",
        "            lemmatized_sentence.append(lemma)\n",
        "\n",
        "    lemm_sent = ' '.join(lemmatized_sentence)\n",
        "\n",
        "    # final pass with custom tokenizer\n",
        "    text, tokens = custom_tokenizer(lemm_sent)\n",
        "\n",
        "    return text\n",
        "\n",
        "text = \"\"\"\n",
        "Subject: 🎉 CONGRATULATIONS! You've Won $1,000,000! 🎉\n",
        "From: winner-notification@lottery-international.biz\n",
        "Body:\n",
        "DEAR LUCKY WINNER!!!\n",
        "CONGRATULATIONS! You have been selected as the GRAND PRIZE WINNER of our International Email Lottery! Your email address was randomly selected from millions of addresses worldwide.\n",
        "YOU HAVE WON: $1,000,000 USD!!!\n",
        "To claim your prize, you MUST respond within 24 HOURS with the following information:\n",
        "\n",
        "Full Name\n",
        "Address\n",
        "Phone Number\n",
        "Bank Account Details\n",
        "Copy of ID/Passport\n",
        "\n",
        "URGENT: Send processing fee of $500 via Western Union to claim your winnings immediately!\n",
        "Contact our claims agent: Mr. Johnson Smith\n",
        "Email: claims.agent.smith@totally-legit-lottery.com\n",
        "Phone: +234-555-7845\n",
        "This offer expires TOMORROW! Don't miss this once-in-a-lifetime opportunity!\n",
        "Best Regards,\n",
        "International Lottery Commission\n",
        "\"\"\"\n",
        "processed_tokens = text_preprocessing(text)\n",
        "print(processed_tokens)"
      ]
    },
    {
      "cell_type": "code",
      "execution_count": 32,
      "id": "495a1f95",
      "metadata": {
        "colab": {
          "base_uri": "https://localhost:8080/",
          "height": 293
        },
        "id": "495a1f95",
        "outputId": "cf43757c-926c-4e8f-a58d-a53282c11184"
      },
      "outputs": [
        {
          "data": {
            "text/html": [
              "<div>\n",
              "<style scoped>\n",
              "    .dataframe tbody tr th:only-of-type {\n",
              "        vertical-align: middle;\n",
              "    }\n",
              "\n",
              "    .dataframe tbody tr th {\n",
              "        vertical-align: top;\n",
              "    }\n",
              "\n",
              "    .dataframe thead th {\n",
              "        text-align: right;\n",
              "    }\n",
              "</style>\n",
              "<table border=\"1\" class=\"dataframe\">\n",
              "  <thead>\n",
              "    <tr style=\"text-align: right;\">\n",
              "      <th></th>\n",
              "      <th>message</th>\n",
              "      <th>label</th>\n",
              "      <th>num_characters</th>\n",
              "      <th>num_words</th>\n",
              "      <th>num_sentences</th>\n",
              "      <th>cleaned_message</th>\n",
              "    </tr>\n",
              "  </thead>\n",
              "  <tbody>\n",
              "    <tr>\n",
              "      <th>0</th>\n",
              "      <td>Subject: fw : computers\\n happy holidays !\\n b...</td>\n",
              "      <td>0</td>\n",
              "      <td>1090</td>\n",
              "      <td>438</td>\n",
              "      <td>45</td>\n",
              "      <td>subject fw computer happy holiday bonnie hitsc...</td>\n",
              "    </tr>\n",
              "    <tr>\n",
              "      <th>1</th>\n",
              "      <td>Subject: requested\\n \\n increase your personal...</td>\n",
              "      <td>1</td>\n",
              "      <td>341</td>\n",
              "      <td>85</td>\n",
              "      <td>6</td>\n",
              "      <td>subject request increase personal prestige mon...</td>\n",
              "    </tr>\n",
              "    <tr>\n",
              "      <th>2</th>\n",
              "      <td>Subject: budget review ii\\n hi louise ,\\n are ...</td>\n",
              "      <td>0</td>\n",
              "      <td>185</td>\n",
              "      <td>52</td>\n",
              "      <td>3</td>\n",
              "      <td>subject budget review ii hi louise ok u come s...</td>\n",
              "    </tr>\n",
              "    <tr>\n",
              "      <th>3</th>\n",
              "      <td>URL: http://www.newsisfree.com/click/-1,839012...</td>\n",
              "      <td>0</td>\n",
              "      <td>78</td>\n",
              "      <td>21</td>\n",
              "      <td>1</td>\n",
              "      <td>url  URL_TOKEN  date  NUM_TOKEN - NUM_TOKEN -3...</td>\n",
              "    </tr>\n",
              "    <tr>\n",
              "      <th>4</th>\n",
              "      <td>I stayed at the Fairmont during a professional...</td>\n",
              "      <td>1</td>\n",
              "      <td>320</td>\n",
              "      <td>74</td>\n",
              "      <td>4</td>\n",
              "      <td>stay fairmont professional conference say conf...</td>\n",
              "    </tr>\n",
              "  </tbody>\n",
              "</table>\n",
              "</div>"
            ],
            "text/plain": [
              "                                             message  label  num_characters  \\\n",
              "0  Subject: fw : computers\\n happy holidays !\\n b...      0            1090   \n",
              "1  Subject: requested\\n \\n increase your personal...      1             341   \n",
              "2  Subject: budget review ii\\n hi louise ,\\n are ...      0             185   \n",
              "3  URL: http://www.newsisfree.com/click/-1,839012...      0              78   \n",
              "4  I stayed at the Fairmont during a professional...      1             320   \n",
              "\n",
              "   num_words  num_sentences                                    cleaned_message  \n",
              "0        438             45  subject fw computer happy holiday bonnie hitsc...  \n",
              "1         85              6  subject request increase personal prestige mon...  \n",
              "2         52              3  subject budget review ii hi louise ok u come s...  \n",
              "3         21              1  url  URL_TOKEN  date  NUM_TOKEN - NUM_TOKEN -3...  \n",
              "4         74              4  stay fairmont professional conference say conf...  "
            ]
          },
          "execution_count": 32,
          "metadata": {},
          "output_type": "execute_result"
        }
      ],
      "source": [
        "spam_dataset['cleaned_message'] = spam_dataset['message'].apply(text_preprocessing)\n",
        "spam_dataset.head()"
      ]
    },
    {
      "cell_type": "code",
      "execution_count": 51,
      "id": "079a2bcc",
      "metadata": {},
      "outputs": [
        {
          "data": {
            "text/plain": [
              "'subject fw computer happy holiday bonnie hitschel  NUM_TOKEN   NUM_TOKEN   NUM_TOKEN  subject computer dear tech support last year upgrade boyfriend  NUM_TOKEN   NUM_TOKEN  husband  NUM_TOKEN   NUM_TOKEN  notice slowdown performance flower jewelry application operate flawlessly boyfriend  NUM_TOKEN   NUM_TOKEN  addition husband  NUM_TOKEN   NUM_TOKEN  uninstalled many valuable program romance  NUM_TOKEN   NUM_TOKEN  instal undesirable program nfl  NUM_TOKEN   NUM_TOKEN  nba  NUM_TOKEN   NUM_TOKEN  conversation  NUM_TOKEN   NUM_TOKEN  long run houseclean  NUM_TOKEN   NUM_TOKEN  simply crash system try run nag  NUM_TOKEN   NUM_TOKEN  fix problem avail desperate dear desperate first keep mind boyfriend  NUM_TOKEN   NUM_TOKEN  entertainment package husband  NUM_TOKEN   NUM_TOKEN  operating system install tear  NUM_TOKEN   NUM_TOKEN  enter command husband  NUM_TOKEN   NUM_TOKEN  automatically run application guilty  NUM_TOKEN   NUM_TOKEN  flower  NUM_TOKEN   NUM_TOKEN  remember overuse cause husband  NUM_TOKEN   NUM_TOKEN  default grumpy silence  NUM_TOKEN   NUM_TOKEN  happy hour  NUM_TOKEN   NUM_TOKEN  beer  NUM_TOKEN   NUM_TOKEN  beer  NUM_TOKEN   NUM_TOKEN  bad program create snore loudly wav file install mother law  NUM_TOKEN   NUM_TOKEN  reinstall another boyfriend program support application crash husband  NUM_TOKEN   NUM_TOKEN  summary husband  NUM_TOKEN   NUM_TOKEN  great program limited memory learn new application quickly might consider buy additional software improve performance personally recommend hot food  NUM_TOKEN   NUM_TOKEN  lingerie  NUM_TOKEN   NUM_TOKEN  good luck'"
            ]
          },
          "execution_count": 51,
          "metadata": {},
          "output_type": "execute_result"
        }
      ],
      "source": [
        "spam_dataset['cleaned_message'][0]"
      ]
    },
    {
      "cell_type": "code",
      "execution_count": 33,
      "id": "283e25a9",
      "metadata": {
        "colab": {
          "base_uri": "https://localhost:8080/",
          "height": 458
        },
        "id": "283e25a9",
        "outputId": "2766b176-9233-4bee-9640-800d6dbe724b"
      },
      "outputs": [
        {
          "data": {
            "text/plain": [
              "0        291\n",
              "1         49\n",
              "2         27\n",
              "3         23\n",
              "4         34\n",
              "        ... \n",
              "22034     22\n",
              "22035    129\n",
              "22036     60\n",
              "22037    162\n",
              "22038     32\n",
              "Name: cleaned_message, Length: 22039, dtype: int64"
            ]
          },
          "execution_count": 33,
          "metadata": {},
          "output_type": "execute_result"
        }
      ],
      "source": [
        "# calculating the length of the cleaned message\n",
        "spam_dataset['cleaned_message'].apply(lambda x: len(x.split(\" \")))"
      ]
    },
    {
      "cell_type": "code",
      "execution_count": 34,
      "id": "uwOlZ8TKT-lu",
      "metadata": {
        "colab": {
          "base_uri": "https://localhost:8080/"
        },
        "id": "uwOlZ8TKT-lu",
        "outputId": "5a5dbcbc-32a9-4007-8edc-a606ae96f66d"
      },
      "outputs": [
        {
          "name": "stdout",
          "output_type": "stream",
          "text": [
            "length of the cleaned preprocessed message : 22039\n"
          ]
        }
      ],
      "source": [
        "print(f\"length of the cleaned preprocessed message : {len(spam_dataset['cleaned_message'])}\")"
      ]
    },
    {
      "cell_type": "markdown",
      "id": "25f5427e",
      "metadata": {},
      "source": [
        "### Tokenizing and Embedding "
      ]
    },
    {
      "cell_type": "code",
      "execution_count": 35,
      "id": "d69baf91",
      "metadata": {},
      "outputs": [
        {
          "name": "stdout",
          "output_type": "stream",
          "text": [
            "146471\n"
          ]
        }
      ],
      "source": [
        "default_tokenizer = Tokenizer()\n",
        "default_tokenizer.fit_on_texts(spam_dataset['cleaned_message'])\n",
        "word_index = default_tokenizer.word_index\n",
        "vocab_size = len(word_index) + 1\n",
        "print(vocab_size)"
      ]
    },
    {
      "cell_type": "code",
      "execution_count": 36,
      "id": "6c6a1a8f",
      "metadata": {},
      "outputs": [
        {
          "name": "stdout",
          "output_type": "stream",
          "text": [
            "[[    5  1263   135 ...     0     0     0]\n",
            " [    5   201   410 ...     0     0     0]\n",
            " [    5  1783   196 ...     0     0     0]\n",
            " ...\n",
            " [    5    55 15561 ...     0     0     0]\n",
            " [    5  1263  3024 ...     0     0     0]\n",
            " [    5    15  4109 ...     0     0     0]]\n"
          ]
        }
      ],
      "source": [
        "sent_length = 500\n",
        "sequences = default_tokenizer.texts_to_sequences(spam_dataset['cleaned_message'])\n",
        "padding = pad_sequences(sequences, padding='post', maxlen=sent_length)\n",
        "print(padding)"
      ]
    },
    {
      "cell_type": "code",
      "execution_count": 37,
      "id": "pE5daD0ET1FM",
      "metadata": {
        "colab": {
          "base_uri": "https://localhost:8080/"
        },
        "id": "pE5daD0ET1FM",
        "outputId": "ef648350-3fac-4015-983b-bf33a68ffc75"
      },
      "outputs": [
        {
          "name": "stdout",
          "output_type": "stream",
          "text": [
            "length of the tokenized documents : 146471\n"
          ]
        }
      ],
      "source": [
        "print(f\"length of the tokenized documents : {len(word_index) + 1}\")"
      ]
    },
    {
      "cell_type": "code",
      "execution_count": 38,
      "id": "OZ2qGAtzSGY_",
      "metadata": {
        "colab": {
          "base_uri": "https://localhost:8080/"
        },
        "id": "OZ2qGAtzSGY_",
        "outputId": "378fa53f-41cd-4dfe-c096-caceae0f0ec0"
      },
      "outputs": [
        {
          "name": "stdout",
          "output_type": "stream",
          "text": [
            "length of the labeled columns : 22039\n"
          ]
        }
      ],
      "source": [
        "print(f\"length of the labeled columns : {len(spam_dataset['label'])}\")"
      ]
    },
    {
      "cell_type": "markdown",
      "id": "sTbMo-R_UwwV",
      "metadata": {
        "id": "sTbMo-R_UwwV"
      },
      "source": [
        "#### Splitting the Dataset into the Training and Testing Set"
      ]
    },
    {
      "cell_type": "code",
      "execution_count": 39,
      "id": "9EibuHOkSRep",
      "metadata": {
        "id": "9EibuHOkSRep"
      },
      "outputs": [],
      "source": [
        "X_train, X_test, y_train, y_test = train_test_split(padding, spam_dataset['label'], test_size=0.2, random_state=42)"
      ]
    },
    {
      "cell_type": "code",
      "execution_count": 40,
      "id": "581a30af",
      "metadata": {},
      "outputs": [
        {
          "data": {
            "text/plain": [
              "array([[    12,    247,    324, ...,    645,    401,    934],\n",
              "       [   300,     45,    540, ...,      0,      0,      0],\n",
              "       [141259, 141260,    449, ...,   1073,    164,    408],\n",
              "       ...,\n",
              "       [   662,     22,   1369, ...,      0,      0,      0],\n",
              "       [   870,    445,    119, ...,      0,      0,      0],\n",
              "       [   191,  41669,   3570, ...,    511,    857,   2390]])"
            ]
          },
          "execution_count": 40,
          "metadata": {},
          "output_type": "execute_result"
        }
      ],
      "source": [
        "X_train[:10]"
      ]
    },
    {
      "cell_type": "code",
      "execution_count": 41,
      "id": "W3R8GAs5VAnx",
      "metadata": {
        "colab": {
          "base_uri": "https://localhost:8080/"
        },
        "id": "W3R8GAs5VAnx",
        "outputId": "5658021d-01ff-4d2b-c2b4-61988494c7df"
      },
      "outputs": [
        {
          "name": "stdout",
          "output_type": "stream",
          "text": [
            "Shape of the X train set : 17631\n",
            "Shape of the X test set: 4408\n",
            "Shape of the y train set: 17631\n",
            "Shape of the y test set: 4408\n"
          ]
        }
      ],
      "source": [
        "# shapes of the training and test sets\n",
        "print(f\"Shape of the X train set : {len(X_train)}\")\n",
        "print(f\"Shape of the X test set: {len(X_test)}\")\n",
        "print(f\"Shape of the y train set: {len(y_train)}\")\n",
        "print(f\"Shape of the y test set: {len(y_test)}\")"
      ]
    },
    {
      "cell_type": "markdown",
      "id": "z0-rb-cHR7gB",
      "metadata": {
        "id": "z0-rb-cHR7gB"
      },
      "source": [
        "#### Model Training (Lstm)"
      ]
    },
    {
      "cell_type": "code",
      "execution_count": 42,
      "id": "6X5EOyXULqpm",
      "metadata": {
        "id": "6X5EOyXULqpm"
      },
      "outputs": [],
      "source": [
        "max_len = 500\n",
        "max_words = 1024\n",
        "# defining the lstm model\n",
        "def lstm_model():\n",
        "  inputs = Input(name='inputs', shape=[max_len])\n",
        "  layer = Embedding(input_dim=vocab_size, output_dim=128, input_length=max_len)(inputs)\n",
        "  layer = LSTM(64)(layer)\n",
        "  layer = Dense(256, name='FC1')(layer)\n",
        "  layer = Activation('relu')(layer)\n",
        "  layer = Dropout(0.5)(layer)\n",
        "  layer = Dense(1, name='out_layer')(layer)\n",
        "  layer = Activation('sigmoid')(layer)\n",
        "  model = Model(inputs=inputs, outputs=layer)\n",
        "  return model"
      ]
    },
    {
      "cell_type": "markdown",
      "id": "sJf6dZpFnTGn",
      "metadata": {
        "id": "sJf6dZpFnTGn"
      },
      "source": [
        "#### Converting Array to Matrix"
      ]
    },
    {
      "cell_type": "code",
      "execution_count": 43,
      "id": "qbZ8kuoJnQlo",
      "metadata": {
        "id": "qbZ8kuoJnQlo"
      },
      "outputs": [],
      "source": [
        "# Ensure they are NumPy arrays\n",
        "import numpy as np\n",
        "X_train = np.array(X_train)\n",
        "X_test  = np.array(X_test)\n",
        "y_train = np.array(y_train)\n",
        "y_test  = np.array(y_test)"
      ]
    },
    {
      "cell_type": "markdown",
      "id": "YzEdYzX9pQxz",
      "metadata": {
        "id": "YzEdYzX9pQxz"
      },
      "source": [
        "#### summary and compiling"
      ]
    },
    {
      "cell_type": "code",
      "execution_count": 44,
      "id": "APmKHw95eYSQ",
      "metadata": {
        "colab": {
          "base_uri": "https://localhost:8080/",
          "height": 823
        },
        "id": "APmKHw95eYSQ",
        "outputId": "dc55fa69-b948-437f-a734-978ac4bf134b"
      },
      "outputs": [
        {
          "name": "stderr",
          "output_type": "stream",
          "text": [
            "c:\\Users\\Asus\\anaconda3\\envs\\myenv\\Lib\\site-packages\\keras\\src\\layers\\core\\embedding.py:97: UserWarning: Argument `input_length` is deprecated. Just remove it.\n",
            "  warnings.warn(\n"
          ]
        },
        {
          "data": {
            "text/html": [
              "<pre style=\"white-space:pre;overflow-x:auto;line-height:normal;font-family:Menlo,'DejaVu Sans Mono',consolas,'Courier New',monospace\"><span style=\"font-weight: bold\">Model: \"functional\"</span>\n",
              "</pre>\n"
            ],
            "text/plain": [
              "\u001b[1mModel: \"functional\"\u001b[0m\n"
            ]
          },
          "metadata": {},
          "output_type": "display_data"
        },
        {
          "data": {
            "text/html": [
              "<pre style=\"white-space:pre;overflow-x:auto;line-height:normal;font-family:Menlo,'DejaVu Sans Mono',consolas,'Courier New',monospace\">┏━━━━━━━━━━━━━━━━━━━━━━━━━━━━━━━━━┳━━━━━━━━━━━━━━━━━━━━━━━━┳━━━━━━━━━━━━━━━┓\n",
              "┃<span style=\"font-weight: bold\"> Layer (type)                    </span>┃<span style=\"font-weight: bold\"> Output Shape           </span>┃<span style=\"font-weight: bold\">       Param # </span>┃\n",
              "┡━━━━━━━━━━━━━━━━━━━━━━━━━━━━━━━━━╇━━━━━━━━━━━━━━━━━━━━━━━━╇━━━━━━━━━━━━━━━┩\n",
              "│ inputs (<span style=\"color: #0087ff; text-decoration-color: #0087ff\">InputLayer</span>)             │ (<span style=\"color: #00d7ff; text-decoration-color: #00d7ff\">None</span>, <span style=\"color: #00af00; text-decoration-color: #00af00\">500</span>)            │             <span style=\"color: #00af00; text-decoration-color: #00af00\">0</span> │\n",
              "├─────────────────────────────────┼────────────────────────┼───────────────┤\n",
              "│ embedding (<span style=\"color: #0087ff; text-decoration-color: #0087ff\">Embedding</span>)           │ (<span style=\"color: #00d7ff; text-decoration-color: #00d7ff\">None</span>, <span style=\"color: #00af00; text-decoration-color: #00af00\">500</span>, <span style=\"color: #00af00; text-decoration-color: #00af00\">128</span>)       │    <span style=\"color: #00af00; text-decoration-color: #00af00\">18,748,288</span> │\n",
              "├─────────────────────────────────┼────────────────────────┼───────────────┤\n",
              "│ lstm (<span style=\"color: #0087ff; text-decoration-color: #0087ff\">LSTM</span>)                     │ (<span style=\"color: #00d7ff; text-decoration-color: #00d7ff\">None</span>, <span style=\"color: #00af00; text-decoration-color: #00af00\">64</span>)             │        <span style=\"color: #00af00; text-decoration-color: #00af00\">49,408</span> │\n",
              "├─────────────────────────────────┼────────────────────────┼───────────────┤\n",
              "│ FC1 (<span style=\"color: #0087ff; text-decoration-color: #0087ff\">Dense</span>)                     │ (<span style=\"color: #00d7ff; text-decoration-color: #00d7ff\">None</span>, <span style=\"color: #00af00; text-decoration-color: #00af00\">256</span>)            │        <span style=\"color: #00af00; text-decoration-color: #00af00\">16,640</span> │\n",
              "├─────────────────────────────────┼────────────────────────┼───────────────┤\n",
              "│ activation (<span style=\"color: #0087ff; text-decoration-color: #0087ff\">Activation</span>)         │ (<span style=\"color: #00d7ff; text-decoration-color: #00d7ff\">None</span>, <span style=\"color: #00af00; text-decoration-color: #00af00\">256</span>)            │             <span style=\"color: #00af00; text-decoration-color: #00af00\">0</span> │\n",
              "├─────────────────────────────────┼────────────────────────┼───────────────┤\n",
              "│ dropout (<span style=\"color: #0087ff; text-decoration-color: #0087ff\">Dropout</span>)               │ (<span style=\"color: #00d7ff; text-decoration-color: #00d7ff\">None</span>, <span style=\"color: #00af00; text-decoration-color: #00af00\">256</span>)            │             <span style=\"color: #00af00; text-decoration-color: #00af00\">0</span> │\n",
              "├─────────────────────────────────┼────────────────────────┼───────────────┤\n",
              "│ out_layer (<span style=\"color: #0087ff; text-decoration-color: #0087ff\">Dense</span>)               │ (<span style=\"color: #00d7ff; text-decoration-color: #00d7ff\">None</span>, <span style=\"color: #00af00; text-decoration-color: #00af00\">1</span>)              │           <span style=\"color: #00af00; text-decoration-color: #00af00\">257</span> │\n",
              "├─────────────────────────────────┼────────────────────────┼───────────────┤\n",
              "│ activation_1 (<span style=\"color: #0087ff; text-decoration-color: #0087ff\">Activation</span>)       │ (<span style=\"color: #00d7ff; text-decoration-color: #00d7ff\">None</span>, <span style=\"color: #00af00; text-decoration-color: #00af00\">1</span>)              │             <span style=\"color: #00af00; text-decoration-color: #00af00\">0</span> │\n",
              "└─────────────────────────────────┴────────────────────────┴───────────────┘\n",
              "</pre>\n"
            ],
            "text/plain": [
              "┏━━━━━━━━━━━━━━━━━━━━━━━━━━━━━━━━━┳━━━━━━━━━━━━━━━━━━━━━━━━┳━━━━━━━━━━━━━━━┓\n",
              "┃\u001b[1m \u001b[0m\u001b[1mLayer (type)                   \u001b[0m\u001b[1m \u001b[0m┃\u001b[1m \u001b[0m\u001b[1mOutput Shape          \u001b[0m\u001b[1m \u001b[0m┃\u001b[1m \u001b[0m\u001b[1m      Param #\u001b[0m\u001b[1m \u001b[0m┃\n",
              "┡━━━━━━━━━━━━━━━━━━━━━━━━━━━━━━━━━╇━━━━━━━━━━━━━━━━━━━━━━━━╇━━━━━━━━━━━━━━━┩\n",
              "│ inputs (\u001b[38;5;33mInputLayer\u001b[0m)             │ (\u001b[38;5;45mNone\u001b[0m, \u001b[38;5;34m500\u001b[0m)            │             \u001b[38;5;34m0\u001b[0m │\n",
              "├─────────────────────────────────┼────────────────────────┼───────────────┤\n",
              "│ embedding (\u001b[38;5;33mEmbedding\u001b[0m)           │ (\u001b[38;5;45mNone\u001b[0m, \u001b[38;5;34m500\u001b[0m, \u001b[38;5;34m128\u001b[0m)       │    \u001b[38;5;34m18,748,288\u001b[0m │\n",
              "├─────────────────────────────────┼────────────────────────┼───────────────┤\n",
              "│ lstm (\u001b[38;5;33mLSTM\u001b[0m)                     │ (\u001b[38;5;45mNone\u001b[0m, \u001b[38;5;34m64\u001b[0m)             │        \u001b[38;5;34m49,408\u001b[0m │\n",
              "├─────────────────────────────────┼────────────────────────┼───────────────┤\n",
              "│ FC1 (\u001b[38;5;33mDense\u001b[0m)                     │ (\u001b[38;5;45mNone\u001b[0m, \u001b[38;5;34m256\u001b[0m)            │        \u001b[38;5;34m16,640\u001b[0m │\n",
              "├─────────────────────────────────┼────────────────────────┼───────────────┤\n",
              "│ activation (\u001b[38;5;33mActivation\u001b[0m)         │ (\u001b[38;5;45mNone\u001b[0m, \u001b[38;5;34m256\u001b[0m)            │             \u001b[38;5;34m0\u001b[0m │\n",
              "├─────────────────────────────────┼────────────────────────┼───────────────┤\n",
              "│ dropout (\u001b[38;5;33mDropout\u001b[0m)               │ (\u001b[38;5;45mNone\u001b[0m, \u001b[38;5;34m256\u001b[0m)            │             \u001b[38;5;34m0\u001b[0m │\n",
              "├─────────────────────────────────┼────────────────────────┼───────────────┤\n",
              "│ out_layer (\u001b[38;5;33mDense\u001b[0m)               │ (\u001b[38;5;45mNone\u001b[0m, \u001b[38;5;34m1\u001b[0m)              │           \u001b[38;5;34m257\u001b[0m │\n",
              "├─────────────────────────────────┼────────────────────────┼───────────────┤\n",
              "│ activation_1 (\u001b[38;5;33mActivation\u001b[0m)       │ (\u001b[38;5;45mNone\u001b[0m, \u001b[38;5;34m1\u001b[0m)              │             \u001b[38;5;34m0\u001b[0m │\n",
              "└─────────────────────────────────┴────────────────────────┴───────────────┘\n"
            ]
          },
          "metadata": {},
          "output_type": "display_data"
        },
        {
          "data": {
            "text/html": [
              "<pre style=\"white-space:pre;overflow-x:auto;line-height:normal;font-family:Menlo,'DejaVu Sans Mono',consolas,'Courier New',monospace\"><span style=\"font-weight: bold\"> Total params: </span><span style=\"color: #00af00; text-decoration-color: #00af00\">18,814,593</span> (71.77 MB)\n",
              "</pre>\n"
            ],
            "text/plain": [
              "\u001b[1m Total params: \u001b[0m\u001b[38;5;34m18,814,593\u001b[0m (71.77 MB)\n"
            ]
          },
          "metadata": {},
          "output_type": "display_data"
        },
        {
          "data": {
            "text/html": [
              "<pre style=\"white-space:pre;overflow-x:auto;line-height:normal;font-family:Menlo,'DejaVu Sans Mono',consolas,'Courier New',monospace\"><span style=\"font-weight: bold\"> Trainable params: </span><span style=\"color: #00af00; text-decoration-color: #00af00\">18,814,593</span> (71.77 MB)\n",
              "</pre>\n"
            ],
            "text/plain": [
              "\u001b[1m Trainable params: \u001b[0m\u001b[38;5;34m18,814,593\u001b[0m (71.77 MB)\n"
            ]
          },
          "metadata": {},
          "output_type": "display_data"
        },
        {
          "data": {
            "text/html": [
              "<pre style=\"white-space:pre;overflow-x:auto;line-height:normal;font-family:Menlo,'DejaVu Sans Mono',consolas,'Courier New',monospace\"><span style=\"font-weight: bold\"> Non-trainable params: </span><span style=\"color: #00af00; text-decoration-color: #00af00\">0</span> (0.00 B)\n",
              "</pre>\n"
            ],
            "text/plain": [
              "\u001b[1m Non-trainable params: \u001b[0m\u001b[38;5;34m0\u001b[0m (0.00 B)\n"
            ]
          },
          "metadata": {},
          "output_type": "display_data"
        },
        {
          "name": "stdout",
          "output_type": "stream",
          "text": [
            "Epoch 1/50\n",
            "\u001b[1m111/111\u001b[0m \u001b[32m━━━━━━━━━━━━━━━━━━━━\u001b[0m\u001b[37m\u001b[0m \u001b[1m56s\u001b[0m 484ms/step - accuracy: 0.6490 - loss: 0.6510 - val_accuracy: 0.6606 - val_loss: 0.6341\n",
            "Epoch 2/50\n",
            "\u001b[1m111/111\u001b[0m \u001b[32m━━━━━━━━━━━━━━━━━━━━\u001b[0m\u001b[37m\u001b[0m \u001b[1m54s\u001b[0m 488ms/step - accuracy: 0.6669 - loss: 0.6235 - val_accuracy: 0.6660 - val_loss: 0.6171\n",
            "Epoch 3/50\n",
            "\u001b[1m111/111\u001b[0m \u001b[32m━━━━━━━━━━━━━━━━━━━━\u001b[0m\u001b[37m\u001b[0m \u001b[1m55s\u001b[0m 495ms/step - accuracy: 0.6700 - loss: 0.6175 - val_accuracy: 0.6703 - val_loss: 0.6120\n",
            "Epoch 4/50\n",
            "\u001b[1m111/111\u001b[0m \u001b[32m━━━━━━━━━━━━━━━━━━━━\u001b[0m\u001b[37m\u001b[0m \u001b[1m51s\u001b[0m 458ms/step - accuracy: 0.6704 - loss: 0.6072 - val_accuracy: 0.6697 - val_loss: 0.6130\n",
            "Epoch 5/50\n",
            "\u001b[1m111/111\u001b[0m \u001b[32m━━━━━━━━━━━━━━━━━━━━\u001b[0m\u001b[37m\u001b[0m \u001b[1m51s\u001b[0m 462ms/step - accuracy: 0.6707 - loss: 0.6061 - val_accuracy: 0.6691 - val_loss: 0.6145\n",
            "Epoch 6/50\n",
            "\u001b[1m111/111\u001b[0m \u001b[32m━━━━━━━━━━━━━━━━━━━━\u001b[0m\u001b[37m\u001b[0m \u001b[1m55s\u001b[0m 498ms/step - accuracy: 0.6707 - loss: 0.6058 - val_accuracy: 0.6703 - val_loss: 0.6127\n"
          ]
        },
        {
          "data": {
            "text/plain": [
              "<keras.src.callbacks.history.History at 0x1d3c86f4a50>"
            ]
          },
          "execution_count": 44,
          "metadata": {},
          "output_type": "execute_result"
        }
      ],
      "source": [
        "model = lstm_model()\n",
        "model.summary()\n",
        "model.compile(loss='binary_crossentropy', optimizer=Adam(), metrics=['accuracy'])\n",
        "early_stopping = EarlyStopping(monitor='val_loss', patience=3, min_delta=0.00001)\n",
        "model.fit(X_train, y_train, batch_size=128, epochs=50, validation_split=0.2, verbose=1, callbacks=[early_stopping])"
      ]
    },
    {
      "cell_type": "markdown",
      "id": "aATG-aDBGlTW",
      "metadata": {
        "id": "aATG-aDBGlTW"
      },
      "source": [
        "#### Visualizing Accuracy and Loss"
      ]
    },
    {
      "cell_type": "code",
      "execution_count": 45,
      "id": "DwT-8bCumni6",
      "metadata": {
        "colab": {
          "base_uri": "https://localhost:8080/"
        },
        "id": "DwT-8bCumni6",
        "outputId": "e316df67-5a80-4ad2-8eaa-a2c6191d9731"
      },
      "outputs": [
        {
          "name": "stdout",
          "output_type": "stream",
          "text": [
            "\u001b[1m551/551\u001b[0m \u001b[32m━━━━━━━━━━━━━━━━━━━━\u001b[0m\u001b[37m\u001b[0m \u001b[1m18s\u001b[0m 33ms/step - accuracy: 0.6707 - loss: 0.6061\n",
            "loss of Training is 0.61\n",
            "accuracy of Training is 0.67\n"
          ]
        }
      ],
      "source": [
        "loss, acc = model.evaluate(X_train, y_train)\n",
        "print(f\"loss of Training is {loss:.2f}\")\n",
        "print(f\"accuracy of Training is {acc:.2f}\")"
      ]
    },
    {
      "cell_type": "code",
      "execution_count": 46,
      "id": "kHaMvl4VtadE",
      "metadata": {
        "colab": {
          "base_uri": "https://localhost:8080/",
          "height": 485
        },
        "id": "kHaMvl4VtadE",
        "outputId": "e02e4618-f3e4-498e-f9e0-7c06a717eb19"
      },
      "outputs": [
        {
          "data": {
            "image/png": "[encoded data removed]",
            "text/plain": [
              "<Figure size 640x480 with 1 Axes>"
            ]
          },
          "metadata": {},
          "output_type": "display_data"
        }
      ],
      "source": [
        "hist = model.history.history\n",
        "plt.plot(hist['accuracy'], label=\"Train Accuracy\")\n",
        "plt.plot(hist['val_accuracy'], label='Validation Accuracy')\n",
        "plt.title(\"Model Accuracy\")\n",
        "plt.xlabel('Epochs')\n",
        "plt.ylabel('Accuracy')\n",
        "plt.legend()\n",
        "plt.grid(True)\n",
        "plt.show()"
      ]
    },
    {
      "cell_type": "code",
      "execution_count": 47,
      "id": "d50bGKXcwm5R",
      "metadata": {
        "colab": {
          "base_uri": "https://localhost:8080/",
          "height": 485
        },
        "id": "d50bGKXcwm5R",
        "outputId": "36e76e04-225b-4eee-f7aa-014e1892b94c"
      },
      "outputs": [
        {
          "data": {
            "image/png": "[encoded data removed]",
            "text/plain": [
              "<Figure size 640x480 with 1 Axes>"
            ]
          },
          "metadata": {},
          "output_type": "display_data"
        }
      ],
      "source": [
        "plt.plot(hist['loss'], label=\"Train Loss\")\n",
        "plt.plot(hist['val_loss'], label='Validation loss')\n",
        "plt.title('Model Loss')\n",
        "plt.xlabel('Epochs')\n",
        "plt.ylabel('loss')\n",
        "plt.legend()\n",
        "plt.show()"
      ]
    },
    {
      "cell_type": "code",
      "execution_count": 48,
      "id": "QxqeEuqR2HTC",
      "metadata": {
        "colab": {
          "base_uri": "https://localhost:8080/",
          "height": 380
        },
        "id": "QxqeEuqR2HTC",
        "outputId": "e6364dd6-9621-4f76-f2a2-3f8098efc886"
      },
      "outputs": [
        {
          "name": "stdout",
          "output_type": "stream",
          "text": [
            "\u001b[1m138/138\u001b[0m \u001b[32m━━━━━━━━━━━━━━━━━━━━\u001b[0m\u001b[37m\u001b[0m \u001b[1m5s\u001b[0m 34ms/step\n"
          ]
        },
        {
          "data": {
            "text/html": [
              "<div>\n",
              "<style scoped>\n",
              "    .dataframe tbody tr th:only-of-type {\n",
              "        vertical-align: middle;\n",
              "    }\n",
              "\n",
              "    .dataframe tbody tr th {\n",
              "        vertical-align: top;\n",
              "    }\n",
              "\n",
              "    .dataframe thead th {\n",
              "        text-align: right;\n",
              "    }\n",
              "</style>\n",
              "<table border=\"1\" class=\"dataframe\">\n",
              "  <thead>\n",
              "    <tr style=\"text-align: right;\">\n",
              "      <th></th>\n",
              "      <th>Prediction</th>\n",
              "    </tr>\n",
              "  </thead>\n",
              "  <tbody>\n",
              "    <tr>\n",
              "      <th>0</th>\n",
              "      <td>0</td>\n",
              "    </tr>\n",
              "    <tr>\n",
              "      <th>1</th>\n",
              "      <td>0</td>\n",
              "    </tr>\n",
              "    <tr>\n",
              "      <th>2</th>\n",
              "      <td>0</td>\n",
              "    </tr>\n",
              "    <tr>\n",
              "      <th>3</th>\n",
              "      <td>0</td>\n",
              "    </tr>\n",
              "    <tr>\n",
              "      <th>4</th>\n",
              "      <td>0</td>\n",
              "    </tr>\n",
              "    <tr>\n",
              "      <th>5</th>\n",
              "      <td>0</td>\n",
              "    </tr>\n",
              "    <tr>\n",
              "      <th>6</th>\n",
              "      <td>0</td>\n",
              "    </tr>\n",
              "    <tr>\n",
              "      <th>7</th>\n",
              "      <td>1</td>\n",
              "    </tr>\n",
              "    <tr>\n",
              "      <th>8</th>\n",
              "      <td>0</td>\n",
              "    </tr>\n",
              "    <tr>\n",
              "      <th>9</th>\n",
              "      <td>0</td>\n",
              "    </tr>\n",
              "  </tbody>\n",
              "</table>\n",
              "</div>"
            ],
            "text/plain": [
              "   Prediction\n",
              "0           0\n",
              "1           0\n",
              "2           0\n",
              "3           0\n",
              "4           0\n",
              "5           0\n",
              "6           0\n",
              "7           1\n",
              "8           0\n",
              "9           0"
            ]
          },
          "execution_count": 48,
          "metadata": {},
          "output_type": "execute_result"
        }
      ],
      "source": [
        "y_pred = model.predict(X_test)\n",
        "y_pred = (y_pred > 0.5).astype(int)\n",
        "\n",
        "pd.DataFrame(y_pred[:10], columns=['Prediction'])"
      ]
    },
    {
      "cell_type": "code",
      "execution_count": 49,
      "id": "bdbOOxNrFns1",
      "metadata": {
        "colab": {
          "base_uri": "https://localhost:8080/"
        },
        "id": "bdbOOxNrFns1",
        "outputId": "1dd947d8-c05d-4173-da0d-9e9b0ff4f2bc"
      },
      "outputs": [
        {
          "name": "stdout",
          "output_type": "stream",
          "text": [
            "length of possible prediction spam: 99\n",
            "length of possible prediction ham: 4309\n"
          ]
        }
      ],
      "source": [
        "spam = 0\n",
        "ham = 0\n",
        "for i in y_pred:\n",
        "  if i == 1:\n",
        "    spam += 1\n",
        "  else:\n",
        "    ham += 1\n",
        "print(f\"length of possible prediction spam: {spam}\")\n",
        "print(f\"length of possible prediction ham: {ham}\")"
      ]
    },
    {
      "cell_type": "markdown",
      "id": "GpNdZDREG2IL",
      "metadata": {
        "id": "GpNdZDREG2IL"
      },
      "source": [
        "#### Visualizing Confusion Matrix"
      ]
    },
    {
      "cell_type": "code",
      "execution_count": 51,
      "id": "GDAKdegk3Jqz",
      "metadata": {
        "id": "GDAKdegk3Jqz"
      },
      "outputs": [],
      "source": [
        "from sklearn.metrics import confusion_matrix, classification_report, accuracy_score"
      ]
    },
    {
      "cell_type": "code",
      "execution_count": 52,
      "id": "4C2Qims227kv",
      "metadata": {
        "colab": {
          "base_uri": "https://localhost:8080/"
        },
        "id": "4C2Qims227kv",
        "outputId": "adb6deed-5c3a-45e3-8a5a-9af486e2a35a"
      },
      "outputs": [
        {
          "name": "stdout",
          "output_type": "stream",
          "text": [
            "confusion matrix \n",
            " [[2855 1447]\n",
            " [   7   99]]\n"
          ]
        }
      ],
      "source": [
        "cm = confusion_matrix(y_pred, y_test)\n",
        "print(f\"confusion matrix \\n {cm}\")"
      ]
    },
    {
      "cell_type": "code",
      "execution_count": 53,
      "id": "EbNiSXGk3RyN",
      "metadata": {
        "colab": {
          "base_uri": "https://localhost:8080/",
          "height": 561
        },
        "id": "EbNiSXGk3RyN",
        "outputId": "3765d5d9-f7db-4160-dbb3-2c77b392cac3"
      },
      "outputs": [
        {
          "data": {
            "image/png": "[encoded data removed]",
            "text/plain": [
              "<Figure size 1200x800 with 2 Axes>"
            ]
          },
          "metadata": {},
          "output_type": "display_data"
        }
      ],
      "source": [
        "plt.figure(figsize=(12, 8))\n",
        "sns.heatmap(cm, annot=True, cbar=True, cmap=\"viridis\")\n",
        "plt.title(\"confusion Matrix\", fontsize=14)\n",
        "plt.xlabel(\"Predicted labels\", fontsize=14)\n",
        "plt.ylabel('True Labels', fontsize=14)\n",
        "plt.show()"
      ]
    },
    {
      "cell_type": "code",
      "execution_count": 54,
      "id": "kmPyNtE6AOlY",
      "metadata": {
        "colab": {
          "base_uri": "https://localhost:8080/"
        },
        "id": "kmPyNtE6AOlY",
        "outputId": "ff444685-eaac-4c0f-e6f3-f1f85868021d"
      },
      "outputs": [
        {
          "name": "stdout",
          "output_type": "stream",
          "text": [
            "Classification report \n",
            "\n",
            "              precision    recall  f1-score   support\n",
            "\n",
            "           0       1.00      0.66      0.80      4302\n",
            "           1       0.06      0.93      0.12       106\n",
            "\n",
            "    accuracy                           0.67      4408\n",
            "   macro avg       0.53      0.80      0.46      4408\n",
            "weighted avg       0.98      0.67      0.78      4408\n",
            "\n"
          ]
        }
      ],
      "source": [
        "print(\"Classification report \\n\")\n",
        "print(classification_report(y_pred, y_test))"
      ]
    },
    {
      "cell_type": "markdown",
      "id": "wGzzxReHHAS1",
      "metadata": {
        "id": "wGzzxReHHAS1"
      },
      "source": [
        "#### Single Prediction"
      ]
    },
    {
      "cell_type": "code",
      "execution_count": 55,
      "id": "gWoWOFM4AdvN",
      "metadata": {
        "colab": {
          "base_uri": "https://localhost:8080/"
        },
        "id": "gWoWOFM4AdvN",
        "outputId": "646be251-1341-4445-bda0-efd02641d71d"
      },
      "outputs": [
        {
          "name": "stdout",
          "output_type": "stream",
          "text": [
            "before expanding dims : (array([  115,  1754,     7,     3,  3517,  4453,     7,    18,    16,\n",
            "         106,   194,    11,     7,     3,     2,     1,  5208,   341,\n",
            "       13644,     7,    10,   194,   705,    88,    35,  4156, 16754,\n",
            "        6872,  3541,   626,    51,    34,  1649,   310,   272,    54,\n",
            "         194,    11,   941,     7,    18,     9,    35,   526,    34,\n",
            "         187,     7,    10,    16,  3096,   514,     2,     1,    88,\n",
            "           2,     1,    89,    34,  1649,   160,   272,    54,    34,\n",
            "        4604,     3,   105,   120,     7,   125,    91,     3,     3,\n",
            "         745,   235,    91,    35,    54,    11,     7,    76,  2692,\n",
            "           4,  1207, 20982,   159,    98,    45,   211,    45,     7,\n",
            "         105,  1232,   120,     7,    76,   221, 20982,   159,   154,\n",
            "           7,   125,  1207,     3,  1104,    26,     7,   259,   105,\n",
            "         120,     7,   261,  5021,   514,     4,    10,     3,  3096,\n",
            "         514,  1802,    45,     2,     1,    88,   600,     9,    51,\n",
            "         218,   100, 97749,    10,  8996, 97750,  2448,    19, 11119,\n",
            "        4203,     2,     1,    13,     2,     1, 10353,   592,    56,\n",
            "        1852,     8,    10,    74,    17,    18,     3,    30,   104,\n",
            "          77,  1502,   330,   100, 97751,    18,     2,     1,   966,\n",
            "         763,   545,     4,     7,    18,    16,   272,    34,  5303,\n",
            "           8,     7,     3,    18,     9,    17,    76,    35,   675,\n",
            "        1502,    91,     3,   105,    54,     4,    58,    67,  2806,\n",
            "           7,    23,   272,     6,    39,   966,     6,     3,    32,\n",
            "           9, 20985,  2448,    19,    14,   151,   966,    67,  1819,\n",
            "           7,   257,    52,    36,   526,   125,    48,     4,    91,\n",
            "          58,   164,   447,    34,  4437,     4,  1529,    10, 25141,\n",
            "           4,  1230,   164,   447,    34,  9385,    17,     3, 20329,\n",
            "         154,   737,    17,   244,   106,     9,   169,   115,  1754,\n",
            "          67,  2806,    32,    14,   175,   405,   141,     7,   241,\n",
            "         557,    73,   257,    54,    52,     7,     3,    18,   105,\n",
            "          48,  1031,     7,    10,   284,    45,   490,    26,     7,\n",
            "          10,    36,     2,     1,     2,     1,   235,   160,    11,\n",
            "          92,   193,    45,    67,  2806,    80,   396,  1754,    67,\n",
            "        1819,     7,    10,    99,    87,     8,    51,     7,    10,\n",
            "           2,     1,    74,    34,   129,   405,   208,    30,   208,\n",
            "           7,    36,     2,     1,     2,     1,    67,  2806,   189,\n",
            "          97,  9410,    67,  1819,     7,     3,    94,     2,     1,\n",
            "         153,   208,     4,     7,    18,    16,   139,    78,   163,\n",
            "          38,     3,   130,    67,  1819,   414,    80,  1754,    67,\n",
            "        1819,     7,    10,     3,    57,     2,     1,   141,     4,\n",
            "         488,    10,     2,     1,    74,    34,   129,    11,     3,\n",
            "         306,   223,     7,    10,   454,    18,     7,    18,     3,\n",
            "         272,   101,    34,   774,     4,   104,   101,  8758,    12,\n",
            "          67,  1819,  1617,     7,    76, 17846,  3783,     4,     3,\n",
            "         272,   366,    52,    11,   175,    18,    17,    76,   187,\n",
            "        1043,     4,   268,   331,     2,     1,   648,  1082,    54,\n",
            "          38,    58,    38,     3,  9853,     4, 52002,    37,   244,\n",
            "           4,   106,   175,     7,   104,   101,  4584,     4,   651,\n",
            "          38,    76,     2,     1,   236,  1043,    38,     3,    61,\n",
            "         139,   639,   169,    97,  1754,   106,   175,     8,   623,\n",
            "       97752,    26,    23,    16,    35,  1303,   685,    11,    15,\n",
            "           3,    98,   454,   344,   400,   441,  2992,    14,   464,\n",
            "         184,    77,    40,  1730,   521,   946, 97753,   790,    46,\n",
            "          20,  1336,  1650,    14,  1901,    14,    49,    53,     3,\n",
            "        1172,  1514,   888,    47,    21,     6,   392,   696,    11,\n",
            "          47,    44,   184,   439,   226, 97754,  2806,   226, 45406,\n",
            "        1819,     4,   184,    50, 97755]), (500,))\n",
            "after expanding the col dims : (array([[  115,  1754,     7,     3,  3517,  4453,     7,    18,    16,\n",
            "          106,   194,    11,     7,     3,     2,     1,  5208,   341,\n",
            "        13644,     7,    10,   194,   705,    88,    35,  4156, 16754,\n",
            "         6872,  3541,   626,    51,    34,  1649,   310,   272,    54,\n",
            "          194,    11,   941,     7,    18,     9,    35,   526,    34,\n",
            "          187,     7,    10,    16,  3096,   514,     2,     1,    88,\n",
            "            2,     1,    89,    34,  1649,   160,   272,    54,    34,\n",
            "         4604,     3,   105,   120,     7,   125,    91,     3,     3,\n",
            "          745,   235,    91,    35,    54,    11,     7,    76,  2692,\n",
            "            4,  1207, 20982,   159,    98,    45,   211,    45,     7,\n",
            "          105,  1232,   120,     7,    76,   221, 20982,   159,   154,\n",
            "            7,   125,  1207,     3,  1104,    26,     7,   259,   105,\n",
            "          120,     7,   261,  5021,   514,     4,    10,     3,  3096,\n",
            "          514,  1802,    45,     2,     1,    88,   600,     9,    51,\n",
            "          218,   100, 97749,    10,  8996, 97750,  2448,    19, 11119,\n",
            "         4203,     2,     1,    13,     2,     1, 10353,   592,    56,\n",
            "         1852,     8,    10,    74,    17,    18,     3,    30,   104,\n",
            "           77,  1502,   330,   100, 97751,    18,     2,     1,   966,\n",
            "          763,   545,     4,     7,    18,    16,   272,    34,  5303,\n",
            "            8,     7,     3,    18,     9,    17,    76,    35,   675,\n",
            "         1502,    91,     3,   105,    54,     4,    58,    67,  2806,\n",
            "            7,    23,   272,     6,    39,   966,     6,     3,    32,\n",
            "            9, 20985,  2448,    19,    14,   151,   966,    67,  1819,\n",
            "            7,   257,    52,    36,   526,   125,    48,     4,    91,\n",
            "           58,   164,   447,    34,  4437,     4,  1529,    10, 25141,\n",
            "            4,  1230,   164,   447,    34,  9385,    17,     3, 20329,\n",
            "          154,   737,    17,   244,   106,     9,   169,   115,  1754,\n",
            "           67,  2806,    32,    14,   175,   405,   141,     7,   241,\n",
            "          557,    73,   257,    54,    52,     7,     3,    18,   105,\n",
            "           48,  1031,     7,    10,   284,    45,   490,    26,     7,\n",
            "           10,    36,     2,     1,     2,     1,   235,   160,    11,\n",
            "           92,   193,    45,    67,  2806,    80,   396,  1754,    67,\n",
            "         1819,     7,    10,    99,    87,     8,    51,     7,    10,\n",
            "            2,     1,    74,    34,   129,   405,   208,    30,   208,\n",
            "            7,    36,     2,     1,     2,     1,    67,  2806,   189,\n",
            "           97,  9410,    67,  1819,     7,     3,    94,     2,     1,\n",
            "          153,   208,     4,     7,    18,    16,   139,    78,   163,\n",
            "           38,     3,   130,    67,  1819,   414,    80,  1754,    67,\n",
            "         1819,     7,    10,     3,    57,     2,     1,   141,     4,\n",
            "          488,    10,     2,     1,    74,    34,   129,    11,     3,\n",
            "          306,   223,     7,    10,   454,    18,     7,    18,     3,\n",
            "          272,   101,    34,   774,     4,   104,   101,  8758,    12,\n",
            "           67,  1819,  1617,     7,    76, 17846,  3783,     4,     3,\n",
            "          272,   366,    52,    11,   175,    18,    17,    76,   187,\n",
            "         1043,     4,   268,   331,     2,     1,   648,  1082,    54,\n",
            "           38,    58,    38,     3,  9853,     4, 52002,    37,   244,\n",
            "            4,   106,   175,     7,   104,   101,  4584,     4,   651,\n",
            "           38,    76,     2,     1,   236,  1043,    38,     3,    61,\n",
            "          139,   639,   169,    97,  1754,   106,   175,     8,   623,\n",
            "        97752,    26,    23,    16,    35,  1303,   685,    11,    15,\n",
            "            3,    98,   454,   344,   400,   441,  2992,    14,   464,\n",
            "          184,    77,    40,  1730,   521,   946, 97753,   790,    46,\n",
            "           20,  1336,  1650,    14,  1901,    14,    49,    53,     3,\n",
            "         1172,  1514,   888,    47,    21,     6,   392,   696,    11,\n",
            "           47,    44,   184,   439,   226, 97754,  2806,   226, 45406,\n",
            "         1819,     4,   184,    50, 97755]]), (1, 500))\n",
            "\u001b[1m1/1\u001b[0m \u001b[32m━━━━━━━━━━━━━━━━━━━━\u001b[0m\u001b[37m\u001b[0m \u001b[1m0s\u001b[0m 40ms/step\n",
            "Ham\n"
          ]
        }
      ],
      "source": [
        "input_text =  X_test[8]\n",
        "print(f\"before expanding dims : {input_text, input_text.shape}\")\n",
        "input_text = np.expand_dims(input_text, axis=0)\n",
        "print(f\"after expanding the col dims : {input_text, input_text.shape}\")\n",
        "\n",
        "# make the prediction\n",
        "prediction = model.predict(input_text)\n",
        "\n",
        "if prediction[0][0] > 0.5:\n",
        "  print(\"Ham\")\n",
        "else:\n",
        "  print(\"Spam\")"
      ]
    },
    {
      "cell_type": "code",
      "execution_count": 56,
      "id": "ebba168f",
      "metadata": {},
      "outputs": [],
      "source": [
        "# saving model pkl \n",
        "model.save('saved_email_classification.keras')"
      ]
    },
    {
      "cell_type": "code",
      "execution_count": 62,
      "id": "a84e7d83",
      "metadata": {},
      "outputs": [
        {
          "name": "stdout",
          "output_type": "stream",
          "text": [
            "Epoch 1/10\n"
          ]
        },
        {
          "name": "stderr",
          "output_type": "stream",
          "text": [
            "c:\\Users\\Asus\\anaconda3\\envs\\myenv\\Lib\\site-packages\\keras\\src\\layers\\core\\embedding.py:97: UserWarning: Argument `input_length` is deprecated. Just remove it.\n",
            "  warnings.warn(\n"
          ]
        },
        {
          "name": "stdout",
          "output_type": "stream",
          "text": [
            "\u001b[1m882/882\u001b[0m \u001b[32m━━━━━━━━━━━━━━━━━━━━\u001b[0m\u001b[37m\u001b[0m \u001b[1m68s\u001b[0m 75ms/step - accuracy: 0.9146 - loss: 0.1885 - val_accuracy: 0.9787 - val_loss: 0.0669\n",
            "Epoch 2/10\n",
            "\u001b[1m882/882\u001b[0m \u001b[32m━━━━━━━━━━━━━━━━━━━━\u001b[0m\u001b[37m\u001b[0m \u001b[1m66s\u001b[0m 75ms/step - accuracy: 0.9926 - loss: 0.0226 - val_accuracy: 0.9501 - val_loss: 0.1418\n",
            "Epoch 3/10\n",
            "\u001b[1m882/882\u001b[0m \u001b[32m━━━━━━━━━━━━━━━━━━━━\u001b[0m\u001b[37m\u001b[0m \u001b[1m66s\u001b[0m 75ms/step - accuracy: 0.9984 - loss: 0.0059 - val_accuracy: 0.9626 - val_loss: 0.1158\n",
            "Epoch 4/10\n",
            "\u001b[1m882/882\u001b[0m \u001b[32m━━━━━━━━━━━━━━━━━━━━\u001b[0m\u001b[37m\u001b[0m \u001b[1m153s\u001b[0m 174ms/step - accuracy: 0.9918 - loss: 0.0488 - val_accuracy: 0.9600 - val_loss: 0.1763\n"
          ]
        }
      ],
      "source": [
        "from tensorflow.keras.models import Sequential\n",
        "from tensorflow.keras.layers import Embedding, Dense, Flatten\n",
        "\n",
        "vocab_size = len(default_tokenizer.word_index) + 1  # 146471\n",
        "max_length = 500 \n",
        "\n",
        "model = Sequential()\n",
        "model.add(Embedding(input_dim=vocab_size, output_dim=100, input_length=max_length))\n",
        "model.add(Flatten())\n",
        "model.add(Dense(64, activation='relu'))\n",
        "model.add(Dense(128, activation='relu'))\n",
        "model.add(Dense(1, activation='sigmoid'))\n",
        "\n",
        "model.compile(optimizer=Adam(), loss='binary_crossentropy', metrics=['accuracy'])\n",
        "\n",
        "history = model.fit(X_train, y_train, epochs=10, batch_size=16, validation_split=0.2, shuffle=True, callbacks=[early_stopping])"
      ]
    },
    {
      "cell_type": "markdown",
      "id": "a5678f45",
      "metadata": {},
      "source": [
        "#### ANN model evaluating"
      ]
    },
    {
      "cell_type": "code",
      "execution_count": 63,
      "id": "e3e98863",
      "metadata": {},
      "outputs": [
        {
          "name": "stdout",
          "output_type": "stream",
          "text": [
            "\u001b[1m551/551\u001b[0m \u001b[32m━━━━━━━━━━━━━━━━━━━━\u001b[0m\u001b[37m\u001b[0m \u001b[1m3s\u001b[0m 5ms/step - accuracy: 0.9805 - loss: 0.0650\n",
            "loss of training is 0.07\n",
            "accuracy of training is 0.98\n"
          ]
        }
      ],
      "source": [
        "loss, acc = model.evaluate(X_train, y_train)\n",
        "print(f'loss of training is {loss:.2f}')\n",
        "print(f\"accuracy of training is {acc:.2f}\")"
      ]
    },
    {
      "cell_type": "code",
      "execution_count": 64,
      "id": "7e8f7c9e",
      "metadata": {},
      "outputs": [
        {
          "data": {
            "image/png": "[encoded data removed]",
            "text/plain": [
              "<Figure size 640x480 with 1 Axes>"
            ]
          },
          "metadata": {},
          "output_type": "display_data"
        }
      ],
      "source": [
        "hist = history.history\n",
        "plt.plot(hist['accuracy'], label='Train Accuracy')\n",
        "plt.plot(hist['val_accuracy'], label='Validation Accuracy')\n",
        "plt.title(\"Model Accuracy\")\n",
        "plt.xlabel(\"Epochs\")\n",
        "plt.ylabel('Accuracy')\n",
        "plt.legend()\n",
        "plt.show()"
      ]
    },
    {
      "cell_type": "code",
      "execution_count": 65,
      "id": "2b242168",
      "metadata": {},
      "outputs": [
        {
          "data": {
            "text/plain": [
              "<matplotlib.legend.Legend at 0x1d3c7016010>"
            ]
          },
          "execution_count": 65,
          "metadata": {},
          "output_type": "execute_result"
        },
        {
          "data": {
            "image/png": "[encoded data removed]",
            "text/plain": [
              "<Figure size 640x480 with 1 Axes>"
            ]
          },
          "metadata": {},
          "output_type": "display_data"
        }
      ],
      "source": [
        "plt.plot(hist['loss'], label='Train loss')\n",
        "plt.plot(hist['val_loss'], label='Validation Loss')\n",
        "plt.title('Model Loss')\n",
        "plt.xlabel('Epochs')\n",
        "plt.ylabel('Loss')\n",
        "plt.legend()"
      ]
    },
    {
      "cell_type": "code",
      "execution_count": 66,
      "id": "d94776c3",
      "metadata": {},
      "outputs": [
        {
          "name": "stdout",
          "output_type": "stream",
          "text": [
            "\u001b[1m138/138\u001b[0m \u001b[32m━━━━━━━━━━━━━━━━━━━━\u001b[0m\u001b[37m\u001b[0m \u001b[1m0s\u001b[0m 2ms/step\n"
          ]
        },
        {
          "data": {
            "text/html": [
              "<div>\n",
              "<style scoped>\n",
              "    .dataframe tbody tr th:only-of-type {\n",
              "        vertical-align: middle;\n",
              "    }\n",
              "\n",
              "    .dataframe tbody tr th {\n",
              "        vertical-align: top;\n",
              "    }\n",
              "\n",
              "    .dataframe thead th {\n",
              "        text-align: right;\n",
              "    }\n",
              "</style>\n",
              "<table border=\"1\" class=\"dataframe\">\n",
              "  <thead>\n",
              "    <tr style=\"text-align: right;\">\n",
              "      <th></th>\n",
              "      <th>0</th>\n",
              "    </tr>\n",
              "  </thead>\n",
              "  <tbody>\n",
              "    <tr>\n",
              "      <th>0</th>\n",
              "      <td>0</td>\n",
              "    </tr>\n",
              "    <tr>\n",
              "      <th>1</th>\n",
              "      <td>0</td>\n",
              "    </tr>\n",
              "    <tr>\n",
              "      <th>2</th>\n",
              "      <td>0</td>\n",
              "    </tr>\n",
              "    <tr>\n",
              "      <th>3</th>\n",
              "      <td>0</td>\n",
              "    </tr>\n",
              "    <tr>\n",
              "      <th>4</th>\n",
              "      <td>1</td>\n",
              "    </tr>\n",
              "    <tr>\n",
              "      <th>5</th>\n",
              "      <td>1</td>\n",
              "    </tr>\n",
              "    <tr>\n",
              "      <th>6</th>\n",
              "      <td>1</td>\n",
              "    </tr>\n",
              "    <tr>\n",
              "      <th>7</th>\n",
              "      <td>1</td>\n",
              "    </tr>\n",
              "    <tr>\n",
              "      <th>8</th>\n",
              "      <td>1</td>\n",
              "    </tr>\n",
              "    <tr>\n",
              "      <th>9</th>\n",
              "      <td>0</td>\n",
              "    </tr>\n",
              "  </tbody>\n",
              "</table>\n",
              "</div>"
            ],
            "text/plain": [
              "   0\n",
              "0  0\n",
              "1  0\n",
              "2  0\n",
              "3  0\n",
              "4  1\n",
              "5  1\n",
              "6  1\n",
              "7  1\n",
              "8  1\n",
              "9  0"
            ]
          },
          "execution_count": 66,
          "metadata": {},
          "output_type": "execute_result"
        }
      ],
      "source": [
        "y_pred_ann = model.predict(X_test)\n",
        "y_pred = (y_pred_ann > 0.5).astype(int) \n",
        "pd.DataFrame(y_pred[:10])"
      ]
    },
    {
      "cell_type": "code",
      "execution_count": 69,
      "id": "eed675f4",
      "metadata": {},
      "outputs": [],
      "source": [
        "from sklearn.metrics import confusion_matrix"
      ]
    },
    {
      "cell_type": "code",
      "execution_count": 70,
      "id": "1c1c10ff",
      "metadata": {},
      "outputs": [
        {
          "name": "stdout",
          "output_type": "stream",
          "text": [
            "confusion matrix \n",
            " [[2673   26]\n",
            " [ 183 1526]]\n"
          ]
        }
      ],
      "source": [
        "cm = confusion_matrix(y_pred, y_test)\n",
        "print(f\"confusion matrix \\n {cm}\")      "
      ]
    },
    {
      "cell_type": "code",
      "execution_count": 71,
      "id": "75d91b02",
      "metadata": {},
      "outputs": [
        {
          "data": {
            "text/plain": [
              "Text(113.24999999999999, 0.5, 'True labels')"
            ]
          },
          "execution_count": 71,
          "metadata": {},
          "output_type": "execute_result"
        },
        {
          "data": {
            "image/png": "[encoded data removed]",
            "text/plain": [
              "<Figure size 1200x800 with 2 Axes>"
            ]
          },
          "metadata": {},
          "output_type": "display_data"
        }
      ],
      "source": [
        "plt.figure(figsize=(12, 8))\n",
        "sns.heatmap(cm, annot=True, cbar=True, cmap='viridis')\n",
        "plt.title('confusion matrix', fontsize=14)\n",
        "plt.xlabel(\"Predicted labels\", fontsize=14)\n",
        "plt.ylabel(\"True labels\", fontsize=14)\n"
      ]
    },
    {
      "cell_type": "code",
      "execution_count": 81,
      "id": "ffdbb4b4",
      "metadata": {},
      "outputs": [
        {
          "name": "stdout",
          "output_type": "stream",
          "text": [
            "subject 🎉 congratulation 've  NUM_TOKEN , NUM_TOKEN , NUM_TOKEN  🎉 winner-notification lottery-international.biz body dear lucky winner congratulation select grand prize winner international email lottery email address randomly select million address worldwide  NUM_TOKEN , NUM_TOKEN , NUM_TOKEN  usd claim prize must respond within  NUM_TOKEN  hour follow information full name address phone number bank account detail copy id/passport urgent send process fee  NUM_TOKEN  via western union claim winning immediately contact claim agent mr. johnson smith email claims.agent.smith totally-legit-lottery.com phone + PHONE_TOKEN  offer expire tomorrow n't miss once-in-a-lifetime opportunity best regard international lottery commission\n",
            "[[5, 41399, 2362, 613, 2, 1, 2, 1, 2, 1, 41399, 1830, 924, 1962, 158, 2051, 885, 686, 2182, 1830, 2362, 511, 2251, 1579, 1830, 158, 25, 1962, 25, 28, 4798, 511, 138, 28, 1390, 2, 1, 2, 1, 2, 1, 1139, 405, 1579, 139, 805, 127, 2, 1, 203, 120, 18, 233, 46, 28, 103, 4, 342, 190, 313, 147, 648, 5440, 2435, 26, 170, 338, 2, 1, 365, 1302, 2132, 405, 4401, 712, 97, 405, 864, 419, 2560, 1178, 25, 88569, 864, 1178, 2212, 10694, 1962, 23, 103, 103, 1, 102, 3291, 1616, 33, 937, 8814, 828, 892, 2790, 282, 131, 240, 158, 1962, 980]]\n",
            "[[    5 41399  2362   613     2     1     2     1     2     1 41399  1830\n",
            "    924  1962   158  2051   885   686  2182  1830  2362   511  2251  1579\n",
            "   1830   158    25  1962    25    28  4798   511   138    28  1390     2\n",
            "      1     2     1     2     1  1139   405  1579   139   805   127     2\n",
            "      1   203   120    18   233    46    28   103     4   342   190   313\n",
            "    147   648  5440  2435    26   170   338     2     1   365  1302  2132\n",
            "    405  4401   712    97   405   864   419  2560  1178    25 88569   864\n",
            "   1178  2212 10694  1962    23   103   103     1   102  3291  1616    33\n",
            "    937  8814   828   892  2790   282   131   240   158  1962   980     0\n",
            "      0     0     0     0     0     0     0     0     0     0     0     0\n",
            "      0     0     0     0     0     0     0     0     0     0     0     0\n",
            "      0     0     0     0     0     0     0     0     0     0     0     0\n",
            "      0     0     0     0     0     0     0     0     0     0     0     0\n",
            "      0     0     0     0     0     0     0     0     0     0     0     0\n",
            "      0     0     0     0     0     0     0     0     0     0     0     0\n",
            "      0     0     0     0     0     0     0     0     0     0     0     0\n",
            "      0     0     0     0     0     0     0     0     0     0     0     0\n",
            "      0     0     0     0     0     0     0     0     0     0     0     0\n",
            "      0     0     0     0     0     0     0     0     0     0     0     0\n",
            "      0     0     0     0     0     0     0     0     0     0     0     0\n",
            "      0     0     0     0     0     0     0     0     0     0     0     0\n",
            "      0     0     0     0     0     0     0     0     0     0     0     0\n",
            "      0     0     0     0     0     0     0     0     0     0     0     0\n",
            "      0     0     0     0     0     0     0     0     0     0     0     0\n",
            "      0     0     0     0     0     0     0     0     0     0     0     0\n",
            "      0     0     0     0     0     0     0     0     0     0     0     0\n",
            "      0     0     0     0     0     0     0     0     0     0     0     0\n",
            "      0     0     0     0     0     0     0     0     0     0     0     0\n",
            "      0     0     0     0     0     0     0     0     0     0     0     0\n",
            "      0     0     0     0     0     0     0     0     0     0     0     0\n",
            "      0     0     0     0     0     0     0     0     0     0     0     0\n",
            "      0     0     0     0     0     0     0     0     0     0     0     0\n",
            "      0     0     0     0     0     0     0     0     0     0     0     0\n",
            "      0     0     0     0     0     0     0     0     0     0     0     0\n",
            "      0     0     0     0     0     0     0     0     0     0     0     0\n",
            "      0     0     0     0     0     0     0     0     0     0     0     0\n",
            "      0     0     0     0     0     0     0     0     0     0     0     0\n",
            "      0     0     0     0     0     0     0     0     0     0     0     0\n",
            "      0     0     0     0     0     0     0     0     0     0     0     0\n",
            "      0     0     0     0     0     0     0     0     0     0     0     0\n",
            "      0     0     0     0     0     0     0     0     0     0     0     0\n",
            "      0     0     0     0     0     0     0     0]]\n"
          ]
        },
        {
          "data": {
            "text/plain": [
              "(1, 500)"
            ]
          },
          "execution_count": 81,
          "metadata": {},
          "output_type": "execute_result"
        }
      ],
      "source": [
        "text = \"\"\"\n",
        "Subject: 🎉 CONGRATULATIONS! You've Won $1,000,000! 🎉\n",
        "From: winner-notification@lottery-international.biz\n",
        "Body:\n",
        "DEAR LUCKY WINNER!!!\n",
        "CONGRATULATIONS! You have been selected as the GRAND PRIZE WINNER of our International Email Lottery! Your email address was randomly selected from millions of addresses worldwide.\n",
        "YOU HAVE WON: $1,000,000 USD!!!\n",
        "To claim your prize, you MUST respond within 24 HOURS with the following information:\n",
        "\n",
        "Full Name\n",
        "Address\n",
        "Phone Number\n",
        "Bank Account Details\n",
        "Copy of ID/Passport\n",
        "\n",
        "URGENT: Send processing fee of $500 via Western Union to claim your winnings immediately!\n",
        "Contact our claims agent: Mr. Johnson Smith\n",
        "Email: claims.agent.smith@totally-legit-lottery.com\n",
        "Phone: +234-555-7845\n",
        "This offer expires TOMORROW! Don't miss this once-in-a-lifetime opportunity!\n",
        "Best Regards,\n",
        "International Lottery Commission\n",
        "\"\"\"\n",
        "\n",
        "preprocessing_text = text_preprocessing(text)\n",
        "print(preprocessing_text)\n",
        "sequences = default_tokenizer.texts_to_sequences([preprocessing_text])\n",
        "print(sequences)\n",
        "padding = pad_sequences(sequences, maxlen=sent_length, padding='post')\n",
        "print(padding)\n",
        "padding.shape"
      ]
    },
    {
      "cell_type": "code",
      "execution_count": 82,
      "id": "6a222d27",
      "metadata": {},
      "outputs": [
        {
          "name": "stdout",
          "output_type": "stream",
          "text": [
            "\u001b[1m1/1\u001b[0m \u001b[32m━━━━━━━━━━━━━━━━━━━━\u001b[0m\u001b[37m\u001b[0m \u001b[1m0s\u001b[0m 30ms/step\n",
            "[[ True]]\n"
          ]
        }
      ],
      "source": [
        "single_pred = model.predict(padding)\n",
        "print(single_pred > 0.5)"
      ]
    },
    {
      "cell_type": "code",
      "execution_count": null,
      "id": "d01ab527",
      "metadata": {},
      "outputs": [],
      "source": []
    }
  ],
  "metadata": {
    "colab": {
      "provenance": [],
      "toc_visible": true
    },
    "kernelspec": {
      "display_name": "myenv",
      "language": "python",
      "name": "python3"
    },
    "language_info": {
      "codemirror_mode": {
        "name": "ipython",
        "version": 3
      },
      "file_extension": ".py",
      "mimetype": "text/x-python",
      "name": "python",
      "nbconvert_exporter": "python",
      "pygments_lexer": "ipython3",
      "version": "3.11.13"
    }
  },
  "nbformat": 4,
  "nbformat_minor": 5
}
