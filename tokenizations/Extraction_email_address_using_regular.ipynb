{
  "nbformat": 4,
  "nbformat_minor": 0,
  "metadata": {
    "colab": {
      "provenance": []
    },
    "kernelspec": {
      "name": "python3",
      "display_name": "Python 3"
    },
    "language_info": {
      "name": "python"
    }
  },
  "cells": [
    {
      "cell_type": "markdown",
      "source": [
        "### Extracting email adresses using regular expressions\n",
        "let's us imagine we have to read some phone numbers, email addresses dates, a collection of words etc, then you can use Regular expressions."
      ],
      "metadata": {
        "id": "XET_S84CaXVD"
      }
    },
    {
      "cell_type": "code",
      "execution_count": 2,
      "metadata": {
        "colab": {
          "base_uri": "https://localhost:8080/"
        },
        "id": "wI3Gx1xzZVVj",
        "outputId": "565a785f-a191-4c2f-882b-78fea1aba6d6"
      },
      "outputs": [
        {
          "output_type": "stream",
          "name": "stdout",
          "text": [
            "['shiva!']\n"
          ]
        }
      ],
      "source": [
        "import re\n",
        "text = \"Hi my name is shiva!\"\n",
        "pattern = r'shiva[.,;:!]$'\n",
        "matches = re.findall(pattern, text)\n",
        "print(matches)"
      ]
    },
    {
      "cell_type": "code",
      "source": [
        "matches = re.findall(r'\\s+', '     shiva')\n",
        "print(matches)"
      ],
      "metadata": {
        "colab": {
          "base_uri": "https://localhost:8080/"
        },
        "id": "tX0yDm_dcC1n",
        "outputId": "6eb421a6-f949-4d16-ec2a-1fa00d985759"
      },
      "execution_count": 3,
      "outputs": [
        {
          "output_type": "stream",
          "name": "stdout",
          "text": [
            "['     ']\n"
          ]
        }
      ]
    },
    {
      "cell_type": "code",
      "source": [
        "matches = re.findall(r'\\S+', '    SHIVA CHAUDHARY')\n",
        "print(matches)"
      ],
      "metadata": {
        "colab": {
          "base_uri": "https://localhost:8080/"
        },
        "id": "Xym-VyJjcovw",
        "outputId": "8e42bd50-3499-4807-cb5f-8b902c73f3e5"
      },
      "execution_count": 5,
      "outputs": [
        {
          "output_type": "stream",
          "name": "stdout",
          "text": [
            "['SHIVA', 'CHAUDHARY']\n"
          ]
        }
      ]
    },
    {
      "cell_type": "code",
      "source": [
        "matches = re.findall(r's*', 'sssshiva')\n",
        "print(matches)"
      ],
      "metadata": {
        "colab": {
          "base_uri": "https://localhost:8080/"
        },
        "id": "82MDk_m8c0A8",
        "outputId": "29badf27-c469-4c94-8bda-ce8b84abdc1c"
      },
      "execution_count": 6,
      "outputs": [
        {
          "output_type": "stream",
          "name": "stdout",
          "text": [
            "['ssss', '', '', '', '', '']\n"
          ]
        }
      ]
    },
    {
      "cell_type": "code",
      "source": [
        "matches = re.findall(r's+', 'sssshiva')\n",
        "print(matches)"
      ],
      "metadata": {
        "colab": {
          "base_uri": "https://localhost:8080/"
        },
        "id": "62Vm6AkpdGhA",
        "outputId": "f566ada0-6742-491c-f2c5-c1dfa25d64c0"
      },
      "execution_count": 7,
      "outputs": [
        {
          "output_type": "stream",
          "name": "stdout",
          "text": [
            "['ssss']\n"
          ]
        }
      ]
    },
    {
      "cell_type": "code",
      "source": [
        "matches = re.findall(r's*?', 'ssssssshiva')\n",
        "print(matches)"
      ],
      "metadata": {
        "colab": {
          "base_uri": "https://localhost:8080/"
        },
        "id": "YIXVUmB2g-79",
        "outputId": "86a8a1d4-f662-487e-c522-b74c18ce8f20"
      },
      "execution_count": 8,
      "outputs": [
        {
          "output_type": "stream",
          "name": "stdout",
          "text": [
            "['', 's', '', 's', '', 's', '', 's', '', 's', '', 's', '', 's', '', '', '', '', '']\n"
          ]
        }
      ]
    },
    {
      "cell_type": "code",
      "source": [
        "matches = re.findall(r'hongk+?', 'hiuu ta haina hongkong pokhara.')\n",
        "print(matches)"
      ],
      "metadata": {
        "colab": {
          "base_uri": "https://localhost:8080/"
        },
        "id": "0fMj76v5hUwq",
        "outputId": "ccedab90-6cac-4354-8b8d-99f3baf6d57f"
      },
      "execution_count": 9,
      "outputs": [
        {
          "output_type": "stream",
          "name": "stdout",
          "text": [
            "['hongk']\n"
          ]
        }
      ]
    },
    {
      "cell_type": "code",
      "source": [
        "matches = re.findall(r'[0-9a-z]', '980005403054')\n",
        "print(matches)"
      ],
      "metadata": {
        "colab": {
          "base_uri": "https://localhost:8080/"
        },
        "id": "dwT4RR4RhsB4",
        "outputId": "76108d21-9d73-4155-dce4-fbe9ce1e0fb9"
      },
      "execution_count": 11,
      "outputs": [
        {
          "output_type": "stream",
          "name": "stdout",
          "text": [
            "['9', '8', '0', '0', '0', '5', '4', '0', '3', '0', '5', '4']\n"
          ]
        }
      ]
    },
    {
      "cell_type": "code",
      "source": [
        "matches = re.findall(r'[^XYZ]', 'XYZ college')  # matches a single character not in a listed set\n",
        "print(matches)"
      ],
      "metadata": {
        "colab": {
          "base_uri": "https://localhost:8080/"
        },
        "id": "1qdKQBp4h9QN",
        "outputId": "eb560058-1e2f-4152-c5cd-34cc9bb914e7"
      },
      "execution_count": 12,
      "outputs": [
        {
          "output_type": "stream",
          "name": "stdout",
          "text": [
            "[' ', 'c', 'o', 'l', 'l', 'e', 'g', 'e']\n"
          ]
        }
      ]
    },
    {
      "cell_type": "code",
      "source": [
        "s = ' hello from shivachaudhary4116@gmail.com \\\n",
        "to chandanshah198@gmail.com\\\n",
        "'\n",
        "matches = re.findall('\\S+@\\S+', s)\n",
        "print(matches)"
      ],
      "metadata": {
        "colab": {
          "base_uri": "https://localhost:8080/"
        },
        "id": "o-Jil3cMiRyj",
        "outputId": "69862d16-fac4-458c-9c0a-cb182deb34d9"
      },
      "execution_count": 14,
      "outputs": [
        {
          "output_type": "stream",
          "name": "stdout",
          "text": [
            "['shivachaudhary4116@gmail.com', 'chandanshah198@gmail.com']\n"
          ]
        }
      ]
    }
  ]
}