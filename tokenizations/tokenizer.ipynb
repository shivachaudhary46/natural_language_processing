{
 "cells": [
  {
   "cell_type": "code",
   "execution_count": 7,
   "id": "fb15c047",
   "metadata": {},
   "outputs": [
    {
     "name": "stderr",
     "output_type": "stream",
     "text": [
      "[nltk_data] Downloading package punkt to /Users/shiva/nltk_data...\n",
      "[nltk_data]   Package punkt is already up-to-date!\n"
     ]
    },
    {
     "data": {
      "text/plain": [
       "True"
      ]
     },
     "execution_count": 7,
     "metadata": {},
     "output_type": "execute_result"
    }
   ],
   "source": [
    "'''first install nltk library of the python \n",
    "we need to know basic keyword of NLP which is \n",
    "1. corpus -> paragraph\n",
    "2. Sentences -> datapoints\n",
    "3. Vocabulary -> unique words in Corpus\n",
    "4. words -> independent words\n",
    "'''\n",
    "import nltk\n",
    "nltk.download('punkt')"
   ]
  },
  {
   "cell_type": "code",
   "execution_count": 8,
   "id": "7a124385",
   "metadata": {},
   "outputs": [
    {
     "data": {
      "text/plain": [
       "['Hello',\n",
       " 'guys',\n",
       " 'good',\n",
       " 'morning',\n",
       " '!!!,',\n",
       " 'my',\n",
       " 'name',\n",
       " \"'\",\n",
       " 's',\n",
       " 'shiva',\n",
       " 'chaudhary',\n",
       " '.',\n",
       " 'my',\n",
       " 'dream',\n",
       " '!',\n",
       " 'is',\n",
       " 'to',\n",
       " 'become',\n",
       " 'a',\n",
       " 'good',\n",
       " 'leader',\n",
       " 'and',\n",
       " 'ML',\n",
       " 'engineer',\n",
       " '.']"
      ]
     },
     "execution_count": 8,
     "metadata": {},
     "output_type": "execute_result"
    }
   ],
   "source": [
    "corpus = \"\"\"\n",
    "    Hello guys good morning!!!, my name's shiva chaudhary.\n",
    "    my dream! is to become a good leader and ML engineer.\n",
    "\"\"\"\n",
    "\n",
    "tokens = nltk.wordpunct_tokenize(corpus)\n",
    "tokens "
   ]
  },
  {
   "cell_type": "code",
   "execution_count": 9,
   "id": "053b1d8c",
   "metadata": {},
   "outputs": [
    {
     "data": {
      "text/plain": [
       "['Hello',\n",
       " 'guys',\n",
       " 'good',\n",
       " 'morning',\n",
       " '!',\n",
       " '!',\n",
       " '!',\n",
       " ',',\n",
       " 'my',\n",
       " 'name',\n",
       " \"'s\",\n",
       " 'shiva',\n",
       " 'chaudhary.',\n",
       " 'my',\n",
       " 'dream',\n",
       " '!',\n",
       " 'is',\n",
       " 'to',\n",
       " 'become',\n",
       " 'a',\n",
       " 'good',\n",
       " 'leader',\n",
       " 'and',\n",
       " 'ML',\n",
       " 'engineer',\n",
       " '.']"
      ]
     },
     "execution_count": 9,
     "metadata": {},
     "output_type": "execute_result"
    }
   ],
   "source": [
    "from nltk.tokenize import TreebankWordTokenizer\n",
    "tokenizer = TreebankWordTokenizer()\n",
    "tokenizer.tokenize(corpus)"
   ]
  },
  {
   "cell_type": "code",
   "execution_count": 10,
   "id": "2d2bcff8",
   "metadata": {},
   "outputs": [],
   "source": [
    "from nltk.stem import PorterStemmer\n",
    "from nltk.corpus import stopwords\n"
   ]
  },
  {
   "cell_type": "code",
   "execution_count": 11,
   "id": "a647a343",
   "metadata": {},
   "outputs": [],
   "source": [
    "## adding the corpus \n",
    "paragraph = \"\"\" \n",
    "    Hritik Rakesh Nagrath[1] (born 10 January 1974), known professionally as Hrithik Roshan (Hindi: [ˈɾɪt̪ɪk ɾoːʃən];[2]) is an Indian actor who works in Hindi cinema. He has portrayed a variety of characters and is known for his dancing skills. One of the highest-paid actors in India, he has won many awards, including six Filmfare Awards, of which four were for Best Actor. Starting from 2012, he has appeared in Forbes India's Celebrity 100 several times based on his income and popularity.\n",
    "\n",
    "Roshan has frequently collaborated with his father, Rakesh Roshan. He made brief appearances as a child actor in several films in the 1980s and later worked as an assistant director on four of his father's films. His first leading role was in the box-office success Kaho Naa... Pyaar Hai (2000), for which he received several awards. Performances in the 2000 terrorism drama Fiza and the 2001 ensemble family drama Kabhi Khushi Kabhie Gham... consolidated his reputation but were followed by several poorly received films.\n",
    "\n",
    "\"\"\""
   ]
  },
  {
   "cell_type": "code",
   "execution_count": 12,
   "id": "2dce0fc0",
   "metadata": {},
   "outputs": [
    {
     "data": {
      "text/plain": [
       "['Hello',\n",
       " 'guys',\n",
       " 'good',\n",
       " 'morning',\n",
       " '!!!,',\n",
       " 'my',\n",
       " 'name',\n",
       " \"'\",\n",
       " 's',\n",
       " 'shiva',\n",
       " 'chaudhary',\n",
       " '.',\n",
       " 'my',\n",
       " 'dream',\n",
       " '!',\n",
       " 'is',\n",
       " 'to',\n",
       " 'become',\n",
       " 'a',\n",
       " 'good',\n",
       " 'leader',\n",
       " 'and',\n",
       " 'ML',\n",
       " 'engineer',\n",
       " '.']"
      ]
     },
     "execution_count": 12,
     "metadata": {},
     "output_type": "execute_result"
    }
   ],
   "source": [
    "# tokenization -- convert corpus into sentences or words\n",
    "tokens = nltk.wordpunct_tokenize(corpus)\n",
    "tokens\n"
   ]
  },
  {
   "cell_type": "code",
   "execution_count": 13,
   "id": "40db7741",
   "metadata": {},
   "outputs": [
    {
     "data": {
      "text/plain": [
       "'histori'"
      ]
     },
     "execution_count": 13,
     "metadata": {},
     "output_type": "execute_result"
    }
   ],
   "source": [
    "# stemming means converting the key words to \n",
    "stemmer = PorterStemmer()\n",
    "stemmer.stem('history')"
   ]
  },
  {
   "cell_type": "code",
   "execution_count": 14,
   "id": "7d39f7e8",
   "metadata": {},
   "outputs": [],
   "source": [
    "from nltk.stem import WordNetLemmatizer"
   ]
  },
  {
   "cell_type": "code",
   "execution_count": 15,
   "id": "f4b856a4",
   "metadata": {},
   "outputs": [],
   "source": [
    "lemmatizer = WordNetLemmatizer()\n"
   ]
  },
  {
   "cell_type": "code",
   "execution_count": 16,
   "id": "8184f269",
   "metadata": {},
   "outputs": [
    {
     "name": "stderr",
     "output_type": "stream",
     "text": [
      "[nltk_data] Downloading package wordnet to /Users/shiva/nltk_data...\n",
      "[nltk_data]   Package wordnet is already up-to-date!\n"
     ]
    },
    {
     "data": {
      "text/plain": [
       "True"
      ]
     },
     "execution_count": 16,
     "metadata": {},
     "output_type": "execute_result"
    }
   ],
   "source": [
    "nltk.download('wordnet')"
   ]
  },
  {
   "cell_type": "code",
   "execution_count": 17,
   "id": "8b5d3d80",
   "metadata": {},
   "outputs": [
    {
     "data": {
      "text/plain": [
       "'buy'"
      ]
     },
     "execution_count": 17,
     "metadata": {},
     "output_type": "execute_result"
    }
   ],
   "source": [
    "lemmatizer.lemmatize(\"buys\")"
   ]
  },
  {
   "cell_type": "code",
   "execution_count": 18,
   "id": "d9238c96",
   "metadata": {},
   "outputs": [],
   "source": [
    "paragraph = \"\"\"Hritik Rakesh Nagrath[1] (born 10 January 1974), known professionally as Hrithik Roshan\n",
    " (Hindi: [ˈɾɪt̪ɪk ɾoːʃən];[2]) is an Indian actor who works in Hindi cinema. \n",
    " He has portrayed a variety of characters and is known for his dancing skills. \n",
    " One of the highest-paid actors in India, he has won many awards, including six Filmfare Awards, of which four were for Best Actor. \n",
    " Starting from 2012, he has appeared in Forbes India's Celebrity 100 several times based on his income and popularity.\"\"\""
   ]
  },
  {
   "cell_type": "code",
   "execution_count": null,
   "id": "636d555b",
   "metadata": {},
   "outputs": [],
   "source": []
  }
 ],
 "metadata": {
  "kernelspec": {
   "display_name": "myenv",
   "language": "python",
   "name": "python3"
  },
  "language_info": {
   "codemirror_mode": {
    "name": "ipython",
    "version": 3
   },
   "file_extension": ".py",
   "mimetype": "text/x-python",
   "name": "python",
   "nbconvert_exporter": "python",
   "pygments_lexer": "ipython3",
   "version": "3.12.7"
  }
 },
 "nbformat": 4,
 "nbformat_minor": 5
}
