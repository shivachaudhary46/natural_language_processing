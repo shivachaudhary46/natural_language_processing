{
  "nbformat": 4,
  "nbformat_minor": 0,
  "metadata": {
    "colab": {
      "provenance": []
    },
    "kernelspec": {
      "name": "python3",
      "display_name": "Python 3"
    },
    "language_info": {
      "name": "python"
    }
  },
  "cells": [
    {
      "cell_type": "code",
      "execution_count": 1,
      "metadata": {
        "colab": {
          "base_uri": "https://localhost:8080/"
        },
        "id": "RrTmfPnJ1FFF",
        "outputId": "e3841124-fe30-40b2-e4e1-18d2878a363d"
      },
      "outputs": [
        {
          "output_type": "stream",
          "name": "stdout",
          "text": [
            "Requirement already satisfied: indic-nlp-library in /usr/local/lib/python3.11/dist-packages (0.92)\n",
            "Requirement already satisfied: sphinx-argparse in /usr/local/lib/python3.11/dist-packages (from indic-nlp-library) (0.5.2)\n",
            "Requirement already satisfied: sphinx-rtd-theme in /usr/local/lib/python3.11/dist-packages (from indic-nlp-library) (3.0.2)\n",
            "Requirement already satisfied: morfessor in /usr/local/lib/python3.11/dist-packages (from indic-nlp-library) (2.0.6)\n",
            "Requirement already satisfied: pandas in /usr/local/lib/python3.11/dist-packages (from indic-nlp-library) (2.2.2)\n",
            "Requirement already satisfied: numpy in /usr/local/lib/python3.11/dist-packages (from indic-nlp-library) (2.0.2)\n",
            "Requirement already satisfied: python-dateutil>=2.8.2 in /usr/local/lib/python3.11/dist-packages (from pandas->indic-nlp-library) (2.9.0.post0)\n",
            "Requirement already satisfied: pytz>=2020.1 in /usr/local/lib/python3.11/dist-packages (from pandas->indic-nlp-library) (2025.2)\n",
            "Requirement already satisfied: tzdata>=2022.7 in /usr/local/lib/python3.11/dist-packages (from pandas->indic-nlp-library) (2025.2)\n",
            "Requirement already satisfied: sphinx>=5.1.0 in /usr/local/lib/python3.11/dist-packages (from sphinx-argparse->indic-nlp-library) (8.2.3)\n",
            "Requirement already satisfied: docutils>=0.19 in /usr/local/lib/python3.11/dist-packages (from sphinx-argparse->indic-nlp-library) (0.21.2)\n",
            "Requirement already satisfied: sphinxcontrib-jquery<5,>=4 in /usr/local/lib/python3.11/dist-packages (from sphinx-rtd-theme->indic-nlp-library) (4.1)\n",
            "Requirement already satisfied: six>=1.5 in /usr/local/lib/python3.11/dist-packages (from python-dateutil>=2.8.2->pandas->indic-nlp-library) (1.17.0)\n",
            "Requirement already satisfied: sphinxcontrib-applehelp>=1.0.7 in /usr/local/lib/python3.11/dist-packages (from sphinx>=5.1.0->sphinx-argparse->indic-nlp-library) (2.0.0)\n",
            "Requirement already satisfied: sphinxcontrib-devhelp>=1.0.6 in /usr/local/lib/python3.11/dist-packages (from sphinx>=5.1.0->sphinx-argparse->indic-nlp-library) (2.0.0)\n",
            "Requirement already satisfied: sphinxcontrib-htmlhelp>=2.0.6 in /usr/local/lib/python3.11/dist-packages (from sphinx>=5.1.0->sphinx-argparse->indic-nlp-library) (2.1.0)\n",
            "Requirement already satisfied: sphinxcontrib-jsmath>=1.0.1 in /usr/local/lib/python3.11/dist-packages (from sphinx>=5.1.0->sphinx-argparse->indic-nlp-library) (1.0.1)\n",
            "Requirement already satisfied: sphinxcontrib-qthelp>=1.0.6 in /usr/local/lib/python3.11/dist-packages (from sphinx>=5.1.0->sphinx-argparse->indic-nlp-library) (2.0.0)\n",
            "Requirement already satisfied: sphinxcontrib-serializinghtml>=1.1.9 in /usr/local/lib/python3.11/dist-packages (from sphinx>=5.1.0->sphinx-argparse->indic-nlp-library) (2.0.0)\n",
            "Requirement already satisfied: Jinja2>=3.1 in /usr/local/lib/python3.11/dist-packages (from sphinx>=5.1.0->sphinx-argparse->indic-nlp-library) (3.1.6)\n",
            "Requirement already satisfied: Pygments>=2.17 in /usr/local/lib/python3.11/dist-packages (from sphinx>=5.1.0->sphinx-argparse->indic-nlp-library) (2.19.2)\n",
            "Requirement already satisfied: snowballstemmer>=2.2 in /usr/local/lib/python3.11/dist-packages (from sphinx>=5.1.0->sphinx-argparse->indic-nlp-library) (3.0.1)\n",
            "Requirement already satisfied: babel>=2.13 in /usr/local/lib/python3.11/dist-packages (from sphinx>=5.1.0->sphinx-argparse->indic-nlp-library) (2.17.0)\n",
            "Requirement already satisfied: alabaster>=0.7.14 in /usr/local/lib/python3.11/dist-packages (from sphinx>=5.1.0->sphinx-argparse->indic-nlp-library) (1.0.0)\n",
            "Requirement already satisfied: imagesize>=1.3 in /usr/local/lib/python3.11/dist-packages (from sphinx>=5.1.0->sphinx-argparse->indic-nlp-library) (1.4.1)\n",
            "Requirement already satisfied: requests>=2.30.0 in /usr/local/lib/python3.11/dist-packages (from sphinx>=5.1.0->sphinx-argparse->indic-nlp-library) (2.32.3)\n",
            "Requirement already satisfied: roman-numerals-py>=1.0.0 in /usr/local/lib/python3.11/dist-packages (from sphinx>=5.1.0->sphinx-argparse->indic-nlp-library) (3.1.0)\n",
            "Requirement already satisfied: packaging>=23.0 in /usr/local/lib/python3.11/dist-packages (from sphinx>=5.1.0->sphinx-argparse->indic-nlp-library) (25.0)\n",
            "Requirement already satisfied: MarkupSafe>=2.0 in /usr/local/lib/python3.11/dist-packages (from Jinja2>=3.1->sphinx>=5.1.0->sphinx-argparse->indic-nlp-library) (3.0.2)\n",
            "Requirement already satisfied: charset-normalizer<4,>=2 in /usr/local/lib/python3.11/dist-packages (from requests>=2.30.0->sphinx>=5.1.0->sphinx-argparse->indic-nlp-library) (3.4.2)\n",
            "Requirement already satisfied: idna<4,>=2.5 in /usr/local/lib/python3.11/dist-packages (from requests>=2.30.0->sphinx>=5.1.0->sphinx-argparse->indic-nlp-library) (3.10)\n",
            "Requirement already satisfied: urllib3<3,>=1.21.1 in /usr/local/lib/python3.11/dist-packages (from requests>=2.30.0->sphinx>=5.1.0->sphinx-argparse->indic-nlp-library) (2.5.0)\n",
            "Requirement already satisfied: certifi>=2017.4.17 in /usr/local/lib/python3.11/dist-packages (from requests>=2.30.0->sphinx>=5.1.0->sphinx-argparse->indic-nlp-library) (2025.8.3)\n"
          ]
        }
      ],
      "source": [
        "!pip install  indic-nlp-library\n"
      ]
    },
    {
      "cell_type": "markdown",
      "source": [
        "# White space tokenization"
      ],
      "metadata": {
        "id": "o5hmGZprFRvX"
      }
    },
    {
      "cell_type": "code",
      "source": [
        "import re\n",
        "text = \"Hello I am shiva and i love talking new people and meeting new people.\"\n",
        "print(text.split())"
      ],
      "metadata": {
        "colab": {
          "base_uri": "https://localhost:8080/"
        },
        "id": "ltN58AnM1lfQ",
        "outputId": "bd5a12d5-d58f-454e-d10b-1f0ed7ab8dc5"
      },
      "execution_count": 2,
      "outputs": [
        {
          "output_type": "stream",
          "name": "stdout",
          "text": [
            "['Hello', 'I', 'am', 'shiva', 'and', 'i', 'love', 'talking', 'new', 'people', 'and', 'meeting', 'new', 'people.']\n"
          ]
        }
      ]
    },
    {
      "cell_type": "markdown",
      "source": [
        "# Reglar Expression Tokenization"
      ],
      "metadata": {
        "id": "JmF7n5IuFXlB"
      }
    },
    {
      "cell_type": "code",
      "source": [
        "text = \"Hello, I am working at X-Y-Z and my email is ZYX@gmail.com\"\n",
        "pattern = r'([\\w]+-[\\w]+-[\\w]+)|([\\w\\.-]+@[\\w]+\\.[\\w]+)'\n",
        "matches = re.findall(pattern, text)\n",
        "\n",
        "for match in matches:\n",
        "    print(f\"Company Name: {match[0]}\" if match[0] else f\"Email Address: {match[1]}\")"
      ],
      "metadata": {
        "colab": {
          "base_uri": "https://localhost:8080/"
        },
        "id": "MlYD06bj11VR",
        "outputId": "70096090-7a6a-47a9-dea7-cd6a99700041"
      },
      "execution_count": 10,
      "outputs": [
        {
          "output_type": "stream",
          "name": "stdout",
          "text": [
            "Company Name: X-Y-Z\n",
            "Email Address: ZYX@gmail.com\n"
          ]
        }
      ]
    },
    {
      "cell_type": "code",
      "source": [
        "text = \"Hello geeks ! how can i help you\"\n",
        "clean_text = re.sub(r'\\W+', ' ', text)\n",
        "tokens = re.findall(r'\\b\\w+\\b', clean_text)\n",
        "print(tokens)"
      ],
      "metadata": {
        "colab": {
          "base_uri": "https://localhost:8080/"
        },
        "id": "I3cCI3QD2fyf",
        "outputId": "8c470b01-41e7-48fd-e7a7-7dbf9b4f24a1"
      },
      "execution_count": 11,
      "outputs": [
        {
          "output_type": "stream",
          "name": "stdout",
          "text": [
            "['Hello', 'geeks', 'how', 'can', 'i', 'help', 'you']\n"
          ]
        }
      ]
    },
    {
      "cell_type": "markdown",
      "source": [
        "# language specific tokenization"
      ],
      "metadata": {
        "id": "sbBLwlwBE-F6"
      }
    },
    {
      "cell_type": "code",
      "source": [
        "from indicnlp.tokenize import indic_tokenize\n",
        "\n",
        "text = '''\n",
        "太陽が昇り、海の風が心地よく吹いています。花が咲き、友達と一緒に平和な時間を過ごします。愛と希望が満ちて、幸福な気持ちで本を読み、水を飲み、火のそばで食べ物を楽しみます。家には温かさがあり、毎日が幸せで満たされています。\n",
        "'''\n",
        "\n",
        "tokens = list(indic_tokenize.trivial_tokenize(text, lang='hi'))\n",
        "print(tokens)"
      ],
      "metadata": {
        "colab": {
          "base_uri": "https://localhost:8080/"
        },
        "id": "D1tGFb9Y5rA6",
        "outputId": "b5aa1af6-ba8f-4c69-ffd4-90609930d754"
      },
      "execution_count": 13,
      "outputs": [
        {
          "output_type": "stream",
          "name": "stdout",
          "text": [
            "['\\n太陽が昇り、海の風が心地よく吹いています。花が咲き、友達と一緒に平和な時間を過ごします。愛と希望が満ちて、幸福な気持ちで本を読み、水を飲み、火のそばで食べ物を楽しみます。家には温かさがあり、毎日が幸せで満たされています。\\n']\n"
          ]
        }
      ]
    },
    {
      "cell_type": "code",
      "source": [
        "from indicnlp.tokenize import indic_tokenize\n",
        "\n",
        "text = \"\"\"प्रातःकाले सूर्यः उदितः, तस्य सुवर्णकिरणाः गङ्गायाः शान्तजलानि स्पृशन्ति स्म।\n",
        "शीतलः वायुः पुष्पगन्धं वहन्, चन्द्रः अपि नवनीलाकाशे मन्दं प्रकाशमानः आसीत्।\n",
        "ग्रामवासिनः धर्मस्य चर्चा कुर्वन्तः, सत्यं करुणा च जीवनस्य मार्गदर्शकौ इति स्मारयन्ति।\n",
        "केचन मोक्षं प्राप्तुम् ध्यानमासीनाः, अन्तः शान्तिं आनन्दं च अन्विष्यन्तः आसीत्।\n",
        "मित्राणि गङ्गातीरे संगत्य, आहारेण सह कथा: कथयन्ति, यः पावकः अग्निः पचति।\n",
        "समीपे विद्वान् एकः पुस्तकं पठन्, यस्य मनः जलवत् प्रवहति, सर्वेषु वस्तुषु प्रेमं अन्वेषयन्।\"\"\"\n",
        "\n",
        "tokens = list(indic_tokenize.trivial_tokenize(text, lang=\"hi\"))\n",
        "print(tokens)\n"
      ],
      "metadata": {
        "colab": {
          "base_uri": "https://localhost:8080/"
        },
        "id": "bapNC2KRDP6L",
        "outputId": "11a9c911-2ad4-4169-ad00-1cd1d80dae81"
      },
      "execution_count": 14,
      "outputs": [
        {
          "output_type": "stream",
          "name": "stdout",
          "text": [
            "['प्रातःकाले', 'सूर्यः', 'उदितः', ',', 'तस्य', 'सुवर्णकिरणाः', 'गङ्गायाः', 'शान्तजलानि', 'स्पृशन्ति', 'स्म', '।', '\\nशीतलः', 'वायुः', 'पुष्पगन्धं', 'वहन्', ',', 'चन्द्रः', 'अपि', 'नवनीलाकाशे', 'मन्दं', 'प्रकाशमानः', 'आसीत्', '।', '\\nग्रामवासिनः', 'धर्मस्य', 'चर्चा', 'कुर्वन्तः', ',', 'सत्यं', 'करुणा', 'च', 'जीवनस्य', 'मार्गदर्शकौ', 'इति', 'स्मारयन्ति', '।', '\\nकेचन', 'मोक्षं', 'प्राप्तुम्', 'ध्यानमासीनाः', ',', 'अन्तः', 'शान्तिं', 'आनन्दं', 'च', 'अन्विष्यन्तः', 'आसीत्', '।', '\\nमित्राणि', 'गङ्गातीरे', 'संगत्य', ',', 'आहारेण', 'सह', 'कथा', ':', 'कथयन्ति', ',', 'यः', 'पावकः', 'अग्निः', 'पचति', '।', '\\nसमीपे', 'विद्वान्', 'एकः', 'पुस्तकं', 'पठन्', ',', 'यस्य', 'मनः', 'जलवत्', 'प्रवहति', ',', 'सर्वेषु', 'वस्तुषु', 'प्रेमं', 'अन्वेषयन्', '।']\n"
          ]
        }
      ]
    },
    {
      "cell_type": "markdown",
      "source": [
        "# Tokenization with NLP Libraries"
      ],
      "metadata": {
        "id": "QqPZfy5XE0ce"
      }
    },
    {
      "cell_type": "code",
      "source": [
        "import nltk\n",
        "nltk.download('punkt_tab')\n",
        "nltk.download('stopwords')"
      ],
      "metadata": {
        "colab": {
          "base_uri": "https://localhost:8080/"
        },
        "id": "LkOfRiC6ECpI",
        "outputId": "621d6fab-d0b7-4add-980c-04bc2e4e601f"
      },
      "execution_count": 16,
      "outputs": [
        {
          "output_type": "stream",
          "name": "stderr",
          "text": [
            "[nltk_data] Downloading package punkt_tab to /root/nltk_data...\n",
            "[nltk_data]   Unzipping tokenizers/punkt_tab.zip.\n",
            "[nltk_data] Downloading package stopwords to /root/nltk_data...\n",
            "[nltk_data]   Unzipping corpora/stopwords.zip.\n"
          ]
        },
        {
          "output_type": "execute_result",
          "data": {
            "text/plain": [
              "True"
            ]
          },
          "metadata": {},
          "execution_count": 16
        }
      ]
    },
    {
      "cell_type": "code",
      "source": [
        "from nltk.tokenize import word_tokenize, sent_tokenize\n",
        "sentences = sent_tokenize(text)\n",
        "for i, sentence in enumerate(sentences):\n",
        "  print(f'{i+1}. {sentence}')"
      ],
      "metadata": {
        "colab": {
          "base_uri": "https://localhost:8080/"
        },
        "id": "50yr6vL-DpvJ",
        "outputId": "ed2511b4-6d2d-4aa9-ee6f-14a5e69f9abd"
      },
      "execution_count": 18,
      "outputs": [
        {
          "output_type": "stream",
          "name": "stdout",
          "text": [
            "1. प्रातःकाले सूर्यः उदितः, तस्य सुवर्णकिरणाः गङ्गायाः शान्तजलानि स्पृशन्ति स्म।\n",
            "शीतलः वायुः पुष्पगन्धं वहन्, चन्द्रः अपि नवनीलाकाशे मन्दं प्रकाशमानः आसीत्।\n",
            "ग्रामवासिनः धर्मस्य चर्चा कुर्वन्तः, सत्यं करुणा च जीवनस्य मार्गदर्शकौ इति स्मारयन्ति।\n",
            "केचन मोक्षं प्राप्तुम् ध्यानमासीनाः, अन्तः शान्तिं आनन्दं च अन्विष्यन्तः आसीत्।\n",
            "मित्राणि गङ्गातीरे संगत्य, आहारेण सह कथा: कथयन्ति, यः पावकः अग्निः पचति।\n",
            "समीपे विद्वान् एकः पुस्तकं पठन्, यस्य मनः जलवत् प्रवहति, सर्वेषु वस्तुषु प्रेमं अन्वेषयन्।\n"
          ]
        }
      ]
    },
    {
      "cell_type": "code",
      "source": [
        "words = word_tokenize(text)\n",
        "print(words)"
      ],
      "metadata": {
        "colab": {
          "base_uri": "https://localhost:8080/"
        },
        "id": "lJPchjYaEBHx",
        "outputId": "feafe94b-beeb-4999-9caf-f4e0d1e231a1"
      },
      "execution_count": 19,
      "outputs": [
        {
          "output_type": "stream",
          "name": "stdout",
          "text": [
            "['प्रातःकाले', 'सूर्यः', 'उदितः', ',', 'तस्य', 'सुवर्णकिरणाः', 'गङ्गायाः', 'शान्तजलानि', 'स्पृशन्ति', 'स्म।', 'शीतलः', 'वायुः', 'पुष्पगन्धं', 'वहन्', ',', 'चन्द्रः', 'अपि', 'नवनीलाकाशे', 'मन्दं', 'प्रकाशमानः', 'आसीत्।', 'ग्रामवासिनः', 'धर्मस्य', 'चर्चा', 'कुर्वन्तः', ',', 'सत्यं', 'करुणा', 'च', 'जीवनस्य', 'मार्गदर्शकौ', 'इति', 'स्मारयन्ति।', 'केचन', 'मोक्षं', 'प्राप्तुम्', 'ध्यानमासीनाः', ',', 'अन्तः', 'शान्तिं', 'आनन्दं', 'च', 'अन्विष्यन्तः', 'आसीत्।', 'मित्राणि', 'गङ्गातीरे', 'संगत्य', ',', 'आहारेण', 'सह', 'कथा', ':', 'कथयन्ति', ',', 'यः', 'पावकः', 'अग्निः', 'पचति।', 'समीपे', 'विद्वान्', 'एकः', 'पुस्तकं', 'पठन्', ',', 'यस्य', 'मनः', 'जलवत्', 'प्रवहति', ',', 'सर्वेषु', 'वस्तुषु', 'प्रेमं', 'अन्वेषयन्।']\n"
          ]
        }
      ]
    },
    {
      "cell_type": "markdown",
      "source": [
        "# Hybrid Tokenization"
      ],
      "metadata": {
        "id": "eO-cgAiZGYXr"
      }
    },
    {
      "cell_type": "code",
      "source": [
        "text = \"Contact us at support@example.com! we're open 24/7\"\n",
        "emails = re.findall(r'[\\w\\.-]+@[\\w\\.-]+\\.\\w+', text)\n",
        "print(emails)"
      ],
      "metadata": {
        "colab": {
          "base_uri": "https://localhost:8080/"
        },
        "id": "s98QZW46Er72",
        "outputId": "fd394d52-f4e2-4b23-b8d7-8640ce8ee926"
      },
      "execution_count": 31,
      "outputs": [
        {
          "output_type": "stream",
          "name": "stdout",
          "text": [
            "['support@example.com']\n"
          ]
        }
      ]
    },
    {
      "cell_type": "code",
      "source": [
        "clean_text = re.sub(r'[\\w\\.-]+@[\\w\\.-]+\\.\\w+', '', text)\n",
        "words = re.findall(r'\\b\\w+\\b', clean_text)\n",
        "print(words)\n",
        "print(clean_text)\n"
      ],
      "metadata": {
        "colab": {
          "base_uri": "https://localhost:8080/"
        },
        "id": "y7DeloRiMU8E",
        "outputId": "146c8ccf-3940-4323-f428-b7183bd2f77e"
      },
      "execution_count": 42,
      "outputs": [
        {
          "output_type": "stream",
          "name": "stdout",
          "text": [
            "['Contact', 'us', 'at', 'we', 're', 'open', '24', '7']\n",
            "Contact us at ! we're open 24/7\n"
          ]
        }
      ]
    },
    {
      "cell_type": "code",
      "source": [
        "tokens = emails + words\n",
        "print(tokens )"
      ],
      "metadata": {
        "colab": {
          "base_uri": "https://localhost:8080/"
        },
        "id": "pbrMfz69QYRL",
        "outputId": "da2f31df-3574-41b2-913f-f98efc83dd53"
      },
      "execution_count": 43,
      "outputs": [
        {
          "output_type": "stream",
          "name": "stdout",
          "text": [
            "['support@example.com', 'Contact', 'us', 'at', 'we', 're', 'open', '24', '7']\n"
          ]
        }
      ]
    }
  ]
}