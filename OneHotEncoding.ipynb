{
  "nbformat": 4,
  "nbformat_minor": 0,
  "metadata": {
    "colab": {
      "provenance": []
    },
    "kernelspec": {
      "name": "python3",
      "display_name": "Python 3"
    },
    "language_info": {
      "name": "python"
    }
  },
  "cells": [
    {
      "cell_type": "markdown",
      "source": [
        "# One Hot Encoding\n",
        "One hot encoding is a method for converting categorical variables into the numerical or binary format. It creates new column for each category where 1 means the category is present and 0 means it is not. The primary purpose of One Hot encoding is to calculate the categorical data."
      ],
      "metadata": {
        "id": "kgDu_G7x3GzV"
      }
    },
    {
      "cell_type": "code",
      "execution_count": 1,
      "metadata": {
        "id": "yX6ylVg72lhM"
      },
      "outputs": [],
      "source": [
        "import pandas as pd\n",
        "from sklearn.preprocessing import OneHotEncoder"
      ]
    },
    {
      "cell_type": "code",
      "source": [
        "data = {\n",
        "    'Employee_id': [10, 20, 30, 40, 50],\n",
        "    'Gender': [\"M\", \"F\", \"F\", \"M\", \"F\"],\n",
        "    'Remarks': [\"Good\", \"Nice\", \"Good\", \"Great\", \"Good\"]\n",
        "}\n",
        "\n",
        "df = pd.DataFrame(data)\n",
        "print(f\"Original Employee Data: \\n{data}\\n\")\n",
        "df_pandas_encoded = pd.get_dummies(df, columns=['Gender', \"Remarks\"], drop_first=True)\n",
        "print(f\"One Hot encoded Data using pandas dummies\\n {df_pandas_encoded}\\n\")"
      ],
      "metadata": {
        "id": "VwbLUZsF5iHS",
        "colab": {
          "base_uri": "https://localhost:8080/"
        },
        "outputId": "70a52a80-1112-46b4-c5a3-c529524a0d7f"
      },
      "execution_count": 3,
      "outputs": [
        {
          "output_type": "stream",
          "name": "stdout",
          "text": [
            "Original Employee Data: \n",
            "{'Employee_id': [10, 20, 30, 40, 50], 'Gender': ['M', 'F', 'F', 'M', 'F'], 'Remarks': ['Good', 'Nice', 'Good', 'Great', 'Good']}\n",
            "\n",
            "One Hot encoded Data using pandas dummies\n",
            "    Employee_id  Gender_M  Remarks_Great  Remarks_Nice\n",
            "0           10      True          False         False\n",
            "1           20     False          False          True\n",
            "2           30     False          False         False\n",
            "3           40      True           True         False\n",
            "4           50     False          False         False\n",
            "\n"
          ]
        }
      ]
    },
    {
      "cell_type": "code",
      "source": [
        "df_pandas = pd.get_dummies(df[['Gender', 'Remarks']], drop_first=True)\n",
        "print(f\"One hot encoding Data using pandas dummies in another way\\n{df_pandas}\\n\")"
      ],
      "metadata": {
        "colab": {
          "base_uri": "https://localhost:8080/"
        },
        "id": "pZ3kUWGh3hhw",
        "outputId": "bd3679de-5add-4ae8-ad7a-e13f615a460a"
      },
      "execution_count": 6,
      "outputs": [
        {
          "output_type": "stream",
          "name": "stdout",
          "text": [
            "One hot encoding Data using pandas dummies in another way\n",
            "   Gender_M  Remarks_Great  Remarks_Nice\n",
            "0      True          False         False\n",
            "1     False          False          True\n",
            "2     False          False         False\n",
            "3      True           True         False\n",
            "4     False          False         False\n",
            "\n"
          ]
        }
      ]
    },
    {
      "cell_type": "code",
      "source": [
        "encoder = OneHotEncoder(sparse_output=False)\n",
        "categorical_columns = [\"Remarks\", \"Gender\"]\n",
        "one_hot_encoded = encoder.fit_transform(df[categorical_columns])\n",
        "one_hot_df = pd.DataFrame(one_hot_encoded, columns=encoder.get_feature_names_out(categorical_columns))\n",
        "print()\n",
        "df_sklearn_encoded = pd.concat([df.drop(categorical_columns, axis=1), one_hot_df], axis=1)\n",
        "print(f\"One Hot encoded Data using scikit learn:\\n{df_sklearn_encoded}\\n\")"
      ],
      "metadata": {
        "colab": {
          "base_uri": "https://localhost:8080/"
        },
        "id": "9_8AZGSM4rkp",
        "outputId": "d3a59279-41f4-4d8f-e55f-fed6c91a4e1b"
      },
      "execution_count": 11,
      "outputs": [
        {
          "output_type": "stream",
          "name": "stdout",
          "text": [
            "One Hot encoded Data using scikit learn:\n",
            "   Employee_id  Remarks_Good  Remarks_Great  Remarks_Nice  Gender_F  Gender_M\n",
            "0           10           1.0            0.0           0.0       0.0       1.0\n",
            "1           20           0.0            0.0           1.0       1.0       0.0\n",
            "2           30           1.0            0.0           0.0       1.0       0.0\n",
            "3           40           0.0            1.0           0.0       0.0       1.0\n",
            "4           50           1.0            0.0           0.0       1.0       0.0\n",
            "\n"
          ]
        }
      ]
    },
    {
      "cell_type": "code",
      "source": [
        "encoder = OneHotEncoder(sparse_output=False)\n",
        "categorical_columns = [\"Remarks\", \"Gender\"]\n",
        "one_hot_encoded = encoder.fit_transform(df[categorical_columns])\n",
        "print(f\"features of name: {encoder.get_feature_names_out(categorical_columns)}\")\n",
        "one_hot_df = pd.DataFrame(one_hot_encoded, columns=encoder.get_feature_names_out(categorical_columns))\n",
        "print(f\"One hot encoded dataframe\\n{one_hot_df}\\n\")\n"
      ],
      "metadata": {
        "colab": {
          "base_uri": "https://localhost:8080/"
        },
        "id": "RX_LFt2e5gj8",
        "outputId": "4a4ed7cc-b6fe-47f5-bb4f-5b7950cc4b30"
      },
      "execution_count": 14,
      "outputs": [
        {
          "output_type": "stream",
          "name": "stdout",
          "text": [
            "features of name: ['Remarks_Good' 'Remarks_Great' 'Remarks_Nice' 'Gender_F' 'Gender_M']\n",
            "One hot encoded dataframe\n",
            "   Remarks_Good  Remarks_Great  Remarks_Nice  Gender_F  Gender_M\n",
            "0           1.0            0.0           0.0       0.0       1.0\n",
            "1           0.0            0.0           1.0       1.0       0.0\n",
            "2           1.0            0.0           0.0       1.0       0.0\n",
            "3           0.0            1.0           0.0       0.0       1.0\n",
            "4           1.0            0.0           0.0       1.0       0.0\n",
            "\n"
          ]
        }
      ]
    },
    {
      "cell_type": "code",
      "source": [
        "encoded_df = pd.concat([df.drop(categorical_columns, axis=1), one_hot_df], axis=1)\n",
        "print(encoded_df)"
      ],
      "metadata": {
        "colab": {
          "base_uri": "https://localhost:8080/"
        },
        "id": "c0pGQPn--mgh",
        "outputId": "a8516a53-1f9b-4af4-e8e0-abddc76310dc"
      },
      "execution_count": 20,
      "outputs": [
        {
          "output_type": "stream",
          "name": "stdout",
          "text": [
            "   Employee_id  Remarks_Good  Remarks_Great  Remarks_Nice  Gender_F  Gender_M\n",
            "0           10           1.0            0.0           0.0       0.0       1.0\n",
            "1           20           0.0            0.0           1.0       1.0       0.0\n",
            "2           30           1.0            0.0           0.0       1.0       0.0\n",
            "3           40           0.0            1.0           0.0       0.0       1.0\n",
            "4           50           1.0            0.0           0.0       1.0       0.0\n"
          ]
        }
      ]
    }
  ]
}