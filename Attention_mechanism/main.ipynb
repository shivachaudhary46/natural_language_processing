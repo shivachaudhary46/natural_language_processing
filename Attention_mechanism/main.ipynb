{
 "cells": [
  {
   "cell_type": "markdown",
   "id": "852bcd6f",
   "metadata": {},
   "source": [
    "#### Simple Encoder Decoder Attention Mechanism"
   ]
  },
  {
   "cell_type": "code",
   "execution_count": 3,
   "id": "b7e2c6cf",
   "metadata": {},
   "outputs": [],
   "source": [
    "import numpy as np \n",
    "import pandas as pd \n",
    "\n",
    "from tensorflow.keras.preprocessing.text import Tokenizer\n",
    "from tensorflow.keras.preprocessing.sequence import pad_sequences\n",
    "\n",
    "from sklearn.model_selection import train_test_split\n",
    "from tensorflow.keras.layers import Input, Embedding, LSTM, Dense\n",
    "from tensorflow.keras.models import Model\n",
    "from tensorflow.keras import regularizers\n",
    "\n",
    "from keras.layers import Layer\n",
    "import tensorflow as tf"
   ]
  },
  {
   "cell_type": "markdown",
   "id": "ade38e73",
   "metadata": {},
   "source": [
    "#### Preparing Input Data "
   ]
  },
  {
   "cell_type": "code",
   "execution_count": 4,
   "id": "f4fec29e",
   "metadata": {},
   "outputs": [
    {
     "name": "stdout",
     "output_type": "stream",
     "text": [
      "messages :  ['So there is no way for me to plug it in here in the US unless I go by a converter.', 'Good case, Excellent value.', 'Great for the jawbone.', 'Tied to charger for conversations lasting more than 45 minutes.MAJOR PROBLEMS!!', 'The mic is great.', 'I have to jiggle the plug to get it to line up right to get decent volume.', 'If you have several dozen or several hundred contacts, then imagine the fun of sending each of them one by one.', 'If you are Razr owner...you must have this!', 'Needless to say, I wasted my money.', 'What a waste of money and time!.', 'And the sound quality is great.', 'He was very impressed when going from the original battery to the extended battery.', 'If the two were seperated by a mere 5+ ft I started to notice excessive static and garbled sound from the headset.', 'Very good quality though', 'The design is very odd, as the ear \"clip\" is not very comfortable at all.', 'Highly recommend for any one who has a blue tooth phone.', 'I advise EVERYONE DO NOT BE FOOLED!', 'So Far So Good!.', 'Works great!.', 'It clicks into place in a way that makes you wonder how long that mechanism would last.', \"I went on Motorola's website and followed all directions, but could not get it to pair again.\", 'I bought this to use with my Kindle Fire and absolutely loved it!', 'The commercials are the most misleading.', \"I have yet to run this new battery below two bars and that's three days without charging.\", 'I bought it for my mother and she had a problem with the battery.', 'Great Pocket PC / phone combination.', \"I've owned this phone for 7 months now and can say that it's the best mobile phone I've had.\", \"I didn't think that the instructions provided were helpful to me.\", 'People couldnt hear me talk and I had to pull out the earphone and talk on the phone.', \"Doesn't hold charge.\", 'This is a simple little phone to use, but the breakage is unacceptible.', 'This product is ideal for people like me whose ears are very sensitive.', 'It is unusable in a moving car at freeway speed.', 'I have two more years left in this contract and I hate this phone.', 'Car charger as well as AC charger are included to make sure you never run out of juice.Highy recommended', 'You need at least 3 mins to get to your phone book from the time you first turn on the phone.Battery life is short.', 'It has kept up very well.', 'Poor Talk Time Performance.', 'The case is great and works fine with the 680.', 'worthless product.', 'It has a great camera thats 2MP, and the pics are nice and clear with great picture quality.', 'I was not impressed by this product.', 'Nice headset priced right.', 'I only hear garbage for audio.', 'Excellent bluetooth headset.', 'It has all the features I want', 'Who in their right mind is gonna buy this battery?.', 'AFTER ARGUING WITH VERIZON REGARDING THE DROPPED CALLS WE RETURNED THE PHONES AFTER TWO DAYS.', 'This case seems well made.', 'Disappointed with battery.', \"Not loud enough and doesn't turn on like it should.\", 'good protection and does not make phone too bulky.', 'A usable keyboard actually turns a PDA into a real-world useful machine instead of just a neat gadget.', \"This phone is pretty sturdy and I've never had any large problems with it.\", 'I love this thing!', 'Everything about it is fine and reasonable for the price i.e.', 'VERY DISAPPOINTED.', 'I even dropped this phone into a stream and it was submerged for 15 seconds and it still works great!', 'I have been very happy with the 510 and have had NO complaints from any one regarding my sound quality on their end.', 'The buttons for on and off are bad.', \"Essentially you can forget Microsoft's tech support.\", 'I really recommend this faceplates since it looks very nice, elegant and cool.', \"These headphones were a great find - and I think they are perhaps the best purchase I've made in the last several years - seriously.\", 'Buy a different phone - but not this.', 'You have to hold the phone at a particular angle for the other party to hear you clearly.', \"The one big drawback of the MP3 player is that the buttons on the phone's front cover that let you pause and skip songs lock out after a few seconds.\", 'A week later after I activated it, it suddenly died.', 'It feels more comfortable than most headsets because I wear glasses and that gets in the way sometimes.', 'Great for iPODs too.', 'This device is great in several situations:1.)', \"Mic Doesn't work.\", 'Even in my BMW 3 series which is fairly quiet, I have trouble hearing what the other person is saying.', 'Great choice!', 'Nice docking station for home or work.', 'This is a beautiful phone.', 'Love this product.', 'Do Not Buy for D807...wrongly advertised for D807.', 'This is a great little item.', 'I love this phone , It is very handy and has a lot of features .', 'I purchased this and within 2 days it was no longer working!!!!!!!!!', 'I wear it everyday and it holds up very well.', 'Not a good bargain.', 'Well packaged, arrived on time, and works as intended.', 'The battery runs down quickly.', 'This item worked great, but it broke after 6 months of use.', 'The headsets are easy to use and everyone loves them.', 'This phone works great.', 'The construction of the headsets is poor.', 'Product was excellent and works better than the verizon one and Boy was it cheaper!', 'The phone loads super!', 'For a product that costs as much as this one does, I expect it to work far better and with greater ease than this thing does.', 'Made very sturdy.', 'Worked great!.', 'The ear buds only play music in one ear.', 'Dont waste your money...', 'Will order from them again!', 'If you plan to use this in a car forget about it.', 'I found this product to be waaay too big.', \"Best I've found so far .... I've tried 2 other bluetooths and this one has the best quality (for both me and the listener) as well as ease of using.\", \"I'm very disappointed with my decision.\", 'Integrated seamlessly with the Motorola RAZR phone.', 'Buyer Beware, you could flush money right down the toilet.', 'Definitely a bargain.', 'The price was very good and with the free shipping and all it was a good purchase.', 'I received my supposedly new motorola 375 and apparently there was not a match between the phone and the charger.', 'Pros:-Good camera - very nice pictures , also has cool styles like black and white, and more.', \"That's a huge design flaw (unless I'm not using it correctly, which I don't think is the case).\", 'I love my 350 headset.. My Jabra350 bluetooth headset is great, the reception is very good and the ear piece is a comfortable fit.', 'The camera, although rated at an impressive 1.3 megapixels, renders images that fall well below expectations of such a relatively high resolution.', 'I purcashed this for the car charger and it does not work.', 'Sound quality on both end is excellent, I use headset to call my wife and ask my wife to use headset to call me !2.', 'This phone is slim and light and the display is beautiful.', 'its a little geeky but i think thats its sex on toast and it rocks and oozes sex right down to its battery embedded sleek stylish leather case.', 'Great product, fast shipping!.', 'Absolutely great.', 'The keyboard is a nice compromise between a full QWERTY and the basic cell phone number keypad.', \"i got this phone around the end of may and i'm completely unhappy with it.\", 'It is very comfortable on the ear.', 'It has been a winner for us.', \")Setup couldn't have been simpler.\", \"I've tried several different earpieces for my cell phone and this Jabra one is the first one I've found that fits my ear comfortably.\", 'Could not get strong enough signal.', 'Iam very pleased with my purchase.', 'Bad Quality.', 'Gets the job done.', 'Great audio!.', 'Basically the service was very bad.', 'it did not work in my cell phone plug i am very up set with the charger!.', \"I've only had my bluetooth for a few weeks, but I really like it.\", 'The BT headset was such a disapoinment.', \"It is so small and you don't even realize that it is there after a while of getting used to it.\", 'The accompanied software is almost brilliant.', 'Headset works great & was packaged nicely to avoid any damage.', '!I definitly recommend!!', 'Buyer--Be Very Careful!!!!!.', 'The majority of the Logitech earbud headsets failed.', 'Very good stuff for the price.', 'My headset works just peachy-keen.', 'In my house I was getting dropped coverage upstairs and no coverage in my basement.', 'Voice recognition is tremendous!', 'What a waste.', 'During several different 2 minute calls, I experienced 5 drops and it was in an area that had 5 bars.', 'I was not happy with this item.', 'very disappointed.', 'The phone takes FOREVER to charge like 2 to 5 hours literally.', \"I got this phone on reccomendation from a relative and I'm glad I did.\", 'What a waste of time!', 'Its reception is very very poor.', 'Items stated as included from the description ARE NOT INCLUDED.', 'After 3 months, screen just went black all of a sudden.', 'I Was Hoping for More.', 'Audio Quality is poor, very poor.', 'I had absolutely no problem with this headset linking to my 8530 Blackberry Curve!', \"I know that sounds funny, but to me it seemed like sketchy technology that wouldn't work well.Well, this one works great.\", \"I've bought $5 wired headphones that sound better than these.\", 'This phone is very fast with sending any kind of messages and web browsing is significantly faster than previous phones i have used.', 'Nice quality build, unlike some cheap s*** out there.', 'This item is fantastic and works perfectly!', 'And I just love the colors!', 'W810i is just SUPERB.', 'All I can do is whine on the Internet, so here it goes.The more I use the thing the less I like it.', 'Great charger.', 'This is essentially a communications tool that does not communicate.', 'Works like a charm; it work the same as the one I got with the phone.', \"I still maintain that monkeys shouldn't make headphones, we just obviously don't share enough DNA to copy the design over to humans.\", 'Great Value.', \"Doesn't work at all.. I bougth it for my L7c and its not working.\", 'The look of it is very sharp and the screen is nice and clear, with great graphics.', \"doesn't last long.\", 'One thing I hate is the mode set button at the side.', 'EXCELLENT SERVICE!!!!!!!!.', 'Thank you for wasting my money.', 'How can that be?The audio quality is poor.', 'The iGo chargers and tips are really great.', 'The file browser offers all the options that one needs.Handsfree is great.', 'Superb Phone on a Great Network.', \"I connected my wife's bluetooth,(Motorola HS850) to my phone and it worked like a charm whether the phone was in my pocket or the case.\", 'I put the latest OS on it (v1.15g), and it now likes to slow to a crawl and lock up every once in a while.', 'It only recognizes the Phone as its storage device.', 'If you like a loud buzzing to override all your conversations, then this phone is for you!', \"Don't buy this product.\", \"I've had this bluetoooth headset for some time now and still not comfortable with the way it fits on the ear.\", 'The sound quality is good and functionality is awesome.', 'I have this phone and it is a thorn in my side, I really abhor it.', 'I recently had problems where I could not stay connected for more than 10 minutes before being disconnected.', 'Incredible!.', 'Design Flaw?.', 'Great phone!.', 'Waste of 13 bucks.', \"But when I check voice mail at night, the keypad backlight turns off a few seconds into the first message, and then I'm lost.\", 'The replacement died in a few weeks.', 'Any ring tone..Overall good phone to buy..', 'Lately they have been extremely nice and helpful on the phone.', 'I have had problems wit hit dropping signal and more.', 'Not impressed.', 'Light weight, I hardly notice it is there.', \"You'll love how thin it is.\", 'Bad Choice.', \"The pleather case doesn't fit.\", 'useless phone, simply deaf.', 'The color is even prettier than I thought it would be, and the graphics are incredibly sharp.', 'All in all I think it was a good investment.', 'It makes very strange ticking noises before it ends the call.', 'The best electronics of the available FM Transmitters.', 'Battery lasts only a few hours.', 'great headset, very impressed - H500.', 'The \"1.2\" mega pixel camera, being a part of a phone, is reasonably good7.', \"I've had this for nearly 2 years and it has worked great for me.\", 'Good transmit audio.', 'We are sending it back.', 'I did not bother contacting the company for few dollar product but I learned the lesson that I should not have bought this form online anyway.', 'If you hate earbugs, avoid this phone by all means.', 'Great price also!', \"The range is very decent, I've been able to roam around my house with the phone in the living room with no reception/sound quality issues.\", 'fast service.', 'I would highly recommend this.', 'I would recommend this.', 'I also didn\\'t like the \"on\" button, it felt like it would crack with use.', 'WORST PHONE EVER.', \"I'm still infatuated with this phone.\", 'Freezes frequently4.', \"It's kind of embarrassing to use because of how it looks and mostly it's embarrassing how child-like the company is.\", 'Simple, lightweight and great fit.', \"All in all, I'd expected a better consumer experience from Motorola.\", \"There's a horrible tick sound in the background on all my calls that I have never experienced before.\", 'These are certainly very comfortable and functionality is decent.', \"I usually don't like headbands but this one is very lightweight & doesn't mess up my hair.\", \"I'm a bit disappointed.\", 'I have had this phone for over a year now, and I will tell you, its not that great.', 'I ordered this for sony Ericsson W810i but I think it only worked once (thats when I first used it).', 'The battery is completely useless to me.', 'What a big waste of time.', \"Don't waste your $$$ on this one.\", 'Great sound and service.', 'Really pleased with this product so far.', 'One of my favorite purchases ever.', 'best bluetooth on the market.', 'Authentic leather with nice shine and comfort .I recommend you this case !!', 'I was very excited to get this headset because I thought it was really cute.', 'Do not make the same mistake as me.', 'Big Disappointment with calendar sync.', 'the phone was unusable and was not new.', 'Worst Customer Service Ever.', 'No additional ear gels provided, and no instructions whatsoever.', 'It defeats the purpose of a bluetooth headset.', 'Worth every penny.', 'Excellent wallet type phone case.', 'Nice headphones for the price and they work great!', 'Internet is excrutiatingly slow.', 'It is very comfortable to wear as well, which is probably the most important aspect about using a case.', \"It's fits like a glove and is strong, secure, and durable.\", 'O my gosh the best phone I have ever had.', \"It's very attractive and appears to be of good quality.\", 'I love all the features and form factor.', 'This product had a strong rubber/petroleum smell that was unbearable after a while and caused me to return it', 'poor quality and service.', 'The cable looks so thin and flimsy, it is scary.', 'Great Earpiece.', 'Excellent hands free tool.', 'Great for using with your home stereo.', 'Good product - incredible value.', \"Only had this a month but it's worked flawlessly so far.\", 'Works great.', 'Absolutel junk.', \"THAT one didn't work either.\", 'Battery life is real good.', 'Returned 8 hours later.', \"It's a great item.\", \"Don't waste your money!.\", 'Love this headset!', 'Not only will it drain your player, but may also potentially fry it.', 'Worked perfectly!', \"Unreliable - I'm giving up.\", 'I gave it 5 stars because of the sound quality.', 'Avoid this one if you can.', 'Reversible plug works great.', 'I wasted my little money with this earpiece.', 'Very good phone.', 'Best of all is the rotating feature, very helpful.', 'Comfort for our whole family.', 'Good product, good seller.', 'I love this bluetooth!', \"First of all, it doesn't wear well.\", 'I am very impressed with this headset from Plantronics.', 'I got it because it was so small and adorable.', 'Great phone!.', \"I wouldn't recommend buying this product.\", 'Piece of Junk.', 'Poorly contstruct hinge.', 'This item is great, installed it, let it charged up overnite and it has been working good every since with no problems', 'Great Phone.', \"Don't buy it.\", 'Excellent Phone.', 'DO NOT PURCHASE THIS PHONE.', 'The voice recognition thru the handset is excellent.', \"This is hands down the best phone I've ever had.\", 'Works great, when my cat attacked the phone he scratched the protective strip instead of destroying the screen.', 'This one works and was priced right.', 'Customer service was terrible.', 'Battery life still not long enough in Motorola Razor V3i.', 'Sending it back.', 'Now I know that I made a wise decision.', 'Someone shouldve invented this sooner.', 'Good price.', 'Everything worked on the first try.The device was certainly engineered in a clever way and the construction feels good.', 'I received it quickly and it works great!!', 'Has been working great.', \"As many people complained, I found this headset's microphone was very weak.\", 'My 5-year old Nokia 2160 from Tracfone holds the charge a lot better than this.', 'They do not care about the consumer one bit.', 'This is a good battery, and it got here really fast.', 'The instruction manual is lacking.', 'Also its slim enough to fit into my alarm clock docking station without removing the case.', 'Phone now holds charge like it did when it was new.', 'The battery is unreliable as well as the service use antena.', \"It's uncomfortable and the sound quality is quite poor compared with the phone (Razr) or with my previous wired headset (that plugged into an LG).\", 'We have gotten a lot of compliments on it.', 'This is definitely a must have if your state does not allow cell phone usage while driving.', 'I want my money back.', 'I love this device.', 'I am also very happy with the price.', 'I ordered this product first and was unhappy with it immediately.', 'The Ngage is still lacking in earbuds.', 'I was able to do voice dialing in the car with no problem.', 'I have 2-3 bars on my cell phone when I am home, but you cant not hear anything.', 'good item, low price.', 'However-the riingtones are not the best, and neither are the games.', 'The plug did not work very well.', 'AMAZON SUCKS.', 'Rip off---- Over charge shipping.', 'VERY comfortable.', 'The battery is working well as a replacement for the original that came with the phone over 2 years ago.', 'The reception is excellent!', 'It fits comfortably in either ear, the sound is clear and loud, and the charge lasts a couple of days.', \"very clear, quality sound and you don't have to mess with the sound on your iPod since you have the sound buttons on the headset.\", \"1. long lasting battery (you don't have to recharge it as frequentyly as some of the flip phones)2.\", 'Obviously there is a problem with the adhesive.', 'Very disappointing.', 'It was an inexpensive piece, but I would still have expected better quality.', 'It is practically useless and did not add any kind of boost to my reception after I bought it.', 'Excellent sound quality.', 'Was not happy.', 'A PIECE OF JUNK THAT BROKE AFTER BEING ON MY PHONE FOR 2 DAYS!!!', 'New Battery works great in phone.', 'Worst customer service.', \"I've dropped my phone more times than I can say, even on concrete and my phone is still great (knock on wood!).\", 'Reception is terrible and full of static.', 'Good audio quality.', 'This little device has transformed my organizational capability and made my life a whole lot easier.', 'I was sitting in my vehicle, with the cradle on my belt, and the headset lost signal.', 'Were JERKS on the phone.', 'Works like a charm.. Works as advertised.', 'Comfortable, Nice Range, Good Battery Life.', 'Their network coverage in Los Angeles is horrible.', 'Excellent starter wireless headset.', 'The loudspeaker option is great, the bumpers with the lights is very ... appealing.', 'The only thing that I think could improve is the sound leaks out from the headset.', 'First off the reception sucks, I have never had more than 2 bars, ever.', 'The phone gets EXTREMELY HOT!', 'The microphone also works well, but (according to people I have called) it applifies everything.', 'Nice design and quality.', 'Also, if your phone is dropped, this case is not going to save it, specially when dropped face down.', 'It is light, easy to use, and has very clear reception and transmission.', 'bad fit, way too big.', 'It definitely was not as good as my S11.', 'awesome device.', 'Waste of money.', 'I had ordered a motorola data cable, got a very well finished and working product.', 'Love This Phone.', \"I was looking for this headset for a long time and now that I've got it I couldn't be happier.\", \"I'll be drivng along, and my headset starts ringing for no reason.\", 'Display is excellent and camera is as good as any from that year.', 'Battery life is also great!', \"The worst phone I've ever had.... Only had it for a few months.\", 'Not a good item.. It worked for a while then started having problems in my auto reverse tape player.', 'This is so embarassing and also my ears hurt if I try to push the ear plug into my ear.', 'Protects the phone on all sides.', 'This is a VERY average phone with bad battery life that operates on a weak network.', 'Clear Skype Calls, Long Battery Life, Long Range.', 'Soyo technology sucks.', 'Great Hands Free Device.', 'you can even take self portraits with the outside (exterior) display, very cool.', 'Same problem as others have mentioned.', 'After trying many many handsfree gadgets this is the one that finally works well.', 'Magical Help.', 'The worst piece of crap ever along with the Verizon customer service.', 'Poor sound quality.', 'The best phone in market :).', 'It worked very well.', 'The company shipped my product very promptly and it works well.', 'Exactly what I wanted.', 'The picture resolution is far below what other comparably-priced phones are offering today.', 'This is a great deal.', 'Excellent product, I am very satisfied with the purchase.', 'I highly recommend these and encourage people to give them a try.', \"Better than you'd expect.\", 'Using all earpieces, left or right, this thing will not stay on my ear.', 'Great product and price.', 'Sounds good reasonably priced and effective, Its that simple !', \"Still Waiting...... I'm sure this item would work well.. if I ever recieve it!\", 'what a disappointment', 'Very prompt service.', 'Excellent product for the price.', 'Very pleased with this headset.', \"don't waste your money and time.\", 'I especially love the long battery life.', \"It's so stupid to have to keep buying new chargers, car chargers, cradles, headphones and car kits every time a new phone comes out.\", 'Works great.', 'Plantronics Bluetooth Excelent Buy.', 'I came over from Verizon because cingulair has nicer cell phones.... the first thing I noticed was the really bad service.', \"I'll be looking for a new earpiece.\", 'I highly recommend this device to everyone!', 'Jawbone Era is awesome too!', 'We received a WHITE colored battery that goes DEAD after a couple hoursTHe original used to last a week - but still lasts longer than thereplacement', 'After a year the battery went completely dead on my headset.', 'I have used several phone in two years, but this one is the best.', 'An Awesome New Look For Fall 2000!.', \"This is the first phone I've had that has been so cheaply made.\", 'Att is not clear, sound is very distorted and you have to yell when you talk.', 'The plastic breaks really easy on this clip.', 'Price is good too.', \"Don't make the same mistake I did.\", 'Oh and I forgot to also mention the weird color effect it has on your phone.', \"I'm using it with an iriver SPINN (with case) and it fits fine.\", \"Also the area where my unit broke).- I'm not too fond of the magnetic strap.\", 'Overall, I am psyched to have a phone which has all my appointments and contacts in and gets great reception.', 'every thing on phone work perfectly, she like it.', \"Another note about this phone's appearance is that it really looks rather bland, especially in the all black model.\", \"IT'S REALLY EASY.\", 'My Sanyo has survived dozens of drops on blacktop without ill effect.', 'Fantastic earphones.', 'It finds my cell phone right away when I enter the car.', 'Low Quality.', 'I highly recommend this modest priced cellular phone.', \"But it does get better reception and clarity than any phone I've had before.\", 'Warning - Stay away.', 'I wish I could return the unit and get back my money.', 'Awsome Device Works Great!!.', 'I used to talk on it for 1 - 1 1/2 hours and the battery would be literally drained and dying.', \"If you don't find it, too bad, as again the unit comes with one earpad only.I would not recommend this to anyone.\", 'Very Displeased.', 'I might have gotten a defect, but I would not risk buying it again because of the built quality alone.', 'They made this case too small and is very difficult to install.', 'Restored my phone to like new performance.', 'I would recommend purchasing the Jabra JX-10 series 2 which works flawlessly with my Moto Q, go figure.', 'I searched the Internet, and found this one to be the best value.', 'Does not fit.', 'Very happy with this product.', 'The screen size is big, key pad lit well enough, and the camera quality is excellent for a camera phone.', \"There's really nothing bad I can say about this headset.\", \"i'm glad i found this product on amazon it is hard to find, it wasn't high priced.\", 'Portable and it works.', 'My colleague & I now get great reception.A little expensive, but performance is great.', 'I even fully charged it before I went to bed and turned off blue tooth and wi-fi and noticed that it only had 20 % left in the morning.', \"I've also had problems with the phone reading the memory card in which I always turn it on and then off again.\", 'Not good when wearing a hat or sunglasses.', 'Timely shipment and quality product.', 'Nice solid keyboard.', 'Very well made and fits my Surefire GX2 perfectly.', 'Horrible phone.', 'BT50 battery junk!.', 'We would recommend these to others.', 'Cant get the software to work with my computer.', 'Disappointed!.', 'poor voice clarity.', 'The battery works great!', 'No buyers remorse on this one!.', 'Very disappointed in AccessoryOne.', 'I find this inexcusable and so will probably be returning this phone and perhaps changing carriers.', 'Looks great and is strong.\"', 'I have had TMobile service for 2 or 3 years now, and I am pretty happy with it.', 'The update procedure is difficult and cumbersome.', 'Disappointment.. I hate anything that goes in my ear.', 'Great software for Motorolas.', 'The delivery was on time.', 'Very easy to use.', \"Uncomfortable In the Ear, Don't use with LG VX9900 (EnV).\", 'The volume switch rocketed out of the unit to a destination unknown.', 'It holds a charge for a long time, is reasonably comfortable under long-wearing conditions and the quality of sound is tremendous.', \"I'd like to return it.\", \"The keyboard is really worthwhile in usefulness and is sturdy enough I don't expect any problems.\", \"Verizon's bills, however, are difficult to understand even though their pricing plans are simple.\", 'After charging overnight, these batteries work great.', \"You won't regret it!\", 'I love this phone!.', 'A Disappointment.', 'Its not user friendly.', 'Unfortunately the ability to actually know you are receiving a call is a rather important feature and this phone is pitiful in that respect.', 'Then I exchanged for the same phone, even that had the same problem.', 'This results in the phone being either stuck at max volume or mute.', 'This PDA rocks.', 'It is super charged up for use as a small hybrid palmtop/camera/cellphone, and excels in those roles.', 'I would definitely recommend the Jabra BT250v for those who are looking for comfort, clarity and a great price!', 'I had Verizon 2 years ago and really liked their service.', 'Pretty piece of junk.', 'Plug was the wrong size.', 'Works as described.', \"Save your money.... I've had this item for 11 months now.\", 'Bad Purchase.', 'WELL IM SATISFIED.', 'The bose noise cancelling is amazing, which is very important for a NYC commuter.', 'This battery is an excellent bargain!', 'Defective crap.', 'I would have given no star if I was able.', 'I wear glasses and it fits fine with them.', 'The sound quality for the device is unacceptable.Unless you are in a really quiet area, you almost hear nothing.', 'I would not recommend this item to anyone.', 'The holster that arrived did not match the photo in the ad.', 'great...no problems at all!.', 'As an earlier review noted, plug in this charger and nothing happens.', 'This frog phone charm is adorable and very eye catching.', 'You never know if you pushed it hard enough or the right number of times for the function you want or not.', 'The sound is clear and the people I talk to on it are amazed at the quality too.', 'I got the aluminum case for my new Palm VX and it worked really well--it has protected my handheld perfectly so far.', 'very good product, well made.', 'Mobile Phone Tools are a must have.', 'I am very impressed with the job that Motorola did on the sturdiness of this phone.', 'I received my orders well within the shipping timeframe, everything was in good working order and overall, I am very excited to have this source.', 'The phone is sturdy and waterproof.', 'I am not impressed with this and i would not recommend this item to anyone.', 'My only complaint is the standard sound volume is a little low even when turned up to 5(of 5)', 'Thanks again to Amazon for having the things I need for a good price!', 'I ended up sliding it on the edge of my pants or back pockets instead.', 'I had to go to a store and bought a new NOKIA phone which is working great.', 'Works great!.', 'REALLY UGLY.', 'horrible, had to switch 3 times.', 'The noise shield is incrediable.', 'No real improvement.', 'Razr Battery - Good buy.', 'Keep up the good work Amazon!!', 'They refuse to refund or replace.', \"Unfortunately it's easy to accidentally activate them with the gentle-touch buttons if you accidentally touch the phone to your face while listening.\", 'So I basically threw my money out the window for nothing.', 'Great case and price!', 'All it took was one drop from about 6 inches above the kitchen counter and it was cracked.I am not impressed and I am not laughing.', 'Bluetooth range is good - a few days ago I left my phone in the trunk, got a call, and carried the conversation without a hitch.', 'Small, sleek, impressive looking, practical setup with ample storage in place.', 'The eargels channel the sound directly into your ear and seem to increase the sound volume and clarity.', 'none of the new ones have ever quite worked properly.', 'I am glad I purchased it.', \"I've missed numerous calls because of this reason.\", 'Perhaps my phone is defective, but people cannot hear me when I use this.', \"Don't buy this product.\", 'sucked, most of the stuff does not work with my phone.', \"No shifting, no bubbling, no peeling, not even a scratch, NOTHING!I couldn't be more happier with my new one for the Droid.\", 'Worst software ever used.... If I could give this zero stars I would.', 'Trying to make a call on these is an exercise in frustration.', 'The case is a flimsy piece of plastic and has no front or side protection whatsoever.', 'I own a Jabra Earset and was very happy with it, but the sound quality, especially outgoing, on this is better.', \"I love the camera, it's really pretty good quality.\", 'Thank you for such great service.', 'Its a total package.', 'The seller is very understanding and patient, I would definitely buy from them again.', 'I give Wirefly 1 star.I will contact Cingular/AT&T; and inform them of this practice.', \"It's AGGRAVATING!\", 'Great product for the price!.', 'I have purchased these for both family and friends, and all enjoy their clarity and ease of use', 'Virgin Wireless rocks and so does this cheap little phone!', \"None of it works, just don't buy it.\", \"Muddy, low quality sound, and the casing around the wire's insert was poorly super glued and slid off.\", 'Please dont waste your money.', \"All in all, I'm quite satisfied with this purchase.\", \"If you are looking for a good quality Motorola Headset keep looking, this isn't it.\", 'Yet Plantronincs continues to use the same flawed charger design.', 'Disapointing Results.', 'Cumbersome design.', 'Great it was new packaged nice works good, no problems and it came in less time then I expected!!!!', 'Great Product.', \"It's A PIECE OF CRAP!\", 'My experience was terrible..... This was my fourth bluetooth headset, and while it was much more comfortable than my last Jabra (which I HATED!!!', 'This fixes all the problems.', 'Worst ever.', 'I am very happy', \"I've had no trouble accessing the Internet, downloading ringtones or performing any of the functions.\", 'I can barely ever hear on it and am constantly saying \"what?\"', 'The battery life is highly unacceptable.', 'That company is a joke.', 'It does everything the description said it would.', 'Due to this happening on every call I was forced to stop using this headset.', 'It works great with a car charger, especially if you cannot plug in two adapters at the same time.', 'Verizon tech support walked my through a few procedures, none of which worked and I ended up having to do a hard re-set, wiping out all my data.', 'Voice Quality, Signal Strength, Dropped Calls.', \"It plays louder than any other speaker of this size; the price is so low that most would think the quality is lacking, however, it's not.\", 'Better than expected.', 'It feels poorly constructed, the menus are difficult to navigate, and the buttons are so recessed that it is difficult to push them.', 'Battery is holding up well.', \"Also difficult to put on.I'd recommend avoiding this product.\", \"I only used it two days, and it wasn't always easy to hear with.\", 'I got the car charger and not even after a week the charger was broken...I went to plug it in and it started smoking.', 'Sprint - terrible customer service.', 'Linked to my phone without effort.', 'THey are so cool!', 'Easy to use.', 'Better Than New.', 'What possesed me to get this junk, I have no idea...', 'Piece of trash.', 'A pretty good product.', 'This is a great phone!.', 'For the price on Amazon, it is an excellent product, which I would highly recommend.', \"Their Research and Development division obviously knows what they're doing.\", 'The real killer is the volume, and of course it breaking.', 'Those phones are working just fine now.', 'I am more than happy with this product.', 'Poor Construction.', 'This is infuriating.', 'Overall, I would recommend this phone over the new Walkman.', 'Sprint charges for this service.', 'It is cheap, and it feel and look just as cheap.', 'It fits my ear well and is comfortable on.', \"It doesn't work in Europe or Asia.\", \"clipping this to your belt will deffinitely make you feel like 50 cent's up-and-coming.\", 'I like design and look of Jabra behing the ear headsets and 5020 is pretty comfortible to wear 24 hours a day without pain in the ear.', 'I was amazed at the quick arrival of the two original lg cell phone batteries and and at a fraction of the price.', 'the worst phone from samsung...crap..... this crappy Samsung E715.. is the worst i have ever seeen.', 'the charger worked for about a week and then completely stopped charging my phone.', 'Poor product.', 'However I needed some better instructions.', 'You need two hands to operate the screen.This software interface is decade old and cannot compete with new software designs.', 'Worked very well paired with a Treo 700w and as a Skype headset on my PC (using a USB Bluetooth transceiver).', 'Steer clear of this product and go with the genuine Palm replacementr pens, which come in a three-pack.', 'DO NOT BUY DO NOT BUYIT SUCKS', 'This is a great product..... sure beats using your fingers!.', 'Plus, I seriously do not believe it is worth its steep price point.', \"All the other cases I've tried normally fall apart after a few months but this one seems to be in for the long haul.\", 'Very Dissapointing Performance.', \"Don't make the same mistake that I did and please don't buy this phone.\", \"This phone might well be the worst I've ever had in any brand.\", 'Case was more or less an extra that I originally put on but later discarded because it scratched my ear.', 'I recommend iGo to anyone with different brand cell phones/mp3 players in the family.', \"Don't bother - go to the store.\", \"I posted more detailed comments under the grey or black phone, but i have the Fire Red and it's a great color!\", 'I did not have any problem with this item and would order it again if needed.', 'You get what you pay for I guess.', 'Not only did the software do a great job of this, I could also make my own ringtones form my existing CDs without an internet connection.', \"im surprised this is a good quality car charger and there's not much reviews about it.\", 'These are fabulous!', 'However, BT headsets are currently not good for real time games like first-person shooters since the audio delay messes me up.', 'I used bitpim (a free program you can find on the internet)to transfer data to the phone.The price of the cable was excellent.', 'Disappointing accessory from a good manufacturer.', 'Performed awful -- muffled, tinny incoming sound and severe echo for those on the other end of the call.', 'Very wind-resistant.', 'Obviously they have a terrible customer service, so you get what you pay for.', 'They do not last forever, but is not overly expensive to replace.Easy to operate and the sound is much better than others I have tried.', \"I contacted the company and they told me that, although the unit was still under warranty, if I couldn't produce my receipt I was out of luck.\", 'Linksys should have some way to exchange a bad phone for a refurb unit or something!', 'Phone is sturdy as all nokia bar phones are.', 'Great phone.', 'When I placed my treo into the case, not only was it NOT snug, but there was A LOT of extra room on the sides.', \"I'm pleased.\", 'Battery is terrible.', 'I found the product to be easy to set up and use.', 'The earpiece on this is too large or too heavy...it keeps falling out of my ear.', 'Utter crap.. Sound quality is TERRIBLE.', 'The charger arrived within the promised timeframe, but it did not work.', \"No ear loop needed, it's tiny and the sound is great.\", 'Finally, after three or four times the spring of the latch broke and I could not use it any longer on the visor.', 'The handsfree part works fine, but then the car tries to download the address book, and the Treo reboots.Overall, I still rate this device high.', 'Talk about USELESS customer service.', 'It felt too light and \"tinny.\".', 'This does not fit the Palm Tungsten E2 and it broke the first time I tried to plug it in.', \"I'm happy about this purchase- good quality and low price.\", 'I love the look and feel of Samsung flipphones.', 'Its well-designed and very sharp -- the blue is a very nice color.', 'Does everything it should and more.', 'I could not recommend these more.', 'Nice Sound.', 'Looks good in the picture, but this case was a huge disappointment!!', 'Much less than the jawbone I was going to replace it with.', 'Setup went very smoothly.', 'its extremely slow and takes forever to do anything with it.', 'A must study for anyone interested in the \"worst sins\" of industrial design.', 'The first thing that happened was that the tracking was off.', 'It is well made, easy to access the phone and has a handy, detachable belt clip.', 'Then I had to continue pairing it periodically since it somehow kept dropping.', \"Can't upload ringtones from a third party.\", 'Bluetooth does not work, phone locks up, screens just flash up and now it just makes calls randomly while in my pocket locked.', 'Truly awful.', 'It works fine on my Motorola 325 cellphone, and a lot better than the worn-out battery did.', 'The volume for the ringer is REAL good (you have choices how loud).', 'And none of the tones is acceptable.', 'camera color balance is AWFUL.', \"This product is clearly not ready for prime time, I don't care how cool it looks, if you can't tell a call is coming in it's worthless.\", 'I love the ringtones because they are so upbeat!', 'Chinese Forgeries Abound!.', 'Easy to pair with my Samsung Cell.', \"The instructions didn't explain that a microphone jack could be used.\", 'i would advise to not purchase this item it never worked very well.', 'Too bad you have to pay up to $$$ a month for the service!', 'Works well.', 'The nokia CA-42 USB cable did not work with my phone.', 'Clear crisp sound.', 'I have to use the smallest earpieces provided, but it stays on pretty well.', 'The biggest complaint I have is, the battery drains superfast.', 'The design might be ergonomic in theory but I could not stand having these in my ear.', 'Do NOT buy if you want to use the holster.', 'The phone can also take great pictures and even video clips.', \"It doesn't make you look cool.\", 'Because both ears are occupied, background is not distracting at all.', 'Comfortable fit - you need your headset to be comfortable for at least an hour at a time, if not for an entire day.', \"Also, the phone doesn't seem to accept anything except CBR mp3s, preferably ripped by Windows Media Player.\", \"You can't beat the price on these.\", '* Comes with a strong light that you can use to light up your camera shots, and even flash SOS signals (seriously!', 'lightweight and works well.', 'So just beware.', 'I love this cable - it allows me to connect any mini-USB device to my PC.', 'So anyone near you will hear part of your conversation.', 'This is cool because most cases are just open there allowing the screen to get all scratched up.', 'I bought this phone as a replacement for my StarTac and have regretted it since.', 'Appears to actually outperform the original battery from China that came with my V325i.', \"Can't store anything but phone numbers to SIM.\", 'It lasts less than 3o minutes, if I actually try to use the phone.My wife has the same phone with the same problem.', 'Poor quality.', 'jabra ear gels \"R\" the best!.', 'Not worth it.', 'The phone crashed completely and now I have to get it replaced.', \"It quit working after I'd used it for about 18 months, so I just purchased another one because this is the best headset I've ever owned.\", 'Unfortunately it will not recharge my iPhone 4s, despite connecting it from multiple power sources (iMac, external battery, wall outlet, etc).', 'It was a great phone.', 'if you simply want a small flip phone -- look elsewhere as the extra bells & whistles are mediocre.', 'Good value, works fine - power via USB, car, or wall outlet.', \"My phone doesn't slide around my car now and the grip prevents my phone from slipping out of my hand.\", 'This is simply the BEST bluetooth headset for sound quality!', 'Think it over when you plan to own this one!This sure is the last MOTO phone for me!', 'In the span of an hour, I had two people exclaim \"Whoa - is that the new phone on TV?!?', 'I have always used corded headsets and the freedom from the wireless is very helpful.', 'This case has passed the one year mark and while it shows signs of wear, it is 100% functional.', 'Other than that, the leather is nice and soft; the fit is very tight; the cut out for the face is a good shape.', \"It has everything I need and I couldn't ask for more.\", 'After receiving and using the product for just 2 days it broke.', 'This product is great... it makes working a lot easier I can go to the copier while waiting on hold for something.', 'None of the three sizes they sent with the headset would stay in my ears.', 'T-Mobile has the best customer service anywhere.', 'Arrived quickly and much less expensive than others being sold.', 'We have tried 2 units and they both failed within 2 months.. Pros', 'Provides good protection and looks classy, too.', 'Krussel Always good.', 'The tracfonewebsite is user friendly and makes it easy toactivate, etc.', 'The design is very good.4.', 'I great reception all the time.', 'I would highly recommend this product.', \"Couldn't use the unit with sunglasses, not good in Texas!\", 'It dit not work most of the time with my Nokia 5320.', 'Bought mainly for the charger, which broke soon after purchasing.', 'If you like a loud buzzing to override all your conversations, then this phone is for you!', 'Fantastic buy and will get again for whatever my next phone is', 'stay away from this store, be careful.', 'This BlueAnt Supertooth hands-free phone speaker is AWESOME.', 'Does not fit.', '.... Item arrived quickly and works great with my Metro PCS Samsung SCH-r450 slider phone and Sony Premium Sound in ear plugs.', 'It is light, has plenty of battery capacity, and is very confortable to wear for somewhat extended periods of time.', 'disappointing.', 'Blue Ant is easy to use.', 'Cheap but hey it works.. Was pleasantly suprised given the low cost of this item.', \"The camera on the phone may be used as a dustpan when indoors... I'd rather be using a disposable then this.\", 'Then a few days later the a puff of smoke came out of the phone while in use.', \"It's very convenient and simple to use - gets job done & makes the car ride so much smoother.\", 'The nano stated it.My son was dissapointed.', 'The sound quality is excellent as well.', 'Its the best headset I have used.', 'Would not reccommend.', 'They have been around for years and carries the highest quality of anti-glare screen protector that I have found to date.', 'Just what I wanted.', 'This particular model would not work with my Motorola Q smartphone.', 'wont work right or atleast for me.', 'in addition it feels &amp; looks as if the phone is all lightweight cheap plastic.', 'But now that it is \"out of warranty\" the same problems reoccure.Bottom line... put your money somewhere else... Cingular will not support it.', 'I really wanted the Plantronics 510 to be the right one, but it has too many issues for me.The good', 'Great product.', 'Crisp and Clear.', 'AFter the first charge kept going dead after 12 minutes.', 'VERY cheap plastic, creaks like an old wooden floor.', 'I get absolutely horrible reception in my apartment, where with other phones I have not had this problem.', 'The reception has been generally good.', 'Excellent sound, battery life and inconspicuous to boot!.', 'Great bluetooth!.', 'I highly recommend this case.', 'WORTHWHILE.', 'This is a great deal.', \"After my phone got to be about a year old, it's been slowly breaking despite much care on my part.\", 'I am sorry I made this purchase.', 'I bought these hoping I could make my Bluetooth headset fit better but these things made it impossible to wear.', 'Treo and T-Mobile refused to replace it again and forced me to buy another phone without any kind of upgrade discount.', 'It was horrible!.', \"I don't think it would hold it too securly on your belt.\", 'This allows the possibility of double booking for the same date and time after the first.', 'They work about 2 weeks then break.', 'It is simple to use and I like it.', \"It's a great tool for entertainment, communication, and data management.Oh, be sure to use ActiveSync 4.2 for optimal data synchronization results!\", \"I can't use this case because the smell is disgusting.\", 'NOT WHAT I WANTED.', 'I own 2 of these cases and would order another.', 'Great Phone.', \"I bought this battery with a coupon from Amazon and I'm very happy with my purchase.\", 'The internet access was fine, it the rare instance that it worked.', 'Perfect for the PS3.', 'Five star Plus, plus.', \"A good quality bargain.. I bought this after I bought a cheapy from Big Lots that sounded awful and people on the other end couldn't hear me.\", '$50 Down the drain.', \"I tried talking real loud but shouting on the telephone gets old and I was still told it wasn't great.\", 'Good , works fine.', 'For the price this was a great deal.', 'Great price, too!', 'If there is a wind, it is completely useless.', \"Yes it's shiny on front side - and I love it!\", 'Does Not Work.', 'At first I thought I was grtting a good deal at $7.44, until I plugged it into my phone (V3c Razr).', 'The reception through this headset is excellent.', '2 thumbs up to this seller', 'I have a Verizon LG phone and they work well together, good reception and range that exceeds 20 feet line of sight.', 'Improper description.... I had to return it.', '#1 It Works - #2 It is Comfortable.', 'Battery charge-life is quite long.', 'The Jabra EarGels fit my ears very well.', 'Battery has no life.', 'I checked everywhere and there is no feature for it which is really disappointing.', 'Product is exactly as described.', \"Gets a signal when other Verizon phones won't.\", \"Doesn't do the job.\", 'I would recommend it.', 'Plan on ordering from them again and again.', 'That being said, for a phone, the camera is very nice; many cool effects to play with, and video is decent as well.', 'I have been very satisfied with this cell phone from day one.', \"They keep getting better and better (this is my third one and I've had numerous Palms too).\", 'Awkward to use and unreliable.', 'The shipping time was also very quick!', 'Not as good as I had hoped.', 'Good case!.', \"Doesn't Work.\", 'Really good product.', 'Unfortunately it did not work.', 'All three broke within two months of use.', 'dont buy it.', 'My father has the V265, and the battery is dying.', 'However, the ear pads come off easily and after only one week I lost one.', 'The calls drop, the phone comes on and off at will, the screen goes black and the worst of all it stops ringing intermittently.', 'Horrible, horrible protector.', \"I don't like this Nokia either.\", 'Reaching for the bottom row is uncomfortable, and the send and end keys are not where I expect them to be.3.', 'I have bought this Nokia cell phone a few weeks ago and it was a nightmare.', 'It would take too long to describe how bad my customer service experience has been with Amazon.', 'the only VERY DISAPPOINTING thing was there was NO SPEAKERPHONE!!!!', 'Terrible.. My car will not accept this cassette.', 'Product is useless, since it does not have enough charging current to charge the 2 cellphones I was planning to use it with.', \"It's not what it says it is.\", 'Stay Away From the Q!.', 'Used and dirty.', 'Very unreliable service from T-mobile !', 'Not good enough for the price.', 'I bought two of them and neither will charge.', 'It looks very nice.', \"This is an excellent tool, especially when paired with your phone's auto-answer.\", \"I have read other's reviews here but I haven't had any problem with it.\", 'These products cover up the important light sensor above the ear outlet.', 'Comfortable in my hand.', 'Just does not work.', 'Poor Reliability.', '(It works!)', 'If I take a picture, the battery drops a bar, and starts beeping, letting me know its dieing.', 'Terrible product, and waste of money!', 'Last time buying from you.', 'It was a waste of my money.', 'So far it has worked like a charm.', 'I have only had it for a few weeks, but so far, so good.', 'But, in any case, the best part is, you can download these pictures to your laptop using IR, or even send pictures from your laptop to the phone.', 'Would recommend this item.', \"It's been my choice headset for years.Great sound; good volume; good noise cancellation.\", 'Nice case, feels good in your hands.', 'The item received was Counterfeit.', 'Just really good.. So far, probably the best BT headset I have ever had.', 'Works fine.', 'I received my headset in good time and was happy with it.', 'I was very pleased to see that I could replace my well travled swivel holster for my Blackberry flip.', 'My sister has one also and she loves it.', 'Good Quality.', \"This is by far the worst purchase I've made on Amazon.\", 'Excellent dual-purpose headset.', 'Excellent!.', 'Does not work for listening to music with the cingular 8125.', 'It seems completely secure, both holding on to my belt, and keeping the iPhone inside.', 'The bottowm line...another worthless, cheap gimmick from Sprint.', 'Having trouble with volume.', 'The only good thing was that it fits comfortably on small ears.', 'WARNING - DO NOT BUY!!.', 'I am pairing this with my iphone, and I could not be happier with it so far.', 'When it opens, the battery connection is broken and the device is turned off.', \"I didn't want the clip going over the top of my ear, causing discomfort.\", 'Best headset ever!!!.', \"Don't trust their website and don't expect any helpful support.\", 'It was that loud.Glad to say that the Plantronics 510 maintains a flawless connection to my cell and with no static during normal use.', 'The speaker is of low quality so as making the ring tones sound very cheap.', 'Fits comfortably, came with three sizes of earbud tips.', 'Excellent product for the price.', 'Bad Reception.', 'This product is very High quality Chinese CRAP!!!!!!', 'It was quite comfortable in the ear.', 'Great phone.', \"Don't buy this product - It fails!.\", 'Everything about this product is wrong.First', 'The pairing of the two devices was so easy it barely took a couple minutes before I started making calls with the voice dialing feature.', 'This was utterly confusing at first, which caused me to lose a couple of very, very important contacts.', 'Terrible phone holder.', 'The cutouts and buttons are placed perfectly.', 'I love being able to use one headset for both by land-line and cell.', 'Problem is that the ear loops are made of weak material and break easily.', 'Not nearly as good looking as the AMAZON picture makes it look.', 'But despite these few flaws, this case is of exceptional quality and well worth the additional costs of owning an official OEM product.', 'How stupid is that?', \"I can hear while I'm driving in the car, and usually don't even have to put it on it's loudest setting.\", 'Seller shipped quickly and much cheaper than the competitors.', 'Good show, Samsung.', 'So I bought about 10 of these and saved alot of money.', 'It always cuts out and makes a beep beep beep sound then says signal failed.', \"Couldn't figure it out\", \"My phone sounded OK ( not great - OK), but my wife's phone was almost totally unintelligible, she couldn't understand a word being said on it.\", 'So I had to take the battery out of the phone put it all back together and then restart it.', 'While I managed to bend the leaf spring back in place, the metal now has enough stress that it will break on the next drop.', 'Leopard Print is wonderfully wild!.', 'Works for me.', 'Saggy, floppy piece of junk.', 'much better than the hard plastic cases.', 'It also had a new problem.', 'Happy so far!.', 'cool phone.', 'Works good.', 'Motorola finally got the voice quality of a bluetooth headset right.', 'It looses connection to the phone even when it is within a couple feet between the two.', 'but it is great, i would really recommend it', \"Makes it easier to keep up with my bluetooth when I'm not wearing it.\", 'As I said above....PRETTY USELESS!', 'Never got it!!!!!', 'This pair of headphones is the worst that I have ever had sound-wise.', '[...] down the drain because of a weak snap!', 'Does not charge the Cingular (ATT) 8525 phone.', 'You get extra minutes so that you can carry out the call and not get cut off.\"', \"However, after about a year, the fliptop started to get loose and wobbly and eventually my screen went black and I couldn't receive and place calls.\", 'I kept catching the cable on the seat and I had to pull the phone out to turn it on an off.', 'The headset fulfills my requirements so I am happy with my purchase.', 'Logitech Bluetooth Headset is a 10!.', 'I like the fact that it rests lightly against your ear, rather than inside.', 'A lot of websites have been rating this a very good phone and so do I.', 'I have tried these cables with my computer and my iPod and it works just fine.', 'The mic there is a joke, and the volume is quite low.', \"I'm returning them.\", 'I does not maintain a connection with the computer while it is on my lap.', 'It is easy to turn on and off when you are in the car and the volume controls are quite accessable.', 'I have had mine for about a year and this Christmas I bought some for the rest of the family.', 'Otherwise, easy to install and use, clear sound.', 'nice leather.', 'I had to purchase a different case.', 'It is a joy to use.', 'Very much disappointed with this company.', 'Very satisifed with that.', \"It didn't charge for me.\", 'This is the phone to get for 2005.... I just bought my S710a and all I can say is WOW!', 'Buttons are too small.', 'Just reading on the specs alone makes you say WOW.', 'Love it.. Great armband.', 'I really like this product over the Motorola because it is allot clearer on the ear piece and the mic.', 'However, the keypads are so tinny that I sometimes reach the wrong buttons.', \"I exchanged the sony ericson z500a for this and I'm pretty happy with that decision.\", 'I was very impressed with the price of the cases.', 'Also makes it easier to hold on to.', 'I use this product in a motor control center where there is a lot of high voltage humming from the equipment, and it works great!', \"It's pretty easy.\", 'I cannot make calls at certain places.', \"however, my girl was complain that some time the phone doesn't wake up like normal phone does.\", 'Beautiful styling though.', 'This company charge me a restocking fee and still not given me my refund back.', \"I'm trying to return it for a refund.\", 'I plugged it in only to find out not a darn thing worked.', 'Excellent product.', 'Earbud piece breaks easily.', 'Lousy product.', \"This phone tries very hard to do everything but fails at it's very ability to be a phone.\", 'It is the best charger I have seen on the market yet.', 'SWEETEST PHONE!!!', ':-)Oh, the charger seems to work fine.', 'It fits so securely that the ear hook does not even need to be used and the sound is better directed through your ear canal.', 'Not enough volume.', 'Echo Problem....Very unsatisfactory', 'you could only take 2 videos at a time and the quality was very poor.', \"don't waste your money.\", 'I am going to have to be the first to negatively review this product.', 'Adapter does not provide enough charging current.', 'There was so much hype over this phone that I assumed it was the best, my mistake.', 'You also cannot take pictures with it in the case because the lense is covered.', 'Phone falls out easily.', \"It didn't work, people can not hear me when I talk.\", 'The text messaging feature is really tricky to use.', \"I'm really disappointed all I have now is a charger that doesn't work.\", 'Painful on the ear.', 'Lasted one day and then blew up.', 'disappointed.', 'Kind of flops around.', 'The screen does get smudged easily because it touches your ear and face.', 'What a piece of junk.. I lose more calls on this phone.', 'Item Does Not Match Picture.', 'The only thing that disappoint me is the infra red port (irda).', 'You can not answer calls with the unit, never worked once!']\n",
      "length of messages :  1000\n",
      "labels :  [0, 1, 1, 0, 1, 0, 0, 1, 0, 0, 1, 1, 0, 1, 0, 1, 0, 1, 1, 0, 0, 1, 0, 1, 0, 1, 1, 0, 0, 0, 0, 1, 0, 0, 1, 0, 1, 0, 1, 0, 1, 0, 1, 0, 1, 1, 0, 0, 1, 0, 0, 1, 1, 1, 1, 1, 0, 1, 1, 0, 0, 1, 1, 0, 0, 0, 0, 1, 1, 1, 0, 0, 1, 1, 1, 1, 0, 1, 1, 0, 1, 0, 1, 0, 0, 1, 1, 0, 1, 1, 0, 1, 1, 0, 0, 1, 0, 0, 1, 0, 1, 0, 1, 1, 0, 1, 0, 1, 0, 0, 1, 1, 1, 1, 1, 1, 0, 1, 1, 1, 1, 0, 1, 0, 1, 1, 0, 0, 1, 0, 1, 1, 1, 1, 0, 0, 1, 1, 0, 1, 0, 0, 0, 0, 0, 1, 0, 0, 0, 0, 0, 0, 1, 1, 0, 1, 1, 1, 1, 1, 0, 1, 0, 1, 0, 1, 0, 1, 0, 0, 1, 0, 0, 1, 1, 1, 1, 0, 0, 0, 0, 0, 1, 0, 0, 1, 0, 1, 0, 0, 0, 1, 1, 0, 0, 1, 1, 0, 0, 0, 1, 1, 0, 1, 0, 1, 1, 1, 1, 0, 0, 0, 1, 1, 1, 1, 1, 0, 0, 1, 0, 0, 1, 0, 0, 1, 1, 0, 0, 0, 0, 0, 0, 1, 1, 1, 1, 1, 1, 0, 0, 0, 0, 0, 0, 1, 1, 1, 0, 1, 1, 1, 1, 1, 0, 0, 0, 1, 1, 1, 1, 1, 1, 0, 0, 1, 0, 1, 0, 1, 0, 1, 0, 1, 0, 1, 0, 1, 1, 1, 1, 1, 0, 1, 1, 1, 0, 0, 0, 1, 1, 0, 1, 0, 1, 1, 1, 1, 0, 0, 0, 1, 1, 1, 1, 1, 1, 0, 0, 0, 1, 0, 1, 1, 0, 0, 1, 1, 0, 1, 1, 0, 0, 1, 0, 1, 0, 0, 0, 0, 1, 1, 1, 1, 1, 0, 0, 0, 0, 0, 1, 0, 0, 1, 0, 1, 0, 1, 1, 0, 0, 1, 1, 0, 0, 0, 0, 0, 0, 1, 1, 0, 1, 0, 1, 1, 0, 1, 1, 1, 0, 1, 1, 0, 0, 0, 1, 0, 1, 0, 1, 1, 0, 1, 1, 0, 0, 1, 1, 1, 1, 0, 1, 1, 1, 1, 0, 1, 1, 0, 0, 1, 1, 1, 0, 1, 0, 1, 1, 0, 0, 1, 1, 0, 0, 1, 1, 0, 0, 0, 1, 0, 0, 1, 0, 1, 1, 0, 1, 1, 1, 1, 0, 1, 1, 0, 0, 1, 0, 0, 0, 0, 0, 1, 1, 1, 0, 1, 1, 0, 1, 1, 1, 0, 0, 0, 1, 1, 1, 0, 0, 1, 0, 0, 0, 1, 0, 0, 0, 1, 1, 0, 0, 1, 1, 1, 0, 0, 1, 0, 1, 0, 1, 1, 1, 0, 0, 0, 0, 0, 1, 1, 1, 1, 0, 0, 1, 0, 0, 1, 1, 1, 0, 0, 1, 0, 0, 0, 1, 0, 1, 0, 1, 1, 1, 1, 1, 1, 1, 0, 0, 1, 1, 1, 1, 0, 0, 1, 0, 1, 1, 0, 0, 0, 1, 0, 1, 1, 1, 0, 1, 0, 0, 0, 0, 1, 0, 0, 0, 1, 1, 1, 1, 1, 0, 0, 1, 1, 1, 0, 0, 0, 1, 0, 0, 0, 0, 1, 1, 0, 0, 1, 0, 1, 1, 0, 0, 0, 1, 0, 1, 0, 0, 1, 1, 0, 1, 0, 0, 0, 0, 1, 1, 1, 1, 0, 0, 1, 1, 1, 1, 0, 1, 1, 0, 0, 1, 0, 0, 1, 0, 1, 1, 1, 0, 0, 0, 0, 0, 1, 0, 0, 1, 0, 1, 0, 0, 0, 0, 1, 0, 1, 1, 0, 1, 1, 1, 0, 1, 0, 0, 1, 0, 1, 0, 0, 1, 1, 0, 1, 0, 1, 0, 0, 0, 1, 0, 1, 0, 0, 0, 1, 1, 1, 1, 0, 1, 0, 1, 1, 0, 0, 0, 1, 0, 0, 0, 0, 1, 1, 0, 0, 0, 1, 0, 1, 0, 0, 0, 1, 0, 1, 1, 0, 0, 0, 1, 0, 1, 1, 0, 1, 1, 1, 0, 1, 0, 1, 0, 1, 0, 0, 0, 1, 0, 0, 1, 0, 1, 0, 1, 1, 1, 0, 1, 1, 1, 1, 1, 0, 1, 0, 1, 1, 0, 1, 1, 1, 1, 1, 1, 0, 0, 0, 0, 1, 0, 1, 0, 1, 1, 0, 1, 1, 0, 0, 1, 0, 1, 1, 0, 1, 1, 0, 0, 0, 0, 0, 1, 1, 0, 0, 0, 1, 1, 1, 1, 1, 1, 0, 0, 0, 0, 0, 0, 0, 0, 1, 1, 0, 0, 1, 1, 1, 0, 1, 1, 1, 0, 0, 1, 1, 1, 0, 1, 0, 0, 1, 1, 1, 0, 1, 1, 1, 0, 0, 1, 1, 0, 1, 1, 1, 1, 1, 0, 1, 0, 1, 0, 1, 0, 0, 0, 0, 0, 0, 0, 0, 0, 0, 0, 0, 0, 0, 0, 0, 0, 0, 0, 0, 1, 1, 1, 0, 1, 0, 0, 1, 0, 0, 0, 0, 1, 1, 1, 1, 1, 1, 0, 1, 1, 1, 1, 1, 1, 0, 1, 1, 0, 1, 0, 0, 1, 0, 1, 0, 0, 1, 0, 1, 0, 1, 1, 0, 0, 1, 1, 0, 0, 1, 0, 0, 1, 1, 0, 0, 1, 0, 1, 1, 1, 1, 0, 0, 0, 0, 0, 1, 1, 0, 1, 0, 1, 1, 1, 1, 0, 1, 0, 0, 0, 0, 0, 0, 1, 0, 0, 1, 1, 1, 1, 1, 0, 0, 0, 1, 1, 1, 1, 0, 1, 0, 1, 0, 1, 0, 1, 1, 1, 0, 1, 1, 1, 1, 1, 0, 0, 1, 0, 0, 0, 1, 0, 0, 0, 1, 1, 1, 1, 0, 0, 0, 0, 0, 0, 0, 0, 0, 0, 0, 0, 0, 0, 0, 0, 0, 0, 0, 0, 0]\n",
      "length of labels :  1000\n"
     ]
    }
   ],
   "source": [
    "data_path = 'dataset/amazon_cells_labelled.txt'\n",
    "messages = []\n",
    "labels = []\n",
    "\n",
    "with open(data_path, 'r', encoding='utf-8') as f:\n",
    "    datas = f.read().split(\"\\n\")\n",
    "    for data in datas:\n",
    "        if not data.strip():\n",
    "            continue\n",
    "        row =  data.split('\\t')\n",
    "\n",
    "        if len(row) == 2:\n",
    "            messages.append(row[0])\n",
    "            labels.append(int(row[1]))\n",
    "\n",
    "\n",
    "print(\"messages : \", messages)\n",
    "print(\"length of messages : \", len(messages))\n",
    "print(\"labels : \", labels)\n",
    "print(\"length of labels : \", len(labels))"
   ]
  },
  {
   "cell_type": "code",
   "execution_count": 5,
   "id": "7b13c87f",
   "metadata": {},
   "outputs": [
    {
     "data": {
      "text/html": [
       "<div>\n",
       "<style scoped>\n",
       "    .dataframe tbody tr th:only-of-type {\n",
       "        vertical-align: middle;\n",
       "    }\n",
       "\n",
       "    .dataframe tbody tr th {\n",
       "        vertical-align: top;\n",
       "    }\n",
       "\n",
       "    .dataframe thead th {\n",
       "        text-align: right;\n",
       "    }\n",
       "</style>\n",
       "<table border=\"1\" class=\"dataframe\">\n",
       "  <thead>\n",
       "    <tr style=\"text-align: right;\">\n",
       "      <th></th>\n",
       "      <th>message</th>\n",
       "      <th>label</th>\n",
       "    </tr>\n",
       "  </thead>\n",
       "  <tbody>\n",
       "    <tr>\n",
       "      <th>0</th>\n",
       "      <td>So there is no way for me to plug it in here i...</td>\n",
       "      <td>0</td>\n",
       "    </tr>\n",
       "    <tr>\n",
       "      <th>1</th>\n",
       "      <td>Good case, Excellent value.</td>\n",
       "      <td>1</td>\n",
       "    </tr>\n",
       "    <tr>\n",
       "      <th>2</th>\n",
       "      <td>Great for the jawbone.</td>\n",
       "      <td>1</td>\n",
       "    </tr>\n",
       "    <tr>\n",
       "      <th>3</th>\n",
       "      <td>Tied to charger for conversations lasting more...</td>\n",
       "      <td>0</td>\n",
       "    </tr>\n",
       "    <tr>\n",
       "      <th>4</th>\n",
       "      <td>The mic is great.</td>\n",
       "      <td>1</td>\n",
       "    </tr>\n",
       "    <tr>\n",
       "      <th>5</th>\n",
       "      <td>I have to jiggle the plug to get it to line up...</td>\n",
       "      <td>0</td>\n",
       "    </tr>\n",
       "    <tr>\n",
       "      <th>6</th>\n",
       "      <td>If you have several dozen or several hundred c...</td>\n",
       "      <td>0</td>\n",
       "    </tr>\n",
       "    <tr>\n",
       "      <th>7</th>\n",
       "      <td>If you are Razr owner...you must have this!</td>\n",
       "      <td>1</td>\n",
       "    </tr>\n",
       "    <tr>\n",
       "      <th>8</th>\n",
       "      <td>Needless to say, I wasted my money.</td>\n",
       "      <td>0</td>\n",
       "    </tr>\n",
       "    <tr>\n",
       "      <th>9</th>\n",
       "      <td>What a waste of money and time!.</td>\n",
       "      <td>0</td>\n",
       "    </tr>\n",
       "  </tbody>\n",
       "</table>\n",
       "</div>"
      ],
      "text/plain": [
       "                                             message  label\n",
       "0  So there is no way for me to plug it in here i...      0\n",
       "1                        Good case, Excellent value.      1\n",
       "2                             Great for the jawbone.      1\n",
       "3  Tied to charger for conversations lasting more...      0\n",
       "4                                  The mic is great.      1\n",
       "5  I have to jiggle the plug to get it to line up...      0\n",
       "6  If you have several dozen or several hundred c...      0\n",
       "7        If you are Razr owner...you must have this!      1\n",
       "8                Needless to say, I wasted my money.      0\n",
       "9                   What a waste of money and time!.      0"
      ]
     },
     "execution_count": 5,
     "metadata": {},
     "output_type": "execute_result"
    }
   ],
   "source": [
    "dataset = pd.DataFrame({'message': messages, \"label\": labels})\n",
    "dataset.head(10)"
   ]
  },
  {
   "cell_type": "markdown",
   "id": "fe3f6d49",
   "metadata": {},
   "source": [
    "#### Tokenizing the Words and Converting it into Numerical Sequences"
   ]
  },
  {
   "cell_type": "code",
   "execution_count": 6,
   "id": "19a25256",
   "metadata": {},
   "outputs": [],
   "source": [
    "t = Tokenizer() \n",
    "t.fit_on_texts(dataset['message'])\n",
    "text_matrix = t.texts_to_sequences(dataset['message'])"
   ]
  },
  {
   "cell_type": "markdown",
   "id": "0a06c827",
   "metadata": {},
   "source": [
    "#### We need to know the Maximum Length of the Matrix to Pad a sequences"
   ]
  },
  {
   "cell_type": "code",
   "execution_count": 8,
   "id": "cea7429b",
   "metadata": {},
   "outputs": [
    {
     "name": "stdout",
     "output_type": "stream",
     "text": [
      "Maximum length of sequences can be:  30\n"
     ]
    }
   ],
   "source": [
    "max_len = 0\n",
    "for matrix in text_matrix:\n",
    "    length = len(matrix)\n",
    "    if length > max_len : \n",
    "        max_len = length\n",
    "\n",
    "print(\"Maximum length of sequences can be: \", max_len)"
   ]
  },
  {
   "cell_type": "code",
   "execution_count": 9,
   "id": "3513bf12",
   "metadata": {},
   "outputs": [],
   "source": [
    "text_pad = pad_sequences(text_matrix, maxlen=32, padding='post' )"
   ]
  },
  {
   "cell_type": "code",
   "execution_count": 10,
   "id": "01bff9d1",
   "metadata": {},
   "outputs": [],
   "source": [
    "X_train, X_test, y_train, y_test = train_test_split(text_pad, dataset['label'], test_size=0.2, random_state=42)"
   ]
  },
  {
   "cell_type": "code",
   "execution_count": 12,
   "id": "192756b4",
   "metadata": {},
   "outputs": [
    {
     "name": "stdout",
     "output_type": "stream",
     "text": [
      "dicitionary element in knowledge based  {'the': 1, 'i': 2, 'and': 3, 'it': 4, 'is': 5, 'a': 6, 'this': 7, 'to': 8, 'phone': 9, 'my': 10, 'for': 11, 'of': 12, 'not': 13, 'with': 14, 'very': 15, 'great': 16, 'was': 17, 'on': 18, 'in': 19, 'that': 20, 'good': 21, 'have': 22, 'you': 23, 'product': 24, 'quality': 25, 'had': 26, 'headset': 27, 'works': 28, 'battery': 29, 'but': 30, 'as': 31, 'sound': 32, 'so': 33, 'are': 34, 'well': 35, 'one': 36, 'all': 37, 'use': 38, 'ear': 39, 'has': 40, 'would': 41, 'work': 42, 'from': 43, 'your': 44, 'like': 45, 'be': 46, 'me': 47, 'case': 48, 'if': 49, 'than': 50, \"i've\": 51, \"don't\": 52, 'no': 53, 'excellent': 54, 'up': 55, 'time': 56, \"it's\": 57, 'after': 58, 'price': 59, 'recommend': 60, 'does': 61, 'really': 62, '2': 63, 'at': 64, 'or': 65, 'best': 66, 'out': 67, 'only': 68, 'service': 69, 'get': 70, 'when': 71, 'nice': 72, \"i'm\": 73, 'also': 74, 'too': 75, 'just': 76, 'any': 77, 'new': 78, 'love': 79, 'these': 80, 'worked': 81, 'am': 82, 'charger': 83, 'more': 84, 'money': 85, 'do': 86, 'can': 87, 'first': 88, 'buy': 89, 'item': 90, 'better': 91, 'an': 92, 'ever': 93, 'car': 94, 'bluetooth': 95, 'about': 96, 'even': 97, 'because': 98, 'easy': 99, 'then': 100, 'what': 101, 'comfortable': 102, 'bought': 103, 'now': 104, 'they': 105, 'reception': 106, 'could': 107, \"doesn't\": 108, 'its': 109, 'did': 110, 'used': 111, 'poor': 112, 'been': 113, 'happy': 114, 'which': 115, 'will': 116, 'there': 117, 'waste': 118, 'two': 119, 'charge': 120, 'made': 121, 'still': 122, 'off': 123, 'bad': 124, 'purchase': 125, 'few': 126, 'cell': 127, 'while': 128, 'worst': 129, 'them': 130, 'far': 131, 'long': 132, 'problem': 133, 'life': 134, 'fine': 135, 'camera': 136, 'calls': 137, 'enough': 138, 'thing': 139, 'device': 140, 'piece': 141, 'got': 142, 'same': 143, 'problems': 144, 'right': 145, 'volume': 146, 'again': 147, 'hear': 148, 'make': 149, 'clear': 150, 'much': 151, 'using': 152, 'motorola': 153, 'fit': 154, 'plug': 155, 'design': 156, 'makes': 157, 'other': 158, 'working': 159, 'fits': 160, 'into': 161, 'think': 162, 'people': 163, 'phones': 164, 'disappointed': 165, 'pretty': 166, 'looks': 167, 'call': 168, \"couldn't\": 169, 'screen': 170, 'over': 171, 'terrible': 172, 'impressed': 173, '5': 174, 'highly': 175, 'how': 176, 'days': 177, 'months': 178, 'years': 179, 'everything': 180, 'cool': 181, 'wear': 182, '1': 183, 'lot': 184, 'cheap': 185, 'customer': 186, 'low': 187, 'however': 188, 'amazon': 189, 'by': 190, 'last': 191, 'without': 192, 'talk': 193, 'little': 194, 'never': 195, '3': 196, 'their': 197, 'verizon': 198, 'buttons': 199, 'broke': 200, 'found': 201, 'tried': 202, 'light': 203, 'jabra': 204, 'small': 205, 'voice': 206, 'look': 207, 'being': 208, 'back': 209, 'horrible': 210, 'year': 211, 'junk': 212, 'unit': 213, 'way': 214, 'several': 215, 'say': 216, 'went': 217, 'most': 218, \"didn't\": 219, 'audio': 220, 'dropped': 221, 'we': 222, 'loud': 223, 'real': 224, 'since': 225, 'big': 226, 'headsets': 227, 'gets': 228, 'down': 229, 'both': 230, 'completely': 231, 'software': 232, 'some': 233, 'internet': 234, 'useless': 235, 'company': 236, 'nokia': 237, 'quite': 238, 'looking': 239, 'take': 240, 'go': 241, 'minutes': 242, 'going': 243, 'three': 244, 'simple': 245, 'ears': 246, 'need': 247, 'picture': 248, 'priced': 249, 'want': 250, 'end': 251, 'headphones': 252, 'find': 253, 'within': 254, 'received': 255, 'black': 256, 'around': 257, 'signal': 258, 'perfectly': 259, 'less': 260, 'put': 261, 'every': 262, 'stay': 263, 'before': 264, 'cable': 265, 'hands': 266, 'came': 267, 'crap': 268, 'anyone': 269, 'difficult': 270, 'samsung': 271, 'value': 272, 'line': 273, 'razr': 274, 'original': 275, 'started': 276, 'charging': 277, 'mobile': 278, 'helpful': 279, 'hold': 280, 'sure': 281, 'turn': 282, 'sturdy': 283, 'different': 284, 'week': 285, 'feels': 286, 'arrived': 287, 'quickly': 288, 'expect': 289, 'definitely': 290, 'free': 291, 'shipping': 292, 'pictures': 293, 'high': 294, 'strong': 295, 'pleased': 296, 'job': 297, 'weeks': 298, 'hours': 299, 'know': 300, 'kind': 301, 'charm': 302, 'awesome': 303, 'where': 304, 'overall': 305, 'color': 306, 'part': 307, 'range': 308, \"i'd\": 309, 'disappointment': 310, 'important': 311, 'return': 312, 'feature': 313, 'many': 314, 'old': 315, 'anything': 316, 'couple': 317, 'disappointing': 318, 'belt': 319, 'data': 320, 'having': 321, 'especially': 322, 'keep': 323, 'plastic': 324, 'another': 325, 'clarity': 326, 'nothing': 327, 'hard': 328, 'always': 329, 'replace': 330, 'none': 331, 'cannot': 332, 'cases': 333, 'connection': 334, \"can't\": 335, 'easily': 336, 'here': 337, 'mic': 338, 'decent': 339, 'sending': 340, 'must': 341, 'were': 342, 'clip': 343, 'blue': 344, 'place': 345, 'absolutely': 346, 'bars': 347, 'she': 348, 'instructions': 349, 'left': 350, 'hate': 351, 'kept': 352, 'performance': 353, 'seems': 354, 'should': 355, 'keyboard': 356, 'actually': 357, 'support': 358, 'player': 359, 'later': 360, 'purchased': 361, 'holds': 362, 'bargain': 363, 'order': 364, 'leather': 365, 'fast': 366, 'comfortably': 367, 'set': 368, 'glad': 369, 'goes': 370, 'tool': 371, 'obviously': 372, 'side': 373, '10': 374, 'lasts': 375, 'able': 376, 'lightweight': 377, 'expected': 378, 'mistake': 379, 'worth': 380, 'earpiece': 381, 'either': 382, 'unreliable': 383, 'family': 384, 'seller': 385, 'plantronics': 386, 'buying': 387, 'try': 388, 'weak': 389, 'lg': 390, 'sucks': 391, 'ago': 392, 'times': 393, 'easier': 394, 'face': 395, 'others': 396, 'wanted': 397, 'deal': 398, 'satisfied': 399, 'comes': 400, 'rather': 401, 'away': 402, 'unfortunately': 403, 'those': 404, 'store': 405, 'own': 406, 'cingular': 407, 't': 408, 'ringtones': 409, 'said': 410, 'day': 411, 'treo': 412, 'usb': 413, 'extra': 414, 'awful': 415, 'unless': 416, 'jawbone': 417, 'conversations': 418, 'contacts': 419, 'static': 420, 'though': 421, 'who': 422, 'everyone': 423, 'pair': 424, 'yet': 425, 'below': 426, 'pocket': 427, 'pc': 428, 'provided': 429, 'included': 430, 'worthless': 431, 'thats': 432, 'features': 433, 'protection': 434, 'instead': 435, 'seconds': 436, '510': 437, 'perhaps': 438, 'seriously': 439, \"phone's\": 440, 'front': 441, 'trouble': 442, 'choice': 443, 'home': 444, 'beautiful': 445, 'longer': 446, 'packaged': 447, 'construction': 448, 'super': 449, 'ease': 450, 'dont': 451, 'plan': 452, 'decision': 453, 'match': 454, 'between': 455, 'fall': 456, 'such': 457, 'wife': 458, 'display': 459, 'rocks': 460, 'may': 461, 'setup': 462, 'earpieces': 463, 'bt': 464, 'getting': 465, 'almost': 466, 'avoid': 467, 'earbud': 468, 'failed': 469, 'coverage': 470, 'drops': 471, 'area': 472, 'forever': 473, 'description': 474, 'fantastic': 475, 'sharp': 476, 'chargers': 477, 'handsfree': 478, 'network': 479, 'slow': 480, 'once': 481, 'lost': 482, 'replacement': 483, 'extremely': 484, 'simply': 485, 'thought': 486, 'reasonably': 487, 'form': 488, 'experience': 489, \"there's\": 490, 'ordered': 491, 'sony': 492, 'market': 493, 'comfort': 494, 'probably': 495, 'drain': 496, 'poorly': 497, 'charged': 498, 'scratched': 499, 'microphone': 500, 'care': 501, 'lacking': 502, 'uncomfortable': 503, 'plugged': 504, 'flip': 505, 'wireless': 506, 'happier': 507, 'trying': 508, 'finally': 509, 'give': 510, 'dead': 511, 'oh': 512, 'might': 513, 'q': 514, 'size': 515, \"wasn't\": 516, 'expensive': 517, 'turned': 518, 'wearing': 519, 'computer': 520, 'under': 521, 'results': 522, 'wrong': 523, 'noise': 524, 'given': 525, 'star': 526, 'holster': 527, 'palm': 528, 'refund': 529, 'drop': 530, 'above': 531, 'through': 532, 'speaker': 533, 'sprint': 534, 'feel': 535, 'needed': 536, 'plus': 537, 'pay': 538, 'tinny': 539, 'pairing': 540, 'iphone': 541, 'despite': 542, 'outlet': 543, 'break': 544, 'beep': 545, 'us': 546, 'lasting': 547, 'wasted': 548, 'he': 549, 'extended': 550, 'notice': 551, 'tooth': 552, 'advise': 553, 'website': 554, 'fire': 555, 'run': 556, \"that's\": 557, 'owned': 558, '7': 559, 'pull': 560, 'unusable': 561, 'least': 562, 'book': 563, 'regarding': 564, 'returned': 565, 'turns': 566, 'pda': 567, 'large': 568, 'essentially': 569, 'forget': 570, 'tech': 571, 'particular': 572, 'party': 573, 'clearly': 574, 'mp3': 575, 'cover': 576, 'let': 577, 'lock': 578, 'died': 579, 'glasses': 580, 'sometimes': 581, 'series': 582, 'quiet': 583, 'person': 584, 'saying': 585, 'docking': 586, 'station': 587, 'd807': 588, 'advertised': 589, 'handy': 590, '6': 591, 'loves': 592, 'cheaper': 593, 'costs': 594, 'play': 595, 'music': 596, 'buyer': 597, 'beware': 598, 'pros': 599, 'white': 600, 'huge': 601, 'flaw': 602, 'although': 603, 'impressive': 604, 'resolution': 605, 'ask': 606, 'slim': 607, 'sex': 608, 'sleek': 609, 'full': 610, 'number': 611, 'keypad': 612, 'unhappy': 613, 'done': 614, 'basically': 615, 'careful': 616, 'logitech': 617, 'stuff': 618, 'house': 619, 'recognition': 620, 'tremendous': 621, 'during': 622, 'experienced': 623, 'takes': 624, 'literally': 625, 'stated': 626, 'hoping': 627, 'blackberry': 628, 'sounds': 629, 'technology': 630, \"wouldn't\": 631, 'wired': 632, 'previous': 633, 'w810i': 634, 'superb': 635, 'maintain': 636, 'graphics': 637, 'button': 638, 'thank': 639, 'igo': 640, 'tips': 641, 'connected': 642, \"wife's\": 643, 'storage': 644, 'buzzing': 645, 'override': 646, 'functionality': 647, 'incredible': 648, 'ring': 649, 'dropping': 650, 'thin': 651, 'nearly': 652, 'bother': 653, 'room': 654, 'issues': 655, 'felt': 656, 'embarrassing': 657, 'consumer': 658, 'background': 659, 'certainly': 660, 'usually': 661, 'mess': 662, 'bit': 663, 'tell': 664, 'excited': 665, 'additional': 666, 'gels': 667, 'whatsoever': 668, 'purpose': 669, 'secure': 670, 'appears': 671, 'smell': 672, 'caused': 673, 'flimsy': 674, 'month': 675, 'flawlessly': 676, 'stars': 677, 'whole': 678, 'adorable': 679, 'wise': 680, 'gotten': 681, 'driving': 682, 'dialing': 683, 'cant': 684, 'neither': 685, 'games': 686, 'ipod': 687, 'recharge': 688, 'save': 689, \"i'll\": 690, 'along': 691, 'starts': 692, 'ringing': 693, 'reason': 694, 'auto': 695, 'push': 696, 'sides': 697, 'skype': 698, 'shipped': 699, 'exactly': 700, 'waiting': 701, 'stupid': 702, 'noticed': 703, 'att': 704, 'breaks': 705, 'effect': 706, 'model': 707, 'warning': 708, 'dying': 709, 'alone': 710, 'install': 711, 'purchasing': 712, 'moto': 713, 'figure': 714, '20': 715, 'reading': 716, 'sunglasses': 717, 'returning': 718, 'cumbersome': 719, 'switch': 720, 'worthwhile': 721, 'understand': 722, 'batteries': 723, \"won't\": 724, 'user': 725, 'friendly': 726, 'ability': 727, 'receiving': 728, 'exchanged': 729, 'cellphone': 730, 'described': 731, 'im': 732, 'defective': 733, 'unacceptable': 734, 'review': 735, 'catching': 736, 'amazed': 737, 'timeframe': 738, 'complaint': 739, 'things': 740, 'ended': 741, 'accidentally': 742, 'touch': 743, 'listening': 744, 'took': 745, 'conversation': 746, 'eargels': 747, 'seem': 748, 'numerous': 749, 'please': 750, 'barely': 751, 'joke': 752, 'forced': 753, 'holding': 754, 'broken': 755, 'breaking': 756, '50': 757, 'coming': 758, 'quick': 759, 'operate': 760, 'paired': 761, 'come': 762, 'brand': 763, 'red': 764, 'reviews': 765, 'echo': 766, 'wind': 767, 'told': 768, 'warranty': 769, 'something': 770, 'bar': 771, 'placed': 772, 'spring': 773, 'tries': 774, 'download': 775, 'access': 776, 'third': 777, 'flash': 778, 'tones': 779, 'chinese': 780, 'crisp': 781, 'video': 782, 'hour': 783, 'accept': 784, 'allows': 785, 'power': 786, 'wall': 787, 'etc': 788, 'hand': 789, 'cut': 790, 'sizes': 791, '4': 792, 'next': 793, 'protector': 794, 'date': 795, 'bottom': 796, 'sounded': 797, 'together': 798, 'feet': 799, 'send': 800, 'current': 801, 'says': 802, 'answer': 803, 'laptop': 804, 'inside': 805, 'normal': 806, 'making': 807, 'fails': 808, 'lose': 809, 'ok': 810, 'wow': 811, 'converter': 812, 'tied': 813, '45': 814, 'major': 815, 'jiggle': 816, 'dozen': 817, 'hundred': 818, 'imagine': 819, 'fun': 820, 'each': 821, 'owner': 822, 'needless': 823, 'seperated': 824, 'mere': 825, 'ft': 826, 'excessive': 827, 'garbled': 828, 'odd': 829, 'fooled': 830, 'clicks': 831, 'wonder': 832, 'mechanism': 833, \"motorola's\": 834, 'followed': 835, 'directions': 836, 'kindle': 837, 'loved': 838, 'commercials': 839, 'misleading': 840, 'mother': 841, 'combination': 842, 'couldnt': 843, 'earphone': 844, 'breakage': 845, 'unacceptible': 846, 'ideal': 847, 'whose': 848, 'sensitive': 849, 'moving': 850, 'freeway': 851, 'speed': 852, 'contract': 853, 'ac': 854, 'juice': 855, 'highy': 856, 'recommended': 857, 'mins': 858, 'short': 859, '680': 860, '2mp': 861, 'pics': 862, 'garbage': 863, 'mind': 864, 'gonna': 865, 'arguing': 866, 'bulky': 867, 'usable': 868, 'world': 869, 'useful': 870, 'machine': 871, 'neat': 872, 'gadget': 873, 'reasonable': 874, 'e': 875, 'stream': 876, 'submerged': 877, '15': 878, 'complaints': 879, \"microsoft's\": 880, 'faceplates': 881, 'elegant': 882, 'angle': 883, 'drawback': 884, 'pause': 885, 'skip': 886, 'songs': 887, 'activated': 888, 'suddenly': 889, 'ipods': 890, 'situations': 891, 'bmw': 892, 'fairly': 893, 'hearing': 894, 'wrongly': 895, 'everyday': 896, 'intended': 897, 'runs': 898, 'boy': 899, 'loads': 900, 'greater': 901, 'buds': 902, 'waaay': 903, 'bluetooths': 904, 'listener': 905, 'integrated': 906, 'seamlessly': 907, 'flush': 908, 'toilet': 909, 'supposedly': 910, '375': 911, 'apparently': 912, 'styles': 913, 'correctly': 914, '350': 915, 'jabra350': 916, 'rated': 917, 'megapixels': 918, 'renders': 919, 'images': 920, 'expectations': 921, 'relatively': 922, 'purcashed': 923, 'geeky': 924, 'toast': 925, 'oozes': 926, 'embedded': 927, 'stylish': 928, 'compromise': 929, 'qwerty': 930, 'basic': 931, 'winner': 932, 'simpler': 933, 'iam': 934, 'disapoinment': 935, 'realize': 936, 'accompanied': 937, 'brilliant': 938, 'nicely': 939, 'damage': 940, 'definitly': 941, 'majority': 942, 'peachy': 943, 'keen': 944, 'upstairs': 945, 'basement': 946, 'minute': 947, 'reccomendation': 948, 'relative': 949, 'items': 950, 'sudden': 951, 'linking': 952, '8530': 953, 'curve': 954, 'funny': 955, 'seemed': 956, 'sketchy': 957, 'messages': 958, 'web': 959, 'browsing': 960, 'significantly': 961, 'faster': 962, 'build': 963, 'unlike': 964, 's': 965, 'colors': 966, 'whine': 967, 'communications': 968, 'communicate': 969, 'monkeys': 970, \"shouldn't\": 971, 'share': 972, 'dna': 973, 'copy': 974, 'humans': 975, 'bougth': 976, 'l7c': 977, 'mode': 978, 'wasting': 979, 'file': 980, 'browser': 981, 'offers': 982, 'options': 983, 'needs': 984, 'hs850': 985, 'whether': 986, 'latest': 987, 'os': 988, 'v1': 989, '15g': 990, 'likes': 991, 'crawl': 992, 'recognizes': 993, 'bluetoooth': 994, 'thorn': 995, 'abhor': 996, 'recently': 997, 'disconnected': 998, '13': 999, 'bucks': 1000, 'check': 1001, 'mail': 1002, 'night': 1003, 'backlight': 1004, 'message': 1005, 'tone': 1006, 'lately': 1007, 'wit': 1008, 'hit': 1009, 'weight': 1010, 'hardly': 1011, \"you'll\": 1012, 'pleather': 1013, 'deaf': 1014, 'prettier': 1015, 'incredibly': 1016, 'investment': 1017, 'strange': 1018, 'ticking': 1019, 'noises': 1020, 'ends': 1021, 'electronics': 1022, 'available': 1023, 'fm': 1024, 'transmitters': 1025, 'h500': 1026, 'mega': 1027, 'pixel': 1028, 'good7': 1029, 'transmit': 1030, 'contacting': 1031, 'dollar': 1032, 'learned': 1033, 'lesson': 1034, 'online': 1035, 'anyway': 1036, 'earbugs': 1037, 'means': 1038, 'roam': 1039, 'living': 1040, 'crack': 1041, 'infatuated': 1042, 'freezes': 1043, 'frequently4': 1044, 'mostly': 1045, 'child': 1046, 'tick': 1047, 'headbands': 1048, 'hair': 1049, 'ericsson': 1050, 'favorite': 1051, 'purchases': 1052, 'authentic': 1053, 'shine': 1054, 'cute': 1055, 'calendar': 1056, 'sync': 1057, 'defeats': 1058, 'penny': 1059, 'wallet': 1060, 'type': 1061, 'excrutiatingly': 1062, 'aspect': 1063, 'glove': 1064, 'durable': 1065, 'o': 1066, 'gosh': 1067, 'attractive': 1068, 'factor': 1069, 'rubber': 1070, 'petroleum': 1071, 'unbearable': 1072, 'scary': 1073, 'stereo': 1074, 'absolutel': 1075, '8': 1076, 'potentially': 1077, 'fry': 1078, 'giving': 1079, 'gave': 1080, 'reversible': 1081, 'rotating': 1082, 'our': 1083, 'contstruct': 1084, 'hinge': 1085, 'installed': 1086, 'overnite': 1087, 'thru': 1088, 'handset': 1089, 'cat': 1090, 'attacked': 1091, 'protective': 1092, 'strip': 1093, 'destroying': 1094, 'razor': 1095, 'v3i': 1096, 'someone': 1097, 'shouldve': 1098, 'invented': 1099, 'sooner': 1100, 'engineered': 1101, 'clever': 1102, 'complained': 1103, \"headset's\": 1104, '2160': 1105, 'tracfone': 1106, 'instruction': 1107, 'manual': 1108, 'alarm': 1109, 'clock': 1110, 'removing': 1111, 'antena': 1112, 'compared': 1113, 'compliments': 1114, 'state': 1115, 'allow': 1116, 'usage': 1117, 'immediately': 1118, 'ngage': 1119, 'earbuds': 1120, 'riingtones': 1121, 'rip': 1122, 'frequentyly': 1123, 'adhesive': 1124, 'inexpensive': 1125, 'practically': 1126, 'add': 1127, 'boost': 1128, 'concrete': 1129, 'knock': 1130, 'wood': 1131, 'transformed': 1132, 'organizational': 1133, 'capability': 1134, 'sitting': 1135, 'vehicle': 1136, 'cradle': 1137, 'jerks': 1138, 'los': 1139, 'angeles': 1140, 'starter': 1141, 'loudspeaker': 1142, 'option': 1143, 'bumpers': 1144, 'lights': 1145, 'appealing': 1146, 'improve': 1147, 'leaks': 1148, 'hot': 1149, 'according': 1150, 'called': 1151, 'applifies': 1152, 'specially': 1153, 'transmission': 1154, 's11': 1155, 'finished': 1156, 'drivng': 1157, 'reverse': 1158, 'tape': 1159, 'embarassing': 1160, 'hurt': 1161, 'protects': 1162, 'average': 1163, 'operates': 1164, 'soyo': 1165, 'self': 1166, 'portraits': 1167, 'outside': 1168, 'exterior': 1169, 'mentioned': 1170, 'gadgets': 1171, 'magical': 1172, 'help': 1173, 'promptly': 1174, 'comparably': 1175, 'offering': 1176, 'today': 1177, 'encourage': 1178, \"you'd\": 1179, 'effective': 1180, 'recieve': 1181, 'prompt': 1182, 'cradles': 1183, 'kits': 1184, 'excelent': 1185, 'cingulair': 1186, 'nicer': 1187, 'era': 1188, 'colored': 1189, 'hoursthe': 1190, 'thereplacement': 1191, '2000': 1192, 'cheaply': 1193, 'distorted': 1194, 'yell': 1195, 'forgot': 1196, 'mention': 1197, 'weird': 1198, 'iriver': 1199, 'spinn': 1200, 'fond': 1201, 'magnetic': 1202, 'strap': 1203, 'psyched': 1204, 'appointments': 1205, 'note': 1206, 'appearance': 1207, 'bland': 1208, 'sanyo': 1209, 'survived': 1210, 'dozens': 1211, 'blacktop': 1212, 'ill': 1213, 'earphones': 1214, 'finds': 1215, 'enter': 1216, 'modest': 1217, 'cellular': 1218, 'wish': 1219, 'awsome': 1220, 'drained': 1221, 'earpad': 1222, 'displeased': 1223, 'defect': 1224, 'risk': 1225, 'built': 1226, 'restored': 1227, 'jx': 1228, 'searched': 1229, 'key': 1230, 'pad': 1231, 'lit': 1232, 'portable': 1233, 'colleague': 1234, 'fully': 1235, 'bed': 1236, 'wi': 1237, 'fi': 1238, 'morning': 1239, 'memory': 1240, 'card': 1241, 'hat': 1242, 'timely': 1243, 'shipment': 1244, 'solid': 1245, 'surefire': 1246, 'gx2': 1247, 'bt50': 1248, 'buyers': 1249, 'remorse': 1250, 'accessoryone': 1251, 'inexcusable': 1252, 'changing': 1253, 'carriers': 1254, 'tmobile': 1255, 'update': 1256, 'procedure': 1257, 'motorolas': 1258, 'delivery': 1259, 'vx9900': 1260, 'env': 1261, 'rocketed': 1262, 'destination': 1263, 'unknown': 1264, 'conditions': 1265, 'usefulness': 1266, \"verizon's\": 1267, 'bills': 1268, 'pricing': 1269, 'plans': 1270, 'overnight': 1271, 'regret': 1272, 'pitiful': 1273, 'respect': 1274, 'stuck': 1275, 'max': 1276, 'mute': 1277, 'hybrid': 1278, 'palmtop': 1279, 'excels': 1280, 'roles': 1281, 'bt250v': 1282, 'liked': 1283, '11': 1284, 'bose': 1285, 'cancelling': 1286, 'amazing': 1287, 'nyc': 1288, 'commuter': 1289, 'photo': 1290, 'ad': 1291, 'earlier': 1292, 'noted': 1293, 'happens': 1294, 'frog': 1295, 'eye': 1296, 'pushed': 1297, 'function': 1298, 'aluminum': 1299, 'vx': 1300, 'protected': 1301, 'handheld': 1302, 'tools': 1303, 'sturdiness': 1304, 'orders': 1305, 'source': 1306, 'waterproof': 1307, 'standard': 1308, 'thanks': 1309, 'sliding': 1310, 'edge': 1311, 'pants': 1312, 'pockets': 1313, 'ugly': 1314, 'shield': 1315, 'incrediable': 1316, 'improvement': 1317, 'refuse': 1318, 'activate': 1319, 'gentle': 1320, 'threw': 1321, 'window': 1322, 'inches': 1323, 'kitchen': 1324, 'counter': 1325, 'cracked': 1326, 'laughing': 1327, 'trunk': 1328, 'carried': 1329, 'hitch': 1330, 'practical': 1331, 'ample': 1332, 'channel': 1333, 'directly': 1334, 'increase': 1335, 'ones': 1336, 'properly': 1337, 'missed': 1338, 'sucked': 1339, 'shifting': 1340, 'bubbling': 1341, 'peeling': 1342, 'scratch': 1343, 'droid': 1344, 'zero': 1345, 'exercise': 1346, 'frustration': 1347, 'earset': 1348, 'outgoing': 1349, 'total': 1350, 'package': 1351, 'understanding': 1352, 'patient': 1353, 'wirefly': 1354, 'contact': 1355, 'inform': 1356, 'practice': 1357, 'aggravating': 1358, 'friends': 1359, 'enjoy': 1360, 'virgin': 1361, 'muddy': 1362, 'casing': 1363, \"wire's\": 1364, 'insert': 1365, 'glued': 1366, 'slid': 1367, \"isn't\": 1368, 'plantronincs': 1369, 'continues': 1370, 'flawed': 1371, 'disapointing': 1372, 'fourth': 1373, 'hated': 1374, 'fixes': 1375, 'accessing': 1376, 'downloading': 1377, 'performing': 1378, 'functions': 1379, 'constantly': 1380, 'due': 1381, 'happening': 1382, 'stop': 1383, 'adapters': 1384, 'walked': 1385, 'procedures': 1386, 're': 1387, 'wiping': 1388, 'strength': 1389, 'plays': 1390, 'louder': 1391, 'constructed': 1392, 'menus': 1393, 'navigate': 1394, 'recessed': 1395, 'avoiding': 1396, 'smoking': 1397, 'linked': 1398, 'effort': 1399, 'possesed': 1400, 'idea': 1401, 'trash': 1402, 'research': 1403, 'development': 1404, 'division': 1405, 'knows': 1406, \"they're\": 1407, 'doing': 1408, 'killer': 1409, 'course': 1410, 'infuriating': 1411, 'walkman': 1412, 'charges': 1413, 'europe': 1414, 'asia': 1415, 'clipping': 1416, 'deffinitely': 1417, \"cent's\": 1418, 'behing': 1419, '5020': 1420, 'comfortible': 1421, '24': 1422, 'pain': 1423, 'arrival': 1424, 'fraction': 1425, 'crappy': 1426, 'e715': 1427, 'seeen': 1428, 'stopped': 1429, 'interface': 1430, 'decade': 1431, 'compete': 1432, 'designs': 1433, '700w': 1434, 'transceiver': 1435, 'steer': 1436, 'genuine': 1437, 'replacementr': 1438, 'pens': 1439, 'pack': 1440, 'buyit': 1441, 'beats': 1442, 'fingers': 1443, 'believe': 1444, 'steep': 1445, 'point': 1446, 'normally': 1447, 'apart': 1448, 'haul': 1449, 'dissapointing': 1450, 'originally': 1451, 'discarded': 1452, 'players': 1453, 'posted': 1454, 'detailed': 1455, 'comments': 1456, 'grey': 1457, 'guess': 1458, 'existing': 1459, 'cds': 1460, 'surprised': 1461, 'fabulous': 1462, 'currently': 1463, 'shooters': 1464, 'delay': 1465, 'messes': 1466, 'bitpim': 1467, 'program': 1468, 'transfer': 1469, 'accessory': 1470, 'manufacturer': 1471, 'performed': 1472, 'muffled': 1473, 'incoming': 1474, 'severe': 1475, 'resistant': 1476, 'overly': 1477, 'contacted': 1478, 'produce': 1479, 'receipt': 1480, 'luck': 1481, 'linksys': 1482, 'exchange': 1483, 'refurb': 1484, 'snug': 1485, 'heavy': 1486, 'keeps': 1487, 'falling': 1488, 'utter': 1489, 'promised': 1490, 'loop': 1491, 'tiny': 1492, 'four': 1493, 'latch': 1494, 'visor': 1495, 'address': 1496, 'reboots': 1497, 'rate': 1498, 'tungsten': 1499, 'e2': 1500, 'flipphones': 1501, 'designed': 1502, 'smoothly': 1503, 'study': 1504, 'interested': 1505, 'sins': 1506, 'industrial': 1507, 'happened': 1508, 'tracking': 1509, 'detachable': 1510, 'continue': 1511, 'periodically': 1512, 'somehow': 1513, 'upload': 1514, 'locks': 1515, 'screens': 1516, 'randomly': 1517, 'locked': 1518, 'truly': 1519, '325': 1520, 'worn': 1521, 'ringer': 1522, 'choices': 1523, 'acceptable': 1524, 'balance': 1525, 'ready': 1526, 'prime': 1527, 'upbeat': 1528, 'forgeries': 1529, 'abound': 1530, 'explain': 1531, 'jack': 1532, 'ca': 1533, '42': 1534, 'smallest': 1535, 'stays': 1536, 'biggest': 1537, 'drains': 1538, 'superfast': 1539, 'ergonomic': 1540, 'theory': 1541, 'stand': 1542, 'clips': 1543, 'occupied': 1544, 'distracting': 1545, 'entire': 1546, 'except': 1547, 'cbr': 1548, 'mp3s': 1549, 'preferably': 1550, 'ripped': 1551, 'windows': 1552, 'media': 1553, 'beat': 1554, 'shots': 1555, 'sos': 1556, 'signals': 1557, 'connect': 1558, 'mini': 1559, 'near': 1560, 'open': 1561, 'allowing': 1562, 'startac': 1563, 'regretted': 1564, 'outperform': 1565, 'china': 1566, 'v325i': 1567, 'numbers': 1568, 'sim': 1569, '3o': 1570, 'r': 1571, 'crashed': 1572, 'replaced': 1573, 'quit': 1574, '18': 1575, '4s': 1576, 'connecting': 1577, 'multiple': 1578, 'sources': 1579, 'imac': 1580, 'external': 1581, 'elsewhere': 1582, 'bells': 1583, 'whistles': 1584, 'mediocre': 1585, 'via': 1586, 'slide': 1587, 'grip': 1588, 'prevents': 1589, 'slipping': 1590, 'span': 1591, 'exclaim': 1592, 'whoa': 1593, 'tv': 1594, 'corded': 1595, 'freedom': 1596, 'passed': 1597, 'mark': 1598, 'shows': 1599, 'signs': 1600, '100': 1601, 'functional': 1602, 'soft': 1603, 'tight': 1604, 'shape': 1605, 'copier': 1606, 'sent': 1607, 'anywhere': 1608, 'sold': 1609, 'units': 1610, 'provides': 1611, 'classy': 1612, 'krussel': 1613, 'tracfonewebsite': 1614, 'toactivate': 1615, 'texas': 1616, 'dit': 1617, '5320': 1618, 'mainly': 1619, 'soon': 1620, 'whatever': 1621, 'blueant': 1622, 'supertooth': 1623, 'metro': 1624, 'pcs': 1625, 'sch': 1626, 'r450': 1627, 'slider': 1628, 'premium': 1629, 'plugs': 1630, 'plenty': 1631, 'capacity': 1632, 'confortable': 1633, 'somewhat': 1634, 'periods': 1635, 'ant': 1636, 'hey': 1637, 'pleasantly': 1638, 'suprised': 1639, 'cost': 1640, 'dustpan': 1641, 'indoors': 1642, 'disposable': 1643, 'puff': 1644, 'smoke': 1645, 'convenient': 1646, 'ride': 1647, 'smoother': 1648, 'nano': 1649, 'son': 1650, 'dissapointed': 1651, 'reccommend': 1652, 'carries': 1653, 'highest': 1654, 'anti': 1655, 'glare': 1656, 'smartphone': 1657, 'wont': 1658, 'atleast': 1659, 'addition': 1660, 'amp': 1661, 'reoccure': 1662, 'somewhere': 1663, 'else': 1664, '12': 1665, 'creaks': 1666, 'wooden': 1667, 'floor': 1668, 'apartment': 1669, 'generally': 1670, 'inconspicuous': 1671, 'boot': 1672, 'slowly': 1673, 'sorry': 1674, 'impossible': 1675, 'refused': 1676, 'upgrade': 1677, 'discount': 1678, 'securly': 1679, 'possibility': 1680, 'double': 1681, 'booking': 1682, 'entertainment': 1683, 'communication': 1684, 'management': 1685, 'activesync': 1686, 'optimal': 1687, 'synchronization': 1688, 'disgusting': 1689, 'coupon': 1690, 'rare': 1691, 'instance': 1692, 'perfect': 1693, 'ps3': 1694, 'five': 1695, 'cheapy': 1696, 'lots': 1697, 'talking': 1698, 'shouting': 1699, 'telephone': 1700, 'yes': 1701, 'shiny': 1702, 'grtting': 1703, '44': 1704, 'until': 1705, 'v3c': 1706, 'thumbs': 1707, 'exceeds': 1708, 'sight': 1709, 'improper': 1710, 'checked': 1711, 'everywhere': 1712, 'ordering': 1713, 'effects': 1714, 'palms': 1715, 'awkward': 1716, 'hoped': 1717, 'father': 1718, 'v265': 1719, 'pads': 1720, 'stops': 1721, 'intermittently': 1722, 'reaching': 1723, 'row': 1724, 'keys': 1725, 'nightmare': 1726, 'describe': 1727, 'speakerphone': 1728, 'cassette': 1729, 'cellphones': 1730, 'planning': 1731, 'dirty': 1732, 'read': 1733, \"other's\": 1734, \"haven't\": 1735, 'products': 1736, 'sensor': 1737, 'reliability': 1738, 'beeping': 1739, 'letting': 1740, 'dieing': 1741, 'ir': 1742, 'cancellation': 1743, 'counterfeit': 1744, 'see': 1745, 'travled': 1746, 'swivel': 1747, 'sister': 1748, 'dual': 1749, '8125': 1750, 'keeping': 1751, 'bottowm': 1752, 'gimmick': 1753, 'opens': 1754, 'top': 1755, 'causing': 1756, 'discomfort': 1757, 'trust': 1758, 'maintains': 1759, 'flawless': 1760, 'devices': 1761, 'utterly': 1762, 'confusing': 1763, 'holder': 1764, 'cutouts': 1765, 'land': 1766, 'loops': 1767, 'material': 1768, 'flaws': 1769, 'exceptional': 1770, 'owning': 1771, 'official': 1772, 'oem': 1773, 'loudest': 1774, 'setting': 1775, 'competitors': 1776, 'show': 1777, 'saved': 1778, 'alot': 1779, 'cuts': 1780, 'totally': 1781, 'unintelligible': 1782, 'word': 1783, 'restart': 1784, 'managed': 1785, 'bend': 1786, 'leaf': 1787, 'metal': 1788, 'stress': 1789, 'leopard': 1790, 'print': 1791, 'wonderfully': 1792, 'wild': 1793, 'saggy': 1794, 'floppy': 1795, 'looses': 1796, 'snap': 1797, '8525': 1798, 'carry': 1799, 'fliptop': 1800, 'loose': 1801, 'wobbly': 1802, 'eventually': 1803, 'receive': 1804, 'seat': 1805, 'fulfills': 1806, 'requirements': 1807, 'fact': 1808, 'rests': 1809, 'lightly': 1810, 'against': 1811, 'websites': 1812, 'rating': 1813, 'cables': 1814, 'lap': 1815, 'controls': 1816, 'accessable': 1817, 'mine': 1818, 'christmas': 1819, 'rest': 1820, 'otherwise': 1821, 'joy': 1822, 'satisifed': 1823, '2005': 1824, 's710a': 1825, 'specs': 1826, 'armband': 1827, 'allot': 1828, 'clearer': 1829, 'keypads': 1830, 'reach': 1831, 'ericson': 1832, 'z500a': 1833, 'motor': 1834, 'control': 1835, 'center': 1836, 'voltage': 1837, 'humming': 1838, 'equipment': 1839, 'certain': 1840, 'places': 1841, 'girl': 1842, 'complain': 1843, 'wake': 1844, 'styling': 1845, 'restocking': 1846, 'fee': 1847, 'darn': 1848, 'lousy': 1849, 'seen': 1850, 'sweetest': 1851, 'securely': 1852, 'hook': 1853, 'directed': 1854, 'canal': 1855, 'unsatisfactory': 1856, 'videos': 1857, 'negatively': 1858, 'adapter': 1859, 'provide': 1860, 'hype': 1861, 'assumed': 1862, 'lense': 1863, 'covered': 1864, 'falls': 1865, 'text': 1866, 'messaging': 1867, 'tricky': 1868, 'painful': 1869, 'lasted': 1870, 'blew': 1871, 'flops': 1872, 'smudged': 1873, 'touches': 1874, 'disappoint': 1875, 'infra': 1876, 'port': 1877, 'irda': 1878}\n",
      "vocabulary size of the knowlefge based :  1878\n"
     ]
    }
   ],
   "source": [
    "features = 32\n",
    "vocab = t.word_index\n",
    "vocab_size = len(vocab)\n",
    "print(\"dicitionary element in knowledge based \", vocab)\n",
    "print(\"vocabulary size of the knowlefge based : \", vocab_size)"
   ]
  },
  {
   "cell_type": "code",
   "execution_count": 13,
   "id": "a1b9d6ae",
   "metadata": {},
   "outputs": [],
   "source": [
    "#### Defining LSTM Model"
   ]
  },
  {
   "cell_type": "code",
   "execution_count": 14,
   "id": "ba4186e4",
   "metadata": {},
   "outputs": [
    {
     "name": "stderr",
     "output_type": "stream",
     "text": [
      "c:\\Users\\Asus\\anaconda3\\envs\\myenv\\Lib\\site-packages\\keras\\src\\layers\\core\\embedding.py:97: UserWarning: Argument `input_length` is deprecated. Just remove it.\n",
      "  warnings.warn(\n"
     ]
    }
   ],
   "source": [
    "# Now lets define the basic LSTM based model\n",
    "\n",
    "inputs1 = Input(shape=(features, ))\n",
    "x1 = Embedding(input_dim=vocab_size + 1, output_dim = 32, \n",
    "input_length = features, embeddings_regularizer = regularizers.l2(.001))(inputs1)\n",
    "x1 = LSTM(100, dropout=0.3, recurrent_dropout=0.2)(x1)\n",
    "outputs1 = Dense(1, activation='sigmoid')(x1)\n",
    "model1  = Model(inputs1, outputs1)"
   ]
  },
  {
   "cell_type": "code",
   "execution_count": 15,
   "id": "079e9766",
   "metadata": {},
   "outputs": [
    {
     "data": {
      "text/html": [
       "<pre style=\"white-space:pre;overflow-x:auto;line-height:normal;font-family:Menlo,'DejaVu Sans Mono',consolas,'Courier New',monospace\"><span style=\"font-weight: bold\">Model: \"functional\"</span>\n",
       "</pre>\n"
      ],
      "text/plain": [
       "\u001b[1mModel: \"functional\"\u001b[0m\n"
      ]
     },
     "metadata": {},
     "output_type": "display_data"
    },
    {
     "data": {
      "text/html": [
       "<pre style=\"white-space:pre;overflow-x:auto;line-height:normal;font-family:Menlo,'DejaVu Sans Mono',consolas,'Courier New',monospace\">┏━━━━━━━━━━━━━━━━━━━━━━━━━━━━━━━━━┳━━━━━━━━━━━━━━━━━━━━━━━━┳━━━━━━━━━━━━━━━┓\n",
       "┃<span style=\"font-weight: bold\"> Layer (type)                    </span>┃<span style=\"font-weight: bold\"> Output Shape           </span>┃<span style=\"font-weight: bold\">       Param # </span>┃\n",
       "┡━━━━━━━━━━━━━━━━━━━━━━━━━━━━━━━━━╇━━━━━━━━━━━━━━━━━━━━━━━━╇━━━━━━━━━━━━━━━┩\n",
       "│ input_layer (<span style=\"color: #0087ff; text-decoration-color: #0087ff\">InputLayer</span>)        │ (<span style=\"color: #00d7ff; text-decoration-color: #00d7ff\">None</span>, <span style=\"color: #00af00; text-decoration-color: #00af00\">32</span>)             │             <span style=\"color: #00af00; text-decoration-color: #00af00\">0</span> │\n",
       "├─────────────────────────────────┼────────────────────────┼───────────────┤\n",
       "│ embedding (<span style=\"color: #0087ff; text-decoration-color: #0087ff\">Embedding</span>)           │ (<span style=\"color: #00d7ff; text-decoration-color: #00d7ff\">None</span>, <span style=\"color: #00af00; text-decoration-color: #00af00\">32</span>, <span style=\"color: #00af00; text-decoration-color: #00af00\">32</span>)         │        <span style=\"color: #00af00; text-decoration-color: #00af00\">60,128</span> │\n",
       "├─────────────────────────────────┼────────────────────────┼───────────────┤\n",
       "│ lstm (<span style=\"color: #0087ff; text-decoration-color: #0087ff\">LSTM</span>)                     │ (<span style=\"color: #00d7ff; text-decoration-color: #00d7ff\">None</span>, <span style=\"color: #00af00; text-decoration-color: #00af00\">100</span>)            │        <span style=\"color: #00af00; text-decoration-color: #00af00\">53,200</span> │\n",
       "├─────────────────────────────────┼────────────────────────┼───────────────┤\n",
       "│ dense (<span style=\"color: #0087ff; text-decoration-color: #0087ff\">Dense</span>)                   │ (<span style=\"color: #00d7ff; text-decoration-color: #00d7ff\">None</span>, <span style=\"color: #00af00; text-decoration-color: #00af00\">1</span>)              │           <span style=\"color: #00af00; text-decoration-color: #00af00\">101</span> │\n",
       "└─────────────────────────────────┴────────────────────────┴───────────────┘\n",
       "</pre>\n"
      ],
      "text/plain": [
       "┏━━━━━━━━━━━━━━━━━━━━━━━━━━━━━━━━━┳━━━━━━━━━━━━━━━━━━━━━━━━┳━━━━━━━━━━━━━━━┓\n",
       "┃\u001b[1m \u001b[0m\u001b[1mLayer (type)                   \u001b[0m\u001b[1m \u001b[0m┃\u001b[1m \u001b[0m\u001b[1mOutput Shape          \u001b[0m\u001b[1m \u001b[0m┃\u001b[1m \u001b[0m\u001b[1m      Param #\u001b[0m\u001b[1m \u001b[0m┃\n",
       "┡━━━━━━━━━━━━━━━━━━━━━━━━━━━━━━━━━╇━━━━━━━━━━━━━━━━━━━━━━━━╇━━━━━━━━━━━━━━━┩\n",
       "│ input_layer (\u001b[38;5;33mInputLayer\u001b[0m)        │ (\u001b[38;5;45mNone\u001b[0m, \u001b[38;5;34m32\u001b[0m)             │             \u001b[38;5;34m0\u001b[0m │\n",
       "├─────────────────────────────────┼────────────────────────┼───────────────┤\n",
       "│ embedding (\u001b[38;5;33mEmbedding\u001b[0m)           │ (\u001b[38;5;45mNone\u001b[0m, \u001b[38;5;34m32\u001b[0m, \u001b[38;5;34m32\u001b[0m)         │        \u001b[38;5;34m60,128\u001b[0m │\n",
       "├─────────────────────────────────┼────────────────────────┼───────────────┤\n",
       "│ lstm (\u001b[38;5;33mLSTM\u001b[0m)                     │ (\u001b[38;5;45mNone\u001b[0m, \u001b[38;5;34m100\u001b[0m)            │        \u001b[38;5;34m53,200\u001b[0m │\n",
       "├─────────────────────────────────┼────────────────────────┼───────────────┤\n",
       "│ dense (\u001b[38;5;33mDense\u001b[0m)                   │ (\u001b[38;5;45mNone\u001b[0m, \u001b[38;5;34m1\u001b[0m)              │           \u001b[38;5;34m101\u001b[0m │\n",
       "└─────────────────────────────────┴────────────────────────┴───────────────┘\n"
      ]
     },
     "metadata": {},
     "output_type": "display_data"
    },
    {
     "data": {
      "text/html": [
       "<pre style=\"white-space:pre;overflow-x:auto;line-height:normal;font-family:Menlo,'DejaVu Sans Mono',consolas,'Courier New',monospace\"><span style=\"font-weight: bold\"> Total params: </span><span style=\"color: #00af00; text-decoration-color: #00af00\">113,429</span> (443.08 KB)\n",
       "</pre>\n"
      ],
      "text/plain": [
       "\u001b[1m Total params: \u001b[0m\u001b[38;5;34m113,429\u001b[0m (443.08 KB)\n"
      ]
     },
     "metadata": {},
     "output_type": "display_data"
    },
    {
     "data": {
      "text/html": [
       "<pre style=\"white-space:pre;overflow-x:auto;line-height:normal;font-family:Menlo,'DejaVu Sans Mono',consolas,'Courier New',monospace\"><span style=\"font-weight: bold\"> Trainable params: </span><span style=\"color: #00af00; text-decoration-color: #00af00\">113,429</span> (443.08 KB)\n",
       "</pre>\n"
      ],
      "text/plain": [
       "\u001b[1m Trainable params: \u001b[0m\u001b[38;5;34m113,429\u001b[0m (443.08 KB)\n"
      ]
     },
     "metadata": {},
     "output_type": "display_data"
    },
    {
     "data": {
      "text/html": [
       "<pre style=\"white-space:pre;overflow-x:auto;line-height:normal;font-family:Menlo,'DejaVu Sans Mono',consolas,'Courier New',monospace\"><span style=\"font-weight: bold\"> Non-trainable params: </span><span style=\"color: #00af00; text-decoration-color: #00af00\">0</span> (0.00 B)\n",
       "</pre>\n"
      ],
      "text/plain": [
       "\u001b[1m Non-trainable params: \u001b[0m\u001b[38;5;34m0\u001b[0m (0.00 B)\n"
      ]
     },
     "metadata": {},
     "output_type": "display_data"
    }
   ],
   "source": [
    "model1.summary()"
   ]
  },
  {
   "cell_type": "code",
   "execution_count": 16,
   "id": "fa30a027",
   "metadata": {},
   "outputs": [
    {
     "name": "stdout",
     "output_type": "stream",
     "text": [
      "Epoch 1/10\n",
      "\u001b[1m7/7\u001b[0m \u001b[32m━━━━━━━━━━━━━━━━━━━━\u001b[0m\u001b[37m\u001b[0m \u001b[1m3s\u001b[0m 75ms/step - accuracy: 0.4859 - loss: 0.7372 - val_accuracy: 0.4812 - val_loss: 0.7259\n",
      "Epoch 2/10\n",
      "\u001b[1m7/7\u001b[0m \u001b[32m━━━━━━━━━━━━━━━━━━━━\u001b[0m\u001b[37m\u001b[0m \u001b[1m0s\u001b[0m 23ms/step - accuracy: 0.4844 - loss: 0.7206 - val_accuracy: 0.5188 - val_loss: 0.7127\n",
      "Epoch 3/10\n",
      "\u001b[1m7/7\u001b[0m \u001b[32m━━━━━━━━━━━━━━━━━━━━\u001b[0m\u001b[37m\u001b[0m \u001b[1m0s\u001b[0m 24ms/step - accuracy: 0.4844 - loss: 0.7095 - val_accuracy: 0.5188 - val_loss: 0.7040\n",
      "Epoch 4/10\n",
      "\u001b[1m7/7\u001b[0m \u001b[32m━━━━━━━━━━━━━━━━━━━━\u001b[0m\u001b[37m\u001b[0m \u001b[1m0s\u001b[0m 24ms/step - accuracy: 0.5125 - loss: 0.7021 - val_accuracy: 0.5188 - val_loss: 0.6986\n",
      "Epoch 5/10\n",
      "\u001b[1m7/7\u001b[0m \u001b[32m━━━━━━━━━━━━━━━━━━━━\u001b[0m\u001b[37m\u001b[0m \u001b[1m0s\u001b[0m 24ms/step - accuracy: 0.5078 - loss: 0.6982 - val_accuracy: 0.5188 - val_loss: 0.6956\n",
      "Epoch 6/10\n",
      "\u001b[1m7/7\u001b[0m \u001b[32m━━━━━━━━━━━━━━━━━━━━\u001b[0m\u001b[37m\u001b[0m \u001b[1m0s\u001b[0m 25ms/step - accuracy: 0.5078 - loss: 0.6955 - val_accuracy: 0.5188 - val_loss: 0.6939\n",
      "Epoch 7/10\n",
      "\u001b[1m7/7\u001b[0m \u001b[32m━━━━━━━━━━━━━━━━━━━━\u001b[0m\u001b[37m\u001b[0m \u001b[1m0s\u001b[0m 24ms/step - accuracy: 0.5250 - loss: 0.6939 - val_accuracy: 0.5375 - val_loss: 0.6928\n",
      "Epoch 8/10\n",
      "\u001b[1m7/7\u001b[0m \u001b[32m━━━━━━━━━━━━━━━━━━━━\u001b[0m\u001b[37m\u001b[0m \u001b[1m0s\u001b[0m 25ms/step - accuracy: 0.5312 - loss: 0.6924 - val_accuracy: 0.5375 - val_loss: 0.6904\n",
      "Epoch 9/10\n",
      "\u001b[1m7/7\u001b[0m \u001b[32m━━━━━━━━━━━━━━━━━━━━\u001b[0m\u001b[37m\u001b[0m \u001b[1m0s\u001b[0m 26ms/step - accuracy: 0.5375 - loss: 0.6875 - val_accuracy: 0.5875 - val_loss: 0.6667\n",
      "Epoch 10/10\n",
      "\u001b[1m7/7\u001b[0m \u001b[32m━━━━━━━━━━━━━━━━━━━━\u001b[0m\u001b[37m\u001b[0m \u001b[1m0s\u001b[0m 26ms/step - accuracy: 0.6703 - loss: 0.6007 - val_accuracy: 0.7000 - val_loss: 0.5749\n"
     ]
    }
   ],
   "source": [
    "model1.compile(optimizer='Adam', loss = 'binary_crossentropy', metrics=['accuracy'])\n",
    "history = model1.fit(x=X_train, y=y_train, batch_size=100, epochs=10, verbose=1, shuffle=True, validation_split=0.2)"
   ]
  },
  {
   "cell_type": "markdown",
   "id": "15486a0c",
   "metadata": {},
   "source": [
    "#### Self Attention Mechanism"
   ]
  },
  {
   "cell_type": "code",
   "execution_count": 17,
   "id": "0236537a",
   "metadata": {},
   "outputs": [],
   "source": [
    "class attention(Layer):\n",
    "    def __init__(self,**kwargs):\n",
    "        super(attention,self).__init__(**kwargs)\n",
    "\n",
    "    def build(self,input_shape):\n",
    "        self.W=self.add_weight(name=\"att_weight\",shape=(input_shape[-1],1),initializer=\"normal\")\n",
    "        self.b=self.add_weight(name=\"att_bias\",shape=(input_shape[1],1),initializer=\"zeros\")        \n",
    "        super(attention, self).build(input_shape)\n",
    "\n",
    "    def call(self, x):\n",
    "        # x shape: (batch, timesteps, features)\n",
    "        \n",
    "        et = tf.squeeze(tf.tanh(tf.linalg.matmul(x, self.W) + self.b), axis=-1)  # (batch, timesteps)\n",
    "        at = tf.nn.softmax(et)  # attention weights (batch, timesteps)\n",
    "        at = tf.expand_dims(at, axis=-1)  # (batch, timesteps, 1)\n",
    "        \n",
    "        output = x * at  # (batch, timesteps, features)\n",
    "        return tf.reduce_sum(output, axis=1)  # context vector\n",
    "\n",
    "    def compute_output_shape(self,input_shape):\n",
    "        return (input_shape[0],input_shape[-1])\n",
    "\n",
    "    def get_config(self):\n",
    "        return super(attention,self).get_config()"
   ]
  },
  {
   "cell_type": "code",
   "execution_count": 18,
   "id": "3201a0f3",
   "metadata": {},
   "outputs": [
    {
     "data": {
      "text/html": [
       "<pre style=\"white-space:pre;overflow-x:auto;line-height:normal;font-family:Menlo,'DejaVu Sans Mono',consolas,'Courier New',monospace\"><span style=\"font-weight: bold\">Model: \"functional_1\"</span>\n",
       "</pre>\n"
      ],
      "text/plain": [
       "\u001b[1mModel: \"functional_1\"\u001b[0m\n"
      ]
     },
     "metadata": {},
     "output_type": "display_data"
    },
    {
     "data": {
      "text/html": [
       "<pre style=\"white-space:pre;overflow-x:auto;line-height:normal;font-family:Menlo,'DejaVu Sans Mono',consolas,'Courier New',monospace\">┏━━━━━━━━━━━━━━━━━━━━━━━━━━━━━━━━━┳━━━━━━━━━━━━━━━━━━━━━━━━┳━━━━━━━━━━━━━━━┓\n",
       "┃<span style=\"font-weight: bold\"> Layer (type)                    </span>┃<span style=\"font-weight: bold\"> Output Shape           </span>┃<span style=\"font-weight: bold\">       Param # </span>┃\n",
       "┡━━━━━━━━━━━━━━━━━━━━━━━━━━━━━━━━━╇━━━━━━━━━━━━━━━━━━━━━━━━╇━━━━━━━━━━━━━━━┩\n",
       "│ input_layer_1 (<span style=\"color: #0087ff; text-decoration-color: #0087ff\">InputLayer</span>)      │ (<span style=\"color: #00d7ff; text-decoration-color: #00d7ff\">None</span>, <span style=\"color: #00af00; text-decoration-color: #00af00\">32</span>)             │             <span style=\"color: #00af00; text-decoration-color: #00af00\">0</span> │\n",
       "├─────────────────────────────────┼────────────────────────┼───────────────┤\n",
       "│ embedding_1 (<span style=\"color: #0087ff; text-decoration-color: #0087ff\">Embedding</span>)         │ (<span style=\"color: #00d7ff; text-decoration-color: #00d7ff\">None</span>, <span style=\"color: #00af00; text-decoration-color: #00af00\">32</span>, <span style=\"color: #00af00; text-decoration-color: #00af00\">32</span>)         │        <span style=\"color: #00af00; text-decoration-color: #00af00\">60,128</span> │\n",
       "├─────────────────────────────────┼────────────────────────┼───────────────┤\n",
       "│ lstm_1 (<span style=\"color: #0087ff; text-decoration-color: #0087ff\">LSTM</span>)                   │ (<span style=\"color: #00d7ff; text-decoration-color: #00d7ff\">None</span>, <span style=\"color: #00af00; text-decoration-color: #00af00\">32</span>, <span style=\"color: #00af00; text-decoration-color: #00af00\">100</span>)        │        <span style=\"color: #00af00; text-decoration-color: #00af00\">53,200</span> │\n",
       "├─────────────────────────────────┼────────────────────────┼───────────────┤\n",
       "│ attention (<span style=\"color: #0087ff; text-decoration-color: #0087ff\">attention</span>)           │ (<span style=\"color: #00d7ff; text-decoration-color: #00d7ff\">None</span>, <span style=\"color: #00af00; text-decoration-color: #00af00\">100</span>)            │           <span style=\"color: #00af00; text-decoration-color: #00af00\">132</span> │\n",
       "├─────────────────────────────────┼────────────────────────┼───────────────┤\n",
       "│ dense_1 (<span style=\"color: #0087ff; text-decoration-color: #0087ff\">Dense</span>)                 │ (<span style=\"color: #00d7ff; text-decoration-color: #00d7ff\">None</span>, <span style=\"color: #00af00; text-decoration-color: #00af00\">1</span>)              │           <span style=\"color: #00af00; text-decoration-color: #00af00\">101</span> │\n",
       "└─────────────────────────────────┴────────────────────────┴───────────────┘\n",
       "</pre>\n"
      ],
      "text/plain": [
       "┏━━━━━━━━━━━━━━━━━━━━━━━━━━━━━━━━━┳━━━━━━━━━━━━━━━━━━━━━━━━┳━━━━━━━━━━━━━━━┓\n",
       "┃\u001b[1m \u001b[0m\u001b[1mLayer (type)                   \u001b[0m\u001b[1m \u001b[0m┃\u001b[1m \u001b[0m\u001b[1mOutput Shape          \u001b[0m\u001b[1m \u001b[0m┃\u001b[1m \u001b[0m\u001b[1m      Param #\u001b[0m\u001b[1m \u001b[0m┃\n",
       "┡━━━━━━━━━━━━━━━━━━━━━━━━━━━━━━━━━╇━━━━━━━━━━━━━━━━━━━━━━━━╇━━━━━━━━━━━━━━━┩\n",
       "│ input_layer_1 (\u001b[38;5;33mInputLayer\u001b[0m)      │ (\u001b[38;5;45mNone\u001b[0m, \u001b[38;5;34m32\u001b[0m)             │             \u001b[38;5;34m0\u001b[0m │\n",
       "├─────────────────────────────────┼────────────────────────┼───────────────┤\n",
       "│ embedding_1 (\u001b[38;5;33mEmbedding\u001b[0m)         │ (\u001b[38;5;45mNone\u001b[0m, \u001b[38;5;34m32\u001b[0m, \u001b[38;5;34m32\u001b[0m)         │        \u001b[38;5;34m60,128\u001b[0m │\n",
       "├─────────────────────────────────┼────────────────────────┼───────────────┤\n",
       "│ lstm_1 (\u001b[38;5;33mLSTM\u001b[0m)                   │ (\u001b[38;5;45mNone\u001b[0m, \u001b[38;5;34m32\u001b[0m, \u001b[38;5;34m100\u001b[0m)        │        \u001b[38;5;34m53,200\u001b[0m │\n",
       "├─────────────────────────────────┼────────────────────────┼───────────────┤\n",
       "│ attention (\u001b[38;5;33mattention\u001b[0m)           │ (\u001b[38;5;45mNone\u001b[0m, \u001b[38;5;34m100\u001b[0m)            │           \u001b[38;5;34m132\u001b[0m │\n",
       "├─────────────────────────────────┼────────────────────────┼───────────────┤\n",
       "│ dense_1 (\u001b[38;5;33mDense\u001b[0m)                 │ (\u001b[38;5;45mNone\u001b[0m, \u001b[38;5;34m1\u001b[0m)              │           \u001b[38;5;34m101\u001b[0m │\n",
       "└─────────────────────────────────┴────────────────────────┴───────────────┘\n"
      ]
     },
     "metadata": {},
     "output_type": "display_data"
    },
    {
     "data": {
      "text/html": [
       "<pre style=\"white-space:pre;overflow-x:auto;line-height:normal;font-family:Menlo,'DejaVu Sans Mono',consolas,'Courier New',monospace\"><span style=\"font-weight: bold\"> Total params: </span><span style=\"color: #00af00; text-decoration-color: #00af00\">113,561</span> (443.60 KB)\n",
       "</pre>\n"
      ],
      "text/plain": [
       "\u001b[1m Total params: \u001b[0m\u001b[38;5;34m113,561\u001b[0m (443.60 KB)\n"
      ]
     },
     "metadata": {},
     "output_type": "display_data"
    },
    {
     "data": {
      "text/html": [
       "<pre style=\"white-space:pre;overflow-x:auto;line-height:normal;font-family:Menlo,'DejaVu Sans Mono',consolas,'Courier New',monospace\"><span style=\"font-weight: bold\"> Trainable params: </span><span style=\"color: #00af00; text-decoration-color: #00af00\">113,561</span> (443.60 KB)\n",
       "</pre>\n"
      ],
      "text/plain": [
       "\u001b[1m Trainable params: \u001b[0m\u001b[38;5;34m113,561\u001b[0m (443.60 KB)\n"
      ]
     },
     "metadata": {},
     "output_type": "display_data"
    },
    {
     "data": {
      "text/html": [
       "<pre style=\"white-space:pre;overflow-x:auto;line-height:normal;font-family:Menlo,'DejaVu Sans Mono',consolas,'Courier New',monospace\"><span style=\"font-weight: bold\"> Non-trainable params: </span><span style=\"color: #00af00; text-decoration-color: #00af00\">0</span> (0.00 B)\n",
       "</pre>\n"
      ],
      "text/plain": [
       "\u001b[1m Non-trainable params: \u001b[0m\u001b[38;5;34m0\u001b[0m (0.00 B)\n"
      ]
     },
     "metadata": {},
     "output_type": "display_data"
    }
   ],
   "source": [
    "inputs=Input((features,))\n",
    "x=Embedding(input_dim=vocab_size+1,output_dim=32,input_length=features,\\\n",
    "            embeddings_regularizer=regularizers.l2(.001))(inputs)\n",
    "att_in=LSTM(100,return_sequences=True,dropout=0.3,recurrent_dropout=0.2)(x)\n",
    "att_out=attention()(att_in)\n",
    "outputs=Dense(1,activation='sigmoid',trainable=True)(att_out)\n",
    "model=Model(inputs,outputs)\n",
    "model.summary()"
   ]
  },
  {
   "cell_type": "code",
   "execution_count": 19,
   "id": "a6cecdbf",
   "metadata": {},
   "outputs": [
    {
     "name": "stdout",
     "output_type": "stream",
     "text": [
      "Epoch 1/10\n",
      "\u001b[1m7/7\u001b[0m \u001b[32m━━━━━━━━━━━━━━━━━━━━\u001b[0m\u001b[37m\u001b[0m \u001b[1m3s\u001b[0m 76ms/step - acc: 0.5016 - loss: 0.7370 - val_acc: 0.5188 - val_loss: 0.7252\n",
      "Epoch 2/10\n",
      "\u001b[1m7/7\u001b[0m \u001b[32m━━━━━━━━━━━━━━━━━━━━\u001b[0m\u001b[37m\u001b[0m \u001b[1m0s\u001b[0m 24ms/step - acc: 0.4922 - loss: 0.7206 - val_acc: 0.5813 - val_loss: 0.7127\n",
      "Epoch 3/10\n",
      "\u001b[1m7/7\u001b[0m \u001b[32m━━━━━━━━━━━━━━━━━━━━\u001b[0m\u001b[37m\u001b[0m \u001b[1m0s\u001b[0m 24ms/step - acc: 0.5437 - loss: 0.7092 - val_acc: 0.5875 - val_loss: 0.7040\n",
      "Epoch 4/10\n",
      "\u001b[1m7/7\u001b[0m \u001b[32m━━━━━━━━━━━━━━━━━━━━\u001b[0m\u001b[37m\u001b[0m \u001b[1m0s\u001b[0m 25ms/step - acc: 0.5594 - loss: 0.7012 - val_acc: 0.5188 - val_loss: 0.6979\n",
      "Epoch 5/10\n",
      "\u001b[1m7/7\u001b[0m \u001b[32m━━━━━━━━━━━━━━━━━━━━\u001b[0m\u001b[37m\u001b[0m \u001b[1m0s\u001b[0m 24ms/step - acc: 0.5703 - loss: 0.6951 - val_acc: 0.5938 - val_loss: 0.6920\n",
      "Epoch 6/10\n",
      "\u001b[1m7/7\u001b[0m \u001b[32m━━━━━━━━━━━━━━━━━━━━\u001b[0m\u001b[37m\u001b[0m \u001b[1m0s\u001b[0m 24ms/step - acc: 0.6125 - loss: 0.6795 - val_acc: 0.6375 - val_loss: 0.6518\n",
      "Epoch 7/10\n",
      "\u001b[1m7/7\u001b[0m \u001b[32m━━━━━━━━━━━━━━━━━━━━\u001b[0m\u001b[37m\u001b[0m \u001b[1m0s\u001b[0m 23ms/step - acc: 0.7281 - loss: 0.5597 - val_acc: 0.6812 - val_loss: 0.5886\n",
      "Epoch 8/10\n",
      "\u001b[1m7/7\u001b[0m \u001b[32m━━━━━━━━━━━━━━━━━━━━\u001b[0m\u001b[37m\u001b[0m \u001b[1m0s\u001b[0m 23ms/step - acc: 0.8469 - loss: 0.3780 - val_acc: 0.7188 - val_loss: 0.6577\n",
      "Epoch 9/10\n",
      "\u001b[1m7/7\u001b[0m \u001b[32m━━━━━━━━━━━━━━━━━━━━\u001b[0m\u001b[37m\u001b[0m \u001b[1m0s\u001b[0m 24ms/step - acc: 0.8922 - loss: 0.2881 - val_acc: 0.7250 - val_loss: 0.6130\n",
      "Epoch 10/10\n",
      "\u001b[1m7/7\u001b[0m \u001b[32m━━━━━━━━━━━━━━━━━━━━\u001b[0m\u001b[37m\u001b[0m \u001b[1m0s\u001b[0m 24ms/step - acc: 0.9547 - loss: 0.1876 - val_acc: 0.7625 - val_loss: 0.5495\n"
     ]
    },
    {
     "data": {
      "text/plain": [
       "<keras.src.callbacks.history.History at 0x20b16649050>"
      ]
     },
     "execution_count": 19,
     "metadata": {},
     "output_type": "execute_result"
    }
   ],
   "source": [
    "model.compile(loss='binary_crossentropy', optimizer='adam', metrics=['acc'])\n",
    "model.fit(X_train,y_train,batch_size=100,epochs=10,verbose=1,shuffle=True,validation_split=0.2)"
   ]
  },
  {
   "cell_type": "markdown",
   "id": "fa1bab9f",
   "metadata": {},
   "source": [
    "We get val accuracy of 76% which is nice. but we can still improve it."
   ]
  }
 ],
 "metadata": {
  "kernelspec": {
   "display_name": "myenv",
   "language": "python",
   "name": "python3"
  },
  "language_info": {
   "codemirror_mode": {
    "name": "ipython",
    "version": 3
   },
   "file_extension": ".py",
   "mimetype": "text/x-python",
   "name": "python",
   "nbconvert_exporter": "python",
   "pygments_lexer": "ipython3",
   "version": "3.11.13"
  }
 },
 "nbformat": 4,
 "nbformat_minor": 5
}
