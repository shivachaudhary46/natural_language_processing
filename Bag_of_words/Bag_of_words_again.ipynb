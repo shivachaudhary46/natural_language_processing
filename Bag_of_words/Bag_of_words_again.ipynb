{
  "nbformat": 4,
  "nbformat_minor": 0,
  "metadata": {
    "colab": {
      "provenance": []
    },
    "kernelspec": {
      "name": "python3",
      "display_name": "Python 3"
    },
    "language_info": {
      "name": "python"
    }
  },
  "cells": [
    {
      "cell_type": "code",
      "execution_count": 12,
      "metadata": {
        "colab": {
          "base_uri": "https://localhost:8080/"
        },
        "collapsed": true,
        "id": "Pkq2sA_hlAHD",
        "outputId": "dab55713-d862-4847-a033-a314be48e85c"
      },
      "outputs": [
        {
          "output_type": "stream",
          "name": "stderr",
          "text": [
            "[nltk_data] Downloading package stopwords to /root/nltk_data...\n",
            "[nltk_data]   Package stopwords is already up-to-date!\n",
            "[nltk_data] Downloading package punkt_tab to /root/nltk_data...\n",
            "[nltk_data]   Package punkt_tab is already up-to-date!\n"
          ]
        },
        {
          "output_type": "execute_result",
          "data": {
            "text/plain": [
              "True"
            ]
          },
          "metadata": {},
          "execution_count": 12
        }
      ],
      "source": [
        "import nltk\n",
        "import re\n",
        "import pandas as pd\n",
        "from nltk.corpus import stopwords\n",
        "from nltk.tokenize import sent_tokenize\n",
        "\n",
        "nltk.download('stopwords')\n",
        "nltk.download('punkt_tab')"
      ]
    },
    {
      "cell_type": "code",
      "source": [
        "text = \"\"\"\n",
        "  Hrithik is the epitome of perfection with his long haircut, towering stature, and striking hazel-green eyes. A prolific Indian actor in numerous Bollywood films, he is globally renowned for his versatile roles, unmatchable dancing skills and attractive looks.\n",
        "\n",
        "After having appeared in films as a child actor in the 1980s, Roshan made his film debut in a leading role in Kaho Naa... Pyaar Hai (2000) for which he earned Filmfare Awards for Best Actor and Best Male Debut. It was not just a new actor on the block, but a star was born. He became a romantic hero, an action hero and revolutionized the Hindi film industry in significant ways. Never before had any debutant become an overnight sensation of this kind.\n",
        "\n",
        "After his debut film, he appeared in Karan Johar's family drama Kabhi Khushi Kabhi Gham (2001), which received immense love not just in India but even overseas.\n",
        "\n",
        "\"\"\""
      ],
      "metadata": {
        "id": "PLUj_NNNmQ86"
      },
      "execution_count": 6,
      "outputs": []
    },
    {
      "cell_type": "code",
      "source": [
        "sentences = sent_tokenize(text)\n",
        "for i, sentence in enumerate(sentences):\n",
        "  print(f\"{i}. {sentence}\")"
      ],
      "metadata": {
        "colab": {
          "base_uri": "https://localhost:8080/"
        },
        "id": "OqBSDXgemnnN",
        "outputId": "a6778df7-b933-4cde-ac2e-e1009317d518"
      },
      "execution_count": 7,
      "outputs": [
        {
          "output_type": "stream",
          "name": "stdout",
          "text": [
            "0. \n",
            "  Hrithik is the epitome of perfection with his long haircut, towering stature, and striking hazel-green eyes.\n",
            "1. A prolific Indian actor in numerous Bollywood films, he is globally renowned for his versatile roles, unmatchable dancing skills and attractive looks.\n",
            "2. After having appeared in films as a child actor in the 1980s, Roshan made his film debut in a leading role in Kaho Naa... Pyaar Hai (2000) for which he earned Filmfare Awards for Best Actor and Best Male Debut.\n",
            "3. It was not just a new actor on the block, but a star was born.\n",
            "4. He became a romantic hero, an action hero and revolutionized the Hindi film industry in significant ways.\n",
            "5. Never before had any debutant become an overnight sensation of this kind.\n",
            "6. After his debut film, he appeared in Karan Johar's family drama Kabhi Khushi Kabhi Gham (2001), which received immense love not just in India but even overseas.\n"
          ]
        }
      ]
    },
    {
      "cell_type": "code",
      "source": [
        "for i in range(len(sentences)):\n",
        "  sentences[i] = sentences[i].lower()\n",
        "  sentences[i] = re.sub(r'\\W', ' ', sentences[i])\n",
        "  sentences[i] = re.sub('\\s+', ' ', sentences[i])\n",
        "\n",
        "for i, sentence in enumerate(sentences):\n",
        "    print(f\"{i}. {sentence}\")"
      ],
      "metadata": {
        "colab": {
          "base_uri": "https://localhost:8080/"
        },
        "id": "DoVd5ylsnT9b",
        "outputId": "ad63c206-bd3b-4834-8cf5-dbfcedadadb0"
      },
      "execution_count": 10,
      "outputs": [
        {
          "output_type": "stream",
          "name": "stdout",
          "text": [
            "0.  hrithik is the epitome of perfection with his long haircut towering stature and striking hazel green eyes \n",
            "1. a prolific indian actor in numerous bollywood films he is globally renowned for his versatile roles unmatchable dancing skills and attractive looks \n",
            "2. after having appeared in films as a child actor in the 1980s roshan made his film debut in a leading role in kaho naa pyaar hai 2000 for which he earned filmfare awards for best actor and best male debut \n",
            "3. it was not just a new actor on the block but a star was born \n",
            "4. he became a romantic hero an action hero and revolutionized the hindi film industry in significant ways \n",
            "5. never before had any debutant become an overnight sensation of this kind \n",
            "6. after his debut film he appeared in karan johar s family drama kabhi khushi kabhi gham 2001 which received immense love not just in india but even overseas \n"
          ]
        }
      ]
    },
    {
      "cell_type": "code",
      "source": [
        "word2count = {}\n",
        "\n",
        "for sentence in sentences:\n",
        "  words = nltk.word_tokenize(sentence)\n",
        "  for word in words:\n",
        "    if word not in word2count:\n",
        "      word2count[word] = 1\n",
        "    else:\n",
        "      word2count[word] += 1\n",
        "\n",
        "stop_words = set(stopwords.words('english'))\n",
        "\n",
        "filtered = {word: count for word, count in word2count.items() if word not in stop_words}\n",
        "print(f\"filtered words frequency vector :{filtered}\")"
      ],
      "metadata": {
        "colab": {
          "base_uri": "https://localhost:8080/"
        },
        "id": "fbgAZ1s0nrsB",
        "outputId": "dcaa8dc4-9b44-4899-f2e7-b5c5de62d75d"
      },
      "execution_count": 11,
      "outputs": [
        {
          "output_type": "stream",
          "name": "stdout",
          "text": [
            "filtered words frequency vector :{'hrithik': 1, 'epitome': 1, 'perfection': 1, 'long': 1, 'haircut': 1, 'towering': 1, 'stature': 1, 'striking': 1, 'hazel': 1, 'green': 1, 'eyes': 1, 'prolific': 1, 'indian': 1, 'actor': 4, 'numerous': 1, 'bollywood': 1, 'films': 2, 'globally': 1, 'renowned': 1, 'versatile': 1, 'roles': 1, 'unmatchable': 1, 'dancing': 1, 'skills': 1, 'attractive': 1, 'looks': 1, 'appeared': 2, 'child': 1, '1980s': 1, 'roshan': 1, 'made': 1, 'film': 3, 'debut': 3, 'leading': 1, 'role': 1, 'kaho': 1, 'naa': 1, 'pyaar': 1, 'hai': 1, '2000': 1, 'earned': 1, 'filmfare': 1, 'awards': 1, 'best': 2, 'male': 1, 'new': 1, 'block': 1, 'star': 1, 'born': 1, 'became': 1, 'romantic': 1, 'hero': 2, 'action': 1, 'revolutionized': 1, 'hindi': 1, 'industry': 1, 'significant': 1, 'ways': 1, 'never': 1, 'debutant': 1, 'become': 1, 'overnight': 1, 'sensation': 1, 'kind': 1, 'karan': 1, 'johar': 1, 'family': 1, 'drama': 1, 'kabhi': 2, 'khushi': 1, 'gham': 1, '2001': 1, 'received': 1, 'immense': 1, 'love': 1, 'india': 1, 'even': 1, 'overseas': 1}\n"
          ]
        }
      ]
    },
    {
      "cell_type": "code",
      "source": [
        "print(list(word2count.items()))"
      ],
      "metadata": {
        "colab": {
          "base_uri": "https://localhost:8080/"
        },
        "id": "usXH6MWqqfII",
        "outputId": "3eb09255-e6ad-4308-ed4b-8962d1ca9662"
      },
      "execution_count": 13,
      "outputs": [
        {
          "output_type": "stream",
          "name": "stdout",
          "text": [
            "[('hrithik', 1), ('is', 2), ('the', 4), ('epitome', 1), ('of', 2), ('perfection', 1), ('with', 1), ('his', 4), ('long', 1), ('haircut', 1), ('towering', 1), ('stature', 1), ('and', 4), ('striking', 1), ('hazel', 1), ('green', 1), ('eyes', 1), ('a', 6), ('prolific', 1), ('indian', 1), ('actor', 4), ('in', 8), ('numerous', 1), ('bollywood', 1), ('films', 2), ('he', 4), ('globally', 1), ('renowned', 1), ('for', 3), ('versatile', 1), ('roles', 1), ('unmatchable', 1), ('dancing', 1), ('skills', 1), ('attractive', 1), ('looks', 1), ('after', 2), ('having', 1), ('appeared', 2), ('as', 1), ('child', 1), ('1980s', 1), ('roshan', 1), ('made', 1), ('film', 3), ('debut', 3), ('leading', 1), ('role', 1), ('kaho', 1), ('naa', 1), ('pyaar', 1), ('hai', 1), ('2000', 1), ('which', 2), ('earned', 1), ('filmfare', 1), ('awards', 1), ('best', 2), ('male', 1), ('it', 1), ('was', 2), ('not', 2), ('just', 2), ('new', 1), ('on', 1), ('block', 1), ('but', 2), ('star', 1), ('born', 1), ('became', 1), ('romantic', 1), ('hero', 2), ('an', 2), ('action', 1), ('revolutionized', 1), ('hindi', 1), ('industry', 1), ('significant', 1), ('ways', 1), ('never', 1), ('before', 1), ('had', 1), ('any', 1), ('debutant', 1), ('become', 1), ('overnight', 1), ('sensation', 1), ('this', 1), ('kind', 1), ('karan', 1), ('johar', 1), ('s', 1), ('family', 1), ('drama', 1), ('kabhi', 2), ('khushi', 1), ('gham', 1), ('2001', 1), ('received', 1), ('immense', 1), ('love', 1), ('india', 1), ('even', 1), ('overseas', 1)]\n"
          ]
        }
      ]
    },
    {
      "cell_type": "code",
      "source": [
        "df = pd.DataFrame(list(word2count.items()), columns=['word', 'frequency'])\n",
        "print(df)"
      ],
      "metadata": {
        "colab": {
          "base_uri": "https://localhost:8080/"
        },
        "collapsed": true,
        "id": "F_zYUkgYrT_F",
        "outputId": "655c5260-7044-473d-fa26-2f84174deddf"
      },
      "execution_count": 14,
      "outputs": [
        {
          "output_type": "stream",
          "name": "stdout",
          "text": [
            "         word  frequency\n",
            "0     hrithik          1\n",
            "1          is          2\n",
            "2         the          4\n",
            "3     epitome          1\n",
            "4          of          2\n",
            "..        ...        ...\n",
            "99    immense          1\n",
            "100      love          1\n",
            "101     india          1\n",
            "102      even          1\n",
            "103  overseas          1\n",
            "\n",
            "[104 rows x 2 columns]\n"
          ]
        }
      ]
    },
    {
      "cell_type": "code",
      "source": [
        "word_freq_df = df.sort_values(by='frequency', ascending=False)\n",
        "print(f\"word frequency dataset in descending order: {word_freq_df}\")"
      ],
      "metadata": {
        "colab": {
          "base_uri": "https://localhost:8080/"
        },
        "collapsed": true,
        "id": "eu_zn27Grok7",
        "outputId": "12c772d1-7ed0-4616-a0cc-6859cdf519de"
      },
      "execution_count": 15,
      "outputs": [
        {
          "output_type": "stream",
          "name": "stdout",
          "text": [
            "word frequency dataset in descending order:          word  frequency\n",
            "21         in          8\n",
            "17          a          6\n",
            "2         the          4\n",
            "7         his          4\n",
            "20      actor          4\n",
            "..        ...        ...\n",
            "99    immense          1\n",
            "100      love          1\n",
            "101     india          1\n",
            "102      even          1\n",
            "103  overseas          1\n",
            "\n",
            "[104 rows x 2 columns]\n"
          ]
        }
      ]
    },
    {
      "cell_type": "code",
      "source": [
        "import heapq\n",
        "import matplotlib.pylab as plt\n",
        "\n",
        "freq_words = heapq.nlargest(10, word2count, key=word2count.get)\n",
        "\n",
        "print(f\"Top 10 frequent words: {freq_words}\")\n",
        "\n",
        "top_words = sorted(word2count.items(), key=lambda x: x[1], reverse=True)[:10]\n",
        "words, counts = zip(*top_words)\n",
        "\n",
        "print(words, counts)\n",
        "\n",
        "plt.figure(figsize=(8, 5))\n",
        "plt.bar(words, counts, color='skyblue')\n",
        "plt.xticks(rotation=45)\n",
        "plt.title(\"Top 10 Most Frequent Words\")\n",
        "plt.xlabel(\"Words\")\n",
        "plt.ylabel(\"Counts\")\n",
        "plt.show()"
      ],
      "metadata": {
        "colab": {
          "base_uri": "https://localhost:8080/",
          "height": 547
        },
        "id": "OxuBbTV7shu6",
        "outputId": "56d13e98-36db-484b-c7e2-2b68cc07f824"
      },
      "execution_count": 18,
      "outputs": [
        {
          "output_type": "stream",
          "name": "stdout",
          "text": [
            "Top 10 frequent words: ['in', 'a', 'the', 'his', 'and', 'actor', 'he', 'for', 'film', 'debut']\n",
            "('in', 'a', 'the', 'his', 'and', 'actor', 'he', 'for', 'film', 'debut') (8, 6, 4, 4, 4, 4, 4, 3, 3, 3)\n"
          ]
        },
        {
          "output_type": "display_data",
          "data": {
            "text/plain": [
              "<Figure size 800x500 with 1 Axes>"
            ],
            "image/png": "[encoded data removed]"
          },
          "metadata": {}
        }
      ]
    },
    {
      "cell_type": "code",
      "source": [],
      "metadata": {
        "id": "tXYzueHmugS7"
      },
      "execution_count": null,
      "outputs": []
    }
  ]
}