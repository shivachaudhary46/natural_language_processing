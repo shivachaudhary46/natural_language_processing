{
  "nbformat": 4,
  "nbformat_minor": 0,
  "metadata": {
    "colab": {
      "provenance": []
    },
    "kernelspec": {
      "name": "python3",
      "display_name": "Python 3"
    },
    "language_info": {
      "name": "python"
    }
  },
  "cells": [
    {
      "cell_type": "markdown",
      "source": [
        "# Bag of Words (BOW) model in NLP\n",
        "In Natural Language Processing (NLP) text data needs to be converted into numbers so that machine learning models can understand. It converts the text, document, sentence into the collection of words and count their frequency while ignoring the order of the words. It also ignores the grammar but focuses on counting how often each word appears in the text."
      ],
      "metadata": {
        "id": "6g7lAd9hmdKR"
      }
    },
    {
      "cell_type": "markdown",
      "source": [
        "step 1: Preprocessing the Text\n",
        "Before applying the BoW model, we need to preprocess the text.\n",
        "1.\n"
      ],
      "metadata": {
        "id": "XkfYZiYMnb04"
      }
    },
    {
      "cell_type": "code",
      "execution_count": 1,
      "metadata": {
        "colab": {
          "base_uri": "https://localhost:8080/"
        },
        "id": "SDwC3HnRlLpU",
        "outputId": "d096479c-65fc-402e-eb62-edfc6b7d6268"
      },
      "outputs": [
        {
          "output_type": "stream",
          "name": "stdout",
          "text": [
            "Start Index: 56\n",
            "End Index: 61\n"
          ]
        }
      ],
      "source": [
        "import re\n",
        "import nltk\n",
        "s = 'I am shiva chaudhary and A computer science student for geeks'\n",
        "match = re.search(r'geeks', s) # word which you need to find , sentence where word are searched\n",
        "if match:\n",
        "  print('Start Index:', match.start())\n",
        "  print('End Index:', match.end())\n",
        "else:\n",
        "  print(\"match not found\")"
      ]
    },
    {
      "cell_type": "code",
      "source": [
        "print(re.sub(\"ub\", '-*', \"Subject has uber booked already\"))"
      ],
      "metadata": {
        "colab": {
          "base_uri": "https://localhost:8080/"
        },
        "id": "BaOE0Vj-rfxu",
        "outputId": "b50f1b3c-c8fc-4a80-d8dc-470187219aa1"
      },
      "execution_count": 2,
      "outputs": [
        {
          "output_type": "stream",
          "name": "stdout",
          "text": [
            "S-*ject has -*er booked already\n"
          ]
        }
      ]
    },
    {
      "cell_type": "code",
      "source": [
        "print(re.sub(r'\\sAND\\s', ' & ', \"Baked Beans AND Spam\"))"
      ],
      "metadata": {
        "colab": {
          "base_uri": "https://localhost:8080/"
        },
        "id": "eJHr8rJZs14c",
        "outputId": "4d28ce8e-583c-47bf-a066-cfab98758b98"
      },
      "execution_count": 3,
      "outputs": [
        {
          "output_type": "stream",
          "name": "stdout",
          "text": [
            "Baked Beans & Spam\n"
          ]
        }
      ]
    },
    {
      "cell_type": "code",
      "source": [
        "print(re.sub(r'AND', '&', 'Baked Beans AND Spam'))"
      ],
      "metadata": {
        "colab": {
          "base_uri": "https://localhost:8080/"
        },
        "id": "sDm0lvpvtYje",
        "outputId": "ce5630ff-6dff-4b2e-9d92-b15ab35e14e1"
      },
      "execution_count": 4,
      "outputs": [
        {
          "output_type": "stream",
          "name": "stdout",
          "text": [
            "Baked Beans & Spam\n"
          ]
        }
      ]
    },
    {
      "cell_type": "code",
      "source": [
        "from nltk.tokenize import WordPunctTokenizer\n",
        "text = \"\"\"\n",
        "              The sun was hot above the blue sky as the dog and cat run around the house@#$$%%%.\n",
        "              A baby sat near a tree, holding a red apple and a green book.\n",
        "              Nearby, a bird began to sing on the window. The child gave a smile, feeling happy and soft inside.\n",
        "              She loved to laugh, jump, and play in the rain. Her chair was beside a table with a pen, a flower, a glass of milk, and a toy car.\n",
        "              She had 2 apples, 3 crayons, and 4 books. She would often read, eat, and think there. The moon was still faint in the morning light, and\n",
        "              everything felt slow but strong. Soon, she would walk to school, ready to work, dance, and sleep well after. The cloud drifted by, orange and yellow, over her quiet bed.\n",
        "         \"\"\"\n",
        "\n",
        "tokenizer = WordPunctTokenizer()\n",
        "dataset = tokenizer.tokenize(text)\n",
        "\n",
        "for i in range(len(dataset)):\n",
        "  dataset[i] = dataset[i].lower()\n",
        "  dataset[i] = re.sub(r'\\W', ' ', dataset[i])\n",
        "  dataset[i] = re.sub(r'\\s+', ' ', dataset[i])\n",
        "\n",
        "for i, sentence in enumerate(dataset):\n",
        "  print(f\"sentence {i+1}: {sentence}\")\n",
        "\n"
      ],
      "metadata": {
        "colab": {
          "base_uri": "https://localhost:8080/"
        },
        "id": "EZREGf3Uts_B",
        "outputId": "63d6ed00-b879-444a-e92b-d5eef93de05b",
        "collapsed": true
      },
      "execution_count": 5,
      "outputs": [
        {
          "output_type": "stream",
          "name": "stdout",
          "text": [
            "sentence 1: the\n",
            "sentence 2: sun\n",
            "sentence 3: was\n",
            "sentence 4: hot\n",
            "sentence 5: above\n",
            "sentence 6: the\n",
            "sentence 7: blue\n",
            "sentence 8: sky\n",
            "sentence 9: as\n",
            "sentence 10: the\n",
            "sentence 11: dog\n",
            "sentence 12: and\n",
            "sentence 13: cat\n",
            "sentence 14: run\n",
            "sentence 15: around\n",
            "sentence 16: the\n",
            "sentence 17: house\n",
            "sentence 18:  \n",
            "sentence 19: a\n",
            "sentence 20: baby\n",
            "sentence 21: sat\n",
            "sentence 22: near\n",
            "sentence 23: a\n",
            "sentence 24: tree\n",
            "sentence 25:  \n",
            "sentence 26: holding\n",
            "sentence 27: a\n",
            "sentence 28: red\n",
            "sentence 29: apple\n",
            "sentence 30: and\n",
            "sentence 31: a\n",
            "sentence 32: green\n",
            "sentence 33: book\n",
            "sentence 34:  \n",
            "sentence 35: nearby\n",
            "sentence 36:  \n",
            "sentence 37: a\n",
            "sentence 38: bird\n",
            "sentence 39: began\n",
            "sentence 40: to\n",
            "sentence 41: sing\n",
            "sentence 42: on\n",
            "sentence 43: the\n",
            "sentence 44: window\n",
            "sentence 45:  \n",
            "sentence 46: the\n",
            "sentence 47: child\n",
            "sentence 48: gave\n",
            "sentence 49: a\n",
            "sentence 50: smile\n",
            "sentence 51:  \n",
            "sentence 52: feeling\n",
            "sentence 53: happy\n",
            "sentence 54: and\n",
            "sentence 55: soft\n",
            "sentence 56: inside\n",
            "sentence 57:  \n",
            "sentence 58: she\n",
            "sentence 59: loved\n",
            "sentence 60: to\n",
            "sentence 61: laugh\n",
            "sentence 62:  \n",
            "sentence 63: jump\n",
            "sentence 64:  \n",
            "sentence 65: and\n",
            "sentence 66: play\n",
            "sentence 67: in\n",
            "sentence 68: the\n",
            "sentence 69: rain\n",
            "sentence 70:  \n",
            "sentence 71: her\n",
            "sentence 72: chair\n",
            "sentence 73: was\n",
            "sentence 74: beside\n",
            "sentence 75: a\n",
            "sentence 76: table\n",
            "sentence 77: with\n",
            "sentence 78: a\n",
            "sentence 79: pen\n",
            "sentence 80:  \n",
            "sentence 81: a\n",
            "sentence 82: flower\n",
            "sentence 83:  \n",
            "sentence 84: a\n",
            "sentence 85: glass\n",
            "sentence 86: of\n",
            "sentence 87: milk\n",
            "sentence 88:  \n",
            "sentence 89: and\n",
            "sentence 90: a\n",
            "sentence 91: toy\n",
            "sentence 92: car\n",
            "sentence 93:  \n",
            "sentence 94: she\n",
            "sentence 95: had\n",
            "sentence 96: 2\n",
            "sentence 97: apples\n",
            "sentence 98:  \n",
            "sentence 99: 3\n",
            "sentence 100: crayons\n",
            "sentence 101:  \n",
            "sentence 102: and\n",
            "sentence 103: 4\n",
            "sentence 104: books\n",
            "sentence 105:  \n",
            "sentence 106: she\n",
            "sentence 107: would\n",
            "sentence 108: often\n",
            "sentence 109: read\n",
            "sentence 110:  \n",
            "sentence 111: eat\n",
            "sentence 112:  \n",
            "sentence 113: and\n",
            "sentence 114: think\n",
            "sentence 115: there\n",
            "sentence 116:  \n",
            "sentence 117: the\n",
            "sentence 118: moon\n",
            "sentence 119: was\n",
            "sentence 120: still\n",
            "sentence 121: faint\n",
            "sentence 122: in\n",
            "sentence 123: the\n",
            "sentence 124: morning\n",
            "sentence 125: light\n",
            "sentence 126:  \n",
            "sentence 127: and\n",
            "sentence 128: everything\n",
            "sentence 129: felt\n",
            "sentence 130: slow\n",
            "sentence 131: but\n",
            "sentence 132: strong\n",
            "sentence 133:  \n",
            "sentence 134: soon\n",
            "sentence 135:  \n",
            "sentence 136: she\n",
            "sentence 137: would\n",
            "sentence 138: walk\n",
            "sentence 139: to\n",
            "sentence 140: school\n",
            "sentence 141:  \n",
            "sentence 142: ready\n",
            "sentence 143: to\n",
            "sentence 144: work\n",
            "sentence 145:  \n",
            "sentence 146: dance\n",
            "sentence 147:  \n",
            "sentence 148: and\n",
            "sentence 149: sleep\n",
            "sentence 150: well\n",
            "sentence 151: after\n",
            "sentence 152:  \n",
            "sentence 153: the\n",
            "sentence 154: cloud\n",
            "sentence 155: drifted\n",
            "sentence 156: by\n",
            "sentence 157:  \n",
            "sentence 158: orange\n",
            "sentence 159: and\n",
            "sentence 160: yellow\n",
            "sentence 161:  \n",
            "sentence 162: over\n",
            "sentence 163: her\n",
            "sentence 164: quiet\n",
            "sentence 165: bed\n",
            "sentence 166:  \n"
          ]
        }
      ]
    },
    {
      "cell_type": "code",
      "source": [
        "import nltk\n",
        "nltk.download(\"punkt_tab\")\n",
        "\n",
        "from nltk.tokenize import sent_tokenize\n",
        "dataset = sent_tokenize(text)\n",
        "print(dataset)"
      ],
      "metadata": {
        "colab": {
          "base_uri": "https://localhost:8080/"
        },
        "id": "AHGrQIEr71f_",
        "outputId": "88b671c7-708e-40b7-c526-8d5dc65c7091",
        "collapsed": true
      },
      "execution_count": 6,
      "outputs": [
        {
          "output_type": "stream",
          "name": "stderr",
          "text": [
            "[nltk_data] Downloading package punkt_tab to /root/nltk_data...\n",
            "[nltk_data]   Unzipping tokenizers/punkt_tab.zip.\n"
          ]
        },
        {
          "output_type": "stream",
          "name": "stdout",
          "text": [
            "['\\n              The sun was hot above the blue sky as the dog and cat run around the house@#$$%%%.', 'A baby sat near a tree, holding a red apple and a green book.', 'Nearby, a bird began to sing on the window.', 'The child gave a smile, feeling happy and soft inside.', 'She loved to laugh, jump, and play in the rain.', 'Her chair was beside a table with a pen, a flower, a glass of milk, and a toy car.', 'She had 2 apples, 3 crayons, and 4 books.', 'She would often read, eat, and think there.', 'The moon was still faint in the morning light, and\\n              everything felt slow but strong.', 'Soon, she would walk to school, ready to work, dance, and sleep well after.', 'The cloud drifted by, orange and yellow, over her quiet bed.']\n"
          ]
        }
      ]
    },
    {
      "cell_type": "code",
      "source": [
        "for i, sentence in enumerate(dataset):\n",
        "  print(f\"Sentence {i+1}: {sentence}\")"
      ],
      "metadata": {
        "colab": {
          "base_uri": "https://localhost:8080/"
        },
        "id": "SDioUMJE-xgE",
        "outputId": "2ca68831-1fbf-426c-9120-afee658f0fe1"
      },
      "execution_count": 7,
      "outputs": [
        {
          "output_type": "stream",
          "name": "stdout",
          "text": [
            "Sentence 1: \n",
            "              The sun was hot above the blue sky as the dog and cat run around the house@#$$%%%.\n",
            "Sentence 2: A baby sat near a tree, holding a red apple and a green book.\n",
            "Sentence 3: Nearby, a bird began to sing on the window.\n",
            "Sentence 4: The child gave a smile, feeling happy and soft inside.\n",
            "Sentence 5: She loved to laugh, jump, and play in the rain.\n",
            "Sentence 6: Her chair was beside a table with a pen, a flower, a glass of milk, and a toy car.\n",
            "Sentence 7: She had 2 apples, 3 crayons, and 4 books.\n",
            "Sentence 8: She would often read, eat, and think there.\n",
            "Sentence 9: The moon was still faint in the morning light, and\n",
            "              everything felt slow but strong.\n",
            "Sentence 10: Soon, she would walk to school, ready to work, dance, and sleep well after.\n",
            "Sentence 11: The cloud drifted by, orange and yellow, over her quiet bed.\n"
          ]
        }
      ]
    },
    {
      "cell_type": "code",
      "source": [
        "for i in range(len(dataset)):\n",
        "  dataset[i] = dataset[i].lower()\n",
        "  dataset[i] = re.sub(r'\\W', \" \", dataset[i])\n",
        "  dataset[i] = re.sub(r'\\s+', \" \", dataset[i])\n",
        "\n",
        "for i, sentence in enumerate(dataset):\n",
        "  print(f\"Sentence {i+1}: {sentence}\")\n"
      ],
      "metadata": {
        "colab": {
          "base_uri": "https://localhost:8080/"
        },
        "id": "WXPveqVm83zV",
        "outputId": "b1ac637e-4d69-4ff4-aac0-b59f556eeaa2"
      },
      "execution_count": 8,
      "outputs": [
        {
          "output_type": "stream",
          "name": "stdout",
          "text": [
            "Sentence 1:  the sun was hot above the blue sky as the dog and cat run around the house \n",
            "Sentence 2: a baby sat near a tree holding a red apple and a green book \n",
            "Sentence 3: nearby a bird began to sing on the window \n",
            "Sentence 4: the child gave a smile feeling happy and soft inside \n",
            "Sentence 5: she loved to laugh jump and play in the rain \n",
            "Sentence 6: her chair was beside a table with a pen a flower a glass of milk and a toy car \n",
            "Sentence 7: she had 2 apples 3 crayons and 4 books \n",
            "Sentence 8: she would often read eat and think there \n",
            "Sentence 9: the moon was still faint in the morning light and everything felt slow but strong \n",
            "Sentence 10: soon she would walk to school ready to work dance and sleep well after \n",
            "Sentence 11: the cloud drifted by orange and yellow over her quiet bed \n"
          ]
        }
      ]
    },
    {
      "cell_type": "code",
      "source": [
        "from nltk.corpus import stopwords\n",
        "\n",
        "nltk.download('stopwords')\n",
        "\n",
        "# Counting word frequencies\n",
        "word_count = {}\n",
        "\n",
        "for sentence in dataset:\n",
        "  words = nltk.word_tokenize(sentence)\n",
        "  for word in words:\n",
        "    if word not in word_count:\n",
        "      word_count[word] = 1\n",
        "    else:\n",
        "      word_count[word] += 1\n",
        "\n",
        "stop_words = set(stopwords.words('english'))"
      ],
      "metadata": {
        "colab": {
          "base_uri": "https://localhost:8080/"
        },
        "id": "6hCOP2Tk-mZ1",
        "outputId": "83d9e60e-6936-4842-beb8-fbd8514f587d"
      },
      "execution_count": 10,
      "outputs": [
        {
          "output_type": "stream",
          "name": "stdout",
          "text": [
            "{'the': 10, 'sun': 1, 'was': 3, 'hot': 1, 'above': 1, 'blue': 1, 'sky': 1, 'as': 1, 'dog': 1, 'and': 10, 'cat': 1, 'run': 1, 'around': 1, 'house': 1, 'a': 11, 'baby': 1, 'sat': 1, 'near': 1, 'tree': 1, 'holding': 1, 'red': 1, 'apple': 1, 'green': 1, 'book': 1, 'nearby': 1, 'bird': 1, 'began': 1, 'to': 4, 'sing': 1, 'on': 1, 'window': 1, 'child': 1, 'gave': 1, 'smile': 1, 'feeling': 1, 'happy': 1, 'soft': 1, 'inside': 1, 'she': 4, 'loved': 1, 'laugh': 1, 'jump': 1, 'play': 1, 'in': 2, 'rain': 1, 'her': 2, 'chair': 1, 'beside': 1, 'table': 1, 'with': 1, 'pen': 1, 'flower': 1, 'glass': 1, 'of': 1, 'milk': 1, 'toy': 1, 'car': 1, 'had': 1, '2': 1, 'apples': 1, '3': 1, 'crayons': 1, '4': 1, 'books': 1, 'would': 2, 'often': 1, 'read': 1, 'eat': 1, 'think': 1, 'there': 1, 'moon': 1, 'still': 1, 'faint': 1, 'morning': 1, 'light': 1, 'everything': 1, 'felt': 1, 'slow': 1, 'but': 1, 'strong': 1, 'soon': 1, 'walk': 1, 'school': 1, 'ready': 1, 'work': 1, 'dance': 1, 'sleep': 1, 'well': 1, 'after': 1, 'cloud': 1, 'drifted': 1, 'by': 1, 'orange': 1, 'yellow': 1, 'over': 1, 'quiet': 1, 'bed': 1}\n"
          ]
        },
        {
          "output_type": "stream",
          "name": "stderr",
          "text": [
            "[nltk_data] Downloading package stopwords to /root/nltk_data...\n",
            "[nltk_data]   Unzipping corpora/stopwords.zip.\n"
          ]
        }
      ]
    },
    {
      "cell_type": "code",
      "source": [
        "import pandas as pd\n",
        "filtered_word2count = {word: count for word, count in word_count.items() if word not in stop_words}\n",
        "\n",
        "word_frequency_df = pd.DataFrame(list(filtered_word2count.items()), columns=['word', 'frequency'])\n",
        "word_freq_df = word_frequency_df.sort_values(by='frequency', ascending=False)"
      ],
      "metadata": {
        "id": "WijYfWNyARW5"
      },
      "execution_count": 11,
      "outputs": []
    },
    {
      "cell_type": "code",
      "source": [
        "print(word_freq_df)"
      ],
      "metadata": {
        "colab": {
          "base_uri": "https://localhost:8080/"
        },
        "id": "j9_hcFTscEPG",
        "outputId": "2f3600f2-664a-4543-81cf-d7f41a46d4e7"
      },
      "execution_count": 12,
      "outputs": [
        {
          "output_type": "stream",
          "name": "stdout",
          "text": [
            "       word  frequency\n",
            "50    would          2\n",
            "0       sun          1\n",
            "2      blue          1\n",
            "3       sky          1\n",
            "4       dog          1\n",
            "..      ...        ...\n",
            "73  drifted          1\n",
            "74   orange          1\n",
            "75   yellow          1\n",
            "76    quiet          1\n",
            "77      bed          1\n",
            "\n",
            "[78 rows x 2 columns]\n"
          ]
        }
      ]
    },
    {
      "cell_type": "code",
      "source": [
        "# selecting the most frequenct words\n",
        "import heapq\n",
        "import matplotlib.pylab as plt\n",
        "\n",
        "freq_words = heapq.nlargest(10, word_count, key=word_count.get)\n",
        "\n",
        "print(f\"Top 10 frequent words: {freq_words}\")"
      ],
      "metadata": {
        "colab": {
          "base_uri": "https://localhost:8080/"
        },
        "id": "tyO2KZj-cMy1",
        "outputId": "59b305b7-9ffb-4445-cb9c-2b7a4b57ea5e"
      },
      "execution_count": 13,
      "outputs": [
        {
          "output_type": "stream",
          "name": "stdout",
          "text": [
            "Top 10 frequent words: ['a', 'the', 'and', 'to', 'she', 'was', 'in', 'her', 'would', 'sun']\n"
          ]
        }
      ]
    },
    {
      "cell_type": "code",
      "source": [
        "top_words = sorted(word_count.items(), key=lambda x: x[1], reverse=True)[:10]\n",
        "words, counts = zip(*top_words)\n",
        "\n",
        "print(words, counts)"
      ],
      "metadata": {
        "colab": {
          "base_uri": "https://localhost:8080/"
        },
        "id": "OQr6VuRBdrMw",
        "outputId": "909ef937-3a8f-4896-a8c5-b5d99168b076"
      },
      "execution_count": 14,
      "outputs": [
        {
          "output_type": "stream",
          "name": "stdout",
          "text": [
            "('a', 'the', 'and', 'to', 'she', 'was', 'in', 'her', 'would', 'sun') (11, 10, 10, 4, 4, 3, 2, 2, 2, 1)\n"
          ]
        }
      ]
    },
    {
      "cell_type": "code",
      "source": [
        "print(sorted(word_count.items()))"
      ],
      "metadata": {
        "colab": {
          "base_uri": "https://localhost:8080/"
        },
        "id": "IMknruW_ePE5",
        "outputId": "b3626a86-bc71-4593-cbd5-e6d7511ca726"
      },
      "execution_count": 15,
      "outputs": [
        {
          "output_type": "stream",
          "name": "stdout",
          "text": [
            "[('2', 1), ('3', 1), ('4', 1), ('a', 11), ('above', 1), ('after', 1), ('and', 10), ('apple', 1), ('apples', 1), ('around', 1), ('as', 1), ('baby', 1), ('bed', 1), ('began', 1), ('beside', 1), ('bird', 1), ('blue', 1), ('book', 1), ('books', 1), ('but', 1), ('by', 1), ('car', 1), ('cat', 1), ('chair', 1), ('child', 1), ('cloud', 1), ('crayons', 1), ('dance', 1), ('dog', 1), ('drifted', 1), ('eat', 1), ('everything', 1), ('faint', 1), ('feeling', 1), ('felt', 1), ('flower', 1), ('gave', 1), ('glass', 1), ('green', 1), ('had', 1), ('happy', 1), ('her', 2), ('holding', 1), ('hot', 1), ('house', 1), ('in', 2), ('inside', 1), ('jump', 1), ('laugh', 1), ('light', 1), ('loved', 1), ('milk', 1), ('moon', 1), ('morning', 1), ('near', 1), ('nearby', 1), ('of', 1), ('often', 1), ('on', 1), ('orange', 1), ('over', 1), ('pen', 1), ('play', 1), ('quiet', 1), ('rain', 1), ('read', 1), ('ready', 1), ('red', 1), ('run', 1), ('sat', 1), ('school', 1), ('she', 4), ('sing', 1), ('sky', 1), ('sleep', 1), ('slow', 1), ('smile', 1), ('soft', 1), ('soon', 1), ('still', 1), ('strong', 1), ('sun', 1), ('table', 1), ('the', 10), ('there', 1), ('think', 1), ('to', 4), ('toy', 1), ('tree', 1), ('walk', 1), ('was', 3), ('well', 1), ('window', 1), ('with', 1), ('work', 1), ('would', 2), ('yellow', 1)]\n"
          ]
        }
      ]
    },
    {
      "cell_type": "code",
      "source": [
        "top_words = sorted(word_count.items(), key=lambda x: x[1], reverse=True)[:10]\n",
        "print(top_words)"
      ],
      "metadata": {
        "colab": {
          "base_uri": "https://localhost:8080/"
        },
        "id": "hFt57GjveYmy",
        "outputId": "3a944fba-88d0-4dc2-e766-cf7995c7f5f0"
      },
      "execution_count": 17,
      "outputs": [
        {
          "output_type": "stream",
          "name": "stdout",
          "text": [
            "[('a', 11), ('the', 10), ('and', 10), ('to', 4), ('she', 4), ('was', 3), ('in', 2), ('her', 2), ('would', 2), ('sun', 1)]\n"
          ]
        }
      ]
    },
    {
      "cell_type": "code",
      "source": [
        "print(zip(*top_words))"
      ],
      "metadata": {
        "colab": {
          "base_uri": "https://localhost:8080/"
        },
        "id": "5DI5zTA5e1q8",
        "outputId": "e5803023-fe36-4f23-c479-62bc333385e6"
      },
      "execution_count": 18,
      "outputs": [
        {
          "output_type": "stream",
          "name": "stdout",
          "text": [
            "<zip object at 0x79e23e48ce80>\n"
          ]
        }
      ]
    },
    {
      "cell_type": "code",
      "source": [
        "words, counts = zip(*top_words)"
      ],
      "metadata": {
        "id": "v1m5gd-ofEnu"
      },
      "execution_count": 20,
      "outputs": []
    },
    {
      "cell_type": "code",
      "source": [
        "print(words, counts)\n"
      ],
      "metadata": {
        "colab": {
          "base_uri": "https://localhost:8080/"
        },
        "id": "wJKzzhPVfIvv",
        "outputId": "9a99509e-7a6c-4774-d0d1-eb89bebfdde2"
      },
      "execution_count": 21,
      "outputs": [
        {
          "output_type": "stream",
          "name": "stdout",
          "text": [
            "('a', 'the', 'and', 'to', 'she', 'was', 'in', 'her', 'would', 'sun') (11, 10, 10, 4, 4, 3, 2, 2, 2, 1)\n"
          ]
        }
      ]
    },
    {
      "cell_type": "code",
      "source": [
        "plt.figure(figsize=(10, 6))\n",
        "plt.bar(words, counts, color='skyblue')\n",
        "plt.xticks(rotation=45)\n",
        "plt.title(\"The top 10 most frequent words\")\n",
        "plt.xlabel(\"words\", fontsize=14)\n",
        "plt.ylabel(\"frequency\", fontsize=14)\n",
        "plt.show()"
      ],
      "metadata": {
        "colab": {
          "base_uri": "https://localhost:8080/",
          "height": 594
        },
        "id": "6kyhDq26fOZI",
        "outputId": "f461a46c-55f0-4ae9-9663-a3c973e507c8"
      },
      "execution_count": 23,
      "outputs": [
        {
          "output_type": "display_data",
          "data": {
            "text/plain": [
              "<Figure size 1000x600 with 1 Axes>"
            ],
            "image/png": "[encoded data removed]"
          },
          "metadata": {}
        }
      ]
    }
  ]
}