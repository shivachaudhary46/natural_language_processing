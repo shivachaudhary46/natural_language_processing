{
 "cells": [
  {
   "cell_type": "code",
   "execution_count": 1,
   "id": "653597f1",
   "metadata": {},
   "outputs": [],
   "source": [
    "import nltk"
   ]
  },
  {
   "cell_type": "code",
   "execution_count": 2,
   "id": "21df0cc8",
   "metadata": {},
   "outputs": [],
   "source": [
    "paragraph = \"\"\"AI Overview\n",
    "Nepal - Gold Price Today | Gold Rate History - NepaliSansar\n",
    "The price of gold in Kathmandu is fluctuating. \n",
    "On July 12, 2025, the price of hallmark gold ( छापावाल सुन )\n",
    " was NRs 191,802.82 per tola and NRs 164,440.00 per 10 grams, according to Hamro Patro. \n",
    " The price of silver was NRs 2,220.24 per tola and NRs 1,903.50 per 10 grams.\n",
    "   The price of gold in Nepal is influenced by global market trends and local factors, including import regulations and taxes, according to The Kathmandu Post. \"\"\""
   ]
  },
  {
   "cell_type": "code",
   "execution_count": 3,
   "id": "182619a0",
   "metadata": {},
   "outputs": [],
   "source": [
    "# tokenization of paragraph \n",
    "from nltk.tokenize import PunktSentenceTokenizer\n",
    "tokenizer = PunktSentenceTokenizer()\n",
    "sentences = tokenizer.tokenize(paragraph)"
   ]
  },
  {
   "cell_type": "code",
   "execution_count": 4,
   "id": "92456d13",
   "metadata": {},
   "outputs": [
    {
     "name": "stdout",
     "output_type": "stream",
     "text": [
      "['AI Overview\\nNepal - Gold Price Today | Gold Rate History - NepaliSansar\\nThe price of gold in Kathmandu is fluctuating.', 'On July 12, 2025, the price of hallmark gold ( छापावाल सुन )\\n was NRs 191,802.82 per tola and NRs 164,440.00 per 10 grams, according to Hamro Patro.', 'The price of silver was NRs 2,220.24 per tola and NRs 1,903.50 per 10 grams.', 'The price of gold in Nepal is influenced by global market trends and local factors, including import regulations and taxes, according to The Kathmandu Post.']\n"
     ]
    }
   ],
   "source": [
    "print(sentences)"
   ]
  },
  {
   "cell_type": "code",
   "execution_count": 5,
   "id": "4d814aaa",
   "metadata": {},
   "outputs": [],
   "source": [
    "from nltk.stem import PorterStemmer\n",
    "from nltk.corpus import stopwords"
   ]
  },
  {
   "cell_type": "code",
   "execution_count": 6,
   "id": "c919bc21",
   "metadata": {},
   "outputs": [
    {
     "data": {
      "text/plain": [
       "'histori'"
      ]
     },
     "execution_count": 6,
     "metadata": {},
     "output_type": "execute_result"
    }
   ],
   "source": [
    "stemmer = PorterStemmer()\n",
    "stemmer.stem('history')\n"
   ]
  },
  {
   "cell_type": "code",
   "execution_count": 7,
   "id": "a0500c68",
   "metadata": {},
   "outputs": [],
   "source": [
    "from nltk.stem import WordNetLemmatizer"
   ]
  },
  {
   "cell_type": "code",
   "execution_count": 8,
   "id": "9738b5e4",
   "metadata": {},
   "outputs": [],
   "source": [
    "lematizer = WordNetLemmatizer()"
   ]
  },
  {
   "cell_type": "code",
   "execution_count": 9,
   "id": "c6828918",
   "metadata": {},
   "outputs": [
    {
     "data": {
      "text/plain": [
       "'drinking'"
      ]
     },
     "execution_count": 9,
     "metadata": {},
     "output_type": "execute_result"
    }
   ],
   "source": [
    "lematizer.lemmatize('drinking')"
   ]
  },
  {
   "cell_type": "code",
   "execution_count": 10,
   "id": "34d97e49",
   "metadata": {},
   "outputs": [
    {
     "data": {
      "text/plain": [
       "'go'"
      ]
     },
     "execution_count": 10,
     "metadata": {},
     "output_type": "execute_result"
    }
   ],
   "source": [
    "lematizer.lemmatize('goes')"
   ]
  },
  {
   "cell_type": "code",
   "execution_count": 11,
   "id": "f416cca3",
   "metadata": {},
   "outputs": [
    {
     "name": "stdout",
     "output_type": "stream",
     "text": [
      "['ai overview nepal   gold price today   gold rate history   nepalisansar the price of gold in kathmandu is fluctuating ', 'on july 12  2025  the price of hallmark gold                  was nrs 191 802 82 per tola and nrs 164 440 00 per 10 grams  according to hamro patro ', 'the price of silver was nrs 2 220 24 per tola and nrs 1 903 50 per 10 grams ', 'the price of gold in nepal is influenced by global market trends and local factors  including import regulations and taxes  according to the kathmandu post ']\n"
     ]
    }
   ],
   "source": [
    "import re \n",
    "corpus = []\n",
    "for i in range(len(sentences)):\n",
    "    review = re.sub('[^a-zA-Z0-9]', ' ', sentences[i]) \n",
    "    review = review.lower()\n",
    "    corpus.append(review)\n",
    "\n",
    "print(corpus)\n"
   ]
  },
  {
   "cell_type": "code",
   "execution_count": 12,
   "id": "922902d1",
   "metadata": {},
   "outputs": [
    {
     "name": "stderr",
     "output_type": "stream",
     "text": [
      "[nltk_data] Downloading package stopwords to /Users/shiva/nltk_data...\n",
      "[nltk_data]   Package stopwords is already up-to-date!\n"
     ]
    },
    {
     "data": {
      "text/plain": [
       "True"
      ]
     },
     "execution_count": 12,
     "metadata": {},
     "output_type": "execute_result"
    }
   ],
   "source": [
    "nltk.download('stopwords')"
   ]
  },
  {
   "cell_type": "code",
   "execution_count": 13,
   "id": "4bb2afa7",
   "metadata": {},
   "outputs": [
    {
     "name": "stdout",
     "output_type": "stream",
     "text": [
      "ai\n",
      "overview\n",
      "nepal\n",
      "gold\n",
      "price\n",
      "today\n",
      "gold\n",
      "rate\n",
      "history\n",
      "nepalisansar\n",
      "price\n",
      "gold\n",
      "kathmandu\n",
      "fluctuating\n",
      "july\n",
      "12\n",
      "2025\n",
      "price\n",
      "hallmark\n",
      "gold\n",
      "nrs\n",
      "191\n",
      "802\n",
      "82\n",
      "per\n",
      "tola\n",
      "nrs\n",
      "164\n",
      "440\n",
      "00\n",
      "per\n",
      "10\n",
      "gram\n",
      "according\n",
      "hamro\n",
      "patro\n",
      "price\n",
      "silver\n",
      "nrs\n",
      "2\n",
      "220\n",
      "24\n",
      "per\n",
      "tola\n",
      "nrs\n",
      "1\n",
      "903\n",
      "50\n",
      "per\n",
      "10\n",
      "gram\n",
      "price\n",
      "gold\n",
      "nepal\n",
      "influenced\n",
      "global\n",
      "market\n",
      "trend\n",
      "local\n",
      "factor\n",
      "including\n",
      "import\n",
      "regulation\n",
      "tax\n",
      "according\n",
      "kathmandu\n",
      "post\n"
     ]
    }
   ],
   "source": [
    "for i in corpus:\n",
    "    words=nltk.wordpunct_tokenize(i)\n",
    "    for word in words:\n",
    "        if word not in set(stopwords.words('english')):\n",
    "            # print(stemmer.stem(word))\n",
    "            print(lematizer.lemmatize(word))"
   ]
  },
  {
   "cell_type": "code",
   "execution_count": 29,
   "id": "62cd7cd7",
   "metadata": {},
   "outputs": [],
   "source": [
    "corpus = []\n",
    "for i in range(len(sentences)):\n",
    "    review = re.sub('[^a-zA-Z0-9]', ' ', sentences[i])\n",
    "    review = review.lower()\n",
    "    review = review.split()\n",
    "    review = [lematizer.lemmatize(word) for word in review if not word in  set(stopwords.words('english')) ]\n",
    "    review = ' '.join(review)\n",
    "    corpus.append(review)"
   ]
  },
  {
   "cell_type": "code",
   "execution_count": 30,
   "id": "3782facf",
   "metadata": {},
   "outputs": [
    {
     "data": {
      "text/plain": [
       "['ai overview nepal gold price today gold rate history nepalisansar price gold kathmandu fluctuating',\n",
       " 'july 12 2025 price hallmark gold nrs 191 802 82 per tola nrs 164 440 00 per 10 gram according hamro patro',\n",
       " 'price silver nrs 2 220 24 per tola nrs 1 903 50 per 10 gram',\n",
       " 'price gold nepal influenced global market trend local factor including import regulation tax according kathmandu post']"
      ]
     },
     "execution_count": 30,
     "metadata": {},
     "output_type": "execute_result"
    }
   ],
   "source": [
    "corpus"
   ]
  },
  {
   "cell_type": "code",
   "execution_count": 31,
   "id": "f6da9e5b",
   "metadata": {},
   "outputs": [],
   "source": [
    "from sklearn.feature_extraction.text import CountVectorizer\n",
    "cv = CountVectorizer()"
   ]
  },
  {
   "cell_type": "code",
   "execution_count": 32,
   "id": "23f5edd7",
   "metadata": {},
   "outputs": [],
   "source": [
    "X=cv.fit_transform(corpus)"
   ]
  },
  {
   "cell_type": "code",
   "execution_count": 33,
   "id": "fe33fcfc",
   "metadata": {},
   "outputs": [
    {
     "data": {
      "text/plain": [
       "{'ai': 14,\n",
       " 'overview': 33,\n",
       " 'nepal': 30,\n",
       " 'gold': 18,\n",
       " 'price': 37,\n",
       " 'today': 42,\n",
       " 'rate': 38,\n",
       " 'history': 22,\n",
       " 'nepalisansar': 31,\n",
       " 'kathmandu': 27,\n",
       " 'fluctuating': 16,\n",
       " 'july': 26,\n",
       " '12': 2,\n",
       " '2025': 5,\n",
       " 'hallmark': 20,\n",
       " 'nrs': 32,\n",
       " '191': 4,\n",
       " '802': 10,\n",
       " '82': 11,\n",
       " 'per': 35,\n",
       " 'tola': 43,\n",
       " '164': 3,\n",
       " '440': 8,\n",
       " '00': 0,\n",
       " '10': 1,\n",
       " 'gram': 19,\n",
       " 'according': 13,\n",
       " 'hamro': 21,\n",
       " 'patro': 34,\n",
       " 'silver': 40,\n",
       " '220': 6,\n",
       " '24': 7,\n",
       " '903': 12,\n",
       " '50': 9,\n",
       " 'influenced': 25,\n",
       " 'global': 17,\n",
       " 'market': 29,\n",
       " 'trend': 44,\n",
       " 'local': 28,\n",
       " 'factor': 15,\n",
       " 'including': 24,\n",
       " 'import': 23,\n",
       " 'regulation': 39,\n",
       " 'tax': 41,\n",
       " 'post': 36}"
      ]
     },
     "execution_count": 33,
     "metadata": {},
     "output_type": "execute_result"
    }
   ],
   "source": [
    "cv.vocabulary_"
   ]
  },
  {
   "cell_type": "code",
   "execution_count": 23,
   "id": "1ca8e3dd",
   "metadata": {},
   "outputs": [
    {
     "data": {
      "text/plain": [
       "'ai overview nepal   gold price today   gold rate history   nepalisansar the price of gold in kathmandu is fluctuating '"
      ]
     },
     "execution_count": 23,
     "metadata": {},
     "output_type": "execute_result"
    }
   ],
   "source": [
    "corpus[0]"
   ]
  },
  {
   "cell_type": "code",
   "execution_count": 21,
   "id": "1ea6b2c7",
   "metadata": {},
   "outputs": [
    {
     "name": "stdout",
     "output_type": "stream",
     "text": [
      "  (0, 14)\t1\n",
      "  (0, 39)\t1\n",
      "  (0, 34)\t1\n",
      "  (0, 20)\t3\n",
      "  (0, 43)\t2\n",
      "  (0, 50)\t1\n",
      "  (0, 44)\t1\n",
      "  (0, 24)\t1\n",
      "  (0, 35)\t1\n",
      "  (0, 48)\t1\n",
      "  (0, 37)\t1\n",
      "  (0, 26)\t1\n",
      "  (0, 31)\t1\n",
      "  (0, 29)\t1\n",
      "  (0, 18)\t1\n",
      "  (1, 20)\t1\n",
      "  (1, 43)\t1\n",
      "  (1, 48)\t1\n",
      "  (1, 37)\t1\n",
      "  (1, 38)\t1\n",
      "  (1, 30)\t1\n",
      "  (1, 2)\t1\n",
      "  (1, 5)\t1\n",
      "  (1, 22)\t1\n",
      "  (1, 53)\t1\n",
      "  :\t:\n",
      "  (2, 12)\t1\n",
      "  (2, 9)\t1\n",
      "  (3, 34)\t1\n",
      "  (3, 20)\t1\n",
      "  (3, 43)\t1\n",
      "  (3, 48)\t2\n",
      "  (3, 37)\t1\n",
      "  (3, 26)\t1\n",
      "  (3, 31)\t1\n",
      "  (3, 29)\t1\n",
      "  (3, 15)\t2\n",
      "  (3, 13)\t1\n",
      "  (3, 49)\t1\n",
      "  (3, 28)\t1\n",
      "  (3, 16)\t1\n",
      "  (3, 19)\t1\n",
      "  (3, 33)\t1\n",
      "  (3, 52)\t1\n",
      "  (3, 32)\t1\n",
      "  (3, 17)\t1\n",
      "  (3, 27)\t1\n",
      "  (3, 25)\t1\n",
      "  (3, 45)\t1\n",
      "  (3, 47)\t1\n",
      "  (3, 42)\t1\n"
     ]
    }
   ],
   "source": [
    "print(X)"
   ]
  },
  {
   "cell_type": "code",
   "execution_count": 34,
   "id": "1a416310",
   "metadata": {},
   "outputs": [
    {
     "data": {
      "text/plain": [
       "array([[0, 0, 0, 0, 0, 0, 0, 0, 0, 0, 0, 0, 0, 0, 1, 0, 1, 0, 3, 0, 0, 0,\n",
       "        1, 0, 0, 0, 0, 1, 0, 0, 1, 1, 0, 1, 0, 0, 0, 2, 1, 0, 0, 0, 1, 0,\n",
       "        0]])"
      ]
     },
     "execution_count": 34,
     "metadata": {},
     "output_type": "execute_result"
    }
   ],
   "source": [
    "X[0].toarray()"
   ]
  }
 ],
 "metadata": {
  "kernelspec": {
   "display_name": "base",
   "language": "python",
   "name": "python3"
  },
  "language_info": {
   "codemirror_mode": {
    "name": "ipython",
    "version": 3
   },
   "file_extension": ".py",
   "mimetype": "text/x-python",
   "name": "python",
   "nbconvert_exporter": "python",
   "pygments_lexer": "ipython3",
   "version": "3.12.7"
  }
 },
 "nbformat": 4,
 "nbformat_minor": 5
}
