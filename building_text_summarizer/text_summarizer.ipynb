{
 "cells": [
  {
   "cell_type": "markdown",
   "id": "7667e2d1",
   "metadata": {},
   "source": [
    "#### Understanding the Problem \n",
    "        Customer reviews and application are longer and descriptive. if we check manually then it will take much longer time, so here comes the excellence of the Natural language processing, i'm building the text summarizer. \n",
    "    "
   ]
  },
  {
   "cell_type": "markdown",
   "id": "4b480eaf",
   "metadata": {},
   "source": [
    "#### Importing the Necessary Libraries"
   ]
  },
  {
   "cell_type": "code",
   "execution_count": null,
   "id": "1f19469e",
   "metadata": {},
   "outputs": [],
   "source": [
    "import pandas as pd \n",
    "import numpy as np \n",
    "import matplotlib.pylab as plt \n",
    "import seaborn as sns \n",
    "\n",
    "from bs4 import BeautifulSoup\n",
    "\n",
    "from tensorflow.keras.preprocessing.text import Tokenizer\n",
    "from tensorflow.keras.preprocessing.sequence import pad_sequences\n",
    "from tensorflow.keras.models import Sequential, Model\n",
    "from tensorflow.keras.layers import Dense, Flatten, LSTM, Input, Embedding, TimeDistributed, Concatenate\n",
    "from tensorflow.keras.callbacks import EarlyStopping\n",
    "\n",
    "from sklearn.model_selection import train_test_split\n",
    "\n",
    "import re\n",
    "import nltk\n",
    "from nltk.corpus import stopwords\n",
    "from nltk.tokenize import word_tokenize, sent_tokenize\n",
    "nltk.download('punkt_tab')\n",
    "nltk.download('stopwords')\n",
    "nltk.download('wordnet')"
   ]
  },
  {
   "cell_type": "markdown",
   "id": "434c9883",
   "metadata": {},
   "source": [
    "#### Reading the Dataset"
   ]
  },
  {
   "cell_type": "code",
   "execution_count": null,
   "id": "3db5c299",
   "metadata": {},
   "outputs": [],
   "source": [
    "dataset = pd.read_csv('dataset\\Reviews.csv')\n",
    "dataset = dataset[['Summary', 'Text']]\n",
    "dataset.head()"
   ]
  },
  {
   "cell_type": "code",
   "execution_count": null,
   "id": "7770be5c",
   "metadata": {},
   "outputs": [],
   "source": [
    "dataset.isna().sum()\n",
    "dataset.dropna(axis=0, inplace=True)\n",
    "dataset.drop_duplicates(keep='first')"
   ]
  },
  {
   "cell_type": "code",
   "execution_count": null,
   "id": "f6407a17",
   "metadata": {},
   "outputs": [],
   "source": [
    "dataset = dataset.rename(columns={'Summary': 'summary', 'Text': 'text'})\n",
    "dataset.head()"
   ]
  },
  {
   "cell_type": "code",
   "execution_count": null,
   "id": "c2763cd7",
   "metadata": {},
   "outputs": [],
   "source": [
    "len_dataset = len(dataset)\n",
    "print(f\"length of the dataset : {len_dataset}\")"
   ]
  },
  {
   "cell_type": "markdown",
   "id": "06504ea1",
   "metadata": {},
   "source": [
    "#### Dataset Preprocessing"
   ]
  },
  {
   "cell_type": "code",
   "execution_count": null,
   "id": "5cfdbd42",
   "metadata": {},
   "outputs": [],
   "source": [
    "contraction_mapping = {\"ain't\": \"is not\", \"aren't\": \"are not\", \"can't\": \"cannot\", \"'cause\": \"because\", \"could've\": \"could have\", \"couldn't\": \"could not\",\n",
    "                       \"didn't\": \"did not\", \"doesn't\": \"does not\", \"don't\": \"do not\",\n",
    "\n",
    "                        \"hadn't\": \"had not\", \"hasn't\": \"has not\", \"haven't\": \"have not\", \"he'd\": \"he would\", \"he'll\": \"he will\", \"he's\": \"he is\", \"how'd\": \"how did\", \n",
    "                        \"how'd'y\": \"how do you\", \"how'll\": \"how will\", \"how's\": \"how is\",\n",
    "                       \n",
    "                       \"I'd\": \"I would\", \"I'd've\": \"I would have\", \"I'll\": \"I will\", \"I'll've\": \"I will have\", \"I'm\": \"I am\", \"I've\": \"I have\", \"i'd\": \"i would\",\n",
    "                       \"i'd've\": \"i would have\", \"i'll\": \"i will\",  \"i'll've\": \"i will have\", \"i'm\": \"i am\", \"i've\": \"i have\",\n",
    "                        \n",
    "                        \"isn't\": \"is not\", \"it'd\": \"it would\", \"it'd've\": \"it would have\", \"it'll\": \"it will\", \"it'll've\": \"it will have\", \"it's\": \"it is\", \"let's\": \"let us\", \"ma'am\": \"madam\",\n",
    "                       \n",
    "                       \"mayn't\": \"may not\", \"might've\": \"might have\", \"mightn't\": \"might not\", \"mightn't've\": \"might not have\", \"must've\": \"must have\",\n",
    "                       \"mustn't\": \"must not\", \"mustn't've\": \"must not have\", \"needn't\": \"need not\", \"needn't've\": \"need not have\", \n",
    "                       \n",
    "                       \"o'clock\": \"of the clock\", \"oughtn't\": \"ought not\", \"oughtn't've\": \"ought not have\", \"shan't\": \"shall not\", \"sha'n't\": \"shall not\", \"shan't've\": \"shall not have\",\n",
    "                       \"she'd\": \"she would\", \"she'd've\": \"she would have\", \"she'll\": \"she will\", \"she'll've\": \"she will have\", \"she's\": \"she is\",\n",
    "                       \"should've\": \"should have\", \"shouldn't\": \"should not\", \"shouldn't've\": \"should not have\", \"so've\": \"so have\", \"so's\": \"so as\",\n",
    "                       \"this's\": \"this is\", \"that'd\": \"that would\", \"that'd've\": \"that would have\", \"that's\": \"that is\", \"there'd\": \"there would\",\n",
    "                       \"there'd've\": \"there would have\", \"there's\": \"there is\", \"here's\": \"here is\", \"they'd\": \"they would\", \"they'd've\": \"they would have\",\n",
    "                       \"they'll\": \"they will\", \"they'll've\": \"they will have\", \"they're\": \"they are\", \"they've\": \"they have\", \"to've\": \"to have\",\n",
    "                       \"wasn't\": \"was not\", \"we'd\": \"we would\", \"we'd've\": \"we would have\", \"we'll\": \"we will\", \"we'll've\": \"we will have\", \"we're\": \"we are\",\n",
    "                       \"we've\": \"we have\", \"weren't\": \"were not\", \"what'll\": \"what will\", \"what'll've\": \"what will have\", \"what're\": \"what are\",\n",
    "                       \"what's\": \"what is\", \"what've\": \"what have\", \"when's\": \"when is\", \"when've\": \"when have\", \"where'd\": \"where did\", \"where's\": \"where is\",\n",
    "                       \"where've\": \"where have\", \"who'll\": \"who will\", \"who'll've\": \"who will have\", \"who's\": \"who is\", \"who've\": \"who have\", \"why's\": \"why is\", \n",
    "                       \"why've\": \"why have\", \"will've\": \"will have\", \"won't\": \"will not\", \"won't've\": \"will not have\",\n",
    "                       \"would've\": \"would have\", \"wouldn't\": \"would not\", \"wouldn't've\": \"would not have\", \"y'all\": \"you all\",\n",
    "                       \"y'all'd\": \"you all would\", \"y'all'd've\": \"you all would have\", \"y'all're\": \"you all are\", \"y'all've\": \"you all have\",\n",
    "                       \"you'd\": \"you would\", \"you'd've\": \"you would have\", \"you'll\": \"you will\", \"you'll've\": \"you will have\",\n",
    "                       \"you're\": \"you are\", \"you've\": \"you have\"}"
   ]
  },
  {
   "cell_type": "code",
   "execution_count": null,
   "id": "58345930",
   "metadata": {},
   "outputs": [],
   "source": [
    "stop_words = stopwords.words('english')\n",
    "\n",
    "def text_preprocessing(text):\n",
    "    text = text.lower()\n",
    "    text = BeautifulSoup(text, 'lxml').text # removing html tags\n",
    "    text = re.sub(\"'s\", \" \", text)    # it matches with only ( 's )\n",
    "    text = re.sub(\"\\([^)]*\\)\", \" \", text) # replaces the () anything inside with white spaces \n",
    "    text = re.sub('\"', '', text)\n",
    "    text = re.sub(\"^\\w\\s\", '', text)\n",
    "    text = ' '.join([contraction_mapping[t] if t in contraction_mapping else t for t in text.split(\" \")])\n",
    "    text = [t for t in text.split(' ') if t not in stop_words]\n",
    "    final_text = []\n",
    "    for t in text:\n",
    "        if len(t) >= 3:\n",
    "            final_text.append(t)\n",
    "\n",
    "    final_text = ' '.join(final_text).strip()\n",
    "    return final_text\n",
    "        "
   ]
  },
  {
   "cell_type": "code",
   "execution_count": null,
   "id": "f66c6697",
   "metadata": {},
   "outputs": [],
   "source": [
    "def summary_preprocessing(text):\n",
    "    newString = re.sub('\"', '', str(text))  # remove quotes\n",
    "    newString = ' '.join([contraction_mapping[t] if t in contraction_mapping else t for t in newString.split(\" \")])  # the dictionary that we will use for expanding the contractions\n",
    "    newString = re.sub(r\"'s\", \"\", newString)    # removing the matches with ('s)\n",
    "    text = re.sub(\"\\([^)]*\\)\", \" \", text) # removing the words inside like (shiva)\n",
    "    newString = re.sub(\"[^a-zA-Z]\", \" \", newString)   # match all strings that contain a non-letter\n",
    "    newString = newString.lower()  # lowercase words\n",
    "    tokens = newString.split()\n",
    "    newString = ''\n",
    "    for i in tokens:\n",
    "        if len(i) > 1:\n",
    "            newString = newString+i+' '\n",
    "    return newString"
   ]
  },
  {
   "cell_type": "code",
   "execution_count": null,
   "id": "633fd92c",
   "metadata": {},
   "outputs": [],
   "source": [
    "dataset['cleaned_text'] = dataset['text'].apply(text_preprocessing)\n",
    "dataset['cleaned_summary'] = dataset['summary'].apply(summary_preprocessing)\n",
    "dataset.head()"
   ]
  },
  {
   "cell_type": "code",
   "execution_count": null,
   "id": "a8584454",
   "metadata": {},
   "outputs": [],
   "source": [
    "def count_characters(text):\n",
    "    icount = 0\n",
    "    for word in text:\n",
    "        if word.isdigit():\n",
    "            continue\n",
    "        icount = icount + 1\n",
    "    return icount"
   ]
  },
  {
   "cell_type": "code",
   "execution_count": null,
   "id": "95eff4d5",
   "metadata": {},
   "outputs": [],
   "source": [
    "dataset['word_count_text'] = dataset['cleaned_text'].apply(lambda x : len(word_tokenize(x)))\n",
    "dataset['word_count_summary'] = dataset['cleaned_summary'].apply(lambda x: len(word_tokenize(x)))\n",
    "dataset['char_count_text'] = dataset['cleaned_text'].apply(count_characters)\n",
    "dataset['char_count_summary'] = dataset['cleaned_summary'].apply(count_characters)"
   ]
  },
  {
   "cell_type": "code",
   "execution_count": null,
   "id": "55e840b3",
   "metadata": {},
   "outputs": [],
   "source": [
    "dataset.head()"
   ]
  },
  {
   "cell_type": "code",
   "execution_count": null,
   "id": "92cf5454",
   "metadata": {},
   "outputs": [],
   "source": [
    "print(max(dataset['word_count_text']))\n",
    "print(max(dataset['word_count_summary']))\n",
    "print(max(dataset['char_count_text']))\n",
    "print(max(dataset['char_count_summary']))"
   ]
  },
  {
   "cell_type": "code",
   "execution_count": null,
   "id": "4ff80d32",
   "metadata": {},
   "outputs": [],
   "source": [
    "# handaling distributions word counts \n",
    "plt.figure(figsize=(10, 7))\n",
    "sns.histplot(dataset['char_count_text'], kde=True, label='char_count_text', color='blue')\n",
    "sns.histplot(dataset['char_count_summary'], kde=True, label='char_count_summary', color='red')\n",
    "\n",
    "plt.xscale('log')\n",
    "plt.title('Distributions of Word Count Text VS Summary', fontsize=12, fontweight='bold')\n",
    "plt.xlabel('Blue - FrequencyOfText / Red - FrequencyOfSummary', fontsize=12, fontweight='bold')\n",
    "plt.ylabel('Frequency', fontsize=14, fontweight='bold')\n",
    "plt.legend()\n",
    "plt.show()"
   ]
  },
  {
   "cell_type": "code",
   "execution_count": null,
   "id": "a3fba884",
   "metadata": {},
   "outputs": [],
   "source": [
    "# handaling distributions word counts \n",
    "plt.figure(figsize=(10, 7))\n",
    "sns.histplot(dataset['word_count_text'], kde=True, label='word_count_text', color='blue')\n",
    "sns.histplot(dataset['word_count_summary'], kde=True, label='word_count_summary', color='red')\n",
    "\n",
    "plt.xlim(0, 100)\n",
    "plt.title('Distributions of Word Count Text VS Summary', fontsize=12, fontweight='bold')\n",
    "plt.xlabel('Blue - FrequencyOfText / Red - FrequencyOfSummary', fontsize=12, fontweight='bold')\n",
    "plt.ylabel('Frequency', fontsize=14, fontweight='bold')\n",
    "plt.legend()\n",
    "plt.show()"
   ]
  },
  {
   "cell_type": "code",
   "execution_count": null,
   "id": "0f05ef84",
   "metadata": {},
   "outputs": [],
   "source": [
    "X_train, X_test, y_train, y_test = train_test_split(dataset['cleaned_text'], dataset['cleaned_summary'], test_size=0.2, random_state=42)"
   ]
  },
  {
   "cell_type": "code",
   "execution_count": null,
   "id": "b610e8ce",
   "metadata": {},
   "outputs": [],
   "source": [
    "print(X_train.shape)\n",
    "print(y_train.shape)\n",
    "print(X_test.shape)\n",
    "\n",
    "\n",
    "print(y_test.shape)\n"
   ]
  },
  {
   "cell_type": "code",
   "execution_count": null,
   "id": "0d88c127",
   "metadata": {},
   "outputs": [],
   "source": [
    "print(len(X_train), type(X_train))"
   ]
  },
  {
   "cell_type": "code",
   "execution_count": null,
   "id": "cd335892",
   "metadata": {},
   "outputs": [],
   "source": [
    "max_len_text = 80\n",
    "max_len_summary = 20"
   ]
  },
  {
   "cell_type": "code",
   "execution_count": null,
   "id": "bc179378",
   "metadata": {},
   "outputs": [],
   "source": [
    "# Preparing tokenizer\n",
    "X_tokenizer = Tokenizer()\n",
    "X_tokenizer.fit_on_texts(list(X_train))\n",
    "\n",
    "X_train = X_tokenizer.texts_to_sequences(X_train)\n",
    "X_test = X_tokenizer.texts_to_sequences(X_test)\n",
    "\n",
    "# padding zero upto the maximum length\n",
    "X_train = pad_sequences(X_train, maxlen=max_len_text, padding='post')\n",
    "X_test = pad_sequences(X_train, maxlen=max_len_text, padding='post')\n",
    "\n",
    "X_voc_size = len(X_tokenizer.word_index) + 1\n"
   ]
  },
  {
   "cell_type": "code",
   "execution_count": null,
   "id": "4084081a",
   "metadata": {},
   "outputs": [],
   "source": [
    "X_train"
   ]
  },
  {
   "cell_type": "code",
   "execution_count": null,
   "id": "e4af3fe9",
   "metadata": {},
   "outputs": [],
   "source": [
    "X_train.shape"
   ]
  },
  {
   "cell_type": "code",
   "execution_count": null,
   "id": "ff2cfc99",
   "metadata": {},
   "outputs": [],
   "source": [
    "len(X_tokenizer.word_index)"
   ]
  },
  {
   "cell_type": "code",
   "execution_count": null,
   "id": "9826098f",
   "metadata": {},
   "outputs": [],
   "source": [
    "# summary tokenizer\n",
    "y_tokenizer = Tokenizer()\n",
    "y_tokenizer.fit_on_texts(list(y_train))\n",
    "\n",
    "y_train = y_tokenizer.texts_to_sequences(y_train)\n",
    "y_test = y_tokenizer.texts_to_sequences(y_test)\n",
    "\n",
    "# padding zero upto the maximum length\n",
    "y_train = pad_sequences(y_train, maxlen=max_len_summary, padding='post')\n",
    "y_test = pad_sequences(y_test, maxlen=max_len_summary, padding='post')\n",
    "\n",
    "y_voc_size = len(y_tokenizer.word_index) + 1"
   ]
  },
  {
   "cell_type": "code",
   "execution_count": null,
   "id": "bff32112",
   "metadata": {},
   "outputs": [],
   "source": [
    "y_train.shape"
   ]
  },
  {
   "cell_type": "code",
   "execution_count": null,
   "id": "ced72b7d",
   "metadata": {},
   "outputs": [],
   "source": [
    "len(y_tokenizer.word_index)"
   ]
  },
  {
   "cell_type": "code",
   "execution_count": null,
   "id": "bdefa2e6",
   "metadata": {},
   "outputs": [],
   "source": [
    "latent_dim = 500\n",
    "\n",
    "# Encoder \n",
    "encoder_inputs = Input(shape=(max_len_text, ))\n",
    "# Word embeddings provide dense representation or words and their relative meanings, each input integer\n",
    "# is used as index to access a table that contains all possible vectors. That is the reason why you need \n",
    "# to specify the size of the vocabulary as the first argument (so the table can be initialized). \n",
    "\n",
    "encoder_embedding = Embedding(X_voc_size, latent_dim, trainable=True)(encoder_inputs)\n",
    "\n",
    "# LSTM 1 \n",
    "encoder_lstm1 = LSTM(latent_dim, return_sequences=True, return_state=True)\n",
    "encoder_output1, state_h1, state_c1 = encoder_lstm1(encoder_embedding)\n",
    "\n",
    "# LSTM 2\n",
    "encoder_lstm2 = LSTM(latent_dim, return_sequences=True, return_state=True)\n",
    "encoder_output2, state_h2, state_c2 = encoder_lstm2(encoder_output1)\n",
    "\n",
    "# LSTM 3 \n",
    "encoder_lstm3 = LSTM(latent_dim, return_sequences=True, return_state=True)\n",
    "enccoder_output3, state_h, state_c = encoder_lstm3(encoder_output2)\n",
    "\n",
    "# Set up the decoder \n",
    "decoder_inputs = Input(shape=(None, ))\n",
    "dec_emb_layer = Embedding(y_voc_size, latent_dim, trainable=True)\n",
    "document_embdedding = dec_emb_layer(decoder_inputs)\n",
    "\n",
    "# Lstm using encoder_states \n",
    "decoder_lstm = LSTM(latent_dim, return_sequences=True, return_state=True)\n",
    "decoder_outputs, decoder_curr, decoder_cell = decoder_lstm(document_embdedding, initial_state = [state_h, state_c])\n",
    "\n",
    "# Dense Layer \n",
    "decoder_dense = TimeDistributed(Dense(y_voc_size, activation='softmax'))\n",
    "decoder_outputs = decoder_dense(decoder_outputs)\n",
    "\n",
    "# Define the model\n",
    "model = Model([encoder_inputs, decoder_inputs], decoder_outputs)\n",
    "model.summary()\n"
   ]
  },
  {
   "cell_type": "code",
   "execution_count": null,
   "id": "49f3c86e",
   "metadata": {},
   "outputs": [],
   "source": [
    "model.compile(optimizer='rmsprop', loss='sparse_categorical_crossentropy')\n",
    "early_stopping = EarlyStopping(monitor='val_loss', mode='min', verbose=1)\n",
    "\n",
    "\n",
    "history = model.fit([X_train, y_train[:, :-1]], y_train.reshape(y_train.shape[0], y_train.shape[1], 1)[:, 1:], epochs=20,\n",
    "                    batch_size=512, validation_data=([X_test, y_test[:, :-1]], y_test.reshape(y_test.shape[0], y_test.shape[1], 1)[:, 1:]))"
   ]
  },
  {
   "cell_type": "code",
   "execution_count": null,
   "id": "96e2bd48",
   "metadata": {},
   "outputs": [],
   "source": [
    "from matplotlib import pyplot \n",
    "pyplot.plot(history.history['loss'], label='train') \n",
    "pyplot.plot(history.history['val_loss'], label='test') \n",
    "pyplot.legend()\n",
    "pyplot.show()"
   ]
  },
  {
   "cell_type": "code",
   "execution_count": null,
   "id": "52b45521",
   "metadata": {},
   "outputs": [],
   "source": [
    "reverse_target_word_index = y_tokenizer.index_word \n",
    "reverse_source_word_index = X_tokenizer.index_word \n",
    "target_word_index = y_tokenizer.word_index"
   ]
  },
  {
   "cell_type": "code",
   "execution_count": null,
   "id": "9e518093",
   "metadata": {},
   "outputs": [],
   "source": [
    "# decoder inference\n",
    "# Below tensors will hold the states of the previous time step\n",
    "decoder_state_input_h = Input(shape=(latent_dim,))\n",
    "decoder_state_input_c = Input(shape=(latent_dim,))\n",
    "decoder_hidden_state_input = Input(shape=(max_len_text,latent_dim))\n",
    "\n",
    "# Get the embeddings of the decoder sequence\n",
    "dec_emb2= dec_emb_layer(decoder_inputs)\n",
    "\n",
    "# To predict the next word in the sequence, set the initial states to the states from the previous time step\n",
    "decoder_outputs2, state_h2, state_c2 = decoder_lstm(dec_emb2, initial_state=[decoder_state_input_h, decoder_state_input_c])\n",
    "\n",
    "# attention inference\n",
    "# attn_out_inf, attn_states_inf = attn_layer([decoder_hidden_state_input, decoder_outputs2])\n",
    "# decoder_inf_concat = Concatenate(axis=-1, name='concat')([decoder_outputs2, attn_out_inf])\n",
    "\n",
    "# A dense softmax layer to generate prob dist. over the target vocabulary\n",
    "decoder_outputs2 = decoder_dense(decoder_outputs2)\n",
    "\n",
    "# Final decoder model\n",
    "decoder_model = Model([decoder_inputs] + [decoder_hidden_state_input,decoder_state_input_h, decoder_state_input_c], [decoder_outputs2] + [state_h2, state_c2])"
   ]
  },
  {
   "cell_type": "code",
   "execution_count": null,
   "id": "26cf7518",
   "metadata": {},
   "outputs": [],
   "source": [
    "def decode_sequence(input_seq):\n",
    "    # Encode the input as state vectors.\n",
    "    e_out, e_h, e_c = encoder_model.predict(input_seq)\n",
    "    \n",
    "    # Generate empty target sequence of length 1.\n",
    "    target_seq = np.zeros((1,1))\n",
    "    \n",
    "    # Populate the first word of target sequence with the start word.\n",
    "    target_seq[0, 0] = target_word_index['sostok']\n",
    "\n",
    "    stop_condition = False\n",
    "    decoded_sentence = ''\n",
    "    while not stop_condition:\n",
    "      \n",
    "        output_tokens, h, c = decoder_model.predict([target_seq] + [e_out, e_h, e_c])\n",
    "\n",
    "        # Sample a token\n",
    "        sampled_token_index = np.argmax(output_tokens[0, -1, :])\n",
    "        sampled_token = reverse_target_word_index[sampled_token_index]\n",
    "        \n",
    "        if(sampled_token!='eostok'):\n",
    "            decoded_sentence += ' '+sampled_token\n",
    "\n",
    "        # Exit condition: either hit max length or find stop word.\n",
    "        if (sampled_token == 'eostok'  or len(decoded_sentence.split()) >= (max_len_summary-1)):\n",
    "            stop_condition = True\n",
    "\n",
    "        # Update the target sequence (of length 1).\n",
    "        target_seq = np.zeros((1,1))\n",
    "        target_seq[0, 0] = sampled_token_index\n",
    "\n",
    "        # Update internal states\n",
    "        e_h, e_c = h, c\n",
    "\n",
    "    return decoded_sentence"
   ]
  },
  {
   "cell_type": "code",
   "execution_count": null,
   "id": "0e1102d7",
   "metadata": {},
   "outputs": [],
   "source": [
    "def seq2summary(input_seq):\n",
    "    '''\n",
    "    convert an integer sequence to a word sequence for summary\n",
    "    '''\n",
    "    newString=''\n",
    "    for i in input_seq:\n",
    "        if((i!=0 and i!=target_word_index['sostok']) and i!=target_word_index['eostok']):\n",
    "            newString=newString+reverse_target_word_index[i]+' '\n",
    "    return newString\n",
    "\n",
    "def seq2text(input_seq):\n",
    "    '''\n",
    "    convert an integer sequence to a word sequence for reviews\n",
    "    '''\n",
    "    newString=''\n",
    "    for i in input_seq:\n",
    "        if(i!=0):\n",
    "            newString=newString+reverse_source_word_index[i]+' '\n",
    "    return newString"
   ]
  },
  {
   "cell_type": "code",
   "execution_count": null,
   "id": "10cb3fbd",
   "metadata": {},
   "outputs": [],
   "source": [
    "for i in range(20, 30):\n",
    "  print(\"Review:\", seq2text(X_test[i]))\n",
    "  print(\"Original summary:\", seq2summary(y_test[i]))\n",
    "  print(\"Predicted summary:\", decode_sequence(X_test[i].reshape(1, max_len_text)))\n",
    "  print(\"\\n\")"
   ]
  }
 ],
 "metadata": {
  "kernelspec": {
   "display_name": "myenv",
   "language": "python",
   "name": "python3"
  },
  "language_info": {
   "codemirror_mode": {
    "name": "ipython",
    "version": 3
   },
   "file_extension": ".py",
   "mimetype": "text/x-python",
   "name": "python",
   "nbconvert_exporter": "python",
   "pygments_lexer": "ipython3",
   "version": "3.11.13"
  }
 },
 "nbformat": 4,
 "nbformat_minor": 5
}
