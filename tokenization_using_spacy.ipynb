{
  "nbformat": 4,
  "nbformat_minor": 0,
  "metadata": {
    "colab": {
      "provenance": []
    },
    "kernelspec": {
      "name": "python3",
      "display_name": "Python 3"
    },
    "language_info": {
      "name": "python"
    }
  },
  "cells": [
    {
      "cell_type": "code",
      "execution_count": null,
      "metadata": {
        "colab": {
          "base_uri": "https://localhost:8080/"
        },
        "id": "xFmyAPqqd-Ef",
        "outputId": "6727c128-d404-495c-8df8-699946cb0a31"
      },
      "outputs": [
        {
          "output_type": "stream",
          "name": "stdout",
          "text": [
            "GeeksforGeeks\n",
            "is\n",
            "a\n",
            "one\n",
            "stop\\\n",
            "learning\n",
            "destination\n",
            "for\n",
            "geeks\n"
          ]
        }
      ],
      "source": [
        "# blank model tokenization using SpaCy\n",
        "import spacy\n",
        "nlp = spacy.blank(\"en\")\n",
        "\n",
        "doc = nlp(\"GeeksforGeeks is a one stop\\ learning destination for geeks\")\n",
        "for token in doc:\n",
        "  print(token)"
      ]
    },
    {
      "cell_type": "code",
      "source": [
        "# blank model tokenization using spacy\n",
        "import spacy\n",
        "nlp = spacy.blank(\"en\")\n",
        "description = \"GeeksForGeeks is a one stop\\ learning destination for geeks\"\n",
        "dec = nlp(description)\n",
        "\n",
        "for token in dec:\n",
        "  print(token)"
      ],
      "metadata": {
        "colab": {
          "base_uri": "https://localhost:8080/"
        },
        "id": "0mWf7en70I9A",
        "outputId": "5df7c57a-eb63-4dc7-88e5-a012b92dcfd6"
      },
      "execution_count": 2,
      "outputs": [
        {
          "output_type": "stream",
          "name": "stdout",
          "text": [
            "GeeksForGeeks\n",
            "is\n",
            "a\n",
            "one\n",
            "stop\\\n",
            "learning\n",
            "destination\n",
            "for\n",
            "geeks\n"
          ]
        }
      ]
    },
    {
      "cell_type": "code",
      "source": [
        "# displaying the Pipeline Components\n",
        "nlp = spacy.load(\"en_core_web_sm\")\n",
        "nlp.pipe_names"
      ],
      "metadata": {
        "colab": {
          "base_uri": "https://localhost:8080/"
        },
        "id": "tzVkm0IvhHTI",
        "outputId": "399c94a3-add4-456e-e877-4407b89c889a"
      },
      "execution_count": null,
      "outputs": [
        {
          "output_type": "execute_result",
          "data": {
            "text/plain": [
              "['tok2vec', 'tagger', 'parser', 'attribute_ruler', 'lemmatizer', 'ner']"
            ]
          },
          "metadata": {},
          "execution_count": 3
        }
      ]
    },
    {
      "cell_type": "code",
      "source": [
        "nlp = spacy.load(\"en_core_web_sm\")\n",
        "nlp.pipe_names"
      ],
      "metadata": {
        "id": "FEsWVqlz_wp-",
        "colab": {
          "base_uri": "https://localhost:8080/"
        },
        "outputId": "53e46ccd-9326-40d5-c2e6-7fe6f1a289d4"
      },
      "execution_count": 4,
      "outputs": [
        {
          "output_type": "execute_result",
          "data": {
            "text/plain": [
              "['tok2vec', 'tagger', 'parser', 'attribute_ruler', 'lemmatizer', 'ner']"
            ]
          },
          "metadata": {},
          "execution_count": 4
        }
      ]
    }
  ]
}