{
 "cells": [
  {
   "cell_type": "code",
   "execution_count": 7,
   "id": "5cec6eeb",
   "metadata": {},
   "outputs": [],
   "source": [
    "doc1 = \"A cat sat on the mat\"\n",
    "doc2 = \"A dog bites people\"\n",
    "doc3 = \"personally saying, i love cats\"\n",
    "iterable_string = [doc2, doc2, doc3]"
   ]
  },
  {
   "cell_type": "code",
   "execution_count": null,
   "id": "7f4a7374",
   "metadata": {},
   "outputs": [],
   "source": [
    "from sklearn.feature_extraction.text import TfidfVectorizer\n",
    "tfidf = TfidfVectorizer()"
   ]
  },
  {
   "cell_type": "code",
   "execution_count": null,
   "id": "3b8d02d1",
   "metadata": {},
   "outputs": [
    {
     "name": "stdout",
     "output_type": "stream",
     "text": [
      "  (0, 2)\t0.5773502691896257\n",
      "  (0, 0)\t0.5773502691896257\n",
      "  (0, 4)\t0.5773502691896257\n",
      "  (1, 2)\t0.5773502691896257\n",
      "  (1, 0)\t0.5773502691896257\n",
      "  (1, 4)\t0.5773502691896257\n",
      "  (2, 5)\t0.5\n",
      "  (2, 6)\t0.5\n",
      "  (2, 3)\t0.5\n",
      "  (2, 1)\t0.5\n"
     ]
    }
   ],
   "source": [
    "result = tfidf.fit_transform(iterable_string)\n",
    "print(result)"
   ]
  },
  {
   "cell_type": "code",
   "execution_count": 10,
   "id": "c2ebdb32",
   "metadata": {},
   "outputs": [
    {
     "name": "stdout",
     "output_type": "stream",
     "text": [
      "word index: \n",
      "{'dog': 2, 'bites': 0, 'people': 4, 'personally': 5, 'saying': 6, 'love': 3, 'cats': 1}\n"
     ]
    }
   ],
   "source": [
    "print(\"word index: \")\n",
    "print(tfidf.vocabulary_)"
   ]
  },
  {
   "cell_type": "code",
   "execution_count": 13,
   "id": "33e0d0eb",
   "metadata": {},
   "outputs": [
    {
     "name": "stdout",
     "output_type": "stream",
     "text": [
      "df values: \n",
      "bites : 1.2876820724517808\n",
      "cats : 1.6931471805599454\n",
      "dog : 1.2876820724517808\n",
      "love : 1.6931471805599454\n",
      "people : 1.2876820724517808\n",
      "personally : 1.6931471805599454\n",
      "saying : 1.6931471805599454\n"
     ]
    }
   ],
   "source": [
    "# get idf values\n",
    "print(\"df values: \")\n",
    "for ele1, ele2 in zip(tfidf.get_feature_names_out(), tfidf.idf_):\n",
    "    print(ele1, \":\", ele2)"
   ]
  },
  {
   "cell_type": "code",
   "execution_count": 15,
   "id": "bc932d40",
   "metadata": {},
   "outputs": [
    {
     "data": {
      "text/plain": [
       "array(['bites', 'cats', 'dog', 'love', 'people', 'personally', 'saying'],\n",
       "      dtype=object)"
      ]
     },
     "execution_count": 15,
     "metadata": {},
     "output_type": "execute_result"
    }
   ],
   "source": [
    "tfidf.get_feature_names_out()"
   ]
  },
  {
   "cell_type": "markdown",
   "id": "4fcc5f94",
   "metadata": {},
   "source": [
    "# Syntax:\n",
    "***sklearn.feature_extraction.text.TfidfVectorizer(input)***\n",
    "#### parameters:\n",
    "- input : it refers to parameter or corpus, it can be a filename or file as well \n",
    "#### attributes:\n",
    "- vocabulary_ : return dictionary of word as key and value\n",
    "- idf_ : return idf vector of document. \n",
    "***returns:***\n",
    "- fit_transform(): returns an array term with tfidf in values \n",
    "- get_feature_names_out(): return list of feature \n"
   ]
  },
  {
   "cell_type": "code",
   "execution_count": 16,
   "id": "1b66edbc",
   "metadata": {},
   "outputs": [
    {
     "name": "stdout",
     "output_type": "stream",
     "text": [
      "tf-idf vectorizer in a matrix form: \n",
      "[[0.57735027 0.         0.57735027 0.         0.57735027 0.\n",
      "  0.        ]\n",
      " [0.57735027 0.         0.57735027 0.         0.57735027 0.\n",
      "  0.        ]\n",
      " [0.         0.5        0.         0.5        0.         0.5\n",
      "  0.5       ]]\n"
     ]
    }
   ],
   "source": [
    "print(\"tf-idf vectorizer in a matrix form: \")\n",
    "print(result.toarray())\n"
   ]
  },
  {
   "cell_type": "code",
   "execution_count": null,
   "id": "2ef1559a",
   "metadata": {},
   "outputs": [],
   "source": []
  }
 ],
 "metadata": {
  "kernelspec": {
   "display_name": "base",
   "language": "python",
   "name": "python3"
  },
  "language_info": {
   "codemirror_mode": {
    "name": "ipython",
    "version": 3
   },
   "file_extension": ".py",
   "mimetype": "text/x-python",
   "name": "python",
   "nbconvert_exporter": "python",
   "pygments_lexer": "ipython3",
   "version": "3.12.7"
  }
 },
 "nbformat": 4,
 "nbformat_minor": 5
}
