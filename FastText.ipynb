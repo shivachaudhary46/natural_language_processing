{
  "nbformat": 4,
  "nbformat_minor": 0,
  "metadata": {
    "colab": {
      "provenance": []
    },
    "kernelspec": {
      "name": "python3",
      "display_name": "Python 3"
    },
    "language_info": {
      "name": "python"
    }
  },
  "cells": [
    {
      "cell_type": "code",
      "source": [
        "!pip install gensim"
      ],
      "metadata": {
        "colab": {
          "base_uri": "https://localhost:8080/"
        },
        "id": "00W84Hk9YYJ4",
        "outputId": "2e44cd01-cf31-4adb-d1e1-73bc45197c41"
      },
      "execution_count": 1,
      "outputs": [
        {
          "output_type": "stream",
          "name": "stdout",
          "text": [
            "Requirement already satisfied: gensim in /usr/local/lib/python3.11/dist-packages (4.3.3)\n",
            "Requirement already satisfied: numpy<2.0,>=1.18.5 in /usr/local/lib/python3.11/dist-packages (from gensim) (1.26.4)\n",
            "Requirement already satisfied: scipy<1.14.0,>=1.7.0 in /usr/local/lib/python3.11/dist-packages (from gensim) (1.13.1)\n",
            "Requirement already satisfied: smart-open>=1.8.1 in /usr/local/lib/python3.11/dist-packages (from gensim) (7.3.0.post1)\n",
            "Requirement already satisfied: wrapt in /usr/local/lib/python3.11/dist-packages (from smart-open>=1.8.1->gensim) (1.17.2)\n"
          ]
        }
      ]
    },
    {
      "cell_type": "code",
      "execution_count": 7,
      "metadata": {
        "id": "s1Lby0rQLzoV"
      },
      "outputs": [],
      "source": [
        "# Importing the libraries\n",
        "from gensim.models import FastText\n",
        "from gensim.test.utils import common_texts"
      ]
    },
    {
      "cell_type": "code",
      "source": [
        "# Example corpus with common texts\n",
        "corpus = common_texts\n",
        "print(\"examples: \", corpus)"
      ],
      "metadata": {
        "colab": {
          "base_uri": "https://localhost:8080/"
        },
        "id": "EPCaAtaCXxUz",
        "outputId": "d88f7445-43e4-4bac-e480-c33dab9ea471"
      },
      "execution_count": 4,
      "outputs": [
        {
          "output_type": "stream",
          "name": "stdout",
          "text": [
            "examples:  [['human', 'interface', 'computer'], ['survey', 'user', 'computer', 'system', 'response', 'time'], ['eps', 'user', 'interface', 'system'], ['system', 'human', 'system', 'eps'], ['user', 'response', 'time'], ['trees'], ['graph', 'trees'], ['graph', 'minors', 'trees'], ['graph', 'minors', 'survey']]\n"
          ]
        }
      ]
    },
    {
      "cell_type": "code",
      "source": [
        "# training FastText model\n",
        "model = FastText(sentences=corpus, vector_size=100, window=5, min_count=1, workers=4, sg=1)\n"
      ],
      "metadata": {
        "id": "yjJb-H2XYT7a"
      },
      "execution_count": 9,
      "outputs": []
    },
    {
      "cell_type": "code",
      "source": [
        "# getting embeddings for word\n",
        "word_embedding = model.wv['computer']\n",
        "\n",
        "# Most similar words to a given word\n",
        "similar_words = model.wv.most_similar('computer')\n"
      ],
      "metadata": {
        "id": "8RgWlqr-Zt-H"
      },
      "execution_count": 10,
      "outputs": []
    },
    {
      "cell_type": "code",
      "source": [
        "print('computer embeddings:', word_embedding)"
      ],
      "metadata": {
        "colab": {
          "base_uri": "https://localhost:8080/"
        },
        "id": "LGtzjSeSasWG",
        "outputId": "5b04906f-504d-493f-e8ab-fe77498dda88"
      },
      "execution_count": 12,
      "outputs": [
        {
          "output_type": "stream",
          "name": "stdout",
          "text": [
            "computer embeddings: [ 2.96936167e-04  3.31060466e-04 -8.77768325e-04  3.39444174e-04\n",
            " -5.01747418e-04 -2.04214524e-03 -1.24066719e-03 -1.94044539e-03\n",
            "  1.34510931e-03 -2.41268426e-03  9.18505422e-04 -1.03151030e-03\n",
            " -7.63410062e-04  7.31222244e-05  1.38286629e-03  5.19435504e-04\n",
            " -2.98849802e-04 -1.19464763e-03 -1.17238448e-03 -6.08951552e-04\n",
            " -6.78338984e-04  3.92779708e-04  9.88251195e-05  8.12689308e-04\n",
            "  5.81971311e-04  7.01953366e-04 -7.36806658e-04 -1.03962549e-03\n",
            " -6.25258312e-04 -2.40496884e-04 -1.19316357e-03 -2.65940849e-04\n",
            "  7.36046524e-04 -7.21505727e-04 -1.27508014e-03  1.24231781e-04\n",
            "  3.77583550e-04 -1.33155228e-03 -2.73441360e-03 -3.04829708e-04\n",
            "  9.28272377e-04 -7.28168816e-04 -1.12919568e-03 -3.21931177e-04\n",
            " -2.06016310e-04 -1.04854174e-04 -6.22976047e-04 -1.61377620e-03\n",
            "  9.91107081e-04  9.22983818e-05  3.68000241e-04 -5.37839776e-04\n",
            "  1.13322982e-03  8.70750577e-04 -1.63867278e-03 -8.55855411e-04\n",
            " -6.31069415e-04  6.22909865e-04  8.40167049e-04 -1.12830219e-03\n",
            "  1.29163847e-03 -3.40488943e-04 -1.17833621e-03 -1.60850491e-03\n",
            "  1.52693118e-03  3.01169712e-05 -2.41883954e-05 -7.27596227e-04\n",
            "  1.73330551e-03  8.93421762e-04  3.26789886e-04 -4.63379052e-04\n",
            " -2.31358409e-03 -1.72005536e-03  4.35937254e-04 -4.12225461e-04\n",
            " -1.06689101e-03 -1.00902386e-03 -1.64344837e-03 -1.05065810e-04\n",
            "  1.01913651e-03 -6.24372798e-04 -1.08174444e-03  8.85603193e-04\n",
            " -1.45729631e-03  6.48391724e-04  4.41413518e-04 -1.24500669e-03\n",
            "  3.49245267e-04 -9.81050660e-04 -9.73784481e-04 -1.98150854e-04\n",
            " -1.89508792e-04 -9.85311344e-04  5.74433478e-04  1.99000956e-03\n",
            "  7.19957534e-05  9.95708513e-04 -1.70885876e-03  1.34901761e-03]\n"
          ]
        }
      ]
    },
    {
      "cell_type": "markdown",
      "source": [],
      "metadata": {
        "id": "NqHpTq3ta1RT"
      }
    },
    {
      "cell_type": "code",
      "source": [
        "print('Most similar words to computer:', similar_words)"
      ],
      "metadata": {
        "colab": {
          "base_uri": "https://localhost:8080/"
        },
        "id": "kwPJRZoWac-6",
        "outputId": "b01447a7-5972-4943-893b-f4895f46d388"
      },
      "execution_count": 11,
      "outputs": [
        {
          "output_type": "stream",
          "name": "stdout",
          "text": [
            "Most similar words to computer: [('user', 0.15659411251544952), ('response', 0.12383826076984406), ('eps', 0.030704911798238754), ('system', 0.025573883205652237), ('interface', 0.0058587524108588696), ('survey', -0.03156976401805878), ('minors', -0.0545564740896225), ('human', -0.0668589174747467), ('time', -0.06855931878089905), ('trees', -0.10636083036661148)]\n"
          ]
        }
      ]
    },
    {
      "cell_type": "code",
      "source": [
        "from gensim.models import FastText\n",
        "from gensim.test.utils import common_texts"
      ],
      "metadata": {
        "id": "th-SB5Rhap33"
      },
      "execution_count": 15,
      "outputs": []
    },
    {
      "cell_type": "code",
      "source": [
        "corpus = common_texts\n",
        "print(\"common texts:\", corpus)"
      ],
      "metadata": {
        "colab": {
          "base_uri": "https://localhost:8080/"
        },
        "id": "XgG-yUqId3p8",
        "outputId": "6219b1ff-ab1f-48b3-b1c0-5dff54849b1b"
      },
      "execution_count": 16,
      "outputs": [
        {
          "output_type": "stream",
          "name": "stdout",
          "text": [
            "common texts: [['human', 'interface', 'computer'], ['survey', 'user', 'computer', 'system', 'response', 'time'], ['eps', 'user', 'interface', 'system'], ['system', 'human', 'system', 'eps'], ['user', 'response', 'time'], ['trees'], ['graph', 'trees'], ['graph', 'minors', 'trees'], ['graph', 'minors', 'survey']]\n"
          ]
        }
      ]
    },
    {
      "cell_type": "code",
      "source": [],
      "metadata": {
        "id": "3YbdDvtWggHQ"
      },
      "execution_count": null,
      "outputs": []
    }
  ]
}